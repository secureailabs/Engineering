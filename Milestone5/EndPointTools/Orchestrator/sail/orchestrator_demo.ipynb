{
 "cells": [
  {
   "cell_type": "code",
   "execution_count": 1,
   "metadata": {},
   "outputs": [
    {
     "name": "stdout",
     "output_type": "stream",
     "text": [
      "First Job {4ABEE681-CB14-4ABF-805E-209B4AC46896}\n",
      "Second Job {498FB8F2-7329-4D13-88D8-FFC81823D82E}\n",
      "Dataset {2014ED3C-50C1-4A1E-8F55-35749E5508AC}\n",
      "Digital contract {15732F7F-A741-4F95-808F-1FF0B76ECACB}\n",
      "{4ABEE681-CB14-4ABF-805E-209B4AC46896}:Missing Input Parameters\n",
      "{498FB8F2-7329-4D13-88D8-FFC81823D82E}:Missing Input Parameters\n",
      "{\"SCNGuid\":\"{41DB8E21-6BA5-4FB4-B4E9-8A91AF24F3D5}\",\"Status\":true}\n",
      "{\"AllDone\":true,\"Failed\":{},\"InProgress\":{},\"Succeeded\":{\"{41DB8E21-6BA5-4FB4-B4E9-8A91AF24F3D5}\":\"\"}}\n",
      "First job IP 20.121.32.187 status Waiting on SCN to report status\n"
     ]
    }
   ],
   "source": [
    "import sail.core\n",
    "import json\n",
    "import getpass\n",
    "\n",
    "# password = getpass.getpass(prompt=\"Password: \")\n",
    "password = \"SailPassword@123\"\n",
    "\n",
    "sail.core.login(\"lbart@igr.com\", password, 6200, \"192.168.0.244\")\n",
    "\n",
    "sail.core.load_safe_objects(\"./SafeObjects\")\n",
    "dg_test_object_guid = \"473001DB64AF456E971296418B6194FE\"\n",
    "\n",
    "job_id = sail.core.run_job(dg_test_object_guid)\n",
    "print(\"First Job {}\".format(job_id))\n",
    "\n",
    "second_job_id = sail.core.run_job(dg_test_object_guid)\n",
    "print(\"Second Job {}\".format(second_job_id))\n",
    "\n",
    "datasets = sail.core.get_datasets()\n",
    "provision_ds = \"\"\n",
    "if ( datasets is not None ):\n",
    "    json_datasets = json.loads(datasets)\n",
    "    provision_ds = list(json_datasets.keys())[0]\n",
    "    print(\"Dataset {}\".format(provision_ds))\n",
    "else:\n",
    "    print(\"No loaded datasets\")\n",
    "    \n",
    "digital_contracts = sail.core.get_digital_contracts()\n",
    "provision_dc = \"\"\n",
    "if ( digital_contracts is not None):\n",
    "    json_digital_contracts = json.loads(digital_contracts)\n",
    "    provision_dc = list(json_digital_contracts.keys())[0]\n",
    "    print(\"Digital contract {}\".format(provision_dc))\n",
    "else:\n",
    "    print(\"No digital contracts\")\n",
    "    \n",
    "job_status = sail.core.get_job_status(job_id)\n",
    "print(\"{}:{}\".format(job_id,job_status))\n",
    "job_status = sail.core.get_job_status(second_job_id)\n",
    "print(\"{}:{}\".format(second_job_id,job_status))\n",
    "      \n",
    "first_provision = sail.core.provision_secure_computational_node(provision_dc, provision_ds, \"Standard_D8s_v4\")\n",
    "\n",
    "print(first_provision)\n",
    "     \n",
    "print(sail.core.wait_for_all_secure_nodes_to_be_provisioned(2400000))\n",
    "      \n",
    "my_int_guid = sail.core.push_user_data(12)\n",
    "set_response = sail.core.set_parameter(job_id, \"4C21EDF165AB4EF68853FA05FB805A03\", my_int_guid)\n",
    "set_ds_response = sail.core.set_parameter(job_id, \"4C8041B4513A44FAA5409662E014519C\", provision_ds)\n",
    "\n",
    "print(\"First job IP {} status {}\".format(sail.core.get_ip_for_job(job_id), sail.core.get_job_status(job_id)))"
   ]
  },
  {
   "cell_type": "code",
   "execution_count": null,
   "metadata": {
    "scrolled": true
   },
   "outputs": [],
   "source": [
    "message_response = sail.core.wait_for_data(10000)\n",
    "while None != message_response:\n",
    "    print(message_response)\n",
    "    message_response = sail.core.wait_for_data(500)\n"
   ]
  },
  {
   "cell_type": "code",
   "execution_count": null,
   "metadata": {},
   "outputs": [],
   "source": [
    "pull_data_id = \"{}.{}\".format(job_id, \"51DD83834C2A41D6BB1F49889EA0A0AC\")\n",
    "print(pull_data_id)\n",
    "sail.core.pull_data(pull_data_id)"
   ]
  },
  {
   "cell_type": "code",
   "execution_count": null,
   "metadata": {},
   "outputs": [],
   "source": [
    "safe_functions = sail.core.get_safe_functions()\n",
    "if ( safe_functions is not None):\n",
    "    json_safe_functions = json.loads(safe_functions)\n",
    "    print(json.dumps(json_safe_functions,indent=4))\n",
    "else:\n",
    "    print(\"No safe functions\")"
   ]
  },
  {
   "cell_type": "code",
   "execution_count": null,
   "metadata": {},
   "outputs": [],
   "source": [
    "sail.core.exit_current_session()"
   ]
  },
  {
   "cell_type": "code",
   "execution_count": null,
   "metadata": {},
   "outputs": [],
   "source": [
    "sail.core.deprovision_digital_contract(provision_dc)"
   ]
  },
  {
   "cell_type": "code",
   "execution_count": null,
   "metadata": {},
   "outputs": [],
   "source": [
    "tables = sail.core.get_tables()\n",
    "if ( tables is not None):\n",
    "    json_tables = json.loads(tables)\n",
    "    print(json.dumps(json_tables, indent=4))\n",
    "else:\n",
    "    print(\"No tables\")\n"
   ]
  },
  {
   "cell_type": "code",
   "execution_count": null,
   "metadata": {},
   "outputs": [],
   "source": []
  },
  {
   "cell_type": "code",
   "execution_count": null,
   "metadata": {},
   "outputs": [],
   "source": []
  }
 ],
 "metadata": {
  "kernelspec": {
   "display_name": "Python 3",
   "language": "python",
   "name": "python3"
  },
  "language_info": {
   "codemirror_mode": {
    "name": "ipython",
    "version": 3
   },
   "file_extension": ".py",
   "mimetype": "text/x-python",
   "name": "python",
   "nbconvert_exporter": "python",
   "pygments_lexer": "ipython3",
   "version": "3.8.10"
  }
 },
 "nbformat": 4,
 "nbformat_minor": 4
}
