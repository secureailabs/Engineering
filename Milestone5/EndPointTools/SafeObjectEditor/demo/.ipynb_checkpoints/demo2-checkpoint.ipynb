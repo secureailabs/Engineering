{
 "cells": [
  {
   "cell_type": "code",
   "execution_count": 1,
   "id": "polyphonic-individual",
   "metadata": {},
   "outputs": [],
   "source": [
    "from sail.data import RemoteDataFrame\n",
    "from sail.core import connect, newguid, get_fns, registersafeobj, querydata, pushsafeobj"
   ]
  },
  {
   "cell_type": "code",
   "execution_count": 2,
   "id": "north-canvas",
   "metadata": {},
   "outputs": [],
   "source": [
    "registersafeobj(\"/home/jjj/playground/demo/safeobjects/safeobjects\")"
   ]
  },
  {
   "cell_type": "code",
   "execution_count": 3,
   "id": "afraid-strand",
   "metadata": {},
   "outputs": [],
   "source": [
    "fns = get_fns()"
   ]
  },
  {
   "cell_type": "code",
   "execution_count": 4,
   "id": "contrary-registrar",
   "metadata": {},
   "outputs": [
    {
     "data": {
      "text/plain": [
       "['{2CE31DC0-3D1F-49FF-9005-09D252C91A21}',\n",
       " '{048F95C6-876E-4EC6-834D-594D63DF8F35}',\n",
       " '{ADE0F34F-8EA9-4DA7-9C40-B0213CCD7E7C}']"
      ]
     },
     "execution_count": 4,
     "metadata": {},
     "output_type": "execute_result"
    }
   ],
   "source": [
    "vm1 = connect(\"40.114.45.173\", 3500, \"lbart@igr.com\", \"sailpassword\")\n",
    "vm2 = connect(\"23.96.81.37\", 3500, \"lbart@igr.com\", \"sailpassword\")\n",
    "vm3 = connect(\"20.102.54.72\", 3500, \"lbart@igr.com\", \"sailpassword\")\n",
    "vms = [vm1, vm2, vm3]\n",
    "vms"
   ]
  },
  {
   "cell_type": "code",
   "execution_count": 5,
   "id": "happy-investigation",
   "metadata": {},
   "outputs": [],
   "source": [
    "for vm in vms:\n",
    "    for key in fns:\n",
    "        pushsafeobj(vm, fns[key])"
   ]
  },
  {
   "cell_type": "code",
   "execution_count": 6,
   "id": "abstract-liberia",
   "metadata": {},
   "outputs": [
    {
     "data": {
      "text/plain": [
       "['A5B43BFB81CA49448060C624031847FC',\n",
       " '73503A6F15CF744B92495CE5D1F45DDF',\n",
       " 'BF8E15B13826534B8DFE5725B942F94F']"
      ]
     },
     "execution_count": 6,
     "metadata": {},
     "output_type": "execute_result"
    }
   ],
   "source": [
    "tableid1 = querydata(vm1)\n",
    "tableid2 = querydata(vm2)\n",
    "tableid3 = querydata(vm3)\n",
    "table = [tableid1[0], tableid2[0], tableid3[0]]\n",
    "table"
   ]
  },
  {
   "cell_type": "code",
   "execution_count": 7,
   "id": "colored-motion",
   "metadata": {},
   "outputs": [],
   "source": [
    "df = []\n",
    "for i in range(3):\n",
    "    rdf = RemoteDataFrame(vms[i], table[i], fns)\n",
    "    df.append(rdf)"
   ]
  },
  {
   "cell_type": "code",
   "execution_count": 8,
   "id": "cellular-celebrity",
   "metadata": {},
   "outputs": [
    {
     "name": "stdout",
     "output_type": "stream",
     "text": [
      "Index(['Unnamed: 0', 'AGE', 'on drug', 'condition'], dtype='object')\n",
      "Index(['Unnamed: 0', 'AGE', 'on drug', 'condition'], dtype='object')\n",
      "Index(['Unnamed: 0', 'AGE', 'on drug', 'condition'], dtype='object')\n"
     ]
    }
   ],
   "source": [
    "for i in range(3):\n",
    "    print(df[i].columns)"
   ]
  },
  {
   "cell_type": "code",
   "execution_count": 9,
   "id": "sublime-seafood",
   "metadata": {},
   "outputs": [
    {
     "name": "stdout",
     "output_type": "stream",
     "text": [
      "On party 0, we have a total record number of 27 matching the condition\n",
      "On party 1, we have a total record number of 23 matching the condition\n",
      "On party 2, we have a total record number of 24 matching the condition\n"
     ]
    }
   ],
   "source": [
    "for i in range(3):\n",
    "    df_id = df[i].query(\"AGE>30 & AGE<40 & condition=='lung cancer' & `on drug`=='Atezolizumab'\")\n",
    "    rdf = RemoteDataFrame(vms[i], df_id, fns)\n",
    "    print('On party {0}, we have a total record number of {1} matching the condition'.format(i,rdf.shape[0]))"
   ]
  },
  {
   "cell_type": "code",
   "execution_count": 10,
   "id": "bottom-province",
   "metadata": {},
   "outputs": [
    {
     "name": "stdout",
     "output_type": "stream",
     "text": [
      "On party 0, we have a total record number of 102 matching the condition\n",
      "On party 1, we have a total record number of 92 matching the condition\n",
      "On party 2, we have a total record number of 98 matching the condition\n"
     ]
    }
   ],
   "source": [
    "for i in range(3):\n",
    "    df_id = df[i].query(\"AGE>30 & AGE<50 & condition=='lung cancer' & `on drug`=='Atezolizumab'\")\n",
    "    rdf = RemoteDataFrame(vms[i], df_id, fns)\n",
    "    print('On party {0}, we have a total record number of {1} matching the condition'.format(i,rdf.shape[0]))"
   ]
  },
  {
   "cell_type": "code",
   "execution_count": null,
   "id": "sudden-trail",
   "metadata": {},
   "outputs": [],
   "source": []
  }
 ],
 "metadata": {
  "kernelspec": {
   "display_name": "Python 3",
   "language": "python",
   "name": "python3"
  },
  "language_info": {
   "codemirror_mode": {
    "name": "ipython",
    "version": 3
   },
   "file_extension": ".py",
   "mimetype": "text/x-python",
   "name": "python",
   "nbconvert_exporter": "python",
   "pygments_lexer": "ipython3",
   "version": "3.8.10"
  }
 },
 "nbformat": 4,
 "nbformat_minor": 5
}
