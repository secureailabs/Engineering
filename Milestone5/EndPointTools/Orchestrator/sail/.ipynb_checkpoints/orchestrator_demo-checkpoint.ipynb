{
 "cells": [
  {
   "cell_type": "code",
   "execution_count": 1,
   "metadata": {},
   "outputs": [
    {
     "name": "stdout",
     "output_type": "stream",
     "text": [
      "{492186A2-9319-469E-9905-5C846F4BE981}\n"
     ]
    }
   ],
   "source": [
    "import sail.core\n",
    "import json\n",
    "import getpass\n",
    "\n",
    "# password = getpass.getpass(prompt=\"Password: \")\n",
    "password = \"SailPassword@123\"\n",
    "\n",
    "sail.core.login(\"lbart@igr.com\", password, 6200, \"192.168.0.244\")\n",
    "\n",
    "sail.core.load_safe_objects(\"./SafeObjects\")\n",
    "dg_test_object_guid = \"473001DB64AF456E971296418B6194FE\"\n",
    "\n",
    "job_id = sail.core.run_job(dg_test_object_guid)\n",
    "print(job_id)\n",
    "\n",
    "#second_job_id = sail.core.run_job(dg_test_object_guid)\n",
    "#print(second_job_id)"
   ]
  },
  {
   "cell_type": "code",
   "execution_count": 2,
   "metadata": {},
   "outputs": [
    {
     "name": "stdout",
     "output_type": "stream",
     "text": [
      "{206C30B6-EE45-CF4F-80C1-A7DCDB2E3EC3}\n",
      "{\n",
      "    \"{206C30B6-EE45-CF4F-80C1-A7DCDB2E3EC3}\": {\n",
      "        \"DataOwnerGuid\": \"{0468854B-7DA4-45DF-ADCF-57E6E83E2705}\",\n",
      "        \"DatasetGuid\": \"206C30B6-EE45-CF4F-80C1-A7DCDB2E3EC3\",\n",
      "        \"DatasetName\": \"MGH Dataset of patient data\",\n",
      "        \"Description\": \"This is a dataset populated for the purposes of testing.\",\n",
      "        \"JurisdictionalLimitations\": \"N/A\",\n",
      "        \"Keywords\": \"Test, fixed, coffee\",\n",
      "        \"OrganizationName\": \"Mercy General Hospital\",\n",
      "        \"PrivacyLevel\": 1.0,\n",
      "        \"PublishDate\": 1645105614.0,\n",
      "        \"Tables\": {\n",
      "            \"24271345-2A25-3544-9528-5FD28766E5C7\": {\n",
      "                \"AllColumnProperties\": {\n",
      "                    \"0\": {\n",
      "                        \"ColumnIdentifier\": \"2B45FD44-09EA-C849-AAC5-971E214ACBA4\",\n",
      "                        \"Description\": \"EDIT ME <This is the description of a column containing generic text>\",\n",
      "                        \"Tags\": \"EDIT ME <#Column>\",\n",
      "                        \"Title\": \"Line Number\",\n",
      "                        \"Type\": \"string\",\n",
      "                        \"Units\": \"GenericString\"\n",
      "                    },\n",
      "                    \"1\": {\n",
      "                        \"ColumnIdentifier\": \"296D875C-5CFA-3044-BD89-17CE2F16956C\",\n",
      "                        \"Description\": \"EDIT ME <This is the description of a column containing generic text>\",\n",
      "                        \"Tags\": \"EDIT ME <#Column>\",\n",
      "                        \"Title\": \"AGE\",\n",
      "                        \"Type\": \"string\",\n",
      "                        \"Units\": \"GenericString\"\n",
      "                    },\n",
      "                    \"2\": {\n",
      "                        \"ColumnIdentifier\": \"28E4B73D-D92B-F341-B19D-480A27892D6F\",\n",
      "                        \"Description\": \"EDIT ME <This is the description of a column containing generic text>\",\n",
      "                        \"Tags\": \"EDIT ME <#Column>\",\n",
      "                        \"Title\": \"BMI\",\n",
      "                        \"Type\": \"string\",\n",
      "                        \"Units\": \"GenericString\"\n",
      "                    },\n",
      "                    \"3\": {\n",
      "                        \"ColumnIdentifier\": \"2ACF599D-5E56-F64F-B115-B4A0DC79131F\",\n",
      "                        \"Description\": \"EDIT ME <This is the description of a column containing generic text>\",\n",
      "                        \"Tags\": \"EDIT ME <#Column>\",\n",
      "                        \"Title\": \"PD-L1 level before treatment\",\n",
      "                        \"Type\": \"string\",\n",
      "                        \"Units\": \"GenericString\"\n",
      "                    },\n",
      "                    \"4\": {\n",
      "                        \"ColumnIdentifier\": \"29A9CD9E-578F-4A41-A89D-24F653FD2D89\",\n",
      "                        \"Description\": \"EDIT ME <This is the description of a column containing generic text>\",\n",
      "                        \"Tags\": \"EDIT ME <#Column>\",\n",
      "                        \"Title\": \"PD-L1 level after treatment\",\n",
      "                        \"Type\": \"string\",\n",
      "                        \"Units\": \"GenericString\"\n",
      "                    },\n",
      "                    \"5\": {\n",
      "                        \"ColumnIdentifier\": \"29A3B5FE-4D65-1647-8535-6D29F0AE6A58\",\n",
      "                        \"Description\": \"EDIT ME <This is the description of a column containing generic text>\",\n",
      "                        \"Tags\": \"EDIT ME <#Column>\",\n",
      "                        \"Title\": \"PD-L2 level before treatment\",\n",
      "                        \"Type\": \"string\",\n",
      "                        \"Units\": \"GenericString\"\n",
      "                    },\n",
      "                    \"6\": {\n",
      "                        \"ColumnIdentifier\": \"2A08390A-5C94-3240-A146-A28EF58F4176\",\n",
      "                        \"Description\": \"EDIT ME <This is the description of a column containing generic text>\",\n",
      "                        \"Tags\": \"EDIT ME <#Column>\",\n",
      "                        \"Title\": \"PD-L2 level after treatment\",\n",
      "                        \"Type\": \"string\",\n",
      "                        \"Units\": \"GenericString\"\n",
      "                    },\n",
      "                    \"7\": {\n",
      "                        \"ColumnIdentifier\": \"2A75ADF0-9FB7-6147-9EB9-A3D843A716BF\",\n",
      "                        \"Description\": \"EDIT ME <This is the description of a column containing generic text>\",\n",
      "                        \"Tags\": \"EDIT ME <#Column>\",\n",
      "                        \"Title\": \"PD1 level before treatment\",\n",
      "                        \"Type\": \"string\",\n",
      "                        \"Units\": \"GenericString\"\n",
      "                    },\n",
      "                    \"8\": {\n",
      "                        \"ColumnIdentifier\": \"2BBA216F-5F35-F44E-8DDF-FB7F8F640227\",\n",
      "                        \"Description\": \"EDIT ME <This is the description of a column containing generic text>\",\n",
      "                        \"Tags\": \"EDIT ME <#Column>\",\n",
      "                        \"Title\": \"PD1 level after treatment\",\n",
      "                        \"Type\": \"string\",\n",
      "                        \"Units\": \"GenericString\"\n",
      "                    }\n",
      "                },\n",
      "                \"CompressedDataSizeInBytes\": 6020.0,\n",
      "                \"DataSizeInBytes\": 14216.0,\n",
      "                \"Description\": \"EDIT ME <This is the description of a new table>\",\n",
      "                \"NumberOfColumns\": 9.0,\n",
      "                \"NumberOfRows\": 301.0,\n",
      "                \"TableIdentifier\": \"24271345-2A25-3544-9528-5FD28766E5C7\",\n",
      "                \"Tags\": \"EDIT ME <#Column>\",\n",
      "                \"Title\": \"EDIT ME <This is a new table>\"\n",
      "            },\n",
      "            \"27635BD6-C428-9F46-AA60-37DA904171CE\": {\n",
      "                \"AllColumnProperties\": {\n",
      "                    \"0\": {\n",
      "                        \"ColumnIdentifier\": \"2A5493E8-2329-F24C-8E22-7A4D37BB15FF\",\n",
      "                        \"Description\": \"EDIT ME <This is the description of a column containing generic text>\",\n",
      "                        \"Tags\": \"EDIT ME <#Column>\",\n",
      "                        \"Title\": \"Line Number\",\n",
      "                        \"Type\": \"string\",\n",
      "                        \"Units\": \"GenericString\"\n",
      "                    },\n",
      "                    \"1\": {\n",
      "                        \"ColumnIdentifier\": \"28654531-1633-A94F-8537-8DE5AFFDDBAB\",\n",
      "                        \"Description\": \"EDIT ME <This is the description of a column containing generic text>\",\n",
      "                        \"Tags\": \"EDIT ME <#Column>\",\n",
      "                        \"Title\": \"AGE\",\n",
      "                        \"Type\": \"string\",\n",
      "                        \"Units\": \"GenericString\"\n",
      "                    },\n",
      "                    \"2\": {\n",
      "                        \"ColumnIdentifier\": \"286F9C77-272E-CB41-8F22-38BF7504E8C7\",\n",
      "                        \"Description\": \"EDIT ME <This is the description of a column containing generic text>\",\n",
      "                        \"Tags\": \"EDIT ME <#Column>\",\n",
      "                        \"Title\": \"BMI\",\n",
      "                        \"Type\": \"string\",\n",
      "                        \"Units\": \"GenericString\"\n",
      "                    },\n",
      "                    \"3\": {\n",
      "                        \"ColumnIdentifier\": \"2A4536F7-6A52-CD46-86DF-26BCBCBCEC83\",\n",
      "                        \"Description\": \"EDIT ME <This is the description of a column containing generic text>\",\n",
      "                        \"Tags\": \"EDIT ME <#Column>\",\n",
      "                        \"Title\": \"PD-L1 level before treatment\",\n",
      "                        \"Type\": \"string\",\n",
      "                        \"Units\": \"GenericString\"\n",
      "                    },\n",
      "                    \"4\": {\n",
      "                        \"ColumnIdentifier\": \"2B7B14D2-94FF-A74D-A080-0C76C200A86D\",\n",
      "                        \"Description\": \"EDIT ME <This is the description of a column containing generic text>\",\n",
      "                        \"Tags\": \"EDIT ME <#Column>\",\n",
      "                        \"Title\": \"PD-L1 level after treatment\",\n",
      "                        \"Type\": \"string\",\n",
      "                        \"Units\": \"GenericString\"\n",
      "                    },\n",
      "                    \"5\": {\n",
      "                        \"ColumnIdentifier\": \"28354412-BB5F-814D-9A68-529EB7949608\",\n",
      "                        \"Description\": \"EDIT ME <This is the description of a column containing generic text>\",\n",
      "                        \"Tags\": \"EDIT ME <#Column>\",\n",
      "                        \"Title\": \"PD-L2 level before treatment\",\n",
      "                        \"Type\": \"string\",\n",
      "                        \"Units\": \"GenericString\"\n",
      "                    },\n",
      "                    \"6\": {\n",
      "                        \"ColumnIdentifier\": \"28C07895-172A-C345-80EC-0508D489D910\",\n",
      "                        \"Description\": \"EDIT ME <This is the description of a column containing generic text>\",\n",
      "                        \"Tags\": \"EDIT ME <#Column>\",\n",
      "                        \"Title\": \"PD-L2 level after treatment\",\n",
      "                        \"Type\": \"string\",\n",
      "                        \"Units\": \"GenericString\"\n",
      "                    },\n",
      "                    \"7\": {\n",
      "                        \"ColumnIdentifier\": \"2BEAEC86-B580-BC44-958B-84FE2780673A\",\n",
      "                        \"Description\": \"EDIT ME <This is the description of a column containing generic text>\",\n",
      "                        \"Tags\": \"EDIT ME <#Column>\",\n",
      "                        \"Title\": \"PD1 level before treatment\",\n",
      "                        \"Type\": \"string\",\n",
      "                        \"Units\": \"GenericString\"\n",
      "                    },\n",
      "                    \"8\": {\n",
      "                        \"ColumnIdentifier\": \"28076C77-6844-0C45-A179-BA4AFC5019A5\",\n",
      "                        \"Description\": \"EDIT ME <This is the description of a column containing generic text>\",\n",
      "                        \"Tags\": \"EDIT ME <#Column>\",\n",
      "                        \"Title\": \"PD1 level after treatment\",\n",
      "                        \"Type\": \"string\",\n",
      "                        \"Units\": \"GenericString\"\n",
      "                    }\n",
      "                },\n",
      "                \"CompressedDataSizeInBytes\": 6020.0,\n",
      "                \"DataSizeInBytes\": 14216.0,\n",
      "                \"Description\": \"EDIT ME <This is the description of a new table>\",\n",
      "                \"NumberOfColumns\": 9.0,\n",
      "                \"NumberOfRows\": 301.0,\n",
      "                \"TableIdentifier\": \"27635BD6-C428-9F46-AA60-37DA904171CE\",\n",
      "                \"Tags\": \"EDIT ME <#Column>\",\n",
      "                \"Title\": \"EDIT ME <This is a new table>\"\n",
      "            }\n",
      "        },\n",
      "        \"VersionNumber\": \"0.1.0.0\"\n",
      "    }\n",
      "}\n"
     ]
    }
   ],
   "source": [
    "datasets = sail.core.get_datasets()\n",
    "provision_ds = \"\"\n",
    "if ( datasets is not None ):\n",
    "    json_datasets = json.loads(datasets)\n",
    "    provision_ds = list(json_datasets.keys())[0]\n",
    "    print(provision_ds)\n",
    "    print(json.dumps(json_datasets, indent=4))\n",
    "else:\n",
    "    print(\"No loaded datasets\")"
   ]
  },
  {
   "cell_type": "code",
   "execution_count": 3,
   "metadata": {
    "scrolled": true
   },
   "outputs": [
    {
     "name": "stdout",
     "output_type": "stream",
     "text": [
      "{174410D9-54F0-4E8F-A5D8-4958B04236B8}\n",
      "{\n",
      "    \"{174410D9-54F0-4E8F-A5D8-4958B04236B8}\": {\n",
      "        \"ActivationTime\": 1645105883.0,\n",
      "        \"AzureTemplateGuid\": \"{00000000-0000-0000-0000-000000000000}\",\n",
      "        \"ContractStage\": 3.0,\n",
      "        \"DOOName\": \"Mercy General Hospital\",\n",
      "        \"DataOwnerOrganization\": \"{0468854B-7DA4-45DF-ADCF-57E6E83E2705}\",\n",
      "        \"DatasetDRMMetadata\": {},\n",
      "        \"DatasetDRMMetadataSize\": 0.0,\n",
      "        \"DatasetGuid\": \"206C30B6-EE45-CF4F-80C1-A7DCDB2E3EC3\",\n",
      "        \"DatasetName\": \"MGH Dataset of patient data\",\n",
      "        \"Description\": \"Test this\",\n",
      "        \"DigitalContractGuid\": \"{174410D9-54F0-4E8F-A5D8-4958B04236B8}\",\n",
      "        \"Eula\": \"Company grants You a revocable, non-exclusive, non-transferable, limited right to use the dataset on a single machine.\",\n",
      "        \"EulaAcceptedByDOOAuthorizedUser\": \"Company grants You a revocable, non-exclusive, non-transferable, limited right to use the dataset on a single machine.\",\n",
      "        \"EulaAcceptedByROAuthorizedUser\": \"Company grants You a revocable, non-exclusive, non-transferable, limited right to use the dataset on a single machine.\",\n",
      "        \"ExpirationTime\": 1653745883.0,\n",
      "        \"HostForVirtualMachines\": \"Researcher\",\n",
      "        \"HostRegion\": \"eastus\",\n",
      "        \"LastActivity\": 1645105883.0,\n",
      "        \"LegalAgreement\": \"Agree\",\n",
      "        \"Note\": \"...\",\n",
      "        \"NumberOfVCPU\": 4.0,\n",
      "        \"NumberOfVirtualMachines\": 1.0,\n",
      "        \"NumberOfVirtualMachinesReady\": 35.0,\n",
      "        \"ProvisioningStatus\": 3.0,\n",
      "        \"ROName\": \"International Genetics Research Facility\",\n",
      "        \"ResearcherOrganization\": \"{079B3AF8-16B5-47F9-923B-DB38F3F7D179}\",\n",
      "        \"RetentionTime\": 100.0,\n",
      "        \"SubscriptionDays\": 100.0,\n",
      "        \"Title\": \"Test\",\n",
      "        \"VersionNumber\": \"1.0.0\"\n",
      "    }\n",
      "}\n"
     ]
    }
   ],
   "source": [
    "digital_contracts = sail.core.get_digital_contracts()\n",
    "provision_dc = \"\"\n",
    "if ( digital_contracts is not None):\n",
    "    json_digital_contracts = json.loads(digital_contracts)\n",
    "    provision_dc = list(json_digital_contracts.keys())[0]\n",
    "    print(provision_dc)\n",
    "    print(json.dumps(json_digital_contracts, indent=4))\n",
    "else:\n",
    "    print(\"No digital contracts\")"
   ]
  },
  {
   "cell_type": "code",
   "execution_count": 4,
   "metadata": {
    "scrolled": false
   },
   "outputs": [
    {
     "name": "stdout",
     "output_type": "stream",
     "text": [
      "{492186A2-9319-469E-9905-5C846F4BE981}:Missing Input Parameters\n"
     ]
    }
   ],
   "source": [
    "job_status = sail.core.get_job_status(job_id)\n",
    "print(\"{}:{}\".format(job_id,job_status))\n",
    "#job_status = sail.core.get_job_status(second_job_id)\n",
    "#print(\"{}:{}\".format(second_job_id,job_status))"
   ]
  },
  {
   "cell_type": "code",
   "execution_count": 5,
   "metadata": {
    "scrolled": true
   },
   "outputs": [
    {
     "name": "stdout",
     "output_type": "stream",
     "text": [
      "{\"SCNGuid\":\"{42555882-1EC2-4FFE-9689-7142BB463055}\",\"Status\":true}\n"
     ]
    }
   ],
   "source": [
    "first_provision = sail.core.provision_secure_computational_node(provision_dc, provision_ds, \"Standard_D8s_v4\")\n",
    "#second_provision = sail.core.provision_secure_computational_node(provision_dc, provision_ds, \"Standard_D8s_v4\")\n",
    "\n",
    "print(first_provision)\n",
    "#print(second_provision)"
   ]
  },
  {
   "cell_type": "code",
   "execution_count": 6,
   "metadata": {
    "scrolled": true
   },
   "outputs": [
    {
     "name": "stdout",
     "output_type": "stream",
     "text": [
      "{\"AllDone\":true,\"Failed\":{},\"InProgress\":{},\"Succeeded\":{\"{42555882-1EC2-4FFE-9689-7142BB463055}\":\"\"}}\n"
     ]
    }
   ],
   "source": [
    "print(sail.core.wait_for_all_secure_nodes_to_be_provisioned(30000))"
   ]
  },
  {
   "cell_type": "code",
   "execution_count": null,
   "metadata": {
    "scrolled": true
   },
   "outputs": [],
   "source": [
    "my_int_guid = sail.core.push_user_data(87)\n",
    "set_response = sail.core.set_parameter(job_id, \"4C21EDF165AB4EF68853FA05FB805A03\", my_int_guid)\n",
    "#set_response = sail.core.set_parameter(second_job_id, \"4C21EDF165AB4EF68853FA05FB805A03\", my_int_guid)\n",
    "print(my_int_guid)"
   ]
  },
  {
   "cell_type": "code",
   "execution_count": null,
   "metadata": {},
   "outputs": [],
   "source": [
    "set_ds_response = sail.core.set_parameter(job_id, \"4C8041B4513A44FAA5409662E014519C\", my_int_guid)\n",
    "#set_ds_response = sail.core.set_parameter(second_job_id, \"4C8041B4513A44FAA5409662E014519C\", provision_ds)\n",
    "\n",
    "#print(\"First job IP {}\".format(sail.core.get_ip_for_job(job_id)))\n",
    "#print(\"Second job IP {}\".format(sail.core.get_ip_for_job(second_job_id)))"
   ]
  },
  {
   "cell_type": "code",
   "execution_count": null,
   "metadata": {},
   "outputs": [],
   "source": [
    "data_id = \"{}.{}\".format(job_id, \"51DD83834C2A41D6BB1F49889EA0A0AC\")\n",
    "\n",
    "pull_data_result = sail.core.pull_data(data_id)\n",
    "print(pull_data_result)"
   ]
  },
  {
   "cell_type": "code",
   "execution_count": null,
   "metadata": {
    "scrolled": true
   },
   "outputs": [],
   "source": [
    "import base64\n",
    "import pickle\n",
    "\n",
    "message_response = sail.core.wait_for_data(10000)\n",
    "while None != message_response:\n",
    "    if ( message_response is not None):\n",
    "        message_json = json.loads(message_response)\n",
    "        if ( message_json[\"SignalType\"] == 0):\n",
    "            print(\"Job {} is running\".format(message_json[\"JobUuid\"]))\n",
    "\n",
    "        if ( message_json[\"SignalType\"] == 1):\n",
    "            print(\"Job {} is done\".format(message_json[\"JobUuid\"]))\n",
    "\n",
    "        if ( message_json[\"SignalType\"] == 3):\n",
    "            data_value = message_json[\"FileData\"]\n",
    "            decoded_value = base64.b64decode(data_value)\n",
    "            un_serialized_value = pickle.loads(decoded_value)\n",
    "            print(\"Data received from job {}: {}\".format(message_json[\"JobUuid\"], un_serialized_value))\n",
    "    message_response = sail.core.wait_for_data(500)"
   ]
  },
  {
   "cell_type": "code",
   "execution_count": null,
   "metadata": {},
   "outputs": [],
   "source": [
    "safe_functions = sail.core.get_safe_functions()\n",
    "if ( safe_functions is not None):\n",
    "    json_safe_functions = json.loads(safe_functions)\n",
    "    print(json.dumps(json_safe_functions,indent=4))\n",
    "else:\n",
    "    print(\"No safe functions\")"
   ]
  },
  {
   "cell_type": "code",
   "execution_count": null,
   "metadata": {},
   "outputs": [],
   "source": [
    "sail.core.exit_current_session()"
   ]
  },
  {
   "cell_type": "code",
   "execution_count": null,
   "metadata": {},
   "outputs": [],
   "source": [
    "sail.core.deprovision_digital_contract(provision_dc)"
   ]
  },
  {
   "cell_type": "code",
   "execution_count": null,
   "metadata": {},
   "outputs": [],
   "source": [
    "tables = sail.core.get_tables()\n",
    "if ( tables is not None):\n",
    "    json_tables = json.loads(tables)\n",
    "    print(json.dumps(json_tables, indent=4))\n",
    "else:\n",
    "    print(\"No tables\")\n"
   ]
  },
  {
   "cell_type": "code",
   "execution_count": null,
   "metadata": {},
   "outputs": [],
   "source": []
  },
  {
   "cell_type": "code",
   "execution_count": null,
   "metadata": {},
   "outputs": [],
   "source": []
  }
 ],
 "metadata": {
  "kernelspec": {
   "display_name": "Python 3",
   "language": "python",
   "name": "python3"
  },
  "language_info": {
   "codemirror_mode": {
    "name": "ipython",
    "version": 3
   },
   "file_extension": ".py",
   "mimetype": "text/x-python",
   "name": "python",
   "nbconvert_exporter": "python",
   "pygments_lexer": "ipython3",
   "version": "3.8.10"
  }
 },
 "nbformat": 4,
 "nbformat_minor": 4
}
