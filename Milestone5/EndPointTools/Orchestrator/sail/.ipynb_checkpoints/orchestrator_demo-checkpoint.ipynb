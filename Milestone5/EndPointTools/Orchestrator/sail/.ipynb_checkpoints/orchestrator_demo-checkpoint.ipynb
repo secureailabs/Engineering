{
 "cells": [
  {
   "cell_type": "code",
   "execution_count": 1,
   "metadata": {},
   "outputs": [
    {
     "name": "stdout",
     "output_type": "stream",
     "text": [
      "{4A5B9FF9-FFC3-4045-8EB4-0B69FB7BE7B7}\n",
      "{4884C7D0-EA79-4847-8A71-A75C6B774275}\n"
     ]
    }
   ],
   "source": [
    "import sail.core\n",
    "import json\n",
    "import getpass\n",
    "\n",
    "# password = getpass.getpass(prompt=\"Password: \")\n",
    "password = \"SailPassword@123\"\n",
    "\n",
    "sail.core.login(\"lbart@igr.com\", password, 6200, \"192.168.0.244\")\n",
    "\n",
    "sail.core.load_safe_objects(\"./SafeObjects\")\n",
    "dg_test_object_guid = \"473001DB64AF456E971296418B6194FE\"\n",
    "\n",
    "job_id = sail.core.run_job(dg_test_object_guid)\n",
    "print(job_id)\n",
    "\n",
    "second_job_id = sail.core.run_job(dg_test_object_guid)\n",
    "print(second_job_id)"
   ]
  },
  {
   "cell_type": "code",
   "execution_count": 2,
   "metadata": {},
   "outputs": [
    {
     "name": "stdout",
     "output_type": "stream",
     "text": [
      "{20600B4E-8B02-49FA-A48D-820CF58F1FFB}\n"
     ]
    }
   ],
   "source": [
    "datasets = sail.core.get_datasets()\n",
    "provision_ds = \"\"\n",
    "if ( datasets is not None ):\n",
    "    json_datasets = json.loads(datasets)\n",
    "    provision_ds = list(json_datasets.keys())[0]\n",
    "    print(provision_ds)\n",
    "else:\n",
    "    print(\"No loaded datasets\")"
   ]
  },
  {
   "cell_type": "code",
   "execution_count": 3,
   "metadata": {
    "scrolled": true
   },
   "outputs": [
    {
     "name": "stdout",
     "output_type": "stream",
     "text": [
      "\"{\\\"{14A84516-6A6C-4313-AF62-EE3ECE81A64B}\\\":{\\\"ActivationTime\\\":1644330842.000000,\\\"AzureTemplateGuid\\\":\\\"{00000000-0000-0000-0000-000000000000}\\\",\\\"ContractStage\\\":3.000000,\\\"DOOName\\\":\\\"Mercy General Hospital\\\",\\\"DataOwnerOrganization\\\":\\\"{05FF4363-9C82-4C73-8243-0704784B1DD5}\\\",\\\"DatasetDRMMetadata\\\":{},\\\"DatasetDRMMetadataSize\\\":0.000000,\\\"DatasetGuid\\\":\\\"{217FE6F4-E25C-4EFE-8583-A930898A545A}\\\",\\\"DatasetName\\\":\\\"Chronic Kidney Disease dataset\\\",\\\"Description\\\":\\\"The dataset will be used to train models for academic research purposes.\\\",\\\"DigitalContractGuid\\\":\\\"{14A84516-6A6C-4313-AF62-EE3ECE81A64B}\\\",\\\"Eula\\\":\\\"Company grants You a revocable, non-exclusive, non-transferable, limited right to use the dataset on a single machine.\\\",\\\"EulaAcceptedByDOOAuthorizedUser\\\":\\\"Company grants You a revocable, non-exclusive, non-transferable, limited right to use the dataset on a single machine.\\\",\\\"EulaAcceptedByROAuthorizedUser\\\":\\\"Company grants You a revocable, non-exclusive, non-transferable, limited right to use the dataset on a single machine.\\\",\\\"ExpirationTime\\\":1645194842.000000,\\\"HostForVirtualMachines\\\":\\\"Researcher\\\",\\\"HostRegion\\\":\\\"East US\\\",\\\"LastActivity\\\":1644330842.000000,\\\"LegalAgreement\\\":\\\"The Parties acknowledge and agree that this Agreement represents the entire agreement between the Parties. In the event that the Parties desire to change, add, or otherwise modify any terms, they shall do so in writing to be signed by both parties.\\\",\\\"Note\\\":\\\"...\\\",\\\"NumberOfVCPU\\\":8.000000,\\\"NumberOfVirtualMachines\\\":2.000000,\\\"ProvisioningStatus\\\":3.000000,\\\"ROName\\\":\\\"International Genetics Research Facility\\\",\\\"ResearcherOrganization\\\":\\\"{0438E5D4-68F6-4E47-B7AC-7E312CD541A1}\\\",\\\"RetentionTime\\\":16186603.000000,\\\"SubscriptionDays\\\":10.000000,\\\"Title\\\":\\\"Kidney Cancer Research Consortium\\\",\\\"VersionNumber\\\":\\\"0x0000000100000001\\\"}}\"\n",
      "{14A84516-6A6C-4313-AF62-EE3ECE81A64B}\n"
     ]
    }
   ],
   "source": [
    "digital_contracts = sail.core.get_digital_contracts()\n",
    "provision_dc = \"\"\n",
    "if ( digital_contracts is not None):\n",
    "    json_digital_contracts = json.loads(digital_contracts)\n",
    "    provision_dc = list(json_digital_contracts.keys())[0]\n",
    "    print(provision_dc)\n",
    "else:\n",
    "    print(\"No digital contracts\")"
   ]
  },
  {
   "cell_type": "code",
   "execution_count": 4,
   "metadata": {
    "scrolled": false
   },
   "outputs": [
    {
     "name": "stdout",
     "output_type": "stream",
     "text": [
      "{4A5B9FF9-FFC3-4045-8EB4-0B69FB7BE7B7}:Missing Input Parameters\n",
      "{4884C7D0-EA79-4847-8A71-A75C6B774275}:Missing Input Parameters\n"
     ]
    }
   ],
   "source": [
    "job_status = sail.core.get_job_status(job_id)\n",
    "print(\"{}:{}\".format(job_id,job_status))\n",
    "job_status = sail.core.get_job_status(second_job_id)\n",
    "print(\"{}:{}\".format(second_job_id,job_status))"
   ]
  },
  {
   "cell_type": "code",
   "execution_count": null,
   "metadata": {
    "scrolled": true
   },
   "outputs": [],
   "source": [
    "sail.core.provision_secure_computational_node(provision_dc, provision_ds, \"VM_TYPE\")"
   ]
  },
  {
   "cell_type": "code",
   "execution_count": null,
   "metadata": {
    "scrolled": true
   },
   "outputs": [],
   "source": [
    "print(sail.core.wait_for_all_secure_nodes_to_be_provisioned(30000))"
   ]
  },
  {
   "cell_type": "code",
   "execution_count": null,
   "metadata": {
    "scrolled": true
   },
   "outputs": [],
   "source": [
    "my_int_guid = sail.core.push_user_data(12)\n",
    "set_response = sail.core.set_parameter(job_id, \"4C21EDF165AB4EF68853FA05FB805A03\", my_int_guid)\n",
    "set_response = sail.core.set_parameter(second_job_id, \"4C21EDF165AB4EF68853FA05FB805A03\", my_int_guid)\n",
    "print(my_int_guid)"
   ]
  },
  {
   "cell_type": "code",
   "execution_count": null,
   "metadata": {},
   "outputs": [],
   "source": [
    "set_ds_response = sail.core.set_parameter(job_id, \"4C8041B4513A44FAA5409662E014519C\", provision_ds)\n",
    "set_ds_response = sail.core.set_parameter(second_job_id, \"4C8041B4513A44FAA5409662E014519C\", provision_ds)"
   ]
  },
  {
   "cell_type": "code",
   "execution_count": null,
   "metadata": {
    "scrolled": true
   },
   "outputs": [],
   "source": [
    "message_response = sail.core.wait_for_data(10000)\n",
    "while None != message_response:\n",
    "    print(message_response)\n",
    "    message_response = sail.core.wait_for_data(500)\n"
   ]
  },
  {
   "cell_type": "code",
   "execution_count": null,
   "metadata": {},
   "outputs": [],
   "source": [
    "safe_functions = sail.core.get_safe_functions()\n",
    "if ( safe_functions is not None):\n",
    "    json_safe_functions = json.loads(safe_functions)\n",
    "    print(json.dumps(json_safe_functions,indent=4))\n",
    "else:\n",
    "    print(\"No safe functions\")"
   ]
  },
  {
   "cell_type": "code",
   "execution_count": null,
   "metadata": {},
   "outputs": [],
   "source": [
    "sail.core.exit_current_session()"
   ]
  },
  {
   "cell_type": "code",
   "execution_count": null,
   "metadata": {},
   "outputs": [],
   "source": [
    "tables = sail.core.get_tables()\n",
    "if ( tables is not None):\n",
    "    json_tables = json.loads(tables)\n",
    "    print(json.dumps(json_tables, indent=4))\n",
    "else:\n",
    "    print(\"No tables\")\n"
   ]
  },
  {
   "cell_type": "code",
   "execution_count": null,
   "metadata": {},
   "outputs": [],
   "source": []
  },
  {
   "cell_type": "code",
   "execution_count": null,
   "metadata": {},
   "outputs": [],
   "source": []
  }
 ],
 "metadata": {
  "kernelspec": {
   "display_name": "Python 3",
   "language": "python",
   "name": "python3"
  },
  "language_info": {
   "codemirror_mode": {
    "name": "ipython",
    "version": 3
   },
   "file_extension": ".py",
   "mimetype": "text/x-python",
   "name": "python",
   "nbconvert_exporter": "python",
   "pygments_lexer": "ipython3",
   "version": "3.8.10"
  }
 },
 "nbformat": 4,
 "nbformat_minor": 4
}
