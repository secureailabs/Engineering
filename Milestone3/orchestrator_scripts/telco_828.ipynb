{
 "cells": [
  {
   "cell_type": "code",
   "execution_count": 1,
   "metadata": {
    "scrolled": true
   },
   "outputs": [
    {
     "name": "stdout",
     "output_type": "stream",
     "text": [
      "Already up to date.\r\n"
     ]
    }
   ],
   "source": [
    "!git fetch && git pull"
   ]
  },
  {
   "cell_type": "code",
   "execution_count": 2,
   "metadata": {},
   "outputs": [
    {
     "name": "stdout",
     "output_type": "stream",
     "text": [
      "Processing /Engineering/Milestone3/VirtualMachine/Orchestrator/sail\n",
      "Building wheels for collected packages: sail\n",
      "  Building wheel for sail (setup.py) ... \u001b[?25ldone\n",
      "\u001b[?25h  Created wheel for sail: filename=sail-0.1-py3-none-any.whl size=2567650 sha256=b0c07885c49ad2e4d73ada4d768b8c2a6cf320b6f59177ab7c499dcf107cbb95\n",
      "  Stored in directory: /tmp/pip-ephem-wheel-cache-fd9d712g/wheels/b0/60/b6/609c9a342cddf0049ae606db2c0c6669680b2612a0e7553b31\n",
      "Successfully built sail\n",
      "Installing collected packages: sail\n",
      "  Attempting uninstall: sail\n",
      "    Found existing installation: sail 0.1\n",
      "    Uninstalling sail-0.1:\n",
      "      Successfully uninstalled sail-0.1\n",
      "Successfully installed sail-0.1\n"
     ]
    }
   ],
   "source": [
    "!pip3 install /Engineering/Milestone3/VirtualMachine/Orchestrator/sail"
   ]
  },
  {
   "cell_type": "code",
   "execution_count": 3,
   "metadata": {},
   "outputs": [],
   "source": [
    "from sail.core import VMSetup, registersafeobj,login,connect,pushsafeobj,querydata,get_fns\n",
    "from sail.data import RemoteDataFrame, Utils\n",
    "from sail.algo import fdxgb\n",
    "import time\n",
    "start_time = time.time()"
   ]
  },
  {
   "cell_type": "code",
   "execution_count": 4,
   "metadata": {},
   "outputs": [
    {
     "name": "stdout",
     "output_type": "stream",
     "text": [
      "[P]safe objects registered\n"
     ]
    }
   ],
   "source": [
    "import json, requests\n",
    "soPath = \"/Engineering/Milestone3/EndPointTools/SafeObjectEditor/KPMG/safeobjects\"\n",
    "contractdict = [{\"DigitalContractGuid\":\"{3867E174-D3D7-4F09-862D-09B02E30167B}\"}, {\"DigitalContractGuid\":\"{358729A6-126B-4651-82E2-BE3F1CAA2709}\"}]\n",
    "backendIP = \"52.150.26.47\"\n",
    "\n",
    "registersafeobj(soPath)\n",
    "print(\"[P]safe objects registered\")"
   ]
  },
  {
   "cell_type": "code",
   "execution_count": 5,
   "metadata": {},
   "outputs": [
    {
     "name": "stdout",
     "output_type": "stream",
     "text": [
      "[P]login success\n",
      "5iEQAhtloSPPq5HWbQBXJ6U/hqVwXi0s5gOCLAtrYpgU7QDB9MbhUgcxSFCxoqILSKi01A0DAAB9hZNtu5T71EhyQT8A3X5P1csmxZn/aOufoqaM3mm5y2pQnNvWvCKjiZaSQUDPd4ZU1TS2I8t4wPIM/o3OImFPFiOdY+rA+Oo+EK2K17194RnNCElTn7z/rvODv78bgW629Afm+4jUTbf6yGO5ilxWmXuDXq69N7YRGqnQyt1/k0y9wZ+1pnmrHzElm31DFj0DHwPQVKFcID1CKs8GgeXyO+ZhXnlVLKyei5vC4XH5VZUMB0jp11OA3biJbs4Zk9wQQsx6t3g+TNJWH2EHoHNUF9Jfw/PNjc1btgs5xNXwqy5RjiZpmPgXudrUPWk/tHvLGEdGT4KF9bp7R2SHqA2w16Vw4ExT04Dlgru/2UC3Fn0SKpkE7kPyyR5fV4XJz7/XGD/yOBf7oy0TBMjPv/n2lpR60C/xmHEMuehpKKV5mcUkXK+8IRwe+WHpMsf/lks6dCYc6BwopRMeaqredua67E1l2OahShAc9tqeKSVzV9z3FGwptwppub/bsS9Q7Fc1bnYK9z6iG5L6jk7PwdsSj2/EjqGPDzZaRoi7B+TaWCy51YS5Hceo8fq656xaPz331+A3pL+pf8HKyxFwnd3CcbigMKpEvLV3R7XAxW9vkRpStAX42taygAJOB36qgYjOEMsd4XyXnlT0DkMBgg1Q8Pj8JQ6pFmJpDIS25DjRKi75ZGw4Zjkkjex2nwi95NmdmewQZmHHU0KpjY8piw31dF4lCmwcIb9EwphI+5g6XsXmKnY2Ell5coDmmXjOOLl6WiThnI4ElRBXcMfTBS+wptEQS1ffrCDkJqekcJ5I6O880Ak3NlTZvgZF4fNm88qUzK/6wsfU8Q+LwHjB8h91KxykwoEQf0I9c3rFXX3NQRD+ug0dTQ6ZxzGrjrBQCWFeLZh/ySFFVNm9OxDWijuyy8iZMfkIbkwt9sftztFl/8TJsS0SXn8UQKsSCItcaaCfzDbjRu2km61Fa8EnY2ZETcKNsB2vth8ccj8AeOPIctWpUBt9BHFP1anuNRd9CQz9Hu6Ia0dRLgfSEgJGMhpWsSmREm4=\n"
     ]
    }
   ],
   "source": [
    "eosb = login(\"r@r.r\", \"SailPassword@123\", 6200, backendIP)\n",
    "print(\"[P]login success\")\n",
    "print(eosb)"
   ]
  },
  {
   "cell_type": "code",
   "execution_count": 6,
   "metadata": {},
   "outputs": [
    {
     "name": "stdout",
     "output_type": "stream",
     "text": [
      "{\"DigitalContractGuid\": \"{3867E174-D3D7-4F09-862D-09B02E30167B}\"}\n"
     ]
    },
    {
     "name": "stderr",
     "output_type": "stream",
     "text": [
      "/usr/local/lib/python3.8/dist-packages/urllib3/connectionpool.py:1013: InsecureRequestWarning: Unverified HTTPS request is being made to host '52.150.26.47'. Adding certificate verification is strongly advised. See: https://urllib3.readthedocs.io/en/1.26.x/advanced-usage.html#ssl-warnings\n",
      "  warnings.warn(\n"
     ]
    },
    {
     "name": "stdout",
     "output_type": "stream",
     "text": [
      "{'Status': 200.0, 'VirtualMachines': {'26A65B7F49EB4929AAD66F0849B536B7': '20.120.113.249'}}\n",
      "['20.120.113.249']\n",
      "{\"DigitalContractGuid\": \"{358729A6-126B-4651-82E2-BE3F1CAA2709}\"}\n"
     ]
    },
    {
     "name": "stderr",
     "output_type": "stream",
     "text": [
      "/usr/local/lib/python3.8/dist-packages/urllib3/connectionpool.py:1013: InsecureRequestWarning: Unverified HTTPS request is being made to host '52.150.26.47'. Adding certificate verification is strongly advised. See: https://urllib3.readthedocs.io/en/1.26.x/advanced-usage.html#ssl-warnings\n",
      "  warnings.warn(\n"
     ]
    },
    {
     "name": "stdout",
     "output_type": "stream",
     "text": [
      "{'Status': 200.0, 'VirtualMachines': {'A46C19F627914B77A40894F3AB5AF9CF': '20.124.38.78'}}\n",
      "['20.120.113.249', '20.124.38.78']\n"
     ]
    }
   ],
   "source": [
    "url = \"https://\"+backendIP+\":6200/SAIL/VirtualMachineManager/GetRunningVMsIpAdresses?Eosb=\"+eosb\n",
    "\n",
    "payloads = []\n",
    "for item in contractdict:\n",
    "    temp = json.dumps(item)\n",
    "    payloads.append(temp)\n",
    "\n",
    "headers = {\n",
    "    'Content-Type': 'application/json'\n",
    "}\n",
    "\n",
    "ips = []\n",
    "for payload in payloads:\n",
    "    print(payload)\n",
    "    response = requests.request(\"GET\", url, headers=headers, data=payload, verify=False)\n",
    "    response = response.json()\n",
    "    print(response)\n",
    "    for key in response['VirtualMachines']:\n",
    "        ips.append(response['VirtualMachines'][key])\n",
    "        print(ips)"
   ]
  },
  {
   "cell_type": "code",
   "execution_count": 7,
   "metadata": {},
   "outputs": [
    {
     "name": "stdout",
     "output_type": "stream",
     "text": [
      "[P]virtual machine connection to ip: 20.124.38.78 success\n",
      "[P]safe object pushed to virtual machines\n",
      "[P]obtain table ids\n"
     ]
    }
   ],
   "source": [
    "vmids = []\n",
    "for ip in ips:\n",
    "    vmid = connect(ip, 3500)\n",
    "    vmids.append(vmid)\n",
    "print(\"[P]virtual machine connection to ip: {0} success\".format(ip), flush=True)\n",
    "    \n",
    "fns = get_fns()\n",
    "for vm in vmids:\n",
    "    for key in fns:\n",
    "        pushsafeobj(vm, fns[key])\n",
    "print(\"[P]safe object pushed to virtual machines\" , flush=True)\n",
    "\n",
    "table = []\n",
    "for vm in vmids:\n",
    "    tableid = querydata(vm)\n",
    "    table.append(tableid)\n",
    "print(\"[P]obtain table ids\", flush=True)"
   ]
  },
  {
   "cell_type": "code",
   "execution_count": 8,
   "metadata": {},
   "outputs": [
    {
     "data": {
      "text/plain": [
       "[{'Telco Split 1': '5944BC32A62E1140A18D45C83ADE6743'},\n",
       " {'Telco Split 2': '536DE55B26CDF64ABBB96D4792486A65'}]"
      ]
     },
     "execution_count": 8,
     "metadata": {},
     "output_type": "execute_result"
    }
   ],
   "source": [
    "table"
   ]
  },
  {
   "cell_type": "code",
   "execution_count": 9,
   "metadata": {},
   "outputs": [
    {
     "name": "stdout",
     "output_type": "stream",
     "text": [
      "8.010059356689453\n"
     ]
    }
   ],
   "source": [
    "mid_time = time.time()\n",
    "\n",
    "\n",
    "u1 = Utils(vmids[0], fns)\n",
    "u2 = Utils(vmids[1], fns)\n",
    "df1 = u1.read_csv(table[0]['Telco Split 1'])\n",
    "df2 = u2.read_csv(table[1]['Telco Split 2'])\n",
    "dfs = [df1, df2]\n",
    "\n",
    "print(time.time() - mid_time)"
   ]
  },
  {
   "cell_type": "code",
   "execution_count": 10,
   "metadata": {},
   "outputs": [
    {
     "data": {
      "text/plain": [
       "['{3E52E6B6-9D28-4DC3-A270-DF36EC5AD736}.5C37473C6D3443F49C03CAF0D746B997',\n",
       " '{73723940-40BC-407B-AF62-4FA34E4397E5}.5C37473C6D3443F49C03CAF0D746B997']"
      ]
     },
     "execution_count": 10,
     "metadata": {},
     "output_type": "execute_result"
    }
   ],
   "source": [
    "dfs"
   ]
  },
  {
   "cell_type": "code",
   "execution_count": 11,
   "metadata": {},
   "outputs": [],
   "source": [
    "n=2\n",
    "data1 = RemoteDataFrame(vmids[0], df1, fns)\n",
    "data2 = RemoteDataFrame(vmids[1], df2, fns)\n",
    "data = [data1, data2]"
   ]
  },
  {
   "cell_type": "code",
   "execution_count": 12,
   "metadata": {},
   "outputs": [
    {
     "data": {
      "text/plain": [
       "[<sail.data.remote_dataframe.RemoteDataFrame at 0x7ff71c1e3df0>,\n",
       " <sail.data.remote_dataframe.RemoteDataFrame at 0x7ff71c1e3940>]"
      ]
     },
     "execution_count": 12,
     "metadata": {},
     "output_type": "execute_result"
    }
   ],
   "source": [
    "data"
   ]
  },
  {
   "cell_type": "code",
   "execution_count": 13,
   "metadata": {},
   "outputs": [],
   "source": [
    "dtypes = data1.dtypes\n",
    "type_dict = dict(dtypes)\n",
    "cate_labels = [key for key in type_dict if type_dict[key] in ['bool', 'object']]\n",
    "cate_labels.remove('phone number')"
   ]
  },
  {
   "cell_type": "code",
   "execution_count": 14,
   "metadata": {},
   "outputs": [],
   "source": [
    "cols = []\n",
    "cols.append(data1.columns)\n",
    "cols.append(data2.columns)"
   ]
  },
  {
   "cell_type": "code",
   "execution_count": 15,
   "metadata": {},
   "outputs": [],
   "source": [
    "y=[]\n",
    "X=[]\n",
    "n=2\n",
    "for i in range(n):\n",
    "    if 'phone number' in cols[i]:\n",
    "        data[i].data_id = data[i].drop('phone number', axis = 1)\n",
    "    data[i].data_id = data[i].label_encode(cate_labels)\n",
    "    y.append(data[i]['churn'])\n",
    "    X.append(data[i].drop('churn', axis = 1))"
   ]
  },
  {
   "cell_type": "code",
   "execution_count": 16,
   "metadata": {},
   "outputs": [
    {
     "data": {
      "text/plain": [
       "Index(['state', 'account length', 'area code', 'phone number',\n",
       "       'international plan', 'voice mail plan', 'number vmail messages',\n",
       "       'total day minutes', 'total day calls', 'total day charge',\n",
       "       'total eve minutes', 'total eve calls', 'total eve charge',\n",
       "       'total night minutes', 'total night calls', 'total night charge',\n",
       "       'total intl minutes', 'total intl calls', 'total intl charge',\n",
       "       'customer service calls', 'churn'],\n",
       "      dtype='object')"
      ]
     },
     "execution_count": 16,
     "metadata": {},
     "output_type": "execute_result"
    }
   ],
   "source": [
    "cols[0]"
   ]
  },
  {
   "cell_type": "code",
   "execution_count": 17,
   "metadata": {},
   "outputs": [],
   "source": [
    "dim = len(cols[0])-2\n",
    "fdxgbmod = fdxgb(vmids, params={'max_depth': 8 }, feature_num = dim)"
   ]
  },
  {
   "cell_type": "code",
   "execution_count": 18,
   "metadata": {},
   "outputs": [
    {
     "data": {
      "text/plain": [
       "['{3ABACFD6-00F1-4798-9963-C78CDBA73711}.048E16B349F8450694B1B30E0E49E6CE',\n",
       " '{2D371BD3-FCC0-4E72-B563-22FE38063070}.048E16B349F8450694B1B30E0E49E6CE']"
      ]
     },
     "execution_count": 18,
     "metadata": {},
     "output_type": "execute_result"
    }
   ],
   "source": [
    "y_new = []\n",
    "for item in y:\n",
    "    y_new.append(item.data_id)\n",
    "y=y_new\n",
    "y"
   ]
  },
  {
   "cell_type": "code",
   "execution_count": 19,
   "metadata": {},
   "outputs": [],
   "source": [
    "model_params = {\n",
    "# \"colsample_bylevel\": ,\n",
    "# \"colsample_bytree\": ,\n",
    "# \"gamma\": ,\n",
    "\"learning_rate\": 0.1285296847082715,\n",
    "# \"max_delta_step\": ,\n",
    "\"max_depth\": 9,\n",
    "\"n_estimators\": 50,\n",
    "# \"reg_alpha\": ,\n",
    "# \"reg_lambda\": ,\n",
    "\"subsample\": 0.8,\n",
    "\"scale_pos_weight\": 3\n",
    "}\n",
    "\n",
    "fdxgbmod.params = model_params"
   ]
  },
  {
   "cell_type": "code",
   "execution_count": 20,
   "metadata": {},
   "outputs": [
    {
     "name": "stdout",
     "output_type": "stream",
     "text": [
      "all_hashes has len 71\n",
      "all_hashes has len 71\n",
      "[15:01:05] WARNING: ../src/learner.cc:576: \n",
      "Parameters: { \"n_estimators\" } might not be used.\n",
      "\n",
      "  This could be a false alarm, with some parameters getting used by language bindings but\n",
      "  then being mistakenly passed down to XGBoost core, or some parameter actually being used\n",
      "  but getting flagged wrongly here. Please open an issue if you find any such cases.\n",
      "\n",
      "\n",
      "Tree 1\n",
      "Tree 2\n",
      "Tree 3\n",
      "Tree 4\n",
      "Tree 5\n",
      "Tree 6\n",
      "Tree 7\n",
      "Tree 8\n",
      "Tree 9\n",
      "Tree 10\n",
      "Tree 11\n",
      "Tree 12\n",
      "Tree 13\n",
      "Tree 14\n",
      "Tree 15\n",
      "Tree 16\n",
      "Tree 17\n",
      "Tree 18\n",
      "Tree 19\n",
      "Tree 20\n",
      "Tree 21\n",
      "Tree 22\n",
      "Tree 23\n",
      "Tree 24\n",
      "Tree 25\n",
      "Tree 26\n",
      "Tree 27\n",
      "Tree 28\n",
      "Tree 29\n",
      "Tree 30\n",
      "Tree 31\n",
      "Tree 32\n",
      "Tree 33\n",
      "Tree 34\n",
      "Tree 35\n",
      "Tree 36\n",
      "Tree 37\n",
      "Tree 38\n",
      "Tree 39\n",
      "Tree 40\n",
      "Tree 41\n",
      "Tree 42\n",
      "Tree 43\n",
      "Tree 44\n",
      "Tree 45\n",
      "Tree 46\n",
      "Tree 47\n",
      "Tree 48\n",
      "Tree 49\n",
      "Tree 50\n",
      "307.5935490131378\n"
     ]
    }
   ],
   "source": [
    "mid_time = time.time()\n",
    "\n",
    "model = fdxgbmod.fit(X,y)\n",
    "\n",
    "print(time.time() - mid_time)"
   ]
  },
  {
   "cell_type": "code",
   "execution_count": 21,
   "metadata": {},
   "outputs": [],
   "source": [
    "# mid_time = time.time()\n",
    "# results =  fdxgbmod.aucpr_score(model, X, y)\n",
    "# print(time.time() - mid_time)"
   ]
  },
  {
   "cell_type": "code",
   "execution_count": 23,
   "metadata": {},
   "outputs": [
    {
     "name": "stdout",
     "output_type": "stream",
     "text": [
      "Time Taken: 2.0285582542419434 seconds\n"
     ]
    }
   ],
   "source": [
    "import numpy as np\n",
    "\n",
    "mid_time = time.time()\n",
    "fdxgbmod.model = model\n",
    "\n",
    "y_pred = fdxgbmod.predict(X)\n",
    "\n",
    "pred_prob1 = 1/(1+ np.exp(-y_pred[0]))\n",
    "print(\"Time Taken: \"+str(time.time() - mid_time)+\" seconds\")"
   ]
  },
  {
   "cell_type": "code",
   "execution_count": 24,
   "metadata": {},
   "outputs": [
    {
     "name": "stdout",
     "output_type": "stream",
     "text": [
      "Time Taken: 2.005328893661499 seconds\n"
     ]
    }
   ],
   "source": [
    "mid_time = time.time()\n",
    "u1 = Utils(vmids[0], fns)\n",
    "precision1, recall1, thresholds1 = u1.precision_recall_curve(y[0], pred_prob1)\n",
    "print(\"Time Taken: \"+str(time.time() - mid_time)+\" seconds\")"
   ]
  },
  {
   "cell_type": "code",
   "execution_count": 25,
   "metadata": {},
   "outputs": [
    {
     "name": "stdout",
     "output_type": "stream",
     "text": [
      "Time Taken: 2.00429368019104 seconds\n"
     ]
    }
   ],
   "source": [
    "mid_time = time.time()\n",
    "y1_df = RemoteDataFrame(vmids[0], y[0], fns)\n",
    "baseline = y1_df.mean()\n",
    "print(\"Time Taken: \"+str(time.time() - mid_time)+\" seconds\")"
   ]
  },
  {
   "cell_type": "code",
   "execution_count": 26,
   "metadata": {},
   "outputs": [
    {
     "data": {
      "text/plain": [
       "0.12672672672672672"
      ]
     },
     "execution_count": 26,
     "metadata": {},
     "output_type": "execute_result"
    }
   ],
   "source": [
    "baseline"
   ]
  },
  {
   "cell_type": "code",
   "execution_count": 27,
   "metadata": {},
   "outputs": [
    {
     "data": {
      "text/plain": [
       "array([1.        , 0.99526066, 0.99526066, ..., 0.00947867, 0.00473934,\n",
       "       0.        ])"
      ]
     },
     "execution_count": 27,
     "metadata": {},
     "output_type": "execute_result"
    }
   ],
   "source": [
    "recall1"
   ]
  },
  {
   "cell_type": "code",
   "execution_count": 28,
   "metadata": {},
   "outputs": [
    {
     "data": {
      "text/plain": [
       "array([0.00203344, 0.00253894, 0.00304257, ..., 0.9796316 , 0.97967213,\n",
       "       0.9802476 ], dtype=float32)"
      ]
     },
     "execution_count": 28,
     "metadata": {},
     "output_type": "execute_result"
    }
   ],
   "source": [
    "import numpy as np\n",
    "\n",
    "np.unique(pred_prob1)"
   ]
  },
  {
   "cell_type": "code",
   "execution_count": 29,
   "metadata": {},
   "outputs": [
    {
     "data": {
      "text/plain": [
       "Text(0.5, 1.0, 'PR Curve')"
      ]
     },
     "execution_count": 29,
     "metadata": {},
     "output_type": "execute_result"
    },
    {
     "data": {
      "image/png": "[encoded data removed]",
      "text/plain": [
       "<Figure size 432x288 with 1 Axes>"
      ]
     },
     "metadata": {
      "needs_background": "light"
     },
     "output_type": "display_data"
    }
   ],
   "source": [
    "import matplotlib.pyplot as plt\n",
    "\n",
    "size=None\n",
    "if size is not None:\n",
    "    plt.figure(figsize=(size, size))\n",
    "    plt.axis('equal')\n",
    "plt.plot(recall1, precision1, lw=2, color='navy')\n",
    "plt.xlabel('Recall')\n",
    "plt.ylabel('Precision')\n",
    "plt.ylim([-0.05, 1.05])\n",
    "plt.xlim([-0.05, 1.05])\n",
    "plt.hlines(baseline, 0, 1, linestyles=\"dashed\", colors=\"darkblue\", label=f\"Baseline (area = {baseline})\")\n",
    "plt.grid()\n",
    "plt.title(\"PR Curve\")"
   ]
  },
  {
   "cell_type": "code",
   "execution_count": 31,
   "metadata": {},
   "outputs": [],
   "source": [
    "pred_prob2 = 1/(1+ np.exp(-y_pred[1]))"
   ]
  },
  {
   "cell_type": "code",
   "execution_count": 32,
   "metadata": {},
   "outputs": [
    {
     "name": "stdout",
     "output_type": "stream",
     "text": [
      "Time Taken: 2.0049314498901367 seconds\n"
     ]
    }
   ],
   "source": [
    "mid_time = time.time()\n",
    "u2 = Utils(vmids[1], fns)\n",
    "precision2, recall2, thresholds2 = u2.precision_recall_curve(y[1], pred_prob2)\n",
    "print(\"Time Taken: \"+str(time.time() - mid_time)+\" seconds\")"
   ]
  },
  {
   "cell_type": "code",
   "execution_count": 33,
   "metadata": {},
   "outputs": [
    {
     "name": "stdout",
     "output_type": "stream",
     "text": [
      "Time Taken: 2.004340410232544 seconds\n"
     ]
    }
   ],
   "source": [
    "mid_time = time.time()\n",
    "y2_df = RemoteDataFrame(vmids[1], y[1], fns)\n",
    "baseline = y2_df.mean()\n",
    "print(\"Time Taken: \"+str(time.time() - mid_time)+\" seconds\")"
   ]
  },
  {
   "cell_type": "code",
   "execution_count": 34,
   "metadata": {},
   "outputs": [
    {
     "data": {
      "text/plain": [
       "0.16326530612244897"
      ]
     },
     "execution_count": 34,
     "metadata": {},
     "output_type": "execute_result"
    }
   ],
   "source": [
    "baseline"
   ]
  },
  {
   "cell_type": "code",
   "execution_count": 35,
   "metadata": {},
   "outputs": [
    {
     "data": {
      "text/plain": [
       "array([1.        , 0.99632353, 0.99632353, ..., 0.00735294, 0.00367647,\n",
       "       0.        ])"
      ]
     },
     "execution_count": 35,
     "metadata": {},
     "output_type": "execute_result"
    }
   ],
   "source": [
    "recall2"
   ]
  },
  {
   "cell_type": "code",
   "execution_count": 36,
   "metadata": {},
   "outputs": [
    {
     "data": {
      "text/plain": [
       "array([0.00218924, 0.00258455, 0.0029875 , ..., 0.9857231 , 0.98666996,\n",
       "       0.986989  ], dtype=float32)"
      ]
     },
     "execution_count": 36,
     "metadata": {},
     "output_type": "execute_result"
    }
   ],
   "source": [
    "import numpy as np\n",
    "\n",
    "np.unique(pred_prob2)"
   ]
  },
  {
   "cell_type": "code",
   "execution_count": 37,
   "metadata": {},
   "outputs": [
    {
     "data": {
      "text/plain": [
       "Text(0.5, 1.0, 'PR Curve')"
      ]
     },
     "execution_count": 37,
     "metadata": {},
     "output_type": "execute_result"
    },
    {
     "data": {
      "image/png": "[encoded data removed]",
      "text/plain": [
       "<Figure size 432x288 with 1 Axes>"
      ]
     },
     "metadata": {
      "needs_background": "light"
     },
     "output_type": "display_data"
    }
   ],
   "source": [
    "import matplotlib.pyplot as plt\n",
    "\n",
    "size=None\n",
    "if size is not None:\n",
    "    plt.figure(figsize=(size, size))\n",
    "    plt.axis('equal')\n",
    "plt.plot(recall2, precision2, lw=2, color='navy')\n",
    "plt.xlabel('Recall')\n",
    "plt.ylabel('Precision')\n",
    "plt.ylim([-0.05, 1.05])\n",
    "plt.xlim([-0.05, 1.05])\n",
    "plt.hlines(baseline, 0, 1, linestyles=\"dashed\", colors=\"darkblue\", label=f\"Baseline (area = {baseline})\")\n",
    "plt.grid()\n",
    "plt.title(\"PR Curve\")"
   ]
  },
  {
   "cell_type": "code",
   "execution_count": null,
   "metadata": {},
   "outputs": [],
   "source": []
  }
 ],
 "metadata": {
  "kernelspec": {
   "display_name": "Python 3",
   "language": "python",
   "name": "python3"
  },
  "language_info": {
   "codemirror_mode": {
    "name": "ipython",
    "version": 3
   },
   "file_extension": ".py",
   "mimetype": "text/x-python",
   "name": "python",
   "nbconvert_exporter": "python",
   "pygments_lexer": "ipython3",
   "version": "3.8.10"
  }
 },
 "nbformat": 4,
 "nbformat_minor": 5
}
