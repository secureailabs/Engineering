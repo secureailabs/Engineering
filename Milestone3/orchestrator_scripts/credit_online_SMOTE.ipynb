{
 "cells": [
  {
   "cell_type": "code",
   "execution_count": 1,
   "metadata": {},
   "outputs": [],
   "source": [
    "# !git checkout main"
   ]
  },
  {
   "cell_type": "code",
   "execution_count": 2,
   "metadata": {},
   "outputs": [],
   "source": [
    "# !pip3 install /Development/Milestone3/VirtualMachine/Orchestrator/sail"
   ]
  },
  {
   "cell_type": "code",
   "execution_count": 3,
   "metadata": {},
   "outputs": [],
   "source": [
    "from sail.core import VMSetup, registersafeobj,login,connect,pushsafeobj,querydata,get_fns\n",
    "from sail.data import RemoteDataFrame, Utils\n",
    "from sail.algo import fdxgb\n",
    "import time\n",
    "start_time = time.time()"
   ]
  },
  {
   "cell_type": "code",
   "execution_count": 4,
   "metadata": {},
   "outputs": [],
   "source": [
    "import json, requests\n",
    "soPath = \"/Engineering/Milestone3/EndPointTools/SafeObjectEditor/KPMG/safeobjects\"\n",
    "contractdict = [{\"DigitalContractGuid\":\"{3D99F9E7-6959-44AF-B561-4DFF33F71022}\"}, {\"DigitalContractGuid\":\"{391BDC04-E76A-4F88-8256-C56B653F82C9}\"}]\n",
    "backendIP = \"52.150.26.47\"\n",
    "\n",
    "registersafeobj(soPath)\n",
    "# print(\"[P]safe objects registered\")"
   ]
  },
  {
   "cell_type": "code",
   "execution_count": 5,
   "metadata": {},
   "outputs": [
    {
     "name": "stdout",
     "output_type": "stream",
     "text": [
      "[P]login success\n",
      "5iEQAhtloSNjLKV6SaJsH8ZUgHAYSpdjRTbb6TNeFtND1pD2tzMle2TWQ3Khp8HX6R3/Zw0DAABNxA1r0naEHGHc9elqsogqnt1BxKw+ON397nG08SVsYLrpQPZlC0NwmeXBd36vuZ7JWDsGioBqcEx1kGC2DbKpXiWu4sRtYUX7qTcW9Ycob1q87/CBlzJC8sDN0g0HwDY2Ecu13YlYReZFB/MaiD6msk5af68QsdjsaBfKlQplcmRy0WSs7maRfCD1Fh8UOejy9Euvru2J1iDCRF6ekTYdlEfE+u8ihjlPJUoEIhkP9qaIFwKPorhqbMtZMB9tSeJc9b9Sd2HkQb0yJV5c3b04692r3LRkOVwbSSYBcUwjyqGa0EUik8bMyC9jSOqA0gjzzik4gzm/QzATu+4ezJJ3GpQ/JYEaJpRaF/2buFmrh72+NoDWcEMz+6pwvEArD2in5i/Sa5dAQu53XdJTZ1vUK684SWhJ6N0w+GccXUhG2yddA91wUtp4I3UCEO3fyal/3Rry/b/MRy/AbaAUEAIlX7s8v/tj9UXaG9lrfVGwx5G+vCeyjh1N8PcqeW1hWmsO6giyjqPtCHoqXDpOtJOMsQzRIceq7tMxMH6RU5JuQq+QiYTlIFW4N0AXya867MZMVoJuDZ1a5ki/tLlqGpzftkCSwbucnc3vnoTbZ0BABU0yMzdXbL1BCDnwcFBppFs2TzQud/FZXxlT0lkhVbhKEA0FYauM2pX2p5pQGG5IuwYoXQzeDU7NnBCGYYzqS0YIQEMT3Al6srpIxayiKBkiIwlxKfDViIjaPiqKH+3rqmyZbbzr9vqtSxKV05DuVHA64i/2i1t5zQpEsikBA05iYNpEFx2Dt6CGaOtPLuZsSZjfy4wQTfOyFQPd3gWupUKGIFt2XoJxPmpODHEtdXb2vA8aW5vUAGS0pRvQFw8t1m4DlYgR5e3oa88/+w3UZ/8f+6uY6pCGuM/KBw+uGXymh5IH1DSaMXSlhwwAtSiVt0zBBXMwVSievYGInrb5jm50MR4bfLohAolqnNNG4yTXzB8D3ONu1mbWZYkEv7WEFBgcJuP1ocgykTC8F5TCPULicgkNfDlpRFLiokJCMhpWsSmREm4=\n"
     ]
    }
   ],
   "source": [
    "eosb = login(\"r@r.r\", \"SailPassword@123\", 6200, backendIP)\n",
    "print(\"[P]login success\")\n",
    "print(eosb)"
   ]
  },
  {
   "cell_type": "code",
   "execution_count": 6,
   "metadata": {},
   "outputs": [
    {
     "name": "stdout",
     "output_type": "stream",
     "text": [
      "{\"DigitalContractGuid\": \"{3D99F9E7-6959-44AF-B561-4DFF33F71022}\"}\n"
     ]
    },
    {
     "name": "stderr",
     "output_type": "stream",
     "text": [
      "/usr/local/lib/python3.8/dist-packages/urllib3/connectionpool.py:1013: InsecureRequestWarning: Unverified HTTPS request is being made to host '52.150.26.47'. Adding certificate verification is strongly advised. See: https://urllib3.readthedocs.io/en/1.26.x/advanced-usage.html#ssl-warnings\n",
      "  warnings.warn(\n"
     ]
    },
    {
     "name": "stdout",
     "output_type": "stream",
     "text": [
      "{'Status': 200.0, 'VirtualMachines': {'F813756F62F54175B2631EB8232611EE': '20.119.66.229'}}\n",
      "['20.119.66.229']\n",
      "{\"DigitalContractGuid\": \"{391BDC04-E76A-4F88-8256-C56B653F82C9}\"}\n",
      "{'Status': 200.0, 'VirtualMachines': {'A8E2DB81F52142B6A16EB817A471385A': '20.121.17.54'}}\n",
      "['20.119.66.229', '20.121.17.54']\n"
     ]
    },
    {
     "name": "stderr",
     "output_type": "stream",
     "text": [
      "/usr/local/lib/python3.8/dist-packages/urllib3/connectionpool.py:1013: InsecureRequestWarning: Unverified HTTPS request is being made to host '52.150.26.47'. Adding certificate verification is strongly advised. See: https://urllib3.readthedocs.io/en/1.26.x/advanced-usage.html#ssl-warnings\n",
      "  warnings.warn(\n"
     ]
    }
   ],
   "source": [
    "url = \"https://\"+backendIP+\":6200/SAIL/VirtualMachineManager/GetRunningVMsIpAdresses?Eosb=\"+eosb\n",
    "\n",
    "payloads = []\n",
    "for item in contractdict:\n",
    "    temp = json.dumps(item)\n",
    "    payloads.append(temp)\n",
    "\n",
    "headers = {\n",
    "    'Content-Type': 'application/json'\n",
    "}\n",
    "\n",
    "ips = []\n",
    "for payload in payloads:\n",
    "    print(payload)\n",
    "    response = requests.request(\"GET\", url, headers=headers, data=payload, verify=False)\n",
    "    response = response.json()\n",
    "    print(response)\n",
    "    for key in response['VirtualMachines']:\n",
    "        ips.append(response['VirtualMachines'][key])\n",
    "        print(ips)"
   ]
  },
  {
   "cell_type": "code",
   "execution_count": 7,
   "metadata": {},
   "outputs": [
    {
     "name": "stdout",
     "output_type": "stream",
     "text": [
      "[P]virtual machine connection to ip: 20.121.17.54 success\n",
      "[P]safe object pushed to virtual machines\n",
      "[P]obtain table ids\n"
     ]
    }
   ],
   "source": [
    "vmids = []\n",
    "for ip in ips:\n",
    "    vmid = connect(ip, 3500)\n",
    "    vmids.append(vmid)\n",
    "print(\"[P]virtual machine connection to ip: {0} success\".format(ip), flush=True)\n",
    "    \n",
    "fns = get_fns()\n",
    "for vm in vmids:\n",
    "    for key in fns:\n",
    "        pushsafeobj(vm, fns[key])\n",
    "print(\"[P]safe object pushed to virtual machines\" , flush=True)\n",
    "\n",
    "table = []\n",
    "for vm in vmids:\n",
    "    tableid = querydata(vm)\n",
    "    table.append(tableid)\n",
    "print(\"[P]obtain table ids\", flush=True)"
   ]
  },
  {
   "cell_type": "code",
   "execution_count": 8,
   "metadata": {},
   "outputs": [
    {
     "data": {
      "text/plain": [
       "{'getitem': 'F11C49327A9244A5AEE568B531C6A957',\n",
       " 'getattr': '9C4019584DB04B1A9BF05EC91836BCB0',\n",
       " 'setitem': 'A04E4CC9E3BC4A7B9AFAB6CB3E040FAC',\n",
       " 'iter': 'CC8B5A66C10F47A1A977E2BE2B522768',\n",
       " 'next': '6D48AC3C3245411992E65E5FF5B90DDB',\n",
       " 'rdf_describe': '18F2566E7FF34D77A7DE668DD220CEFD',\n",
       " 'rdf_drop': '9A04D50B403C4716A79CABEF1F90D832',\n",
       " 'rdf_dropna': '039181877F8A492A86A4BD996D0AD4E2',\n",
       " 'rdf_merge': '8C938D7D313A49C09509D6A43AAFD096',\n",
       " 'rdf_groupby': '3E3716FCA7DE4ABEB8A3FAB4DA14EA9D',\n",
       " 'rdf_query': 'BF18C294BCCC4B9C94624C79D2506CCC',\n",
       " 'rdf_sort_values': '10DCB6636C8A4832AD6CE7BCDB1F9983',\n",
       " 'rdf_set_index': '09EE6479EE97461DBC4E44D95D77235B',\n",
       " 'rdf_reset_index': 'F408E02C932D47C49BC5DC640C108AEB',\n",
       " 'rdf_label_encode': '56D864CD0B81459CB0540E364BB49D6F',\n",
       " 'groupby_agg': 'CEFAABE1879741269037050B25A5CCFD',\n",
       " 'groupby_diff': '9604982079924320B6C7B6DCA27CFC6C',\n",
       " 'groupby_cumsum': 'AB04C77FA5DD4B1B8AAD2867F44BC886',\n",
       " 'groupby_first': 'FF2156013B9A483F9FC8F0DB27E3B74D',\n",
       " 'series_add': 'B13E83BD3F5743BCABE36FDB418F100C',\n",
       " 'series_and': '3E58E89566AA423093D7184988A60854',\n",
       " 'series_astype': 'F1B6F4B3359D4371A653C395418BF12A',\n",
       " 'series_eq': '8972411C102743EF9F262DBAEA9E8693',\n",
       " 'series_fillna': '5C0BC5A7F9714DA79017E3FCF16C26D6',\n",
       " 'series_ge': 'DE9C9AB3D1CB410291ABD038A5A1AF92',\n",
       " 'series_gt': '34A48D79AC9843F9ACF2B2E3A7C8F4A0',\n",
       " 'series_invert': '8DE96396431C4DCD897225B94971515B',\n",
       " 'series_isin': '1463121DB74B467F82B212B4190FAF5C',\n",
       " 'series_isna': 'EAA299EEF38149B58830A8267D1DE5F4',\n",
       " 'series_le': 'BEE2F244260445AC9A634B00CC753630',\n",
       " 'series_lt': '556B3C62AA88461F977CB55220B79C73',\n",
       " 'series_map': '757A54DFA63346D28CC39571A63BE6B4',\n",
       " 'series_max': '76ABB96DA9EB4FAA8E3073EBED270EDC',\n",
       " 'series_mean': '0650C80D11A04720BFA8F1693AC292D0',\n",
       " 'series_min': 'EE498A68C65347D68ACD6661207EC705',\n",
       " 'series_or': '8BBCF91120A749AE9CE22E0855B89B60',\n",
       " 'series_ravel': '2ADA37AD4D9A49689183845183CA3096',\n",
       " 'series_sub': '0899F5B598904B279AA98ADFD923888F',\n",
       " 'series_unique': 'B6FD9631354A4985A3E674DF28457A5D',\n",
       " 'series_value_counts': '2275B04657D94BFD8787C519C2C3B8EA',\n",
       " 'smote': 'A9EB0703F1464698B1A173C5A6911127',\n",
       " 'util_get_dummies': '6FB479BE72A04B158C15FD5EBDF875FC',\n",
       " 'util_to_datetime': 'D35FC476B97F42AB9CE45D8E7604DD3C',\n",
       " 'util_to_numeric': '6299E37D96884EAFB9E21692FB24014B',\n",
       " 'util_ravel': '43B37087962644229B53B0D7C3A1E386',\n",
       " 'util_where': '98F83AA9DC3249B983A4262BE0BCEB55',\n",
       " 'util_train_test_split': 'AF83E839A5514B178951B205F5CCB6E5',\n",
       " 'util_read_csv': 'E764BBFDB1C44271837A1384CD40AD94'}"
      ]
     },
     "execution_count": 8,
     "metadata": {},
     "output_type": "execute_result"
    }
   ],
   "source": [
    "fns"
   ]
  },
  {
   "cell_type": "code",
   "execution_count": 9,
   "metadata": {},
   "outputs": [
    {
     "data": {
      "text/plain": [
       "[{'imbalanced credit card fraud 1': '768D80FEC210E8468B4F027AABCAFB42'},\n",
       " {'imbalanced credit card fraud 2': 'F5D68A24D86DFC45BA3CC79CED4EFA0D'}]"
      ]
     },
     "execution_count": 9,
     "metadata": {},
     "output_type": "execute_result"
    }
   ],
   "source": [
    "table"
   ]
  },
  {
   "cell_type": "code",
   "execution_count": 10,
   "metadata": {},
   "outputs": [
    {
     "name": "stdout",
     "output_type": "stream",
     "text": [
      "18.021160125732422\n"
     ]
    }
   ],
   "source": [
    "#read in datasets\n",
    "\n",
    "mid_time = time.time()\n",
    "\n",
    "u1 = Utils(vmids[0], fns)\n",
    "u2 = Utils(vmids[1], fns)\n",
    "df1 = u1.read_csv(table[0]['imbalanced credit card fraud 1'])\n",
    "df2 = u2.read_csv(table[1]['imbalanced credit card fraud 2'])\n",
    "dfs = [df1, df2]\n",
    "\n",
    "print(time.time() - mid_time)"
   ]
  },
  {
   "cell_type": "code",
   "execution_count": 11,
   "metadata": {},
   "outputs": [],
   "source": [
    "#create remote dataframes so we can drop the label\n",
    "n=2\n",
    "data1 = RemoteDataFrame(vmids[0], df1, fns)\n",
    "data2 = RemoteDataFrame(vmids[1], df2, fns)\n",
    "data = [data1, data2]"
   ]
  },
  {
   "cell_type": "code",
   "execution_count": 12,
   "metadata": {},
   "outputs": [],
   "source": [
    "#print columns of the remote dataframe, use this to set our fdgxb feature number\n",
    "cols = []\n",
    "cols.append(data1.columns)\n",
    "cols.append(data2.columns)\n",
    "\n",
    "# dim = len(cols[0])-2\n",
    "# fdxgbmod = fdxgb(vmids, params={'max_depth': 8 }, feature_num = dim)\n",
    "# print(cols[0])"
   ]
  },
  {
   "cell_type": "code",
   "execution_count": 13,
   "metadata": {},
   "outputs": [],
   "source": [
    "#drop label from X data, select only label for y data\n",
    "\n",
    "y=[]\n",
    "X=[]\n",
    "n=2\n",
    "for i in range(n):\n",
    "    y.append(data[i]['Class'])\n",
    "    X.append(data[i].drop('Class', axis = 1))"
   ]
  },
  {
   "cell_type": "code",
   "execution_count": 14,
   "metadata": {},
   "outputs": [
    {
     "name": "stdout",
     "output_type": "stream",
     "text": [
      "0    142133\n",
      "1       269\n",
      "Name: Class, dtype: int64\n",
      "0    142180\n",
      "1       223\n",
      "Name: Class, dtype: int64\n"
     ]
    }
   ],
   "source": [
    "#Check value counts for y\n",
    "print(y[0].value_counts())\n",
    "print(y[1].value_counts())"
   ]
  },
  {
   "cell_type": "code",
   "execution_count": 15,
   "metadata": {},
   "outputs": [],
   "source": [
    "#change y from remote series to the corresponding data-ids\n",
    "y_new = []\n",
    "for item in y:\n",
    "    y_new.append(item.data_id)\n",
    "y=y_new"
   ]
  },
  {
   "cell_type": "code",
   "execution_count": 16,
   "metadata": {},
   "outputs": [
    {
     "data": {
      "text/plain": [
       "Index(['Time', 'V1', 'V2', 'V3', 'V4', 'V5', 'V6', 'V7', 'V8', 'V9', 'V10',\n",
       "       'V11', 'V12', 'V13', 'V14', 'V15', 'V16', 'V17', 'V18', 'V19', 'V20',\n",
       "       'V21', 'V22', 'V23', 'V24', 'V25', 'V26', 'V27', 'V28', 'Amount'],\n",
       "      dtype='object')"
      ]
     },
     "execution_count": 16,
     "metadata": {},
     "output_type": "execute_result"
    }
   ],
   "source": [
    "#check that x is actually the correct shape\n",
    "test1 = RemoteDataFrame(vmids[0], X[0], fns)\n",
    "test1.columns"
   ]
  },
  {
   "cell_type": "code",
   "execution_count": 17,
   "metadata": {},
   "outputs": [
    {
     "data": {
      "text/plain": [
       "['{B21ACC10-56D0-43DB-BB39-C6CE4394F623}.048E16B349F8450694B1B30E0E49E6CE',\n",
       " '{37C5D1D6-3BFD-46EA-84BE-4F62B417DC12}.048E16B349F8450694B1B30E0E49E6CE']"
      ]
     },
     "execution_count": 17,
     "metadata": {},
     "output_type": "execute_result"
    }
   ],
   "source": [
    "#ensure y is a data id and not a remote series\n",
    "y"
   ]
  },
  {
   "cell_type": "code",
   "execution_count": 18,
   "metadata": {},
   "outputs": [
    {
     "data": {
      "text/plain": [
       "['{B5AB4B8B-1726-411F-B4C9-12C0FD2CD0B2}.2AE27D27AE4C4B6BAD3136BAC75B1667',\n",
       " '{2C7E352F-993A-4E20-9F6F-68F45E770AD3}.2AE27D27AE4C4B6BAD3136BAC75B1667']"
      ]
     },
     "execution_count": 18,
     "metadata": {},
     "output_type": "execute_result"
    }
   ],
   "source": [
    "#ensure X is a data id and not a remote dataframe\n",
    "X"
   ]
  },
  {
   "cell_type": "markdown",
   "metadata": {},
   "source": [
    "## Test SMOTE"
   ]
  },
  {
   "cell_type": "code",
   "execution_count": 19,
   "metadata": {},
   "outputs": [
    {
     "name": "stdout",
     "output_type": "stream",
     "text": [
      "['{E9E3F611-A84E-4405-9F6B-BF3F63C86690}']\n",
      "['{315C5390-F944-439F-948E-955ABDC59ACB}']\n"
     ]
    },
    {
     "data": {
      "text/plain": [
       "[('{3B863A6A-4816-4038-94AC-D5B5846F2CCF}.26CBC7FC4B014F99B703A2AFA6F6F529',\n",
       "  '{3B863A6A-4816-4038-94AC-D5B5846F2CCF}.D40928807E9E44ADAC06F7812D7F12A3'),\n",
       " ('{139EC0F0-634D-466C-B9CF-5DD082CBF452}.26CBC7FC4B014F99B703A2AFA6F6F529',\n",
       "  '{139EC0F0-634D-466C-B9CF-5DD082CBF452}.D40928807E9E44ADAC06F7812D7F12A3')]"
      ]
     },
     "execution_count": 19,
     "metadata": {},
     "output_type": "execute_result"
    }
   ],
   "source": [
    "from sail.core import smote\n",
    "\n",
    "sampled_data = []\n",
    "oversample_size = 0.75\n",
    "\n",
    "i = 0\n",
    "while i < len(vmids):\n",
    "    sampled_data.append(smote(vmids[i], 0.75, X[i], y[i], fns))\n",
    "    i+=1\n",
    "\n",
    "sampled_data"
   ]
  },
  {
   "cell_type": "code",
   "execution_count": 20,
   "metadata": {},
   "outputs": [
    {
     "data": {
      "text/plain": [
       "'{3B863A6A-4816-4038-94AC-D5B5846F2CCF}.26CBC7FC4B014F99B703A2AFA6F6F529'"
      ]
     },
     "execution_count": 20,
     "metadata": {},
     "output_type": "execute_result"
    }
   ],
   "source": [
    "sampled_data[0][0]"
   ]
  },
  {
   "cell_type": "code",
   "execution_count": 21,
   "metadata": {},
   "outputs": [],
   "source": [
    "# X_sample, y_sample = smote(vmids[1], 0.75, X[1], y[1], fns)"
   ]
  },
  {
   "cell_type": "code",
   "execution_count": 22,
   "metadata": {},
   "outputs": [
    {
     "data": {
      "text/plain": [
       "0    142133\n",
       "1    106599\n",
       "Name: Class, dtype: int64"
      ]
     },
     "execution_count": 22,
     "metadata": {},
     "output_type": "execute_result"
    }
   ],
   "source": [
    "from sail.data import RemoteSeries\n",
    "X_sample1 = RemoteDataFrame(vmids[0], sampled_data[0][0], fns)\n",
    "y_sample1 = RemoteSeries(vmids[0], sampled_data[0][1], fns)\n",
    "y_sample1.value_counts()"
   ]
  },
  {
   "cell_type": "code",
   "execution_count": 23,
   "metadata": {},
   "outputs": [
    {
     "data": {
      "text/plain": [
       "0    142180\n",
       "1    106635\n",
       "Name: Class, dtype: int64"
      ]
     },
     "execution_count": 23,
     "metadata": {},
     "output_type": "execute_result"
    }
   ],
   "source": [
    "X_sample1 = RemoteDataFrame(vmids[1], sampled_data[1][0], fns)\n",
    "y_sample1 = RemoteSeries(vmids[1], sampled_data[1][1], fns)\n",
    "y_sample1.value_counts()"
   ]
  },
  {
   "cell_type": "code",
   "execution_count": null,
   "metadata": {},
   "outputs": [],
   "source": []
  }
 ],
 "metadata": {
  "kernelspec": {
   "display_name": "Python 3",
   "language": "python",
   "name": "python3"
  },
  "language_info": {
   "codemirror_mode": {
    "name": "ipython",
    "version": 3
   },
   "file_extension": ".py",
   "mimetype": "text/x-python",
   "name": "python",
   "nbconvert_exporter": "python",
   "pygments_lexer": "ipython3",
   "version": "3.8.10"
  }
 },
 "nbformat": 4,
 "nbformat_minor": 5
}
