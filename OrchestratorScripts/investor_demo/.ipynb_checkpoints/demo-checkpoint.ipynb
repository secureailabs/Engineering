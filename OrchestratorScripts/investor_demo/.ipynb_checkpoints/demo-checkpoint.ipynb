{
 "cells": [
  {
   "cell_type": "code",
   "execution_count": 1,
   "id": "buried-fleet",
   "metadata": {},
   "outputs": [],
   "source": [
    "from sail.core import VMSetup, dataInfo, querydata\n",
    "from sail.data import RemoteDataFrame\n",
    "import pprint"
   ]
  },
  {
   "cell_type": "code",
   "execution_count": 2,
   "id": "skilled-somewhere",
   "metadata": {},
   "outputs": [
    {
     "name": "stdout",
     "output_type": "stream",
     "text": [
      "[P]safe objects registered\n",
      "[P]login success\n",
      "[P]virtual machine connection to ip: 20.185.36.46 success\n",
      "[P]virtual machine connection to ip: 20.185.68.112 success\n",
      "[P]virtual machine connection to ip: 52.255.182.167 success\n",
      "[P]safe object pushed to virtual machines\n",
      "[P]obtain table ids\n"
     ]
    }
   ],
   "source": [
    "vms, table, fns = VMSetup()"
   ]
  },
  {
   "cell_type": "code",
   "execution_count": 3,
   "id": "abandoned-connectivity",
   "metadata": {},
   "outputs": [
    {
     "name": "stdout",
     "output_type": "stream",
     "text": [
      "{'Dataset': {'DataOwnerGuid': '{03D18A55-B185-4096-85A9-95B7746AD05D}',\n",
      "             'DatasetGuid': '53ade6f0-2b2c-4491-bf4d-0cfed9fd1333',\n",
      "             'DatasetName': 'MGH patient data',\n",
      "             'Description': 'MGH patient data',\n",
      "             'JurisdictionalLimitations': 'US,EU,AUS',\n",
      "             'Keywords': 'MGH patient data',\n",
      "             'OrganizationName': 'DataOwner',\n",
      "             'PrivacyLevel': 1.0,\n",
      "             'PublishDate': 1633040627.0,\n",
      "             'VersionNumber': '0.1'},\n",
      " 'Eosb': '5iEQAhtloSPr5XOREPp8fwyuYojSgER58NHxPUpqkWKnMhoceRRsu0J4TSiDnwzvkNXTexADAADE2axxmw2iGJVkA+3R8KVWdSLPa2O3tJMEpx/+L+UoKbFwfA1xK58Zz6uaacCzK7tNXyeyizV/N1cxDpxW4uPpRzYH9k2ICcXqazvGF0aiklnxh8FKNlVRYZ49iFJ/k0v8N+Eo3YRlmnRnPytyEWfmQwGKZvxBKASJlzZw2kpbDpHJOloZGIY9R8N+x3C2Vrg2ZuqYtLJgtJ34X2BInpRNPrwPVWLNwuGFUYZlpRJtftSUV2iEUTWyKcX5jpFkmOVum3FYE7cJiKqsEHQsPR7mhMI7Cry5YlD20V4hJXV7tNFRAuX9arfn6nXVuBuH4sgbDeJIGXGeKkJznqJYqZkomtHmBr5VIdFeH/BduPsX+NKy/eb63/GmlUpdvia20TNiZjBy4e1VMbzsZqO/XcShhJH7jcVF1UVYoloEZ5niPIa9RLigp3w/N9FaJJkpT0vK/KF/lsJlB2NbNoYpiCpAwGYlEyQRx8Fopoa/cKIrrc4DtPVjVv9PHHVR8bXcDQc/5qaieohQSFJIcNlOcLo76o2XBKl1vnh1pQkb4Q5mQ5RZGWVJQCB3eXJD26d9H9LKJVRNmMJqvnQu0IDdbxqN42rkuiUjI2JYCTogGrXz1IkTJzjTZ8+rAICzxswNXTwECkCitvZvNYUNpfBA0U7JceTiaORMbx9rXhwHAKOBDHtWzcJLLfzevSOf7jJU8WnW+hX58XVceQaOZN9V/UMpwINH86KGBxzbzFyQSmUA3GOTkTblumkD7gamtdVZa4CnFnnWZssh7G6DkeET9p9V2q3o7/jyWyB63itK/EVcVWfQY/SnZ+U2ZIWleC5u4FtXbpEV+9NePoUK24rrTtfRfT745sonicMqqS7WbhJYOiPHyMSA8BGdfBWwH+JfF4+W+vlIIsy2EES9LY93IozV/B83Y390/YeRSUX8OwenLHI8NN9x6zV4iR9x6pXXJZOGAlaXoWx3f/LhKUDkqbi4Z2bCMZiqS6cwlwnGTXhSSQ2L611eufw+XQamntQP96D/tn9IicewqSRuySh2gZHGMhpWsSmREm4=',\n",
      " 'Status': 200.0}\n",
      "{'Dataset': {'DataOwnerGuid': '{03D18A55-B185-4096-85A9-95B7746AD05D}',\n",
      "             'DatasetGuid': '8d656fc0-fb79-4125-8abe-5560acfe9df6',\n",
      "             'DatasetName': 'BWH patient data',\n",
      "             'Description': 'BWH patient data',\n",
      "             'JurisdictionalLimitations': 'US,EU,AUS',\n",
      "             'Keywords': 'BWH patient data',\n",
      "             'OrganizationName': 'DataOwner',\n",
      "             'PrivacyLevel': 1.0,\n",
      "             'PublishDate': 1633040807.0,\n",
      "             'VersionNumber': '0.1'},\n",
      " 'Eosb': '5iEQAhtloSOkZHsVjzq30wIUF7hLjXyFs9aqCHS8LbjoDH2UeRRsu0J4TSiDnwzvkNXTexADAABvnW0KlO1lk15ipO8Ck0AR4UVxQ37CY2u1QMDH/czSvjEeoNMHUMUJEeujQjnhqkDOXjcQoMcnG3t3lPgEpltemZPSorZj+A28UF6xBwCdxV8GfOZ/f7glVCh2ovJsfSP/twNBpatUi5imHAcVvQCGRBQKffeRFZis6dBXnjlE2B8xbzJ7qdu8PQJjeMJDBFTdzKojeRFipec8GgVlj+U+aRZIIu0Tv6DED2laUZZN6qIw/akAgdjs7lBj8sWO7SHHVEKtFhXGluEE/nAnjs2WhsjIgAexdKriwhyoqAY3bHckQ9vfjOLC3IqfEB7XZz2PSdz8revnsmoqSY+ij6i8DzJOpaQE/dsablwbtxjTiAX33yJpNr6a7Rtq4W7LbcINFJNMIfThSTHEzOjGt3SwC+6OxLDzybH9Nk9NwGHQt7xLKzJYNBlVjBfv7ER9ZD8SvzCMnESWRZ9hlTVWyPvLCPBpgx7g4I5aS0IY43CdB+jGhAgY3kYCU9YBxp6PnkKdlr77B1LQ7xIIS4FWXsUfx56i0Y854RjTJsPjB0HEde4zjWVFxswkK6PfhflIAybDvfVZ5UFUAvrhOy52FbbQUtWF6iKXX9ddUxf1agE5Q6eVjFuahuk4u406XihsKX64AkVu4+a0SsuqB77H0OSa/BemTi05RSkVyAbrUKW6h0RxXrpB2N2Ms89CeKTyxeCSrnLmqRmiVWOLUUIX3xoUwy6XnVFS4VVDVfqFaSM15XnkeDUh0nqKqtd4C0V4zHElf6SXqZZfF2UWLavJTo8ekz0+Ac94HxBqkmNFpp1X6xrs6UHf/RccYVLmkr5bkGsspwTV70crMkHr/ve5wzFkH3hcSCA0Q7HUEz3SLSQOGYd6ljXv4onZx9JtvGSc+gczMW8Oo6WaCWmToWXerWEAQswHCuFuoGmU67bTTdA18ZKjsqYesdpzB572CwWbMd6fboZbonOxplQz5NN3l1m4YUfTazT3Yo/5FhPko1xb0TYch0WggupYP6Zp/MIk9B4LmCO9j2gzR6xy5Lzwbcu3MhpWsSmREm4=',\n",
      " 'Status': 200.0}\n",
      "{'Dataset': {'DataOwnerGuid': '{03D18A55-B185-4096-85A9-95B7746AD05D}',\n",
      "             'DatasetGuid': '636a35de-fb2f-4b44-9402-1d8cab73d567',\n",
      "             'DatasetName': 'BMC patient data',\n",
      "             'Description': 'BMC patient data',\n",
      "             'JurisdictionalLimitations': 'US,EU,AUS',\n",
      "             'Keywords': 'BMC',\n",
      "             'OrganizationName': 'DataOwner',\n",
      "             'PrivacyLevel': 1.0,\n",
      "             'PublishDate': 1633040476.0,\n",
      "             'VersionNumber': '0.1'},\n",
      " 'Eosb': '5iEQAhtloSPMH0J+8jiZjL2EFSrQJh9GkDjLakmFC4ftkehueRRsu0J4TSiDnwzvkNXTexADAACju9EIBeh+Owrs3veAy+yCu+m0Esy82szgr8BQHJ8qPgu/DG7sa2oB7U5RZnvEZtUOcmaIrmj231ZN+YkOoZTH+qe+eIrOiCxCdOL2sddZ0ir0rnA82kcfDzg/CgRiDBYUCVAtElfq8ZOl8Mdtmr4tk2q2tODMpBP0nIp2/zfY6CWi+ude54Np406zcIHu4S64iMbidNyFcPVTGj0eTy319PC51jQCZukA76QQFMrkK+9AfdmdfjEg3TWGbV4KieKzd35hdjUxRcUdx0SdxHYYycg1kIJ+MNbI9VVH4e0uMDdIH8F9teO5sYJR/a17x4wv+Wz9s2ofE8wEYIOmmSZ1tY5DCQynnmNGpyArsSiOOKYIKXjD/GXirh72WRgFtwgwT+tzggLAHHCfJfkc7jH0E48G2wJRw4Qq/4B04eybygpfbMQa9652DLuFhjobxw96h7lMAAJhro7tOjAWiLNFyn7MCXMxPxW/UBdYGT6YORA24D91XpqZQnT65GU1WKPH21MGE/vacM31QHswcaT4Qgg/1gK+QIBHnx/XiZ3yqOP/mBYY5nekARbVSwRVqMtSwedkDsViAjFjNQDxzOM8Lg0L9uYPAzM2cAGMgh6Jta1iVgm/PtJevooNOQ2ayBGKcJvUOGYn12B0taj0m0wu5WKWC8vD+0cn8zJJCzPRwLsbgNjW9LInkkXK6mt65loi3iiefGe9huk9L78bHH7iUF8oFLw9l2Ua8WZswwPAxXP6GEpce+rIGxK7CdTpvdfadCFi6k/yjh9YVgCizlg99e94JG/jGEVBwKWxFzrJ+8wypazM4c/LX/ouJETJ5iFtcWgbM9sQX0sfnMkKvJ8EOXqg3frzFVGPBvlsw+DTQtAuv2ftpwgMzdT4C59Sr7fr67MMx718VTyK2iiUm8eJYty6KZcVgAi6To1m71qzvfW051IwSfkhaXO1BpAYsjnWZzC9lhg3paYQ1/A/3mUGWH1mC+R1EuLEM/ykSK0htGfhWhVnrnzkb+5j0uA576IOcqYiVBKl3eZtHdSGoZ6dMhpWsSmREm4=',\n",
      " 'Status': 200.0}\n"
     ]
    }
   ],
   "source": [
    "info = dataInfo()\n",
    "for item in info:\n",
    "    pprint.pprint(item)"
   ]
  },
  {
   "cell_type": "code",
   "execution_count": 4,
   "id": "headed-convention",
   "metadata": {},
   "outputs": [],
   "source": [
    "demo_data1 = table[0]\n",
    "demo_data2 = table[1]\n",
    "demo_data3 = table[2]"
   ]
  },
  {
   "cell_type": "code",
   "execution_count": 5,
   "id": "stupid-foundation",
   "metadata": {},
   "outputs": [],
   "source": [
    "#demo1"
   ]
  },
  {
   "cell_type": "code",
   "execution_count": 6,
   "id": "recent-former",
   "metadata": {},
   "outputs": [
    {
     "name": "stdout",
     "output_type": "stream",
     "text": [
      "Index(['Unnamed: 0', 'AGE', 'BMI', 'PD-L1 level before treatment',\n",
      "       'PD-L1 level after treatment', 'PD-L2 level before treatment',\n",
      "       'PD-L2 level after treatment', 'PD1 level before treatment',\n",
      "       'PD1 level after treatment'],\n",
      "      dtype='object')\n",
      "Index(['Unnamed: 0', 'AGE', 'BMI', 'PD-L1 level before treatment',\n",
      "       'PD-L1 level after treatment', 'PD-L2 level before treatment',\n",
      "       'PD-L2 level after treatment', 'PD1 level before treatment',\n",
      "       'PD1 level after treatment'],\n",
      "      dtype='object')\n",
      "Index(['Unnamed: 0', 'AGE', 'BMI', 'PD-L1 level before treatment',\n",
      "       'PD-L1 level after treatment', 'PD-L2 level before treatment',\n",
      "       'PD-L2 level after treatment', 'PD1 level before treatment',\n",
      "       'PD1 level after treatment'],\n",
      "      dtype='object')\n"
     ]
    }
   ],
   "source": [
    "for i in range(3):\n",
    "    print(demo_data1[i].columns)"
   ]
  },
  {
   "cell_type": "code",
   "execution_count": 7,
   "id": "consecutive-reservation",
   "metadata": {},
   "outputs": [
    {
     "name": "stdout",
     "output_type": "stream",
     "text": [
      "On party 0 The change of the following biomarkers before and after the treatment are: \n",
      "PD-L1: 54.89\n",
      "PD-L2: 3.29\n",
      "PD1: 0.29\n",
      "On party 1 The change of the following biomarkers before and after the treatment are: \n",
      "PD-L1: 56.28\n",
      "PD-L2: 2.27\n",
      "PD1: -0.79\n",
      "On party 2 The change of the following biomarkers before and after the treatment are: \n",
      "PD-L1: 56.22\n",
      "PD-L2: 2.62\n",
      "PD1: -1.12\n"
     ]
    }
   ],
   "source": [
    "for i in range(3):\n",
    "    df_id = demo_data1[i].query('AGE>25 & AGE<50 & BMI>25 & BMI<30')\n",
    "    rdf = RemoteDataFrame(vms[i], df_id, fns)\n",
    "    diff_PDL1 = rdf['PD-L1 level before treatment'].mean() - rdf['PD-L1 level after treatment'].mean()\n",
    "    diff_PDL2 = rdf['PD-L2 level before treatment'].mean() - rdf['PD-L2 level after treatment'].mean()\n",
    "    diff_PD1 = rdf['PD1 level before treatment'].mean() - rdf['PD1 level after treatment'].mean()\n",
    "    print(\"On party {0} The change of the following biomarkers before and after the treatment are: \\nPD-L1: {1:.2f}\\nPD-L2: {2:.2f}\\nPD1: {3:.2f}\".format(i, diff_PDL1, diff_PDL2, diff_PD1))"
   ]
  },
  {
   "cell_type": "code",
   "execution_count": 8,
   "id": "double-stake",
   "metadata": {},
   "outputs": [],
   "source": [
    "#demo2"
   ]
  },
  {
   "cell_type": "code",
   "execution_count": 9,
   "id": "imported-match",
   "metadata": {},
   "outputs": [
    {
     "name": "stdout",
     "output_type": "stream",
     "text": [
      "Index(['Unnamed: 0', 'AGE', 'on drug', 'condition'], dtype='object')\n",
      "Index(['Unnamed: 0', 'AGE', 'on drug', 'condition'], dtype='object')\n",
      "Index(['Unnamed: 0', 'AGE', 'on drug', 'condition'], dtype='object')\n"
     ]
    }
   ],
   "source": [
    "for i in range(3):\n",
    "    print(demo_data2[i].columns)"
   ]
  },
  {
   "cell_type": "code",
   "execution_count": 10,
   "id": "reasonable-formula",
   "metadata": {},
   "outputs": [
    {
     "name": "stdout",
     "output_type": "stream",
     "text": [
      "On party 0, we have a total record number of 26 matching the condition\n",
      "On party 1, we have a total record number of 15 matching the condition\n",
      "On party 2, we have a total record number of 17 matching the condition\n"
     ]
    }
   ],
   "source": [
    "for i in range(3):\n",
    "    df_id = demo_data2[i].query(\"AGE>30 & AGE<40 & condition=='lung cancer' & `on drug`=='Atezolizumab'\")\n",
    "    rdf = RemoteDataFrame(vms[i], df_id, fns)\n",
    "    print('On party {0}, we have a total record number of {1} matching the condition'.format(i,rdf.shape[0]))"
   ]
  },
  {
   "cell_type": "code",
   "execution_count": 11,
   "id": "moderate-trinidad",
   "metadata": {},
   "outputs": [
    {
     "name": "stdout",
     "output_type": "stream",
     "text": [
      "On party 0, we have a total record number of 92 matching the condition\n",
      "On party 1, we have a total record number of 88 matching the condition\n",
      "On party 2, we have a total record number of 94 matching the condition\n"
     ]
    }
   ],
   "source": [
    "for i in range(3):\n",
    "    df_id = demo_data2[i].query(\"AGE>30 & AGE<50 & condition=='lung cancer' & `on drug`=='Atezolizumab'\")\n",
    "    rdf = RemoteDataFrame(vms[i], df_id, fns)\n",
    "    print('On party {0}, we have a total record number of {1} matching the condition'.format(i,rdf.shape[0]))"
   ]
  },
  {
   "cell_type": "code",
   "execution_count": 12,
   "id": "reflected-attribute",
   "metadata": {},
   "outputs": [],
   "source": [
    "#demo3"
   ]
  },
  {
   "cell_type": "code",
   "execution_count": 5,
   "id": "prepared-breed",
   "metadata": {},
   "outputs": [
    {
     "name": "stdout",
     "output_type": "stream",
     "text": [
      "Index(['Unnamed: 0', 'age', 'postcode', 'salary'], dtype='object')\n",
      "Index(['Unnamed: 0', 'age', 'postcode', 'salary'], dtype='object')\n",
      "Index(['Unnamed: 0', 'age', 'postcode', 'salary'], dtype='object')\n"
     ]
    }
   ],
   "source": [
    "for i in range(3):\n",
    "    print(demo_data3[i].columns)"
   ]
  },
  {
   "cell_type": "code",
   "execution_count": 6,
   "id": "announced-yugoslavia",
   "metadata": {},
   "outputs": [
    {
     "name": "stdout",
     "output_type": "stream",
     "text": [
      "On party 0, we have total 1 records matching the condition\n"
     ]
    },
    {
     "name": "stderr",
     "output_type": "stream",
     "text": [
      "ERROR:root:Internal Python error in the inspect module.\n",
      "Below is the traceback from this internal error.\n",
      "\n"
     ]
    },
    {
     "name": "stdout",
     "output_type": "stream",
     "text": [
      "RuntimeError: \u001b[31m Cannot complete the requested job due to a possible privacy violation: too few samples \u001b[0m\n",
      "\n",
      "During handling of the above exception, another exception occurred:\n",
      "\n",
      "AttributeError: 'RuntimeError' object has no attribute '_render_traceback_'\n",
      "\n",
      "During handling of the above exception, another exception occurred:\n",
      "\n",
      "AssertionError\n"
     ]
    },
    {
     "ename": "RuntimeError",
     "evalue": "\u001b[31m Cannot complete the requested job due to a possible privacy violation: too few samples \u001b[0m",
     "output_type": "error",
     "traceback": [
      "\u001b[0;31m---------------------------------------------------------------------------\u001b[0m"
     ]
    }
   ],
   "source": [
    "for i in range(3):\n",
    "    df_id = demo_data3[i].query(\"age>20 & age<60 & postcode==2125\")\n",
    "    rdf = RemoteDataFrame(vms[i], df_id, fns)\n",
    "    print('On party {0}, we have total {1} records matching the condition'.format(i,  rdf.shape[0]))\n",
    "    print('the sample has an average salary of {0}'.format(rdf['salary'].mean()))"
   ]
  },
  {
   "cell_type": "code",
   "execution_count": 15,
   "id": "legendary-sphere",
   "metadata": {},
   "outputs": [
    {
     "name": "stdout",
     "output_type": "stream",
     "text": [
      "On party 0, we have total 35 records matching the condition\n",
      "the sample has an average salary of 130322\n",
      "On party 1, we have total 23 records matching the condition\n",
      "the sample has an average salary of 128761\n",
      "On party 2, we have total 17 records matching the condition\n",
      "the sample has an average salary of 130251\n"
     ]
    }
   ],
   "source": [
    "for i in range(3):\n",
    "    df_id = demo_data3[i].query(\"age>20 & age<60 & postcode==2114\")\n",
    "    rdf = RemoteDataFrame(vms[i], df_id, fns)\n",
    "    print('On party {0}, we have total {1} records matching the condition'.format(i,  rdf.shape[0]))\n",
    "    print('the sample has an average salary of {0:.0f}'.format(rdf['salary'].mean()))"
   ]
  },
  {
   "cell_type": "code",
   "execution_count": null,
   "id": "swedish-picking",
   "metadata": {},
   "outputs": [],
   "source": []
  }
 ],
 "metadata": {
  "kernelspec": {
   "display_name": "Python 3",
   "language": "python",
   "name": "python3"
  },
  "language_info": {
   "codemirror_mode": {
    "name": "ipython",
    "version": 3
   },
   "file_extension": ".py",
   "mimetype": "text/x-python",
   "name": "python",
   "nbconvert_exporter": "python",
   "pygments_lexer": "ipython3",
   "version": "3.8.10"
  }
 },
 "nbformat": 4,
 "nbformat_minor": 5
}
