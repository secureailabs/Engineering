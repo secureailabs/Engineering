{
 "cells": [
  {
   "cell_type": "code",
   "execution_count": 1,
   "id": "norwegian-pennsylvania",
   "metadata": {},
   "outputs": [],
   "source": [
    "from zero import ZeroClient\n",
    "from sail_safe_functions_orchestrator.machine_learning import LogisticRegression, federated_averaging\n",
    "import torch\n",
    "from sklearn.metrics import f1_score, precision_score, recall_score\n",
    "from sail_safe_functions_orchestrator.data import utils"
   ]
  },
  {
   "cell_type": "code",
   "execution_count": 2,
   "id": "under-literature",
   "metadata": {},
   "outputs": [],
   "source": [
    "client1 = ZeroClient(\"20.237.243.94\", 5556)\n",
    "client2 = ZeroClient(\"20.245.179.119\", 5556)\n",
    "clients = [client1, client2]"
   ]
  },
  {
   "cell_type": "code",
   "execution_count": 3,
   "id": "authentic-tomato",
   "metadata": {},
   "outputs": [],
   "source": [
    "DATA_PATH = \"/data/\""
   ]
  },
  {
   "cell_type": "code",
   "execution_count": 4,
   "id": "accomplished-comparative",
   "metadata": {},
   "outputs": [],
   "source": [
    "df1 = utils.load_df_from_csv(client1, DATA_PATH + \"kidney_clean_1.csv\")\n",
    "df2 = utils.load_df_from_csv(client2, DATA_PATH + \"kidney_clean_2.csv\")\n",
    "data_federation = [df1, df2]"
   ]
  },
  {
   "cell_type": "code",
   "execution_count": 5,
   "id": "social-dependence",
   "metadata": {},
   "outputs": [],
   "source": [
    "df1"
   ]
  },
  {
   "cell_type": "code",
   "execution_count": 5,
   "id": "acute-lawrence",
   "metadata": {},
   "outputs": [],
   "source": [
    "import pandas as pd\n",
    "test = pd.read_csv(\"/home/jjj/datascience/sail-safe-functions-test/sail_safe_functions_test/data_sail_safe_functions/data_csv_kidney_clean/kidney_clean_test.csv\")"
   ]
  },
  {
   "cell_type": "code",
   "execution_count": 6,
   "id": "distinguished-blame",
   "metadata": {},
   "outputs": [],
   "source": [
    "X_col = [\"age\", \"bp\", \"sg\", \"al\"]\n",
    "Y_col = [\"classification_ckd\"]\n",
    "in_layer = len(X_col)\n",
    "out_layer = len(Y_col)\n",
    "optimizer = \"SGD\"\n",
    "criterion = \"BCELoss\"\n",
    "starting_model = LogisticRegression(in_layer, out_layer)\n",
    "model_type = \"logistic_regression\"\n",
    "learn_rate = 0.001\n",
    "epochs = 5000\n",
    "federal_epochs = 4"
   ]
  },
  {
   "cell_type": "code",
   "execution_count": 7,
   "id": "critical-motel",
   "metadata": {},
   "outputs": [],
   "source": [
    "model = federated_averaging(\n",
    "    clients,\n",
    "    epochs,\n",
    "    federal_epochs,\n",
    "    data_federation,\n",
    "    X_col,\n",
    "    Y_col,\n",
    "    learn_rate,\n",
    "    starting_model,\n",
    "    model_type,\n",
    "    criterion,\n",
    "    optimizer,\n",
    ")\n",
    "\n",
    "predicted = model(torch.Tensor(test[X_col].values).float())\n",
    "Y_test = torch.Tensor(test[Y_col].values).float()"
   ]
  },
  {
   "cell_type": "code",
   "execution_count": 8,
   "id": "incorporated-disabled",
   "metadata": {},
   "outputs": [
    {
     "name": "stdout",
     "output_type": "stream",
     "text": [
      "1.0 1.0 1.0\n"
     ]
    }
   ],
   "source": [
    "predictions = []\n",
    "for prediction in predicted:\n",
    "    predictions.append(prediction.argmax())\n",
    "\n",
    "labels = []\n",
    "for y in Y_test:\n",
    "    labels.append(int(y.argmax()))\n",
    "\n",
    "precision = precision_score(predictions, labels, average=\"weighted\")\n",
    "recall = recall_score(predictions, labels, average=\"weighted\")\n",
    "f1 = f1_score(predictions, labels, average=\"weighted\")\n",
    "\n",
    "print(precision, recall, f1)"
   ]
  },
  {
   "cell_type": "code",
   "execution_count": null,
   "id": "neither-discount",
   "metadata": {},
   "outputs": [],
   "source": []
  }
 ],
 "metadata": {
  "kernelspec": {
   "display_name": "Python 3",
   "language": "python",
   "name": "python3"
  },
  "language_info": {
   "codemirror_mode": {
    "name": "ipython",
    "version": 3
   },
   "file_extension": ".py",
   "mimetype": "text/x-python",
   "name": "python",
   "nbconvert_exporter": "python",
   "pygments_lexer": "ipython3",
   "version": "3.8.10"
  }
 },
 "nbformat": 4,
 "nbformat_minor": 5
}
