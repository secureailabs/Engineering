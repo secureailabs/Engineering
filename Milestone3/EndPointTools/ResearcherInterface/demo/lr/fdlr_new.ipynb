{
 "cells": [
  {
   "cell_type": "code",
   "execution_count": null,
   "id": "powered-terrace",
   "metadata": {},
   "outputs": [],
   "source": [
    "from sail.core import connectToVMs\n",
    "from sail.data import DataIO\n",
    "from sail.algo import fdlr"
   ]
  },
  {
   "cell_type": "code",
   "execution_count": 1,
   "id": "scheduled-mixture",
   "metadata": {},
   "outputs": [
    {
     "ename": "NameError",
     "evalue": "name 'connectToVMs' is not defined",
     "output_type": "error",
     "traceback": [
      "\u001b[0;31m---------------------------------------------------------------------------\u001b[0m",
      "\u001b[0;31mNameError\u001b[0m                                 Traceback (most recent call last)",
      "\u001b[0;32m<ipython-input-1-cff40f016ded>\u001b[0m in \u001b[0;36m<module>\u001b[0;34m\u001b[0m\n\u001b[0;32m----> 1\u001b[0;31m \u001b[0mvms\u001b[0m \u001b[0;34m=\u001b[0m \u001b[0mconnectToVMs\u001b[0m\u001b[0;34m(\u001b[0m\u001b[0;34m\"config.conf\"\u001b[0m\u001b[0;34m)\u001b[0m\u001b[0;34m\u001b[0m\u001b[0;34m\u001b[0m\u001b[0m\n\u001b[0m",
      "\u001b[0;31mNameError\u001b[0m: name 'connectToVMs' is not defined"
     ]
    }
   ],
   "source": [
    "vms = connectToVMs(\"config.conf\")\n",
    "vmagg = vms[-1]\n",
    "vms = vms[:-1]"
   ]
  },
  {
   "cell_type": "code",
   "execution_count": null,
   "id": "formal-philadelphia",
   "metadata": {},
   "outputs": [],
   "source": [
    "data = DataIO(\"\", [], )"
   ]
  }
 ],
 "metadata": {
  "kernelspec": {
   "display_name": "Python 3",
   "language": "python",
   "name": "python3"
  },
  "language_info": {
   "codemirror_mode": {
    "name": "ipython",
    "version": 3
   },
   "file_extension": ".py",
   "mimetype": "text/x-python",
   "name": "python",
   "nbconvert_exporter": "python",
   "pygments_lexer": "ipython3",
   "version": "3.8.5"
  }
 },
 "nbformat": 4,
 "nbformat_minor": 5
}
