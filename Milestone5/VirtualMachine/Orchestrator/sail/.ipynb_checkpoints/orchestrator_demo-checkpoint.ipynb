{
 "cells": [
  {
   "cell_type": "code",
   "execution_count": 1,
   "metadata": {},
   "outputs": [],
   "source": [
    "import sail.core\n",
    "import json"
   ]
  },
  {
   "cell_type": "code",
   "execution_count": null,
   "metadata": {
    "scrolled": true
   },
   "outputs": [],
   "source": [
    "sail.core.login(\"Bad_user\", \"Bad_pwd\", 6200, \"192.168.0.244\")"
   ]
  },
  {
   "cell_type": "code",
   "execution_count": 2,
   "metadata": {},
   "outputs": [
    {
     "data": {
      "text/plain": [
       "201"
      ]
     },
     "execution_count": 2,
     "metadata": {},
     "output_type": "execute_result"
    }
   ],
   "source": [
    "sail.core.login(\"lbart@igr.com\", \"SailPassword@123\", 6200, \"192.168.0.244\")"
   ]
  },
  {
   "cell_type": "code",
   "execution_count": null,
   "metadata": {},
   "outputs": [],
   "source": [
    "sail.core.load_safe_objects(\"./KPMG\")"
   ]
  },
  {
   "cell_type": "code",
   "execution_count": 5,
   "metadata": {},
   "outputs": [],
   "source": [
    "sail.core.load_safe_objects(\"./SafeObjects\")\n",
    "dg_test_object_guid = \"44D6A735F59A4E468C65FB73F4416620\""
   ]
  },
  {
   "cell_type": "code",
   "execution_count": 7,
   "metadata": {},
   "outputs": [
    {
     "name": "stdout",
     "output_type": "stream",
     "text": [
      "{4B79A316-F04D-4DE5-B097-771095AA1C7D}\n"
     ]
    }
   ],
   "source": [
    "job_id = sail.core.run_job(dg_test_object_guid)\n",
    "print(job_id)"
   ]
  },
  {
   "cell_type": "code",
   "execution_count": null,
   "metadata": {},
   "outputs": [],
   "source": [
    "job_status = sail.core.get_job_status(job_id)\n",
    "print(job_status)"
   ]
  },
  {
   "cell_type": "code",
   "execution_count": null,
   "metadata": {},
   "outputs": [],
   "source": [
    "my_int_guid = sail.core.push_user_data(12)\n",
    "print(my_int_guid)"
   ]
  },
  {
   "cell_type": "code",
   "execution_count": null,
   "metadata": {},
   "outputs": [],
   "source": [
    "set_response = sail.core.set_parameter(job_id, \"4FA10FBCEEF242EE864475FAEC56C2AC\", my_int_guid)"
   ]
  },
  {
   "cell_type": "code",
   "execution_count": 8,
   "metadata": {},
   "outputs": [],
   "source": [
    "set_ds_response = sail.core.set_parameter(job_id, \"4FA10FBCEEF242EE864475FAEC56C2AC\", \"{207BA375-8C4B-4818-B0CC-D04367A99587}\")"
   ]
  },
  {
   "cell_type": "code",
   "execution_count": 4,
   "metadata": {},
   "outputs": [
    {
     "name": "stdout",
     "output_type": "stream",
     "text": [
      "{\n",
      "    \"{207BA375-8C4B-4818-B0CC-D04367A99587}\": {\n",
      "        \"DataOwnerGuid\": \"{06F33EAC-7780-4225-8B0D-01E84A264058}\",\n",
      "        \"DatasetGuid\": \"{207BA375-8C4B-4818-B0CC-D04367A99587}\",\n",
      "        \"DatasetName\": \"Chronic Kidney Disease dataset\",\n",
      "        \"Description\": \"Data has 25 features which may predict a patient with chronic kidney disease\",\n",
      "        \"JurisdictionalLimitations\": \"N/A\",\n",
      "        \"Keywords\": \"Health conditions\",\n",
      "        \"OrganizationName\": \"Mercy General Hospital\",\n",
      "        \"PrivacyLevel\": 1.0,\n",
      "        \"PublishDate\": 1641933173.0,\n",
      "        \"Tables\": {\n",
      "            \"52d7aa80-f18f-4932-af61-ecf6fd74c064\": {\n",
      "                \"ColumnName\": \",AGE,BMI,PD-L1 level before treatment,PD-L1 level after treatment,PD-L2 level before treatment,PD-L2 level after treatment,PD1 level before treatment,PD1 level after treatment,\",\n",
      "                \"Description\": \"table 1_2\",\n",
      "                \"Hashtags\": \"t1h2\",\n",
      "                \"Name\": \"1_2.csv\",\n",
      "                \"NumberColumns\": 9.0,\n",
      "                \"NumberRows\": 30.0\n",
      "            }\n",
      "        },\n",
      "        \"VersionNumber\": \"0x00000001\"\n",
      "    },\n",
      "    \"{20CAD2F8-8F08-4C3D-B5AD-D94A5C2DAD15}\": {\n",
      "        \"DataOwnerGuid\": \"{06F33EAC-7780-4225-8B0D-01E84A264058}\",\n",
      "        \"DatasetGuid\": \"{20CAD2F8-8F08-4C3D-B5AD-D94A5C2DAD15}\",\n",
      "        \"DatasetName\": \"Obesity among adults by country, 1975-2016\",\n",
      "        \"Description\": \"Prevalence of obesity among adults\",\n",
      "        \"JurisdictionalLimitations\": \"N/A\",\n",
      "        \"Keywords\": \"N/A\",\n",
      "        \"OrganizationName\": \"Mercy General Hospital\",\n",
      "        \"PrivacyLevel\": 1.0,\n",
      "        \"PublishDate\": 1641933173.0,\n",
      "        \"Tables\": {\n",
      "            \"52d7aa80-f18f-4932-af61-ecf6fd74c064\": {\n",
      "                \"ColumnName\": \",AGE,BMI,PD-L1 level before treatment,PD-L1 level after treatment,PD-L2 level before treatment,PD-L2 level after treatment,PD1 level before treatment,PD1 level after treatment,\",\n",
      "                \"Description\": \"table 1_2\",\n",
      "                \"Hashtags\": \"t1h2\",\n",
      "                \"Name\": \"1_2.csv\",\n",
      "                \"NumberColumns\": 9.0,\n",
      "                \"NumberRows\": 30.0\n",
      "            }\n",
      "        },\n",
      "        \"VersionNumber\": \"0x00000001\"\n",
      "    },\n",
      "    \"{218D5AE0-5A36-4BC8-8AC9-DE39FD23960A}\": {\n",
      "        \"DataOwnerGuid\": \"{06F33EAC-7780-4225-8B0D-01E84A264058}\",\n",
      "        \"DatasetGuid\": \"{218D5AE0-5A36-4BC8-8AC9-DE39FD23960A}\",\n",
      "        \"DatasetName\": \"Telco Customer Churn\",\n",
      "        \"Description\": \"Focused customer retention programs\",\n",
      "        \"JurisdictionalLimitations\": \"N/A\",\n",
      "        \"Keywords\": \"business\",\n",
      "        \"OrganizationName\": \"Mercy General Hospital\",\n",
      "        \"PrivacyLevel\": 1.0,\n",
      "        \"PublishDate\": 1641933173.0,\n",
      "        \"Tables\": {\n",
      "            \"52d7aa80-f18f-4932-af61-ecf6fd74c064\": {\n",
      "                \"ColumnName\": \",AGE,BMI,PD-L1 level before treatment,PD-L1 level after treatment,PD-L2 level before treatment,PD-L2 level after treatment,PD1 level before treatment,PD1 level after treatment,\",\n",
      "                \"Description\": \"table 1_2\",\n",
      "                \"Hashtags\": \"t1h2\",\n",
      "                \"Name\": \"1_2.csv\",\n",
      "                \"NumberColumns\": 9.0,\n",
      "                \"NumberRows\": 30.0\n",
      "            }\n",
      "        },\n",
      "        \"VersionNumber\": \"0x00000001\"\n",
      "    },\n",
      "    \"{21C77277-46A9-49FA-996B-16E8FBFDEF13}\": {\n",
      "        \"DataOwnerGuid\": \"{06F33EAC-7780-4225-8B0D-01E84A264058}\",\n",
      "        \"DatasetGuid\": \"{21C77277-46A9-49FA-996B-16E8FBFDEF13}\",\n",
      "        \"DatasetName\": \"KCA Breast Cancer Dataset - II\",\n",
      "        \"Description\": \"Predict whether the cancer is benign or malignant\",\n",
      "        \"JurisdictionalLimitations\": \"N/A\",\n",
      "        \"Keywords\": \"breast cancer,cancer,healthcare,benign,malignant\",\n",
      "        \"OrganizationName\": \"Mercy General Hospital\",\n",
      "        \"PrivacyLevel\": 1.0,\n",
      "        \"PublishDate\": 1641933173.0,\n",
      "        \"Tables\": {\n",
      "            \"52d7aa80-f18f-4932-af61-ecf6fd74c064\": {\n",
      "                \"ColumnName\": \",AGE,BMI,PD-L1 level before treatment,PD-L1 level after treatment,PD-L2 level before treatment,PD-L2 level after treatment,PD1 level before treatment,PD1 level after treatment,\",\n",
      "                \"Description\": \"table 1_2\",\n",
      "                \"Hashtags\": \"t1h2\",\n",
      "                \"Name\": \"1_2.csv\",\n",
      "                \"NumberColumns\": 9.0,\n",
      "                \"NumberRows\": 30.0\n",
      "            }\n",
      "        },\n",
      "        \"VersionNumber\": \"0x00000001\"\n",
      "    },\n",
      "    \"{22770B66-B167-4FC4-8451-C42F5EC427DA}\": {\n",
      "        \"DataOwnerGuid\": \"{06F33EAC-7780-4225-8B0D-01E84A264058}\",\n",
      "        \"DatasetGuid\": \"{22770B66-B167-4FC4-8451-C42F5EC427DA}\",\n",
      "        \"DatasetName\": \"KCA Breast Cancer Dataset - III\",\n",
      "        \"Description\": \"Predict whether the cancer is benign or malignant\",\n",
      "        \"JurisdictionalLimitations\": \"N/A\",\n",
      "        \"Keywords\": \"breast cancer,cancer,healthcare,benign,malignant\",\n",
      "        \"OrganizationName\": \"Mercy General Hospital\",\n",
      "        \"PrivacyLevel\": 1.0,\n",
      "        \"PublishDate\": 1641933173.0,\n",
      "        \"Tables\": {\n",
      "            \"52d7aa80-f18f-4932-af61-ecf6fd74c064\": {\n",
      "                \"ColumnName\": \",AGE,BMI,PD-L1 level before treatment,PD-L1 level after treatment,PD-L2 level before treatment,PD-L2 level after treatment,PD1 level before treatment,PD1 level after treatment,\",\n",
      "                \"Description\": \"table 1_2\",\n",
      "                \"Hashtags\": \"t1h2\",\n",
      "                \"Name\": \"1_2.csv\",\n",
      "                \"NumberColumns\": 9.0,\n",
      "                \"NumberRows\": 30.0\n",
      "            }\n",
      "        },\n",
      "        \"VersionNumber\": \"0x00000001\"\n",
      "    },\n",
      "    \"{230342BB-FC6C-4338-9318-C65D8BE71514}\": {\n",
      "        \"DataOwnerGuid\": \"{06F33EAC-7780-4225-8B0D-01E84A264058}\",\n",
      "        \"DatasetGuid\": \"{230342BB-FC6C-4338-9318-C65D8BE71514}\",\n",
      "        \"DatasetName\": \"Harvest\",\n",
      "        \"Description\": \"A toolkit for extracting posts and post metadata from web forums\",\n",
      "        \"JurisdictionalLimitations\": \"N/A\",\n",
      "        \"Keywords\": \"computer science,software,programming\",\n",
      "        \"OrganizationName\": \"Mercy General Hospital\",\n",
      "        \"PrivacyLevel\": 1.0,\n",
      "        \"PublishDate\": 1641933173.0,\n",
      "        \"Tables\": {\n",
      "            \"52d7aa80-f18f-4932-af61-ecf6fd74c064\": {\n",
      "                \"ColumnName\": \",AGE,BMI,PD-L1 level before treatment,PD-L1 level after treatment,PD-L2 level before treatment,PD-L2 level after treatment,PD1 level before treatment,PD1 level after treatment,\",\n",
      "                \"Description\": \"table 1_2\",\n",
      "                \"Hashtags\": \"t1h2\",\n",
      "                \"Name\": \"1_2.csv\",\n",
      "                \"NumberColumns\": 9.0,\n",
      "                \"NumberRows\": 30.0\n",
      "            }\n",
      "        },\n",
      "        \"VersionNumber\": \"0x00000001\"\n",
      "    },\n",
      "    \"{231DDA38-E7FE-4991-93D2-9F8963AFB884}\": {\n",
      "        \"DataOwnerGuid\": \"{06F33EAC-7780-4225-8B0D-01E84A264058}\",\n",
      "        \"DatasetGuid\": \"{231DDA38-E7FE-4991-93D2-9F8963AFB884}\",\n",
      "        \"DatasetName\": \"KCA Breast Cancer Dataset - I\",\n",
      "        \"Description\": \"Predict whether the cancer is benign or malignant\",\n",
      "        \"JurisdictionalLimitations\": \"N/A\",\n",
      "        \"Keywords\": \"breast cancer,cancer,healthcare,benign,malignant\",\n",
      "        \"OrganizationName\": \"Mercy General Hospital\",\n",
      "        \"PrivacyLevel\": 1.0,\n",
      "        \"PublishDate\": 1641933173.0,\n",
      "        \"Tables\": {\n",
      "            \"52d7aa80-f18f-4932-af61-ecf6fd74c064\": {\n",
      "                \"ColumnName\": \",AGE,BMI,PD-L1 level before treatment,PD-L1 level after treatment,PD-L2 level before treatment,PD-L2 level after treatment,PD1 level before treatment,PD1 level after treatment,\",\n",
      "                \"Description\": \"table 1_2\",\n",
      "                \"Hashtags\": \"t1h2\",\n",
      "                \"Name\": \"1_2.csv\",\n",
      "                \"NumberColumns\": 9.0,\n",
      "                \"NumberRows\": 30.0\n",
      "            }\n",
      "        },\n",
      "        \"VersionNumber\": \"0x00000001\"\n",
      "    },\n",
      "    \"{235FCAB6-C0CB-4664-8E3D-2C7811E61ABE}\": {\n",
      "        \"DataOwnerGuid\": \"{06F33EAC-7780-4225-8B0D-01E84A264058}\",\n",
      "        \"DatasetGuid\": \"{235FCAB6-C0CB-4664-8E3D-2C7811E61ABE}\",\n",
      "        \"DatasetName\": \"Raman spectroscopy of Diabetes\",\n",
      "        \"Description\": \"Raman Spectroscopy to Screen Diabetes Mellitus with Machine Learning Tools\",\n",
      "        \"JurisdictionalLimitations\": \"N/A\",\n",
      "        \"Keywords\": \"computer science,health,classification,diabetes,healthcare,nutrition,medicine\",\n",
      "        \"OrganizationName\": \"Mercy General Hospital\",\n",
      "        \"PrivacyLevel\": 1.0,\n",
      "        \"PublishDate\": 1641933173.0,\n",
      "        \"Tables\": {\n",
      "            \"52d7aa80-f18f-4932-af61-ecf6fd74c064\": {\n",
      "                \"ColumnName\": \",AGE,BMI,PD-L1 level before treatment,PD-L1 level after treatment,PD-L2 level before treatment,PD-L2 level after treatment,PD1 level before treatment,PD1 level after treatment,\",\n",
      "                \"Description\": \"table 1_2\",\n",
      "                \"Hashtags\": \"t1h2\",\n",
      "                \"Name\": \"1_2.csv\",\n",
      "                \"NumberColumns\": 9.0,\n",
      "                \"NumberRows\": 30.0\n",
      "            }\n",
      "        },\n",
      "        \"VersionNumber\": \"0x00000001\"\n",
      "    }\n",
      "}\n"
     ]
    }
   ],
   "source": [
    "datasets = sail.core.get_datasets()\n",
    "if ( datasets is not None ):\n",
    "    json_datasets = json.loads(datasets)\n",
    "    print(json.dumps(json_datasets,indent=4))\n",
    "else:\n",
    "    print(\"No loaded datasets\")"
   ]
  },
  {
   "cell_type": "code",
   "execution_count": null,
   "metadata": {},
   "outputs": [],
   "source": [
    "safe_functions = sail.core.get_safe_functions()\n",
    "if ( safe_functions is not None):\n",
    "    json_safe_functions = json.loads(safe_functions)\n",
    "    print(json.dumps(json_safe_functions,indent=4))\n",
    "else:\n",
    "    print(\"No safe functions\")"
   ]
  },
  {
   "cell_type": "code",
   "execution_count": 9,
   "metadata": {},
   "outputs": [
    {
     "name": "stdout",
     "output_type": "stream",
     "text": [
      "{\n",
      "    \"{1747B774-2494-4D44-B563-89B8F01F17FD}\": {\n",
      "        \"ActivationTime\": 1641933174.0,\n",
      "        \"ContractStage\": 3.0,\n",
      "        \"DOOName\": \"Mercy General Hospital\",\n",
      "        \"DataOwnerOrganization\": \"{06F33EAC-7780-4225-8B0D-01E84A264058}\",\n",
      "        \"DatasetDRMMetadata\": {},\n",
      "        \"DatasetDRMMetadataSize\": 0.0,\n",
      "        \"DatasetGuid\": \"{207BA375-8C4B-4818-B0CC-D04367A99587}\",\n",
      "        \"DatasetName\": \"Chronic Kidney Disease dataset\",\n",
      "        \"Description\": \"The dataset will be used to train models for academic research purposes.\",\n",
      "        \"DigitalContractGuid\": \"{1747B774-2494-4D44-B563-89B8F01F17FD}\",\n",
      "        \"Eula\": \"Company grants You a revocable, non-exclusive, non-transferable, limited right to use the dataset on a single machine.\",\n",
      "        \"EulaAcceptedByDOOAuthorizedUser\": \"Company grants You a revocable, non-exclusive, non-transferable, limited right to use the dataset on a single machine.\",\n",
      "        \"EulaAcceptedByROAuthorizedUser\": \"Company grants You a revocable, non-exclusive, non-transferable, limited right to use the dataset on a single machine.\",\n",
      "        \"ExpirationTime\": 1642797174.0,\n",
      "        \"HostForVirtualMachines\": \"Researcher\",\n",
      "        \"HostRegion\": \"East US\",\n",
      "        \"LastActivity\": 1641933174.0,\n",
      "        \"LegalAgreement\": \"The Parties acknowledge and agree that this Agreement represents the entire agreement between the Parties. In the event that the Parties desire to change, add, or otherwise modify any terms, they shall do so in writing to be signed by both parties.\",\n",
      "        \"Note\": \"Attach Azure Template of Hosting Organization.\",\n",
      "        \"NumberOfVCPU\": 4.0,\n",
      "        \"NumberOfVirtualMachines\": 1.0,\n",
      "        \"ProvisioningStatus\": 3.0,\n",
      "        \"ROName\": \"International Genetics Research Facility\",\n",
      "        \"ResearcherOrganization\": \"{074B9973-2E15-4852-B6F2-97D48A4545A8}\",\n",
      "        \"RetentionTime\": 16186603.0,\n",
      "        \"SubscriptionDays\": 10.0,\n",
      "        \"Title\": \"Kidney Cancer Research Consortium\",\n",
      "        \"VersionNumber\": \"0x0000000100000001\"\n",
      "    }\n",
      "}\n"
     ]
    }
   ],
   "source": [
    "digital_contracts = sail.core.get_digital_contracts()\n",
    "if ( digital_contracts is not None):\n",
    "    json_digital_contracts = json.loads(digital_contracts)\n",
    "    print(json.dumps(json_digital_contracts,indent=4))\n",
    "else:\n",
    "    print(\"No digital contracts\")"
   ]
  },
  {
   "cell_type": "code",
   "execution_count": null,
   "metadata": {},
   "outputs": [],
   "source": [
    "sail.core.provision_digital_contract(\"{15840175-48DE-4D07-8D76-BF4CEC288EEC}\", \"{207BA375-8C4B-4818-B0CC-D04367A99587}\")"
   ]
  },
  {
   "cell_type": "code",
   "execution_count": null,
   "metadata": {},
   "outputs": [],
   "source": [
    "sail.core.get_current_eosb()"
   ]
  },
  {
   "cell_type": "code",
   "execution_count": null,
   "metadata": {},
   "outputs": [],
   "source": [
    "len(json.loads(sail.core.get_safe_functions()))"
   ]
  },
  {
   "cell_type": "code",
   "execution_count": null,
   "metadata": {},
   "outputs": [],
   "source": [
    "sail.core.exit_current_session()"
   ]
  },
  {
   "cell_type": "code",
   "execution_count": null,
   "metadata": {},
   "outputs": [],
   "source": [
    "tables = sail.core.get_tables()\n",
    "if ( tables is not None):\n",
    "    json_tables = json.loads(tables)\n",
    "    print(json.dumps(json_tables, indent=4))\n",
    "else:\n",
    "    print(\"No tables\")\n"
   ]
  },
  {
   "cell_type": "code",
   "execution_count": null,
   "metadata": {},
   "outputs": [],
   "source": [
    "print(sail.core.wait_for_all_digital_contracts_to_be_provisioned(15000))"
   ]
  },
  {
   "cell_type": "code",
   "execution_count": null,
   "metadata": {},
   "outputs": [],
   "source": []
  }
 ],
 "metadata": {
  "kernelspec": {
   "display_name": "Python 3",
   "language": "python",
   "name": "python3"
  },
  "language_info": {
   "codemirror_mode": {
    "name": "ipython",
    "version": 3
   },
   "file_extension": ".py",
   "mimetype": "text/x-python",
   "name": "python",
   "nbconvert_exporter": "python",
   "pygments_lexer": "ipython3",
   "version": "3.8.10"
  }
 },
 "nbformat": 4,
 "nbformat_minor": 4
}
