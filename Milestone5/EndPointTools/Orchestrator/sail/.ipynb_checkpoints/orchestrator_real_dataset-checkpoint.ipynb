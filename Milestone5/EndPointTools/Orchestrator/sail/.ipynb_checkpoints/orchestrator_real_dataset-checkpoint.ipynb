{
 "cells": [
  {
   "cell_type": "code",
   "execution_count": 1,
   "metadata": {
    "scrolled": false
   },
   "outputs": [
    {
     "name": "stdout",
     "output_type": "stream",
     "text": [
      "{48E620BA-1C88-48B0-9381-A6CF7BC67591}\n",
      "{2014A98D-99DB-714C-8EE9-31CA6C2B5781}\n",
      "{\n",
      "    \"{2014A98D-99DB-714C-8EE9-31CA6C2B5781}\": {\n",
      "        \"DataOwnerGuid\": \"{050537CE-C59F-4941-B50F-DBF7ABC82549}\",\n",
      "        \"DatasetGuid\": \"2014A98D-99DB-714C-8EE9-31CA6C2B5781\",\n",
      "        \"DatasetName\": \"MGHL Test Dataset\",\n",
      "        \"Description\": \"This is a test.\",\n",
      "        \"JurisdictionalLimitations\": \"N/A\",\n",
      "        \"Keywords\": \"Test, Dataset\",\n",
      "        \"OrganizationName\": \"Mercy General Hospital\",\n",
      "        \"PrivacyLevel\": 1.0,\n",
      "        \"PublishDate\": 1645585123.0,\n",
      "        \"Tables\": {\n",
      "            \"2534C8FA-0E1A-D442-95A6-8ECB11A39746\": {\n",
      "                \"AllColumnProperties\": {\n",
      "                    \"0\": {\n",
      "                        \"ColumnIdentifier\": \"294AAA6C-DEF3-5640-9625-874CF98CD87B\",\n",
      "                        \"Description\": \"EDIT ME <This is the description of a column containing generic text>\",\n",
      "                        \"Tags\": \"EDIT ME <#Column>\",\n",
      "                        \"Title\": \"Line Number\",\n",
      "                        \"Type\": \"string\",\n",
      "                        \"Units\": \"GenericString\"\n",
      "                    },\n",
      "                    \"1\": {\n",
      "                        \"ColumnIdentifier\": \"2A41A1C8-6A16-6D47-9DE7-5348D21C1171\",\n",
      "                        \"Description\": \"EDIT ME <This is the description of a column containing generic text>\",\n",
      "                        \"Tags\": \"EDIT ME <#Column>\",\n",
      "                        \"Title\": \"AGE\",\n",
      "                        \"Type\": \"string\",\n",
      "                        \"Units\": \"GenericString\"\n",
      "                    },\n",
      "                    \"2\": {\n",
      "                        \"ColumnIdentifier\": \"2ACDD26C-AA22-824C-80BC-4D9E01CE6412\",\n",
      "                        \"Description\": \"EDIT ME <This is the description of a column containing generic text>\",\n",
      "                        \"Tags\": \"EDIT ME <#Column>\",\n",
      "                        \"Title\": \"BMI\",\n",
      "                        \"Type\": \"string\",\n",
      "                        \"Units\": \"GenericString\"\n",
      "                    },\n",
      "                    \"3\": {\n",
      "                        \"ColumnIdentifier\": \"28485724-2F5C-2445-B57F-FE4F5EEB5BAB\",\n",
      "                        \"Description\": \"EDIT ME <This is the description of a column containing generic text>\",\n",
      "                        \"Tags\": \"EDIT ME <#Column>\",\n",
      "                        \"Title\": \"PD-L1 level before treatment\",\n",
      "                        \"Type\": \"string\",\n",
      "                        \"Units\": \"GenericString\"\n",
      "                    },\n",
      "                    \"4\": {\n",
      "                        \"ColumnIdentifier\": \"29238B27-0DA8-6244-BDE5-5A9BBFC2ED8A\",\n",
      "                        \"Description\": \"EDIT ME <This is the description of a column containing generic text>\",\n",
      "                        \"Tags\": \"EDIT ME <#Column>\",\n",
      "                        \"Title\": \"PD-L1 level after treatment\",\n",
      "                        \"Type\": \"string\",\n",
      "                        \"Units\": \"GenericString\"\n",
      "                    },\n",
      "                    \"5\": {\n",
      "                        \"ColumnIdentifier\": \"2B3AA602-EC06-7A4D-AEE6-AE39C7520243\",\n",
      "                        \"Description\": \"EDIT ME <This is the description of a column containing generic text>\",\n",
      "                        \"Tags\": \"EDIT ME <#Column>\",\n",
      "                        \"Title\": \"PD-L2 level before treatment\",\n",
      "                        \"Type\": \"string\",\n",
      "                        \"Units\": \"GenericString\"\n",
      "                    },\n",
      "                    \"6\": {\n",
      "                        \"ColumnIdentifier\": \"2AE9E2D4-6E76-2648-9503-9F9ACF0A48BD\",\n",
      "                        \"Description\": \"EDIT ME <This is the description of a column containing generic text>\",\n",
      "                        \"Tags\": \"EDIT ME <#Column>\",\n",
      "                        \"Title\": \"PD-L2 level after treatment\",\n",
      "                        \"Type\": \"string\",\n",
      "                        \"Units\": \"GenericString\"\n",
      "                    },\n",
      "                    \"7\": {\n",
      "                        \"ColumnIdentifier\": \"2A5B93E4-A203-9E4B-902E-991D0EA045B5\",\n",
      "                        \"Description\": \"EDIT ME <This is the description of a column containing generic text>\",\n",
      "                        \"Tags\": \"EDIT ME <#Column>\",\n",
      "                        \"Title\": \"PD1 level before treatment\",\n",
      "                        \"Type\": \"string\",\n",
      "                        \"Units\": \"GenericString\"\n",
      "                    },\n",
      "                    \"8\": {\n",
      "                        \"ColumnIdentifier\": \"2B15DD27-8D98-0E47-AC1F-6C9D8BC0B3E8\",\n",
      "                        \"Description\": \"EDIT ME <This is the description of a column containing generic text>\",\n",
      "                        \"Tags\": \"EDIT ME <#Column>\",\n",
      "                        \"Title\": \"PD1 level after treatment\",\n",
      "                        \"Type\": \"string\",\n",
      "                        \"Units\": \"GenericString\"\n",
      "                    }\n",
      "                },\n",
      "                \"CompressedDataSizeInBytes\": 6020.0,\n",
      "                \"DataSizeInBytes\": 14216.0,\n",
      "                \"Description\": \"EDIT ME <This is the description of a new table>\",\n",
      "                \"NumberOfColumns\": 9.0,\n",
      "                \"NumberOfRows\": 301.0,\n",
      "                \"TableIdentifier\": \"2534C8FA-0E1A-D442-95A6-8ECB11A39746\",\n",
      "                \"Tags\": \"EDIT ME <#Column>\",\n",
      "                \"Title\": \"EDIT ME <This is a new table>\"\n",
      "            }\n",
      "        },\n",
      "        \"VersionNumber\": \"0.1.0.0\"\n",
      "    }\n",
      "}\n",
      "{162E94F6-0D15-41A3-ABF5-A811F0F29B95}\n",
      "{\n",
      "    \"{162E94F6-0D15-41A3-ABF5-A811F0F29B95}\": {\n",
      "        \"ActivationTime\": 1645585193.0,\n",
      "        \"AzureTemplateGuid\": \"{00000000-0000-0000-0000-000000000000}\",\n",
      "        \"ContractStage\": 3.0,\n",
      "        \"DOOName\": \"Mercy General Hospital\",\n",
      "        \"DataOwnerOrganization\": \"{050537CE-C59F-4941-B50F-DBF7ABC82549}\",\n",
      "        \"DatasetDRMMetadata\": {},\n",
      "        \"DatasetDRMMetadataSize\": 0.0,\n",
      "        \"DatasetGuid\": \"2014A98D-99DB-714C-8EE9-31CA6C2B5781\",\n",
      "        \"DatasetName\": \"MGHL Test Dataset\",\n",
      "        \"Description\": \"1\",\n",
      "        \"DigitalContractGuid\": \"{162E94F6-0D15-41A3-ABF5-A811F0F29B95}\",\n",
      "        \"Eula\": \"Company grants You a revocable, non-exclusive, non-transferable, limited right to use the dataset on a single machine.\",\n",
      "        \"EulaAcceptedByDOOAuthorizedUser\": \"Company grants You a revocable, non-exclusive, non-transferable, limited right to use the dataset on a single machine.\",\n",
      "        \"EulaAcceptedByROAuthorizedUser\": \"Company grants You a revocable, non-exclusive, non-transferable, limited right to use the dataset on a single machine.\",\n",
      "        \"ExpirationTime\": 1645671593.0,\n",
      "        \"HostForVirtualMachines\": \"Researcher\",\n",
      "        \"HostRegion\": \"eastus\",\n",
      "        \"LastActivity\": 1645585193.0,\n",
      "        \"LegalAgreement\": \"1\",\n",
      "        \"Note\": \"...\",\n",
      "        \"NumberOfVCPU\": 4.0,\n",
      "        \"NumberOfVirtualMachines\": 1.0,\n",
      "        \"NumberOfVirtualMachinesReady\": 10.0,\n",
      "        \"ProvisioningStatus\": 3.0,\n",
      "        \"ROName\": \"International Genetics Research Facility\",\n",
      "        \"ResearcherOrganization\": \"{058546C1-D5E2-4952-810D-EA6AFE6A0F32}\",\n",
      "        \"RetentionTime\": 11.0,\n",
      "        \"SubscriptionDays\": 1.0,\n",
      "        \"Title\": \"Test\",\n",
      "        \"VersionNumber\": \"1.0.0\"\n",
      "    }\n",
      "}\n"
     ]
    }
   ],
   "source": [
    "import sail.core\n",
    "import json\n",
    "import getpass\n",
    "\n",
    "# password = getpass.getpass(prompt=\"Password: \")\n",
    "password = \"SailPassword@123\"\n",
    "\n",
    "sail.core.login(\"lbart@igr.com\", password, 6200, \"192.168.0.193\")\n",
    "\n",
    "sail.core.load_safe_objects(\"./SafeObjects\")\n",
    "dg_test_object_guid = \"479F9891BBDE41C2B8A06CF2E29F32AC\"\n",
    "\n",
    "job_id = sail.core.run_job(dg_test_object_guid)\n",
    "print(job_id)\n",
    "\n",
    "#second_job_id = sail.core.run_job(dg_test_object_guid)\n",
    "#print(second_job_id)\n",
    "\n",
    "datasets = sail.core.get_datasets()\n",
    "provision_ds = \"\"\n",
    "if ( datasets is not None ):\n",
    "    json_datasets = json.loads(datasets)\n",
    "    provision_ds = list(json_datasets.keys())[0]\n",
    "    print(provision_ds)\n",
    "else:\n",
    "    print(\"No loaded datasets\")\n",
    "    \n",
    "digital_contracts = sail.core.get_digital_contracts()\n",
    "provision_dc = \"\"\n",
    "if ( digital_contracts is not None):\n",
    "    json_digital_contracts = json.loads(digital_contracts)\n",
    "    provision_dc = list(json_digital_contracts.keys())[0]\n",
    "    print(provision_dc)\n",
    "else:\n",
    "    print(\"No digital contracts\")"
   ]
  },
  {
   "cell_type": "code",
   "execution_count": null,
   "metadata": {
    "scrolled": false
   },
   "outputs": [],
   "source": [
    "job_status = sail.core.get_job_status(job_id)\n",
    "print(\"{}:{}\".format(job_id,job_status))\n",
    "#job_status = sail.core.get_job_status(second_job_id)\n",
    "#print(\"{}:{}\".format(second_job_id,job_status))"
   ]
  },
  {
   "cell_type": "code",
   "execution_count": null,
   "metadata": {
    "scrolled": true
   },
   "outputs": [],
   "source": [
    "first_provision = sail.core.provision_secure_computational_node(provision_dc, provision_ds, \"Standard_D8s_v4\")\n",
    "#second_provision = sail.core.provision_secure_computational_node(provision_dc, provision_ds, \"Standard_D8s_v4\")\n",
    "\n",
    "print(first_provision)\n",
    "#print(second_provision)"
   ]
  },
  {
   "cell_type": "code",
   "execution_count": null,
   "metadata": {
    "scrolled": true
   },
   "outputs": [],
   "source": [
    "print(sail.core.wait_for_all_secure_nodes_to_be_provisioned(30000))"
   ]
  },
  {
   "cell_type": "code",
   "execution_count": null,
   "metadata": {},
   "outputs": [],
   "source": [
    "my_table_guid = \"2534C8FA-0E1A-D442-95A6-8ECB11A39746\"\n",
    "set_ds_response = sail.core.set_parameter(job_id, \"4DC7BEC15B384FBD9BD721B7BF36A984\", my_table_guid)\n",
    "#set_ds_response = sail.core.set_parameter(second_job_id, \"4C8041B4513A44FAA5409662E014519C\", provision_ds)\n",
    "\n",
    "#print(\"First job IP {}\".format(sail.core.get_ip_for_job(job_id)))\n",
    "#print(\"Second job IP {}\".format(sail.core.get_ip_for_job(second_job_id)))"
   ]
  },
  {
   "cell_type": "code",
   "execution_count": null,
   "metadata": {},
   "outputs": [],
   "source": [
    "data_id = \"{}.{}\".format(job_id, \"52A2698D65C44433BEDDFEE508C9065F\")\n",
    "\n",
    "pull_data_result = sail.core.pull_data(data_id)\n",
    "print(pull_data_result)"
   ]
  },
  {
   "cell_type": "code",
   "execution_count": null,
   "metadata": {
    "scrolled": true
   },
   "outputs": [],
   "source": [
    "import base64\n",
    "import pickle\n",
    "\n",
    "message_response = sail.core.wait_for_data(10000)\n",
    "while None != message_response:\n",
    "    if ( message_response is not None):\n",
    "        message_json = json.loads(message_response)\n",
    "        if ( message_json[\"SignalType\"] == 0):\n",
    "            print(\"Job {} is running\".format(message_json[\"JobUuid\"]))\n",
    "\n",
    "        if ( message_json[\"SignalType\"] == 1):\n",
    "            print(\"Job {} is done\".format(message_json[\"JobUuid\"]))\n",
    "\n",
    "        if ( message_json[\"SignalType\"] == 3):\n",
    "            data_value = message_json[\"FileData\"]\n",
    "            decoded_value = base64.b64decode(data_value)\n",
    "            un_serialized_value = pickle.loads(decoded_value)\n",
    "            print(\"Data received from job {}: {}\".format(message_json[\"JobUuid\"], un_serialized_value))\n",
    "    message_response = sail.core.wait_for_data(500)"
   ]
  },
  {
   "cell_type": "code",
   "execution_count": null,
   "metadata": {},
   "outputs": [],
   "source": [
    "safe_functions = sail.core.get_safe_functions()\n",
    "if ( safe_functions is not None):\n",
    "    json_safe_functions = json.loads(safe_functions)\n",
    "    print(json.dumps(json_safe_functions,indent=4))\n",
    "else:\n",
    "    print(\"No safe functions\")"
   ]
  },
  {
   "cell_type": "code",
   "execution_count": null,
   "metadata": {},
   "outputs": [],
   "source": [
    "sail.core.exit_current_session()"
   ]
  },
  {
   "cell_type": "code",
   "execution_count": null,
   "metadata": {},
   "outputs": [],
   "source": [
    "sail.core.deprovision_digital_contract(provision_dc)"
   ]
  },
  {
   "cell_type": "code",
   "execution_count": null,
   "metadata": {},
   "outputs": [],
   "source": [
    "tables = sail.core.get_tables()\n",
    "if ( tables is not None):\n",
    "    json_tables = json.loads(tables)\n",
    "    print(json.dumps(json_tables, indent=4))\n",
    "else:\n",
    "    print(\"No tables\")\n"
   ]
  },
  {
   "cell_type": "code",
   "execution_count": null,
   "metadata": {},
   "outputs": [],
   "source": []
  },
  {
   "cell_type": "code",
   "execution_count": null,
   "metadata": {},
   "outputs": [],
   "source": [
    "job_id = sail.core.run_job(dg_test_object_guid)\n",
    "print(job_id)"
   ]
  },
  {
   "cell_type": "code",
   "execution_count": null,
   "metadata": {
    "scrolled": true
   },
   "outputs": [],
   "source": [
    "digital_contracts = sail.core.get_digital_contracts()\n",
    "provision_dc = \"\"\n",
    "if ( digital_contracts is not None):\n",
    "    json_digital_contracts = json.loads(digital_contracts)\n",
    "    provision_dc = list(json_digital_contracts.keys())[0]\n",
    "    print(provision_dc)\n",
    "    print(json.dumps(json_digital_contracts, indent=4))\n",
    "else:\n",
    "    print(\"No digital contracts\")"
   ]
  },
  {
   "cell_type": "code",
   "execution_count": null,
   "metadata": {},
   "outputs": [],
   "source": []
  },
  {
   "cell_type": "code",
   "execution_count": null,
   "metadata": {},
   "outputs": [],
   "source": [
    "datasets = sail.core.get_datasets()\n",
    "provision_ds = \"\"\n",
    "if ( datasets is not None ):\n",
    "    json_datasets = json.loads(datasets)\n",
    "    provision_ds = list(json_datasets.keys())[0]\n",
    "    print(provision_ds)\n",
    "    print(json.dumps(json_datasets, indent=4))\n",
    "else:\n",
    "    print(\"No loaded datasets\")"
   ]
  }
 ],
 "metadata": {
  "kernelspec": {
   "display_name": "Python 3",
   "language": "python",
   "name": "python3"
  },
  "language_info": {
   "codemirror_mode": {
    "name": "ipython",
    "version": 3
   },
   "file_extension": ".py",
   "mimetype": "text/x-python",
   "name": "python",
   "nbconvert_exporter": "python",
   "pygments_lexer": "ipython3",
   "version": "3.8.10"
  }
 },
 "nbformat": 4,
 "nbformat_minor": 4
}
