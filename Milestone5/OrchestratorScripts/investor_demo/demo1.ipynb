{
 "cells": [
  {
   "cell_type": "code",
   "execution_count": 1,
   "id": "attached-discretion",
   "metadata": {},
   "outputs": [],
   "source": [
    "from sail.data import RemoteDataFrame\n",
    "from sail.core import connect, newguid, get_fns, registersafeobj, querydata, pushsafeobj"
   ]
  },
  {
   "cell_type": "code",
   "execution_count": 2,
   "id": "piano-grant",
   "metadata": {},
   "outputs": [],
   "source": [
    "registersafeobj(\"/home/jjj/playground/demo/safeobjects/safeobjects\")"
   ]
  },
  {
   "cell_type": "code",
   "execution_count": 3,
   "id": "equivalent-student",
   "metadata": {},
   "outputs": [],
   "source": [
    "fns = get_fns()"
   ]
  },
  {
   "cell_type": "code",
   "execution_count": 4,
   "id": "executed-detective",
   "metadata": {},
   "outputs": [],
   "source": [
    "#ip addresses need to fix to a dns name"
   ]
  },
  {
   "cell_type": "code",
   "execution_count": 5,
   "id": "taken-conservation",
   "metadata": {},
   "outputs": [
    {
     "data": {
      "text/plain": [
       "['{D36C1722-AFAD-44AE-96A0-C0E9DB014E0D}',\n",
       " '{09C007AD-906B-4DE3-B552-DB4223BEF189}',\n",
       " '{43CB734C-A1B5-44EF-97CA-0B8D65DBBDFF}']"
      ]
     },
     "execution_count": 5,
     "metadata": {},
     "output_type": "execute_result"
    }
   ],
   "source": [
    "vm1 = connect(\"52.191.250.67\", 3500, \"lbart@igr.com\", \"sailpassword\")\n",
    "vm2 = connect(\"40.121.255.102\", 3500, \"lbart@igr.com\", \"sailpassword\")\n",
    "vm3 = connect(\"52.168.134.149\", 3500, \"lbart@igr.com\", \"sailpassword\")\n",
    "vms = [vm1, vm2, vm3]\n",
    "vms"
   ]
  },
  {
   "cell_type": "code",
   "execution_count": 6,
   "id": "persistent-teacher",
   "metadata": {},
   "outputs": [],
   "source": [
    "for vm in vms:\n",
    "    for key in fns:\n",
    "        pushsafeobj(vm, fns[key])"
   ]
  },
  {
   "cell_type": "code",
   "execution_count": 7,
   "id": "seven-closing",
   "metadata": {},
   "outputs": [
    {
     "data": {
      "text/plain": [
       "['9C80A6B8F8CD6E42B2E950AB2260477D',\n",
       " '220B2F3FDAFDB9418B2AC05C9DFF0246',\n",
       " '346481BFEDDCE94E91E62243B55FD378']"
      ]
     },
     "execution_count": 7,
     "metadata": {},
     "output_type": "execute_result"
    }
   ],
   "source": [
    "tableid1 = querydata(vm1)\n",
    "tableid2 = querydata(vm2)\n",
    "tableid3 = querydata(vm3)\n",
    "table = [tableid1[0], tableid2[0], tableid3[0]]\n",
    "table"
   ]
  },
  {
   "cell_type": "code",
   "execution_count": 8,
   "id": "experimental-israel",
   "metadata": {},
   "outputs": [],
   "source": [
    "df = []\n",
    "for i in range(3):\n",
    "    rdf = RemoteDataFrame(vms[i], table[i], fns)\n",
    "    df.append(rdf)"
   ]
  },
  {
   "cell_type": "code",
   "execution_count": 9,
   "id": "assumed-trustee",
   "metadata": {},
   "outputs": [
    {
     "name": "stdout",
     "output_type": "stream",
     "text": [
      "Index(['Unnamed: 0', 'AGE', 'BMI', 'PD-L1 level before treatment',\n",
      "       'PD-L1 level after treatment', 'PD-L2 level before treatment',\n",
      "       'PD-L2 level after treatment', 'PD1 level before treatment',\n",
      "       'PD1 level after treatment'],\n",
      "      dtype='object')\n",
      "Index(['Unnamed: 0', 'AGE', 'BMI', 'PD-L1 level before treatment',\n",
      "       'PD-L1 level after treatment', 'PD-L2 level before treatment',\n",
      "       'PD-L2 level after treatment', 'PD1 level before treatment',\n",
      "       'PD1 level after treatment'],\n",
      "      dtype='object')\n",
      "Index(['Unnamed: 0', 'AGE', 'BMI', 'PD-L1 level before treatment',\n",
      "       'PD-L1 level after treatment', 'PD-L2 level before treatment',\n",
      "       'PD-L2 level after treatment', 'PD1 level before treatment',\n",
      "       'PD1 level after treatment'],\n",
      "      dtype='object')\n"
     ]
    }
   ],
   "source": [
    "for i in range(3):\n",
    "    print(df[i].columns)"
   ]
  },
  {
   "cell_type": "code",
   "execution_count": 10,
   "id": "medieval-means",
   "metadata": {},
   "outputs": [],
   "source": [
    "selected_df = []\n",
    "for i in range(3):\n",
    "    df_id = df[i].query('AGE>25 & AGE<50 & BMI>25 & BMI<30')\n",
    "    rdf = RemoteDataFrame(vms[i], df_id, fns)\n",
    "    selected_df.append(rdf)"
   ]
  },
  {
   "cell_type": "code",
   "execution_count": null,
   "id": "sonic-defendant",
   "metadata": {},
   "outputs": [],
   "source": [
    "#packing the call simpler?\n",
    "#decimal places of the result, ways to show the result"
   ]
  },
  {
   "cell_type": "code",
   "execution_count": 11,
   "id": "historic-spirit",
   "metadata": {},
   "outputs": [
    {
     "name": "stdout",
     "output_type": "stream",
     "text": [
      "On party 0 The change of the following biomarkers before and after the treatment are: \n",
      "PD-L1: 54.285985953370385\n",
      "PD-L2: 3.0024798174968126\n",
      "PD1: -2.1784798082806347\n",
      "On party 1 The change of the following biomarkers before and after the treatment are: \n",
      "PD-L1: 54.92399573591146\n",
      "PD-L2: 3.1555203110167795\n",
      "PD1: 1.4041631248628939\n",
      "On party 2 The change of the following biomarkers before and after the treatment are: \n",
      "PD-L1: 54.89693445968601\n",
      "PD-L2: 2.8382806152452567\n",
      "PD1: -0.9792833487898633\n"
     ]
    }
   ],
   "source": [
    "for i in range(3):\n",
    "    diff_PDL1 = selected_df[i]['PD-L1 level before treatment'].mean() - selected_df[i]['PD-L1 level after treatment'].mean()\n",
    "    diff_PDL2 = selected_df[i]['PD-L2 level before treatment'].mean() - selected_df[i]['PD-L2 level after treatment'].mean()\n",
    "    diff_PD1 = selected_df[i]['PD1 level before treatment'].mean() - selected_df[i]['PD1 level after treatment'].mean()\n",
    "    print(\"On party {0} The change of the following biomarkers before and after the treatment are: \\nPD-L1: {1}\\nPD-L2: {2}\\nPD1: {3}\".format(i, diff_PDL1, diff_PDL2, diff_PD1))"
   ]
  },
  {
   "cell_type": "code",
   "execution_count": null,
   "id": "chemical-opposition",
   "metadata": {},
   "outputs": [],
   "source": []
  }
 ],
 "metadata": {
  "kernelspec": {
   "display_name": "Python 3",
   "language": "python",
   "name": "python3"
  },
  "language_info": {
   "codemirror_mode": {
    "name": "ipython",
    "version": 3
   },
   "file_extension": ".py",
   "mimetype": "text/x-python",
   "name": "python",
   "nbconvert_exporter": "python",
   "pygments_lexer": "ipython3",
   "version": "3.8.10"
  }
 },
 "nbformat": 4,
 "nbformat_minor": 5
}
