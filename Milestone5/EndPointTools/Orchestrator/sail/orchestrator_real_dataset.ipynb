{
 "cells": [
  {
   "cell_type": "code",
   "execution_count": 1,
   "metadata": {
    "scrolled": false
   },
   "outputs": [
    {
     "name": "stdout",
     "output_type": "stream",
     "text": [
      "{4BE43257-8D6F-4BB8-9FDE-3CEF2FF01319}\n",
      "{2014A98D-99DB-714C-8EE9-31CA6C2B5781}\n",
      "{162E94F6-0D15-41A3-ABF5-A811F0F29B95}\n"
     ]
    }
   ],
   "source": [
    "import sail.core\n",
    "import json\n",
    "import getpass\n",
    "\n",
    "# password = getpass.getpass(prompt=\"Password: \")\n",
    "password = \"SailPassword@123\"\n",
    "\n",
    "sail.core.login(\"lbart@igr.com\", password, 6200, \"192.168.0.193\")\n",
    "\n",
    "sail.core.load_safe_objects(\"./SafeObjects\")\n",
    "dg_test_object_guid = \"479F9891BBDE41C2B8A06CF2E29F32AC\"\n",
    "\n",
    "job_id = sail.core.run_job(dg_test_object_guid)\n",
    "print(job_id)\n",
    "\n",
    "#second_job_id = sail.core.run_job(dg_test_object_guid)\n",
    "#print(second_job_id)\n",
    "\n",
    "datasets = sail.core.get_datasets()\n",
    "provision_ds = \"\"\n",
    "if ( datasets is not None ):\n",
    "    json_datasets = json.loads(datasets)\n",
    "    provision_ds = list(json_datasets.keys())[0]\n",
    "    print(provision_ds)\n",
    "else:\n",
    "    print(\"No loaded datasets\")\n",
    "    \n",
    "digital_contracts = sail.core.get_digital_contracts()\n",
    "provision_dc = \"\"\n",
    "if ( digital_contracts is not None):\n",
    "    json_digital_contracts = json.loads(digital_contracts)\n",
    "    provision_dc = list(json_digital_contracts.keys())[0]\n",
    "    print(provision_dc)\n",
    "else:\n",
    "    print(\"No digital contracts\")"
   ]
  },
  {
   "cell_type": "code",
   "execution_count": 7,
   "metadata": {
    "scrolled": false
   },
   "outputs": [
    {
     "name": "stdout",
     "output_type": "stream",
     "text": [
      "{4BE43257-8D6F-4BB8-9FDE-3CEF2FF01319}:Job Done\n"
     ]
    }
   ],
   "source": [
    "job_status = sail.core.get_job_status(job_id)\n",
    "print(\"{}:{}\".format(job_id,job_status))\n",
    "#job_status = sail.core.get_job_status(second_job_id)\n",
    "#print(\"{}:{}\".format(second_job_id,job_status))"
   ]
  },
  {
   "cell_type": "code",
   "execution_count": 3,
   "metadata": {
    "scrolled": true
   },
   "outputs": [
    {
     "name": "stdout",
     "output_type": "stream",
     "text": [
      "{\"SCNGuid\":\"{42AAA140-018C-41A6-91CB-38482F70E4D0}\",\"Status\":true}\n"
     ]
    }
   ],
   "source": [
    "first_provision = sail.core.provision_secure_computational_node(provision_dc, provision_ds, \"Standard_D8s_v4\")\n",
    "#second_provision = sail.core.provision_secure_computational_node(provision_dc, provision_ds, \"Standard_D8s_v4\")\n",
    "\n",
    "print(first_provision)\n",
    "#print(second_provision)"
   ]
  },
  {
   "cell_type": "code",
   "execution_count": null,
   "metadata": {
    "scrolled": true
   },
   "outputs": [],
   "source": [
    "print(sail.core.wait_for_all_secure_nodes_to_be_provisioned(30000))"
   ]
  },
  {
   "cell_type": "code",
   "execution_count": 4,
   "metadata": {},
   "outputs": [],
   "source": [
    "my_table_guid = \"2534C8FA-0E1A-D442-95A6-8ECB11A39746\"\n",
    "set_ds_response = sail.core.set_parameter(job_id, \"4DC7BEC15B384FBD9BD721B7BF36A984\", my_table_guid)\n",
    "#set_ds_response = sail.core.set_parameter(second_job_id, \"4C8041B4513A44FAA5409662E014519C\", provision_ds)\n",
    "\n",
    "#print(\"First job IP {}\".format(sail.core.get_ip_for_job(job_id)))\n",
    "#print(\"Second job IP {}\".format(sail.core.get_ip_for_job(second_job_id)))"
   ]
  },
  {
   "cell_type": "code",
   "execution_count": 5,
   "metadata": {},
   "outputs": [
    {
     "name": "stdout",
     "output_type": "stream",
     "text": [
      "Success\n"
     ]
    }
   ],
   "source": [
    "data_id = \"{}.{}\".format(job_id, \"52A2698D65C44433BEDDFEE508C9065F\")\n",
    "\n",
    "pull_data_result = sail.core.pull_data(data_id)\n",
    "print(pull_data_result)"
   ]
  },
  {
   "cell_type": "code",
   "execution_count": 6,
   "metadata": {
    "scrolled": true
   },
   "outputs": [
    {
     "name": "stdout",
     "output_type": "stream",
     "text": [
      "Job 4BE432578D6F4BB89FDE3CEF2FF01319 is running\n",
      "Job 4BE432578D6F4BB89FDE3CEF2FF01319 is done\n",
      "Data received from job 4BE432578D6F4BB89FDE3CEF2FF01319:      Line Number  AGE   BMI  PD-L1 level before treatment  \\\n",
      "0              0   44  25.4                         86.89   \n",
      "1              1   47  23.9                         80.59   \n",
      "2              2   54  24.0                         86.68   \n",
      "3              3   55  22.5                         89.55   \n",
      "4              4   50  24.4                         89.81   \n",
      "..           ...  ...   ...                           ...   \n",
      "295          295   43  31.2                         83.27   \n",
      "296          296   52  28.5                         81.01   \n",
      "297          297   52  27.5                         82.89   \n",
      "298          298   59  22.6                         86.65   \n",
      "299          299   40  26.2                         87.71   \n",
      "\n",
      "     PD-L1 level after treatment  PD-L2 level before treatment  \\\n",
      "0                          32.49                         33.84   \n",
      "1                          34.19                         34.63   \n",
      "2                          31.12                         37.86   \n",
      "3                          39.72                         35.91   \n",
      "4                          35.04                         36.56   \n",
      "..                           ...                           ...   \n",
      "295                        31.93                         31.86   \n",
      "296                        30.39                         33.01   \n",
      "297                        37.12                         35.96   \n",
      "298                        37.40                         37.66   \n",
      "299                        34.69                         33.15   \n",
      "\n",
      "     PD-L2 level after treatment  PD1 level before treatment  \\\n",
      "0                          38.85                       25.79   \n",
      "1                          30.03                       28.48   \n",
      "2                          31.05                       29.27   \n",
      "3                          32.03                       15.07   \n",
      "4                          26.47                       27.59   \n",
      "..                           ...                         ...   \n",
      "295                        32.27                       25.00   \n",
      "296                        25.41                       19.64   \n",
      "297                        36.71                       29.87   \n",
      "298                        31.75                       12.15   \n",
      "299                        35.74                       23.13   \n",
      "\n",
      "     PD1 level after treatment  \n",
      "0                        29.44  \n",
      "1                        30.15  \n",
      "2                        27.10  \n",
      "3                        20.07  \n",
      "4                         9.59  \n",
      "..                         ...  \n",
      "295                      11.53  \n",
      "296                      25.14  \n",
      "297                      12.98  \n",
      "298                      15.72  \n",
      "299                      18.01  \n",
      "\n",
      "[300 rows x 9 columns]\n"
     ]
    }
   ],
   "source": [
    "import base64\n",
    "import pickle\n",
    "\n",
    "message_response = sail.core.wait_for_data(10000)\n",
    "while None != message_response:\n",
    "    if ( message_response is not None):\n",
    "        message_json = json.loads(message_response)\n",
    "        if ( message_json[\"SignalType\"] == 0):\n",
    "            print(\"Job {} is running\".format(message_json[\"JobUuid\"]))\n",
    "\n",
    "        if ( message_json[\"SignalType\"] == 1):\n",
    "            print(\"Job {} is done\".format(message_json[\"JobUuid\"]))\n",
    "\n",
    "        if ( message_json[\"SignalType\"] == 3):\n",
    "            data_value = message_json[\"FileData\"]\n",
    "            decoded_value = base64.b64decode(data_value)\n",
    "            un_serialized_value = pickle.loads(decoded_value)\n",
    "            print(\"Data received from job {}: {}\".format(message_json[\"JobUuid\"], un_serialized_value))\n",
    "            \n",
    "    message_response = sail.core.wait_for_data(500)"
   ]
  },
  {
   "cell_type": "code",
   "execution_count": null,
   "metadata": {},
   "outputs": [],
   "source": [
    "safe_functions = sail.core.get_safe_functions()\n",
    "if ( safe_functions is not None):\n",
    "    json_safe_functions = json.loads(safe_functions)\n",
    "    print(json.dumps(json_safe_functions,indent=4))\n",
    "else:\n",
    "    print(\"No safe functions\")"
   ]
  },
  {
   "cell_type": "code",
   "execution_count": null,
   "metadata": {},
   "outputs": [],
   "source": [
    "sail.core.exit_current_session()"
   ]
  },
  {
   "cell_type": "code",
   "execution_count": null,
   "metadata": {},
   "outputs": [],
   "source": [
    "sail.core.deprovision_digital_contract(provision_dc)"
   ]
  },
  {
   "cell_type": "code",
   "execution_count": null,
   "metadata": {},
   "outputs": [],
   "source": [
    "tables = sail.core.get_tables()\n",
    "if ( tables is not None):\n",
    "    json_tables = json.loads(tables)\n",
    "    print(json.dumps(json_tables, indent=4))\n",
    "else:\n",
    "    print(\"No tables\")\n"
   ]
  },
  {
   "cell_type": "code",
   "execution_count": null,
   "metadata": {},
   "outputs": [],
   "source": []
  },
  {
   "cell_type": "code",
   "execution_count": null,
   "metadata": {},
   "outputs": [],
   "source": [
    "job_id = sail.core.run_job(dg_test_object_guid)\n",
    "print(job_id)"
   ]
  },
  {
   "cell_type": "code",
   "execution_count": null,
   "metadata": {
    "scrolled": true
   },
   "outputs": [],
   "source": [
    "digital_contracts = sail.core.get_digital_contracts()\n",
    "provision_dc = \"\"\n",
    "if ( digital_contracts is not None):\n",
    "    json_digital_contracts = json.loads(digital_contracts)\n",
    "    provision_dc = list(json_digital_contracts.keys())[0]\n",
    "    print(provision_dc)\n",
    "    print(json.dumps(json_digital_contracts, indent=4))\n",
    "else:\n",
    "    print(\"No digital contracts\")"
   ]
  },
  {
   "cell_type": "code",
   "execution_count": null,
   "metadata": {},
   "outputs": [],
   "source": []
  },
  {
   "cell_type": "code",
   "execution_count": null,
   "metadata": {},
   "outputs": [],
   "source": [
    "datasets = sail.core.get_datasets()\n",
    "provision_ds = \"\"\n",
    "if ( datasets is not None ):\n",
    "    json_datasets = json.loads(datasets)\n",
    "    provision_ds = list(json_datasets.keys())[0]\n",
    "    print(provision_ds)\n",
    "    print(json.dumps(json_datasets, indent=4))\n",
    "else:\n",
    "    print(\"No loaded datasets\")"
   ]
  }
 ],
 "metadata": {
  "kernelspec": {
   "display_name": "Python 3",
   "language": "python",
   "name": "python3"
  },
  "language_info": {
   "codemirror_mode": {
    "name": "ipython",
    "version": 3
   },
   "file_extension": ".py",
   "mimetype": "text/x-python",
   "name": "python",
   "nbconvert_exporter": "python",
   "pygments_lexer": "ipython3",
   "version": "3.8.10"
  }
 },
 "nbformat": 4,
 "nbformat_minor": 4
}
