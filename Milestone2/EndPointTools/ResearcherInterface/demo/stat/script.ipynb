{
 "cells": [
  {
   "cell_type": "code",
   "execution_count": 1,
   "id": "fourth-mechanics",
   "metadata": {},
   "outputs": [],
   "source": [
    "import sail"
   ]
  },
  {
   "cell_type": "code",
   "execution_count": 2,
   "id": "united-wyoming",
   "metadata": {},
   "outputs": [],
   "source": [
    "vm1 = sail.connect(\"127.0.0.1\", 7001, \"marine@terran.com\", \"sailpassword\")\n",
    "vm2 = sail.connect(\"127.0.0.1\", 7002, \"marine@terran.com\", \"sailpassword\")\n",
    "vm3 = sail.connect(\"127.0.0.1\", 7003, \"marine@terran.com\", \"sailpassword\")\n",
    "vmlist = [vm1, vm2, vm3]"
   ]
  },
  {
   "cell_type": "code",
   "execution_count": 3,
   "id": "christian-defeat",
   "metadata": {},
   "outputs": [],
   "source": [
    "num_parties = len(vmlist)"
   ]
  },
  {
   "cell_type": "code",
   "execution_count": 4,
   "id": "proof-valentine",
   "metadata": {},
   "outputs": [],
   "source": [
    "fn_data_gen = sail.registerfn(\"fn_data_gen.py\", 0, 1)[0]\n",
    "fn_mean = sail.registerfn(\"fn_fd_mean.py\", 2, 2)[0]\n",
    "fn_std = sail.registerfn(\"fn_fd_sdeviation.py\", 3, 2)[0]\n",
    "fn_min = sail.registerfn(\"fn_fd_min.py\", 2, 1)[0]\n",
    "fn_max = sail.registerfn(\"fn_fd_max.py\", 2, 1)[0]\n",
    "fnlist = [fn_data_gen, fn_mean, fn_std, fn_min, fn_max]"
   ]
  },
  {
   "cell_type": "code",
   "execution_count": 5,
   "id": "martial-password",
   "metadata": {},
   "outputs": [],
   "source": [
    "for fn in fnlist:\n",
    "    for vm in vmlist:\n",
    "        sail.pushfn(vm, fn)"
   ]
  },
  {
   "cell_type": "code",
   "execution_count": 6,
   "id": "monetary-popularity",
   "metadata": {},
   "outputs": [],
   "source": [
    "data = []\n",
    "for vm in vmlist:\n",
    "    jobid1 = sail.newguid()\n",
    "    sail.execjob(vm, fn_data_gen, jobid1)\n",
    "    result = sail.pulldata(vm, jobid1, fn_data_gen, \"/home/jjj/playground\")\n",
    "    data.append(result[0])"
   ]
  },
  {
   "cell_type": "code",
   "execution_count": 7,
   "id": "documented-combine",
   "metadata": {},
   "outputs": [],
   "source": [
    "col_num = 1\n",
    "sizelist = []\n",
    "meanlist = []\n",
    "for i in range(num_parties):\n",
    "    jobid2 = sail.newguid()\n",
    "    sail.pushdata(vmlist[i], jobid2, fn_mean, [col_num, data[i]], \"/home/jjj/playground\")\n",
    "    sail.execjob(vmlist[i], fn_mean, jobid2)\n",
    "    result = sail.pulldata(vmlist[i], jobid2, fn_mean, \"/home/jjj/playground\")\n",
    "    sizelist.append(result[0])\n",
    "    meanlist.append(result[1])"
   ]
  },
  {
   "cell_type": "code",
   "execution_count": 8,
   "id": "jewish-dress",
   "metadata": {},
   "outputs": [],
   "source": [
    "summean = 0\n",
    "for i in range(num_parties):\n",
    "    summean += meanlist[i]*sizelist[i]\n",
    "mean = summean/sum(sizelist)"
   ]
  },
  {
   "cell_type": "code",
   "execution_count": 9,
   "id": "legitimate-general",
   "metadata": {},
   "outputs": [
    {
     "data": {
      "text/plain": [
       "0.1809118173074613"
      ]
     },
     "execution_count": 9,
     "metadata": {},
     "output_type": "execute_result"
    }
   ],
   "source": [
    "mean"
   ]
  },
  {
   "cell_type": "code",
   "execution_count": 11,
   "id": "fuzzy-weight",
   "metadata": {},
   "outputs": [],
   "source": [
    "sumdevlist = []\n",
    "sizelist = []\n",
    "for i in range(num_parties):\n",
    "    jobid3 = sail.newguid()\n",
    "    sail.pushdata(vmlist[i], jobid3, fn_std, [data[i], col_num, mean], \"/home/jjj/playground\")\n",
    "    sail.execjob(vmlist[i], fn_std, jobid3)\n",
    "    result = sail.pulldata(vmlist[i], jobid3, fn_std, \"/home/jjj/playground\")\n",
    "    sumdevlist.append(result[0])\n",
    "    sizelist.append(result[1])"
   ]
  },
  {
   "cell_type": "code",
   "execution_count": 12,
   "id": "discrete-share",
   "metadata": {},
   "outputs": [
    {
     "data": {
      "text/plain": [
       "0.9577856212538591"
      ]
     },
     "execution_count": 12,
     "metadata": {},
     "output_type": "execute_result"
    }
   ],
   "source": [
    "stdev = sum(sumdevlist)/sum(sizelist)\n",
    "stdev"
   ]
  },
  {
   "cell_type": "code",
   "execution_count": 13,
   "id": "sunset-range",
   "metadata": {},
   "outputs": [],
   "source": [
    "minlist = []\n",
    "maxlist = []\n",
    "for i in range(num_parties):\n",
    "    jobid4 = sail.newguid()\n",
    "    sail.pushdata(vmlist[i], jobid4, fn_min, [data[i], col_num], \"/home/jjj/playground\")\n",
    "    sail.execjob(vmlist[i], fn_min, jobid4)\n",
    "    result = sail.pulldata(vmlist[i], jobid4, fn_min, \"/home/jjj/playground\")\n",
    "    minlist.append(result[0])\n",
    "    jobid5 = sail.newguid()\n",
    "    sail.pushdata(vmlist[i], jobid5, fn_max, [data[i], col_num], \"/home/jjj/playground\")\n",
    "    sail.execjob(vmlist[i], fn_max, jobid5)\n",
    "    result = sail.pulldata(vmlist[i], jobid5, fn_max, \"/home/jjj/playground\")\n",
    "    maxlist.append(result[0])\n",
    "minval = min(minlist)\n",
    "maxval = max(maxlist)"
   ]
  },
  {
   "cell_type": "code",
   "execution_count": 14,
   "id": "assured-chosen",
   "metadata": {},
   "outputs": [
    {
     "data": {
      "text/plain": [
       "-2.0709659346676204"
      ]
     },
     "execution_count": 14,
     "metadata": {},
     "output_type": "execute_result"
    }
   ],
   "source": [
    "minval"
   ]
  },
  {
   "cell_type": "code",
   "execution_count": 15,
   "id": "broke-terry",
   "metadata": {},
   "outputs": [
    {
     "data": {
      "text/plain": [
       "2.7895046599171462"
      ]
     },
     "execution_count": 15,
     "metadata": {},
     "output_type": "execute_result"
    }
   ],
   "source": [
    "maxval"
   ]
  },
  {
   "cell_type": "code",
   "execution_count": null,
   "id": "brilliant-mayor",
   "metadata": {},
   "outputs": [],
   "source": []
  }
 ],
 "metadata": {
  "kernelspec": {
   "display_name": "Python 3",
   "language": "python",
   "name": "python3"
  },
  "language_info": {
   "codemirror_mode": {
    "name": "ipython",
    "version": 3
   },
   "file_extension": ".py",
   "mimetype": "text/x-python",
   "name": "python",
   "nbconvert_exporter": "python",
   "pygments_lexer": "ipython3",
   "version": "3.8.5"
  }
 },
 "nbformat": 4,
 "nbformat_minor": 5
}
