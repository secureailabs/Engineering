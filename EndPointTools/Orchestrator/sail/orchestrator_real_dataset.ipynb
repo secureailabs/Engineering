{
 "cells": [
  {
   "cell_type": "code",
   "execution_count": 1,
   "metadata": {
    "scrolled": false
   },
   "outputs": [
    {
     "name": "stdout",
     "output_type": "stream",
     "text": [
      "{\r\n",
      "    \"42A85F64-5717-4562-B3FC-2C963F66AFA6\": {\r\n",
      "        \"keywords\": \"string\",\r\n",
      "        \"tables\": [\r\n",
      "            {\r\n",
      "                \"description\": \"string\",\r\n",
      "                \"compressed_data_size_in_bytes\": 0.000000,\r\n",
      "                \"all_column_properties\": [\r\n",
      "                    {\r\n",
      "                        \"description\": \"string\",\r\n",
      "                        \"type\": \"string\",\r\n",
      "                        \"tags\": \"string\",\r\n",
      "                        \"name\": \"string\",\r\n",
      "                        \"units\": \"string\",\r\n",
      "                        \"id\": \"3fa85f64-5717-4562-b3fc-2c963f66afa6\"\r\n",
      "                    }\r\n",
      "                ],\r\n",
      "                \"number_of_columns\": 0.000000,\r\n",
      "                \"name\": \"string\",\r\n",
      "                \"data_size_in_bytes\": 0.000000,\r\n",
      "                \"tags\": \"string\",\r\n",
      "                \"number_of_rows\": 0.000000,\r\n",
      "                \"id\": \"3fa85f64-5717-4562-b3fc-2c963f66afa6\"\r\n",
      "            }\r\n",
      "        ],\r\n",
      "        \"name\": \"DS\",\r\n",
      "        \"organization\": {\r\n",
      "            \"name\": \"International Genetics Research Facility\",\r\n",
      "            \"id\": \"3e38080b-5cba-42aa-8256-abc7bfd25f84\"\r\n",
      "        },\r\n",
      "        \"description\": \"string\",\r\n",
      "        \"dataset_created_time\": \"2022-05-23T19:30:46.184791\",\r\n",
      "        \"publish_date\": 0.000000,\r\n",
      "        \"state\": \"ACTIVE\",\r\n",
      "        \"version\": \"string\",\r\n",
      "        \"id\": \"42a85f64-5717-4562-b3fc-2c963f66afa6\"\r\n",
      "    }\r\n",
      "}\n",
      "{\r\n",
      "    \"38CA0BDE-82E9-4561-A44D-8D6282B1D90C\": {\r\n",
      "        \"legal_agreement\": \"string\",\r\n",
      "        \"timestamp\": \"2022-05-23T19:31:50.230977\",\r\n",
      "        \"description\": \"string\",\r\n",
      "        \"dataset\": {\r\n",
      "            \"name\": \"DS\",\r\n",
      "            \"id\": \"42a85f64-5717-4562-b3fc-2c963f66afa6\"\r\n",
      "        },\r\n",
      "        \"data_owner\": {\r\n",
      "            \"name\": \"International Genetics Research Facility\",\r\n",
      "            \"id\": \"3e38080b-5cba-42aa-8256-abc7bfd25f84\"\r\n",
      "        },\r\n",
      "        \"name\": \"DC\",\r\n",
      "        \"researcher\": {\r\n",
      "            \"name\": \"Mercy General Hospital\",\r\n",
      "            \"id\": \"81080c05-be3b-4ba7-befd-051802290e83\"\r\n",
      "        },\r\n",
      "        \"state\": \"ACTIVATED\",\r\n",
      "        \"subscription_days\": 0.000000,\r\n",
      "        \"version\": \"string\",\r\n",
      "        \"id\": \"38ca0bde-82e9-4561-a44d-8d6282b1d90c\"\r\n",
      "    }\r\n",
      "}\n"
     ]
    }
   ],
   "source": [
    "import sail.core\n",
    "import json\n",
    "import getpass\n",
    "\n",
    "password = \"SailPassword@123\"\n",
    "\n",
    "sail.core.login(\"nadams@mghl.com\", password, 1234, \"apiservices\")\n",
    "print(sail.core.get_datasets())\n",
    "print(sail.core.get_digital_contracts())"
   ]
  },
  {
   "cell_type": "code",
   "execution_count": 2,
   "metadata": {},
   "outputs": [
    {
     "name": "stdout",
     "output_type": "stream",
     "text": [
      "Job ID: None \n"
     ]
    }
   ],
   "source": [
    "#########################################################\n",
    "# Allocate our job and load our SafeObjects\n",
    "#########################################################\n",
    "\n",
    "sail.core.load_safe_objects(\"../SafeObjects\")\n",
    "dg_test_object_guid = \"479F9891BBDE41C2B8A06CF2E29F32AC\"\n",
    "dg_increment_safefunction_guid = \"473001DB64AF456E971296418B6194FE\"\n",
    "dg_sum_column_guid = \"442D0290DEA14CE4B70FB31B891F20B6\"\n",
    "\n",
    "job_id = sail.core.run_job(dg_test_object_guid)\n",
    "print(\"Job ID: {} \".format(job_id))"
   ]
  },
  {
   "cell_type": "code",
   "execution_count": 2,
   "metadata": {},
   "outputs": [
    {
     "name": "stdout",
     "output_type": "stream",
     "text": [
      "Enter name of Dataset you uploaded:DS\n",
      "The dataset you wish to access is: DS\n",
      "DC 38ca0bde-82e9-4561-a44d-8d6282b1d90c DS 42a85f64-5717-4562-b3fc-2c963f66afa6 TABLE 3fa85f64-5717-4562-b3fc-2c963f66afa6\n"
     ]
    }
   ],
   "source": [
    "#########################################################\n",
    "# Extract our identifiers\n",
    "#########################################################\n",
    "json_datasets = json.loads(sail.core.get_datasets())\n",
    "json_digital_contracts = json.loads(sail.core.get_digital_contracts())\n",
    "\n",
    "user_dataset_name = input(\"Enter name of Dataset you uploaded:\" ) or \"SanityDataset\"\n",
    "print(\"The dataset you wish to access is: {}\".format(user_dataset_name))\n",
    "\n",
    "provision_dc = \"\"\n",
    "provision_ds = \"\"\n",
    "my_table_guid = \"\"\n",
    "for dataset in json_datasets:\n",
    "    if(json_datasets[dataset][\"name\"] == user_dataset_name):\n",
    "        provision_ds = dataset.lower()\n",
    "        my_table_guid = json_datasets[dataset][\"tables\"][0][\"id\"]\n",
    "\n",
    "for digital_contract in json_digital_contracts:\n",
    "    if (json_digital_contracts[digital_contract][\"dataset\"][\"id\"] == provision_ds):\n",
    "        provision_dc = digital_contract.lower()\n",
    "    \n",
    "print(\"DC {} DS {} TABLE {}\".format(provision_dc, provision_ds, my_table_guid))"
   ]
  },
  {
   "cell_type": "code",
   "execution_count": 4,
   "metadata": {
    "scrolled": false
   },
   "outputs": [
    {
     "ename": "TypeError",
     "evalue": "argument 1 must be str, not None",
     "output_type": "error",
     "traceback": [
      "\u001b[0;31m---------------------------------------------------------------------------\u001b[0m",
      "\u001b[0;31mTypeError\u001b[0m                                 Traceback (most recent call last)",
      "\u001b[0;32m<ipython-input-4-5d71782bfa60>\u001b[0m in \u001b[0;36m<module>\u001b[0;34m\u001b[0m\n\u001b[0;32m----> 1\u001b[0;31m \u001b[0mjob_status\u001b[0m \u001b[0;34m=\u001b[0m \u001b[0msail\u001b[0m\u001b[0;34m.\u001b[0m\u001b[0mcore\u001b[0m\u001b[0;34m.\u001b[0m\u001b[0mget_job_status\u001b[0m\u001b[0;34m(\u001b[0m\u001b[0mjob_id\u001b[0m\u001b[0;34m)\u001b[0m\u001b[0;34m\u001b[0m\u001b[0;34m\u001b[0m\u001b[0m\n\u001b[0m\u001b[1;32m      2\u001b[0m \u001b[0mprint\u001b[0m\u001b[0;34m(\u001b[0m\u001b[0;34m\"{}:{}\"\u001b[0m\u001b[0;34m.\u001b[0m\u001b[0mformat\u001b[0m\u001b[0;34m(\u001b[0m\u001b[0mjob_id\u001b[0m\u001b[0;34m,\u001b[0m\u001b[0mjob_status\u001b[0m\u001b[0;34m)\u001b[0m\u001b[0;34m)\u001b[0m\u001b[0;34m\u001b[0m\u001b[0;34m\u001b[0m\u001b[0m\n\u001b[1;32m      3\u001b[0m \u001b[0;31m#job_status = sail.core.get_job_status(second_job_id)\u001b[0m\u001b[0;34m\u001b[0m\u001b[0;34m\u001b[0m\u001b[0;34m\u001b[0m\u001b[0m\n\u001b[1;32m      4\u001b[0m \u001b[0;31m#print(\"{}:{}\".format(second_job_id,job_status))\u001b[0m\u001b[0;34m\u001b[0m\u001b[0;34m\u001b[0m\u001b[0;34m\u001b[0m\u001b[0m\n",
      "\u001b[0;32m/app/sail/core/sailcore.py\u001b[0m in \u001b[0;36mget_job_status\u001b[0;34m(job_guid)\u001b[0m\n\u001b[1;32m     98\u001b[0m \u001b[0;34m\u001b[0m\u001b[0m\n\u001b[1;32m     99\u001b[0m \u001b[0;32mdef\u001b[0m \u001b[0mget_job_status\u001b[0m\u001b[0;34m(\u001b[0m\u001b[0mjob_guid\u001b[0m\u001b[0;34m)\u001b[0m\u001b[0;34m:\u001b[0m\u001b[0;34m\u001b[0m\u001b[0;34m\u001b[0m\u001b[0m\n\u001b[0;32m--> 100\u001b[0;31m     \u001b[0;32mreturn\u001b[0m \u001b[0mSAILPyAPI\u001b[0m\u001b[0;34m.\u001b[0m\u001b[0mget_job_status\u001b[0m\u001b[0;34m(\u001b[0m\u001b[0mjob_guid\u001b[0m\u001b[0;34m)\u001b[0m\u001b[0;34m\u001b[0m\u001b[0;34m\u001b[0m\u001b[0m\n\u001b[0m\u001b[1;32m    101\u001b[0m \u001b[0;34m\u001b[0m\u001b[0m\n\u001b[1;32m    102\u001b[0m \u001b[0;34m\u001b[0m\u001b[0m\n",
      "\u001b[0;31mTypeError\u001b[0m: argument 1 must be str, not None"
     ]
    }
   ],
   "source": [
    "job_status = sail.core.get_job_status(job_id)\n",
    "print(\"{}:{}\".format(job_id,job_status))\n",
    "#job_status = sail.core.get_job_status(second_job_id)\n",
    "#print(\"{}:{}\".format(second_job_id,job_status))"
   ]
  },
  {
   "cell_type": "code",
   "execution_count": 3,
   "metadata": {
    "scrolled": false
   },
   "outputs": [
    {
     "name": "stdout",
     "output_type": "stream",
     "text": [
      "Provision ID: {\r\n",
      "    \"Status\": true,\r\n",
      "    \"SCNGuid\": \"e768136d-d7f3-432a-a6a3-1719b867dfcd\"\r\n",
      "}\n"
     ]
    }
   ],
   "source": [
    "first_provision = sail.core.provision_secure_computational_node(\"orch-test02\", provision_dc, provision_ds, \"STANDARD_B4MS\")\n",
    "\n",
    "print(\"Provision ID: {}\".format(first_provision))\n"
   ]
  },
  {
   "cell_type": "code",
   "execution_count": 10,
   "metadata": {
    "scrolled": true
   },
   "outputs": [
    {
     "name": "stdout",
     "output_type": "stream",
     "text": [
      "{\r\n",
      "    \"Failed\": {\r\n",
      "\r\n",
      "    },\r\n",
      "    \"Succeeded\": {\r\n",
      "        \"E768136D-D7F3-432A-A6A3-1719B867DFCD\": \"\"\r\n",
      "    },\r\n",
      "    \"InProgress\": {\r\n",
      "\r\n",
      "    },\r\n",
      "    \"AllDone\": true\r\n",
      "}\n"
     ]
    }
   ],
   "source": [
    "print(sail.core.wait_for_all_secure_nodes_to_be_provisioned(45000))\n"
   ]
  },
  {
   "cell_type": "code",
   "execution_count": null,
   "metadata": {},
   "outputs": [],
   "source": [
    "############################################################################\n",
    "#\n",
    "# Set the parameters for the job and set a variable for its output\n",
    "#\n",
    "############################################################################\n",
    "\n",
    "set_ds_response = sail.core.set_parameter(job_id, \"4DC7BEC15B384FBD9BD721B7BF36A984\", my_table_guid)\n",
    "#set_ds_response = sail.core.set_parameter(second_job_id, \"4C8041B4513A44FAA5409662E014519C\", provision_ds)\n",
    "data_id = \"{}.{}\".format(job_id, \"52A2698D65C44433BEDDFEE508C9065F\")\n",
    "print(\"First job IP {}\".format(sail.core.get_ip_for_job(job_id)))\n",
    "#print(\"Second job IP {}\".format(sail.core.get_ip_for_job(second_job_id)))"
   ]
  },
  {
   "cell_type": "code",
   "execution_count": null,
   "metadata": {},
   "outputs": [],
   "source": [
    "data_id = \"{}.{}\".format(job_id, \"52A2698D65C44433BEDDFEE508C9065F\")\n",
    "\n",
    "#pull_data_result = sail.core.pull_data(data_id)\n",
    "#print(pull_data_result)"
   ]
  },
  {
   "cell_type": "code",
   "execution_count": null,
   "metadata": {
    "scrolled": false
   },
   "outputs": [],
   "source": [
    "############################################################################\n",
    "#\n",
    "# Produce data frame from CSV\n",
    "#\n",
    "############################################################################\n",
    "\n",
    "import base64\n",
    "import pickle\n",
    "\n",
    "message_response = sail.core.wait_for_data(10000)\n",
    "data_frame = None;\n",
    "while None != message_response:\n",
    "    if ( message_response is not None):\n",
    "        message_json = json.loads(message_response)\n",
    "        if ( message_json[\"SignalType\"] == 0):\n",
    "            print(\"Job {} is running\".format(message_json[\"JobUuid\"]))\n",
    "\n",
    "        if ( message_json[\"SignalType\"] == 1):\n",
    "            print(\"Job {} is done\".format(message_json[\"JobUuid\"]))\n",
    "\n",
    "        if ( message_json[\"SignalType\"] == 3):\n",
    "            data_value = message_json[\"FileData\"]\n",
    "            decoded_value = base64.b64decode(data_value)\n",
    "            un_serialized_value = pickle.loads(decoded_value)\n",
    "            print(\"Dataframe has been processed from CSV\")\n",
    "            data_frame = un_serialized_value\n",
    "            \n",
    "    message_response = sail.core.wait_for_data(2000)\n"
   ]
  },
  {
   "cell_type": "code",
   "execution_count": null,
   "metadata": {
    "scrolled": true
   },
   "outputs": [],
   "source": [
    "############################################################################\n",
    "#\n",
    "# Get the sum of a column\n",
    "#\n",
    "############################################################################\n",
    "sum_column_job_id = sail.core.run_job(dg_sum_column_guid)\n",
    "\n",
    "column_name = \"BMI\"\n",
    "# Setup a job to injest a dataframe, and sum a column's name\n",
    "pushed_column_name = sail.core.push_user_data(column_name)\n",
    "set_ds_response = sail.core.set_parameter(sum_column_job_id, \"4C3F2D549B2042E291C47A074A0194A6\", data_id)\n",
    "set_ds_response = sail.core.set_parameter(sum_column_job_id, \"4C275957B5C34C20BD0E02E03330167D\", pushed_column_name)\n",
    "print(\"Column job IP {}\".format(sail.core.get_ip_for_job(sum_column_job_id)))\n",
    "column_result_id = \"{}.{}\".format(sum_column_job_id, \"5036707EAABB46C584FC5DBA75D5718E\")\n",
    "\n",
    "pull_data_result = sail.core.pull_data(column_result_id)"
   ]
  },
  {
   "cell_type": "code",
   "execution_count": null,
   "metadata": {},
   "outputs": [],
   "source": [
    "# Job should be running at this point\n",
    "import base64\n",
    "import pickle\n",
    "\n",
    "message_response = sail.core.wait_for_data(20000)\n",
    "increment_result = 0;\n",
    "while None != message_response:\n",
    "    if ( message_response is not None):\n",
    "        message_json = json.loads(message_response)\n",
    "        if ( message_json[\"SignalType\"] == 3):\n",
    "            data_value = message_json[\"FileData\"]\n",
    "            decoded_value = base64.b64decode(data_value)\n",
    "            un_serialized_value = pickle.loads(decoded_value)\n",
    "            print(\"The sum of column {} is {}\".format(column_name, un_serialized_value))\n",
    "            \n",
    "    message_response = sail.core.wait_for_data(5000)"
   ]
  },
  {
   "cell_type": "code",
   "execution_count": 6,
   "metadata": {},
   "outputs": [
    {
     "data": {
      "text/plain": [
       "0"
      ]
     },
     "execution_count": 6,
     "metadata": {},
     "output_type": "execute_result"
    }
   ],
   "source": [
    "sail.core.deprovision_secure_computational_node('9e803511-6326-4a58-a79c-05c8cd60fc52')"
   ]
  },
  {
   "cell_type": "code",
   "execution_count": null,
   "metadata": {},
   "outputs": [],
   "source": [
    "sail.core.exit_current_session()"
   ]
  }
 ],
 "metadata": {
  "kernelspec": {
   "display_name": "Python 3",
   "language": "python",
   "name": "python3"
  },
  "language_info": {
   "codemirror_mode": {
    "name": "ipython",
    "version": 3
   },
   "file_extension": ".py",
   "mimetype": "text/x-python",
   "name": "python",
   "nbconvert_exporter": "python",
   "pygments_lexer": "ipython3",
   "version": "3.8.10"
  }
 },
 "nbformat": 4,
 "nbformat_minor": 4
}
