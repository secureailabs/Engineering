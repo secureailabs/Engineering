{
 "cells": [
  {
   "cell_type": "code",
   "execution_count": 1,
   "id": "first-camera",
   "metadata": {},
   "outputs": [],
   "source": [
    "import sail\n",
    "import numpy as np\n",
    "import torch\n",
    "import torch.nn as nn\n",
    "import time"
   ]
  },
  {
   "cell_type": "code",
   "execution_count": 2,
   "id": "comparative-lobby",
   "metadata": {},
   "outputs": [],
   "source": [
    "vm1 = sail.connect(\"127.0.0.1\", 7001, \"marine@terran.com\", \"sailpassword\")\n",
    "vm2 = sail.connect(\"127.0.0.1\", 7002, \"marine@terran.com\", \"sailpassword\")\n",
    "vmagg = sail.connect(\"127.0.0.1\", 7003, \"marine@terran.com\", \"sailpassword\")\n",
    "sublist = [vm1, vm2]"
   ]
  },
  {
   "cell_type": "code",
   "execution_count": 3,
   "id": "hawaiian-advertising",
   "metadata": {},
   "outputs": [],
   "source": [
    "fn_getPartyA = sail.registerfn(\"fn_getPartyA.py\", 1, 0, 0, 1)[0]\n",
    "fn_getPartyB = sail.registerfn(\"fn_getPartyB.py\", 1, 0, 0, 1)[0]\n",
    "fn_getGrad = sail.registerfn(\"fn_getGrad.py\", 0, 1, 1, 0)[0]\n",
    "fn_updateGrad = sail.registerfn(\"fn_updateGradients.py\", 1, 1, 0, 1)[0]\n",
    "fn_agg = sail.registerfn(\"fn_agg.py\", 1, 0, 1, 0)[0]\n",
    "fn_test = sail.registerfn(\"fn_test.py\", 1, 1, 1, 0)[0]\n",
    "fn_mae = sail.resgisterfn(\"fn_mae.py\", 2, 0, 1, 0)[0]\n",
    "subfn = [fn_getGrad, fn_updateGrad, fn_test, fn_mae]"
   ]
  },
  {
   "cell_type": "code",
   "execution_count": 4,
   "id": "chicken-satisfaction",
   "metadata": {},
   "outputs": [
    {
     "data": {
      "text/plain": [
       "['2B26A10FEA954ACA800851910D07993F',\n",
       " 'FD923229E05E473B9D9FB28EB49504B3',\n",
       " '2FBB442164AA456183E543433D134C2F']"
      ]
     },
     "execution_count": 4,
     "metadata": {},
     "output_type": "execute_result"
    }
   ],
   "source": [
    "subfn"
   ]
  },
  {
   "cell_type": "code",
   "execution_count": 5,
   "id": "dynamic-alias",
   "metadata": {},
   "outputs": [],
   "source": [
    "for vm in sublist:\n",
    "    for fn in subfn:\n",
    "        sail.pushfn(vm, fn)\n",
    "sail.pushfn(vm1, fn_getPartyA)\n",
    "sail.pushfn(vm2, fn_getPartyB)\n",
    "sail.pushfn(vmagg, fn_agg)"
   ]
  },
  {
   "cell_type": "code",
   "execution_count": 6,
   "id": "sudden-compromise",
   "metadata": {},
   "outputs": [],
   "source": [
    "model = nn.Linear(3, 2)\n",
    "parties = []"
   ]
  },
  {
   "cell_type": "code",
   "execution_count": 7,
   "id": "selective-whale",
   "metadata": {},
   "outputs": [],
   "source": [
    "jobid1 = sail.newguid()\n",
    "sail.pushdata(vm1, jobid1, fn_getPartyA, [model], [], \"/home/jjj/playground\")\n",
    "sail.execjob(vm1, fn_getPartyA, jobid1)\n",
    "result = sail.pulldata(vm1, jobid1, fn_getPartyA, \"/home/jjj/playground\")"
   ]
  },
  {
   "cell_type": "code",
   "execution_count": 8,
   "id": "palestinian-regulation",
   "metadata": {},
   "outputs": [
    {
     "data": {
      "text/plain": [
       "[[], ['CD97826EE1C844B78C62476715A6565F61E669A4347E42C8A4E87823F2CC73F8']]"
      ]
     },
     "execution_count": 8,
     "metadata": {},
     "output_type": "execute_result"
    }
   ],
   "source": [
    "result"
   ]
  },
  {
   "cell_type": "code",
   "execution_count": 9,
   "id": "immediate-neutral",
   "metadata": {},
   "outputs": [],
   "source": [
    "parties.append(result[1][0])"
   ]
  },
  {
   "cell_type": "code",
   "execution_count": 10,
   "id": "previous-slovak",
   "metadata": {},
   "outputs": [],
   "source": [
    "jobid2 = sail.newguid()\n",
    "sail.pushdata(vm2, jobid2, fn_getPartyB, [model], [], \"/home/jjj/playground\")\n",
    "sail.execjob(vm2, fn_getPartyB, jobid2)\n",
    "result = sail.pulldata(vm2, jobid2, fn_getPartyB, \"/home/jjj/playground\")\n",
    "parties.append(result[1][0])"
   ]
  },
  {
   "cell_type": "code",
   "execution_count": 11,
   "id": "personal-gibson",
   "metadata": {},
   "outputs": [],
   "source": [
    "num_epochs = 100"
   ]
  },
  {
   "cell_type": "code",
   "execution_count": 12,
   "id": "combined-conducting",
   "metadata": {},
   "outputs": [
    {
     "name": "stdout",
     "output_type": "stream",
     "text": [
      "processing round: 1\n",
      "processing round: 10\n",
      "processing round: 19\n",
      "processing round: 28\n",
      "processing round: 37\n",
      "processing round: 46\n",
      "processing round: 55\n",
      "processing round: 64\n",
      "processing round: 73\n",
      "processing round: 82\n",
      "processing round: 91\n",
      "processing round: 100\n"
     ]
    }
   ],
   "source": [
    "for epoch in range(num_epochs):\n",
    "    if(epoch%9==0):\n",
    "          print(\"processing round: \"+str(epoch+1))\n",
    "    gradlist = []\n",
    "    time.sleep(0.1)\n",
    "    for i in range(len(sublist)):\n",
    "        jobid3 = sail.newguid()\n",
    "        sail.pushdata(sublist[i], jobid3, fn_getGrad, [], [parties[i]], \"/home/jjj/playground\")\n",
    "        sail.execjob(sublist[i], fn_getGrad, jobid3)\n",
    "        result = sail.pulldata(sublist[i], jobid3, fn_getGrad, \"/home/jjj/playground\")\n",
    "        gradlist.append(result[0][0])\n",
    "    \n",
    "    jobid4 = sail.newguid()\n",
    "    sail.pushdata(vmagg, jobid4, fn_agg, [gradlist], [], \"/home/jjj/playground\")\n",
    "    sail.execjob(vmagg, fn_agg, jobid4)\n",
    "    result = sail.pulldata(vmagg, jobid4, fn_agg, \"/home/jjj/playground\")\n",
    "    newgrad = result[0][0]\n",
    "    \n",
    "    for i in range(len(sublist)):\n",
    "        jobid5 = sail.newguid()\n",
    "        sail.pushdata(sublist[i], jobid5, fn_updateGrad, [newgrad], [parties[i]], \"/home/jjj/playground\")\n",
    "        sail.execjob(sublist[i], fn_updateGrad, jobid5)\n",
    "        result = sail.pulldata(sublist[i], jobid5, fn_updateGrad, \"/home/jjj/playground\")\n",
    "        parties[i] = result[1][0]"
   ]
  },
  {
   "cell_type": "code",
   "execution_count": 13,
   "id": "regulated-liquid",
   "metadata": {},
   "outputs": [],
   "source": [
    "all_inputs = np.array([[73, 67, 43], \n",
    "                   [91, 88, 64], \n",
    "                   [87, 134, 58], \n",
    "                   [102, 43, 37], \n",
    "                   [69, 96, 70]], dtype='float32')\n",
    "all_targets = np.array([[56, 70], \n",
    "                    [81, 101], \n",
    "                    [119, 133], \n",
    "                    [22, 37], \n",
    "                    [103, 119]], dtype='float32')\n",
    "all_inputs = torch.from_numpy(all_inputs)\n",
    "all_targets = torch.from_numpy(all_targets)"
   ]
  },
  {
   "cell_type": "code",
   "execution_count": 14,
   "id": "adaptive-infrastructure",
   "metadata": {},
   "outputs": [],
   "source": [
    "preds = []\n",
    "for i in range(len(sublist)):\n",
    "    jobid6 = sail.newguid()\n",
    "    sail.pushdata(sublist[i], jobid6, fn_test, [all_inputs], [parties[i]], \"/home/jjj/playground\")\n",
    "    sail.execjob(sublist[i], fn_test, jobid6)\n",
    "    result = sail.pulldata(sublist[i], jobid6, fn_test, \"/home/jjj/playground\")\n",
    "    preds.append(result[0][0])"
   ]
  },
  {
   "cell_type": "code",
   "execution_count": 15,
   "id": "intense-documentation",
   "metadata": {},
   "outputs": [
    {
     "data": {
      "text/plain": [
       "[tensor([[ 58.4522,  73.4913],\n",
       "         [ 82.6104,  99.8480],\n",
       "         [115.3775, 128.1072],\n",
       "         [ 29.1866,  56.8975],\n",
       "         [ 97.8328, 106.1374]], requires_grad=True),\n",
       " tensor([[ 58.4522,  73.4913],\n",
       "         [ 82.6104,  99.8480],\n",
       "         [115.3775, 128.1072],\n",
       "         [ 29.1866,  56.8975],\n",
       "         [ 97.8328, 106.1374]], requires_grad=True)]"
      ]
     },
     "execution_count": 15,
     "metadata": {},
     "output_type": "execute_result"
    }
   ],
   "source": [
    "preds"
   ]
  },
  {
   "cell_type": "code",
   "execution_count": 16,
   "id": "authentic-plate",
   "metadata": {},
   "outputs": [
    {
     "data": {
      "text/plain": [
       "tensor([[ 56.,  70.],\n",
       "        [ 81., 101.],\n",
       "        [119., 133.],\n",
       "        [ 22.,  37.],\n",
       "        [103., 119.]])"
      ]
     },
     "execution_count": 16,
     "metadata": {},
     "output_type": "execute_result"
    }
   ],
   "source": [
    "all_targets"
   ]
  },
  {
   "cell_type": "code",
   "execution_count": null,
   "id": "friendly-treasure",
   "metadata": {},
   "outputs": [],
   "source": [
    "mae_errs = []\n",
    "for i in range(len(sublist)):\n",
    "    jobid7 = sail.newguid()\n",
    "    sail.pushdata(sublist[i], jobid7, fn_mae, [preds[i], all_targets], [], \"/home/jjj/playground\")\n",
    "    sail.execjob(sublist[i], fn_mae, jobid7)\n",
    "    result = sail.pulldata(sublist[i], jobid7, fn_mae, \"/home/jjj/playground\")\n",
    "    mae_errs.append(result[0][0])"
   ]
  },
  {
   "cell_type": "code",
   "execution_count": null,
   "id": "facial-header",
   "metadata": {},
   "outputs": [],
   "source": [
    "mae_errs"
   ]
  }
 ],
 "metadata": {
  "kernelspec": {
   "display_name": "Python 3",
   "language": "python",
   "name": "python3"
  },
  "language_info": {
   "codemirror_mode": {
    "name": "ipython",
    "version": 3
   },
   "file_extension": ".py",
   "mimetype": "text/x-python",
   "name": "python",
   "nbconvert_exporter": "python",
   "pygments_lexer": "ipython3",
   "version": "3.8.5"
  }
 },
 "nbformat": 4,
 "nbformat_minor": 5
}
