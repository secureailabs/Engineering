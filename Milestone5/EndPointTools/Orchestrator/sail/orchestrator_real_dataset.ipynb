{
 "cells": [
  {
   "cell_type": "code",
   "execution_count": 1,
   "metadata": {
    "scrolled": false
   },
   "outputs": [
    {
     "name": "stdout",
     "output_type": "stream",
     "text": [
      "{48044DDA-A719-4DD8-99D3-3330365515D5}\n",
      "{219AA7E2-6253-5549-BBA8-89DF5D77639D}\n",
      "{15FA536F-B8A6-4327-A9CF-E63C5C391F87}\n"
     ]
    }
   ],
   "source": [
    "import sail.core\n",
    "import json\n",
    "import getpass\n",
    "\n",
    "# password = getpass.getpass(prompt=\"Password: \")\n",
    "password = \"SailPassword@123\"\n",
    "\n",
    "sail.core.login(\"lbart@igr.com\", password, 6200, \"40.71.25.110\")\n",
    "\n",
    "sail.core.load_safe_objects(\"./SafeObjects\")\n",
    "dg_test_object_guid = \"479F9891BBDE41C2B8A06CF2E29F32AC\"\n",
    "dg_increment_safefunction_guid = \"473001DB64AF456E971296418B6194FE\"\n",
    "\n",
    "job_id = sail.core.run_job(dg_test_object_guid)\n",
    "print(job_id)\n",
    "\n",
    "#second_job_id = sail.core.run_job(dg_test_object_guid)\n",
    "#print(second_job_id)\n",
    "\n",
    "datasets = sail.core.get_datasets()\n",
    "provision_ds = \"\"\n",
    "if ( datasets is not None ):\n",
    "    json_datasets = json.loads(datasets)\n",
    "    provision_ds = list(json_datasets.keys())[0]\n",
    "    print(provision_ds)\n",
    "else:\n",
    "    print(\"No loaded datasets\")\n",
    "    \n",
    "digital_contracts = sail.core.get_digital_contracts()\n",
    "provision_dc = \"\"\n",
    "if ( digital_contracts is not None):\n",
    "    json_digital_contracts = json.loads(digital_contracts)\n",
    "    provision_dc = list(json_digital_contracts.keys())[0]\n",
    "    print(provision_dc)\n",
    "else:\n",
    "    print(\"No digital contracts\")"
   ]
  },
  {
   "cell_type": "code",
   "execution_count": 16,
   "metadata": {},
   "outputs": [
    {
     "name": "stdout",
     "output_type": "stream",
     "text": [
      "{4B33AF16-56BC-4BE9-9252-2F665A03C33E}\n"
     ]
    }
   ],
   "source": [
    "job_id = sail.core.run_job(dg_test_object_guid)\n",
    "print(job_id)"
   ]
  },
  {
   "cell_type": "code",
   "execution_count": 17,
   "metadata": {
    "scrolled": false
   },
   "outputs": [
    {
     "name": "stdout",
     "output_type": "stream",
     "text": [
      "{4B33AF16-56BC-4BE9-9252-2F665A03C33E}:Missing Input Parameters\n"
     ]
    }
   ],
   "source": [
    "job_status = sail.core.get_job_status(job_id)\n",
    "print(\"{}:{}\".format(job_id,job_status))\n",
    "#job_status = sail.core.get_job_status(second_job_id)\n",
    "#print(\"{}:{}\".format(second_job_id,job_status))"
   ]
  },
  {
   "cell_type": "code",
   "execution_count": 3,
   "metadata": {
    "scrolled": true
   },
   "outputs": [
    {
     "name": "stdout",
     "output_type": "stream",
     "text": [
      "{\"SCNGuid\":\"{41805518-0AE0-43B4-80B3-BB5301181745}\",\"Status\":true}\n"
     ]
    }
   ],
   "source": [
    "first_provision = sail.core.provision_secure_computational_node(provision_dc, provision_ds, \"Standard_D8s_v4\")\n",
    "#second_provision = sail.core.provision_secure_computational_node(provision_dc, provision_ds, \"Standard_D8s_v4\")\n",
    "\n",
    "print(first_provision)\n",
    "#print(second_provision)"
   ]
  },
  {
   "cell_type": "code",
   "execution_count": 4,
   "metadata": {
    "scrolled": true
   },
   "outputs": [
    {
     "name": "stdout",
     "output_type": "stream",
     "text": [
      "{\"AllDone\":false,\"Failed\":{},\"InProgress\":{\"{41805518-0AE0-43B4-80B3-BB5301181745}\":\"\"},\"Succeeded\":{}}\n"
     ]
    }
   ],
   "source": [
    "print(sail.core.wait_for_all_secure_nodes_to_be_provisioned(1000))"
   ]
  },
  {
   "cell_type": "code",
   "execution_count": 18,
   "metadata": {},
   "outputs": [
    {
     "name": "stdout",
     "output_type": "stream",
     "text": [
      "First job IP 52.224.48.138\n"
     ]
    }
   ],
   "source": [
    "my_table_guid = \"2534C8FA-0E1A-D442-95A6-8ECB11A39746\"\n",
    "set_ds_response = sail.core.set_parameter(job_id, \"4DC7BEC15B384FBD9BD721B7BF36A984\", my_table_guid)\n",
    "#set_ds_response = sail.core.set_parameter(second_job_id, \"4C8041B4513A44FAA5409662E014519C\", provision_ds)\n",
    "\n",
    "print(\"First job IP {}\".format(sail.core.get_ip_for_job(job_id)))\n",
    "#print(\"Second job IP {}\".format(sail.core.get_ip_for_job(second_job_id)))"
   ]
  },
  {
   "cell_type": "code",
   "execution_count": 19,
   "metadata": {},
   "outputs": [
    {
     "name": "stdout",
     "output_type": "stream",
     "text": [
      "Success\n"
     ]
    }
   ],
   "source": [
    "data_id = \"{}.{}\".format(job_id, \"52A2698D65C44433BEDDFEE508C9065F\")\n",
    "\n",
    "pull_data_result = sail.core.pull_data(data_id)\n",
    "print(pull_data_result)"
   ]
  },
  {
   "cell_type": "code",
   "execution_count": 20,
   "metadata": {
    "scrolled": true
   },
   "outputs": [
    {
     "name": "stdout",
     "output_type": "stream",
     "text": [
      "Job 4B33AF1656BC4BE992522F665A03C33E is running\n",
      "Job 4B33AF1656BC4BE992522F665A03C33E is done\n",
      "Data received      Line Number  AGE   BMI  PD-L1 level before treatment  \\\n",
      "0              0   44  25.4                         86.89   \n",
      "1              1   47  23.9                         80.59   \n",
      "2              2   54  24.0                         86.68   \n",
      "3              3   55  22.5                         89.55   \n",
      "4              4   50  24.4                         89.81   \n",
      "..           ...  ...   ...                           ...   \n",
      "295          295   43  31.2                         83.27   \n",
      "296          296   52  28.5                         81.01   \n",
      "297          297   52  27.5                         82.89   \n",
      "298          298   59  22.6                         86.65   \n",
      "299          299   40  26.2                         87.71   \n",
      "\n",
      "     PD-L1 level after treatment  PD-L2 level before treatment  \\\n",
      "0                          32.49                         33.84   \n",
      "1                          34.19                         34.63   \n",
      "2                          31.12                         37.86   \n",
      "3                          39.72                         35.91   \n",
      "4                          35.04                         36.56   \n",
      "..                           ...                           ...   \n",
      "295                        31.93                         31.86   \n",
      "296                        30.39                         33.01   \n",
      "297                        37.12                         35.96   \n",
      "298                        37.40                         37.66   \n",
      "299                        34.69                         33.15   \n",
      "\n",
      "     PD-L2 level after treatment  PD1 level before treatment  \\\n",
      "0                          38.85                       25.79   \n",
      "1                          30.03                       28.48   \n",
      "2                          31.05                       29.27   \n",
      "3                          32.03                       15.07   \n",
      "4                          26.47                       27.59   \n",
      "..                           ...                         ...   \n",
      "295                        32.27                       25.00   \n",
      "296                        25.41                       19.64   \n",
      "297                        36.71                       29.87   \n",
      "298                        31.75                       12.15   \n",
      "299                        35.74                       23.13   \n",
      "\n",
      "     PD1 level after treatment  \n",
      "0                        29.44  \n",
      "1                        30.15  \n",
      "2                        27.10  \n",
      "3                        20.07  \n",
      "4                         9.59  \n",
      "..                         ...  \n",
      "295                      11.53  \n",
      "296                      25.14  \n",
      "297                      12.98  \n",
      "298                      15.72  \n",
      "299                      18.01  \n",
      "\n",
      "[300 rows x 9 columns]\n"
     ]
    }
   ],
   "source": [
    "import base64\n",
    "import pickle\n",
    "\n",
    "message_response = sail.core.wait_for_data(10000)\n",
    "data_frame = \"\";\n",
    "while None != message_response:\n",
    "    if ( message_response is not None):\n",
    "        message_json = json.loads(message_response)\n",
    "        if ( message_json[\"SignalType\"] == 0):\n",
    "            print(\"Job {} is running\".format(message_json[\"JobUuid\"]))\n",
    "\n",
    "        if ( message_json[\"SignalType\"] == 1):\n",
    "            print(\"Job {} is done\".format(message_json[\"JobUuid\"]))\n",
    "\n",
    "        if ( message_json[\"SignalType\"] == 3):\n",
    "            data_value = message_json[\"FileData\"]\n",
    "            decoded_value = base64.b64decode(data_value)\n",
    "            un_serialized_value = pickle.loads(decoded_value)\n",
    "            print(\"Data received {}\".format(un_serialized_value))\n",
    "            data_frame = un_serialized_value\n",
    "            \n",
    "    message_response = sail.core.wait_for_data(500)"
   ]
  },
  {
   "cell_type": "code",
   "execution_count": null,
   "metadata": {},
   "outputs": [],
   "source": [
    "safe_functions = sail.core.get_safe_functions()\n",
    "if ( safe_functions is not None):\n",
    "    json_safe_functions = json.loads(safe_functions)\n",
    "    print(json.dumps(json_safe_functions,indent=4))\n",
    "else:\n",
    "    print(\"No safe functions\")"
   ]
  },
  {
   "cell_type": "code",
   "execution_count": null,
   "metadata": {},
   "outputs": [],
   "source": [
    "sail.core.exit_current_session()"
   ]
  },
  {
   "cell_type": "code",
   "execution_count": 21,
   "metadata": {},
   "outputs": [
    {
     "data": {
      "text/plain": [
       "1"
      ]
     },
     "execution_count": 21,
     "metadata": {},
     "output_type": "execute_result"
    }
   ],
   "source": [
    "sail.core.deprovision_digital_contract(provision_dc)"
   ]
  },
  {
   "cell_type": "code",
   "execution_count": null,
   "metadata": {},
   "outputs": [],
   "source": [
    "job_id = sail.core.run_job(dg_test_object_guid)\n",
    "print(job_id)"
   ]
  },
  {
   "cell_type": "code",
   "execution_count": null,
   "metadata": {},
   "outputs": [],
   "source": [
    "tables = sail.core.get_tables()\n",
    "if ( tables is not None):\n",
    "    json_tables = json.loads(tables)\n",
    "    print(json.dumps(json_tables, indent=4))\n",
    "else:\n",
    "    print(\"No tables\")\n"
   ]
  },
  {
   "cell_type": "code",
   "execution_count": null,
   "metadata": {},
   "outputs": [],
   "source": [
    "job_id = sail.core.run_job(dg_test_object_guid)\n",
    "print(job_id)"
   ]
  },
  {
   "cell_type": "code",
   "execution_count": null,
   "metadata": {},
   "outputs": [],
   "source": [
    "dg_increment_safefunction_guid = \"473001DB64AF456E971296418B6194FE\"\n",
    "my_table_guid = \"2534C8FA-0E1A-D442-95A6-8ECB11A39746\"\n",
    "\n",
    "increment_job_id = sail.core.run_job(dg_increment_safefunction_guid)\n",
    "print(increment_job_id)\n",
    "\n",
    "pull_data_id = \"{}.{}\".format(increment_job_id, \"51DD83834C2A41D6BB1F49889EA0A0AC\")\n",
    "\n",
    "pull_data_result = sail.core.pull_data(pull_data_id)\n",
    "print(pull_data_result)\n",
    "\n",
    "my_int_guid = sail.core.push_user_data(-15)\n",
    "set_response = sail.core.set_parameter(increment_job_id, \"4C21EDF165AB4EF68853FA05FB805A03\", my_int_guid)\n",
    "set_response = sail.core.set_parameter(increment_job_id, \"4C8041B4513A44FAA5409662E014519C\", my_table_guid)\n",
    "print(my_int_guid)\n",
    "\n",
    "#second_increment_job_id = sail.core.run_job(dg_increment_safefunction_guid)\n",
    "\n",
    "# We want the second job's value to be the result of the first job\n",
    "#pull_data_id = \"{}.{}\".format(increment_job_id, \"51DD83834C2A41D6BB1F49889EA0A0AC\")\n",
    "\n",
    "#second_pull_data_id = \"{}.{}\".format(second_increment_job_id, \"51DD83834C2A41D6BB1F49889EA0A0AC\")\n",
    "#pull_data_result = sail.core.pull_data(second_pull_data_id)\n",
    "\n",
    "#set_response = sail.core.set_parameter(second_increment_job_id, \"4C21EDF165AB4EF68853FA05FB805A03\", pull_data_id)\n",
    "#set_response = sail.core.set_parameter(second_increment_job_id, \"4C8041B4513A44FAA5409662E014519C\", my_table_guid)\n",
    "\n",
    "\n",
    "# Job should be running at this point\n",
    "import base64\n",
    "import pickle\n",
    "\n",
    "message_response = sail.core.wait_for_data(10000)\n",
    "increment_result = 0;\n",
    "while None != message_response:\n",
    "    if ( message_response is not None):\n",
    "        message_json = json.loads(message_response)\n",
    "        if ( message_json[\"SignalType\"] == 0):\n",
    "            print(\"Job {} is running\".format(message_json[\"JobUuid\"]))\n",
    "\n",
    "        if ( message_json[\"SignalType\"] == 1):\n",
    "            print(\"Job {} is done\".format(message_json[\"JobUuid\"]))\n",
    "\n",
    "        if ( message_json[\"SignalType\"] == 3):\n",
    "            data_value = message_json[\"FileData\"]\n",
    "            decoded_value = base64.b64decode(data_value)\n",
    "            un_serialized_value = pickle.loads(decoded_value)\n",
    "            print(\"Data received {} {}\".format(message_json[\"ValueName\"], un_serialized_value))\n",
    "            increment_result = un_serialized_value\n",
    "            \n",
    "    message_response = sail.core.wait_for_data(500)"
   ]
  },
  {
   "cell_type": "code",
   "execution_count": null,
   "metadata": {},
   "outputs": [],
   "source": [
    "pull_data_id = \"{}.{}\".format(job_id, \"51DD83834C2A41D6BB1F49889EA0A0AC\")\n",
    "\n",
    "pull_data_result = sail.core.pull_data(pull_data_id)\n",
    "print(pull_data_result)"
   ]
  },
  {
   "cell_type": "code",
   "execution_count": null,
   "metadata": {
    "scrolled": true
   },
   "outputs": [],
   "source": [
    "digital_contracts = sail.core.get_digital_contracts()\n",
    "provision_dc = \"\"\n",
    "if ( digital_contracts is not None):\n",
    "    json_digital_contracts = json.loads(digital_contracts)\n",
    "    provision_dc = list(json_digital_contracts.keys())[0]\n",
    "    print(provision_dc)\n",
    "    print(json.dumps(json_digital_contracts, indent=4))\n",
    "else:\n",
    "    print(\"No digital contracts\")"
   ]
  },
  {
   "cell_type": "code",
   "execution_count": null,
   "metadata": {},
   "outputs": [],
   "source": [
    "datasets = sail.core.get_datasets()\n",
    "provision_ds = \"\"\n",
    "if ( datasets is not None ):\n",
    "    json_datasets = json.loads(datasets)\n",
    "    provision_ds = list(json_datasets.keys())[0]\n",
    "    print(provision_ds)\n",
    "    print(json.dumps(json_datasets, indent=4))\n",
    "else:\n",
    "    print(\"No loaded datasets\")"
   ]
  },
  {
   "cell_type": "code",
   "execution_count": null,
   "metadata": {},
   "outputs": [],
   "source": []
  }
 ],
 "metadata": {
  "kernelspec": {
   "display_name": "Python 3",
   "language": "python",
   "name": "python3"
  },
  "language_info": {
   "codemirror_mode": {
    "name": "ipython",
    "version": 3
   },
   "file_extension": ".py",
   "mimetype": "text/x-python",
   "name": "python",
   "nbconvert_exporter": "python",
   "pygments_lexer": "ipython3",
   "version": "3.8.10"
  }
 },
 "nbformat": 4,
 "nbformat_minor": 4
}
