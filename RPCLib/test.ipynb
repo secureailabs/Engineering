{
 "cells": [
  {
   "cell_type": "code",
   "execution_count": 1,
   "id": "mathematical-wyoming",
   "metadata": {},
   "outputs": [],
   "source": [
    "from zero import ZeroClient"
   ]
  },
  {
   "cell_type": "code",
   "execution_count": 2,
   "id": "fantastic-chorus",
   "metadata": {},
   "outputs": [],
   "source": [
    "client3 = ZeroClient(\"127.0.0.1\", 5556)"
   ]
  },
  {
   "cell_type": "code",
   "execution_count": 3,
   "id": "operating-sullivan",
   "metadata": {},
   "outputs": [
    {
     "name": "stdout",
     "output_type": "stream",
     "text": [
      "<contextlib._GeneratorContextManager object at 0x7f2df1002640>\n",
      "send msg\n",
      "b\"\\x83\\xa2id\\xd9 468d46335cd04ff99b43ef6bf9a2ff51\\xa4type\\xd9#<class 'dataframe.RemoteDataFrame'>\\xa6object\\x02\"\n",
      "{'id': '468d46335cd04ff99b43ef6bf9a2ff51', 'type': \"<class 'dataframe.RemoteDataFrame'>\", 'object': 2}\n"
     ]
    }
   ],
   "source": [
    "data = {'col1': [1, 2], 'col2': [3, 4]}\n",
    "rdf = client3.proxy(\"dataframe.RemoteDataFrame\", d=data)"
   ]
  },
  {
   "cell_type": "code",
   "execution_count": 5,
   "id": "champion-blood",
   "metadata": {},
   "outputs": [
    {
     "name": "stdout",
     "output_type": "stream",
     "text": [
      "send msg\n",
      "b\"\\x83\\xa4col1\\xcb?\\xf8\\x00\\x00\\x00\\x00\\x00\\x00\\xa4col2\\xcb@\\x0c\\x00\\x00\\x00\\x00\\x00\\x00\\xa8__type__\\xd9#<class 'pandas.core.series.Series'>\"\n",
      "col1    1.5\n",
      "col2    3.5\n",
      "dtype: float64\n"
     ]
    },
    {
     "data": {
      "text/plain": [
       "col1    1.5\n",
       "col2    3.5\n",
       "dtype: float64"
      ]
     },
     "execution_count": 5,
     "metadata": {},
     "output_type": "execute_result"
    }
   ],
   "source": [
    "rdf.mean()"
   ]
  },
  {
   "cell_type": "code",
   "execution_count": 6,
   "id": "commercial-discipline",
   "metadata": {},
   "outputs": [
    {
     "name": "stdout",
     "output_type": "stream",
     "text": [
      "send msg\n",
      "b\"\\x83\\xa4col1\\xcb?\\xe6\\xa0\\x9ef\\x7f;\\xcd\\xa4col2\\xcb?\\xe6\\xa0\\x9ef\\x7f;\\xcd\\xa8__type__\\xd9#<class 'pandas.core.series.Series'>\"\n",
      "col1    0.707107\n",
      "col2    0.707107\n",
      "dtype: float64\n"
     ]
    },
    {
     "data": {
      "text/plain": [
       "col1    0.707107\n",
       "col2    0.707107\n",
       "dtype: float64"
      ]
     },
     "execution_count": 6,
     "metadata": {},
     "output_type": "execute_result"
    }
   ],
   "source": [
    "rdf.std()"
   ]
  },
  {
   "cell_type": "code",
   "execution_count": null,
   "id": "signal-involvement",
   "metadata": {},
   "outputs": [],
   "source": []
  }
 ],
 "metadata": {
  "kernelspec": {
   "display_name": "Python 3",
   "language": "python",
   "name": "python3"
  },
  "language_info": {
   "codemirror_mode": {
    "name": "ipython",
    "version": 3
   },
   "file_extension": ".py",
   "mimetype": "text/x-python",
   "name": "python",
   "nbconvert_exporter": "python",
   "pygments_lexer": "ipython3",
   "version": "3.8.10"
  }
 },
 "nbformat": 4,
 "nbformat_minor": 5
}
