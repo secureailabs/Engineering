{
 "cells": [
  {
   "cell_type": "code",
   "execution_count": 1,
   "metadata": {
    "scrolled": false
   },
   "outputs": [
    {
     "data": {
      "text/plain": [
       "201"
      ]
     },
     "execution_count": 1,
     "metadata": {},
     "output_type": "execute_result"
    }
   ],
   "source": [
    "import sail.core\n",
    "import json\n",
    "import getpass\n",
    "\n",
    "password = \"SailPassword@123\"\n",
    "\n",
    "sail.core.login(\"lbart@igr.com\", password, 6200, \"52.147.201.1\")\n"
   ]
  },
  {
   "cell_type": "code",
   "execution_count": 2,
   "metadata": {},
   "outputs": [
    {
     "name": "stdout",
     "output_type": "stream",
     "text": [
      "Job ID: {4AF0483A-580C-4015-9995-BF48AC51820D} \n"
     ]
    }
   ],
   "source": [
    "#########################################################\n",
    "# Allocate our job and load our SafeObjects\n",
    "#########################################################\n",
    "\n",
    "sail.core.load_safe_objects(\"../SafeObjects\")\n",
    "dg_test_object_guid = \"479F9891BBDE41C2B8A06CF2E29F32AC\"\n",
    "dg_increment_safefunction_guid = \"473001DB64AF456E971296418B6194FE\"\n",
    "dg_sum_column_guid = \"442D0290DEA14CE4B70FB31B891F20B6\"\n",
    "\n",
    "job_id = sail.core.run_job(dg_test_object_guid)\n",
    "print(\"Job ID: {} \".format(job_id))"
   ]
  },
  {
   "cell_type": "code",
   "execution_count": 6,
   "metadata": {},
   "outputs": [
    {
     "name": "stdout",
     "output_type": "stream",
     "text": [
      "DC {162BB07D-4BAC-432E-929D-9084AAE26CC2} DS {2071FE30-A497-0F47-B2DC-F0A8BDB7AED3} TABLE 2547D6F1-AEDB-E741-AA48-7630ABE72F55\n"
     ]
    }
   ],
   "source": [
    "#########################################################\n",
    "# Extract our identifiers\n",
    "#########################################################\n",
    "json_datasets = json.loads(sail.core.get_datasets())\n",
    "json_digital_contracts = json.loads(sail.core.get_digital_contracts())\n",
    "\n",
    "provision_dc = \"\"\n",
    "provision_ds = \"\"\n",
    "my_table_guid = \"\"\n",
    "for dataset in json_datasets:\n",
    "    if(json_datasets[dataset][\"DatasetName\"] == \"SanityDataset\"):\n",
    "        provision_ds = dataset\n",
    "        my_table_guid = list(json_datasets[dataset][\"Tables\"].keys())[0]\n",
    "\n",
    "for digital_contract in json_digital_contracts:\n",
    "    trimmed_ds = provision_ds.replace('{','').replace('}','')\n",
    "    if (json_digital_contracts[digital_contract][\"DatasetGuid\"] == trimmed_ds):\n",
    "        provision_dc = digital_contract\n",
    "    \n",
    "print(\"DC {} DS {} TABLE {}\".format(provision_dc, provision_ds, my_table_guid))"
   ]
  },
  {
   "cell_type": "code",
   "execution_count": 7,
   "metadata": {
    "scrolled": false
   },
   "outputs": [
    {
     "name": "stdout",
     "output_type": "stream",
     "text": [
      "{4AF0483A-580C-4015-9995-BF48AC51820D}:Missing Input Parameters\n"
     ]
    }
   ],
   "source": [
    "job_status = sail.core.get_job_status(job_id)\n",
    "print(\"{}:{}\".format(job_id,job_status))\n",
    "#job_status = sail.core.get_job_status(second_job_id)\n",
    "#print(\"{}:{}\".format(second_job_id,job_status))"
   ]
  },
  {
   "cell_type": "code",
   "execution_count": 8,
   "metadata": {
    "scrolled": false
   },
   "outputs": [
    {
     "name": "stdout",
     "output_type": "stream",
     "text": [
      "Provision ID: {\r\n",
      "    \"Status\": true,\r\n",
      "    \"SCNGuid\": \"{43A800D3-CF11-4BA0-99ED-A0EA0E40C62A}\"\r\n",
      "}\n"
     ]
    }
   ],
   "source": [
    "first_provision = sail.core.provision_secure_computational_node(provision_dc, provision_ds, \"Standard_D4s_v4\")\n",
    "\n",
    "print(\"Provision ID: {}\".format(first_provision))\n"
   ]
  },
  {
   "cell_type": "code",
   "execution_count": 9,
   "metadata": {
    "scrolled": true
   },
   "outputs": [
    {
     "name": "stdout",
     "output_type": "stream",
     "text": [
      "{\r\n",
      "    \"Failed\": {\r\n",
      "\r\n",
      "    },\r\n",
      "    \"Succeeded\": {\r\n",
      "        \"{43A800D3-CF11-4BA0-99ED-A0EA0E40C62A}\": \"\"\r\n",
      "    },\r\n",
      "    \"InProgress\": {\r\n",
      "\r\n",
      "    },\r\n",
      "    \"AllDone\": true\r\n",
      "}\n"
     ]
    }
   ],
   "source": [
    "print(sail.core.wait_for_all_secure_nodes_to_be_provisioned(45000))"
   ]
  },
  {
   "cell_type": "code",
   "execution_count": 10,
   "metadata": {},
   "outputs": [
    {
     "name": "stdout",
     "output_type": "stream",
     "text": [
      "First job IP 20.25.63.26\n"
     ]
    }
   ],
   "source": [
    "############################################################################\n",
    "#\n",
    "# Set the parameters for the job and set a variable for its output\n",
    "#\n",
    "############################################################################\n",
    "\n",
    "set_ds_response = sail.core.set_parameter(job_id, \"4DC7BEC15B384FBD9BD721B7BF36A984\", my_table_guid)\n",
    "#set_ds_response = sail.core.set_parameter(second_job_id, \"4C8041B4513A44FAA5409662E014519C\", provision_ds)\n",
    "data_id = \"{}.{}\".format(job_id, \"52A2698D65C44433BEDDFEE508C9065F\")\n",
    "print(\"First job IP {}\".format(sail.core.get_ip_for_job(job_id)))\n",
    "#print(\"Second job IP {}\".format(sail.core.get_ip_for_job(second_job_id)))"
   ]
  },
  {
   "cell_type": "code",
   "execution_count": 11,
   "metadata": {},
   "outputs": [],
   "source": [
    "data_id = \"{}.{}\".format(job_id, \"52A2698D65C44433BEDDFEE508C9065F\")\n",
    "\n",
    "#pull_data_result = sail.core.pull_data(data_id)\n",
    "#print(pull_data_result)"
   ]
  },
  {
   "cell_type": "code",
   "execution_count": 13,
   "metadata": {
    "scrolled": false
   },
   "outputs": [
    {
     "name": "stdout",
     "output_type": "stream",
     "text": [
      "Job 4AF0483A580C40159995BF48AC51820D is done\n"
     ]
    }
   ],
   "source": [
    "############################################################################\n",
    "#\n",
    "# Produce data frame from CSV\n",
    "#\n",
    "############################################################################\n",
    "\n",
    "import base64\n",
    "import pickle\n",
    "\n",
    "message_response = sail.core.wait_for_data(10000)\n",
    "data_frame = None;\n",
    "while None != message_response:\n",
    "    if ( message_response is not None):\n",
    "        message_json = json.loads(message_response)\n",
    "        if ( message_json[\"SignalType\"] == 0):\n",
    "            print(\"Job {} is running\".format(message_json[\"JobUuid\"]))\n",
    "\n",
    "        if ( message_json[\"SignalType\"] == 1):\n",
    "            print(\"Job {} is done\".format(message_json[\"JobUuid\"]))\n",
    "\n",
    "        if ( message_json[\"SignalType\"] == 3):\n",
    "            data_value = message_json[\"FileData\"]\n",
    "            decoded_value = base64.b64decode(data_value)\n",
    "            un_serialized_value = pickle.loads(decoded_value)\n",
    "            print(\"Dataframe has been processed from CSV\")\n",
    "            data_frame = un_serialized_value\n",
    "            \n",
    "    message_response = sail.core.wait_for_data(2000)\n"
   ]
  },
  {
   "cell_type": "code",
   "execution_count": 14,
   "metadata": {
    "scrolled": true
   },
   "outputs": [
    {
     "name": "stdout",
     "output_type": "stream",
     "text": [
      "Column job IP None\n"
     ]
    }
   ],
   "source": [
    "############################################################################\n",
    "#\n",
    "# Get the sum of a column\n",
    "#\n",
    "############################################################################\n",
    "sum_column_job_id = sail.core.run_job(dg_sum_column_guid)\n",
    "\n",
    "column_name = \"BMI\"\n",
    "# Setup a job to injest a dataframe, and sum a column's name\n",
    "pushed_column_name = sail.core.push_user_data(column_name)\n",
    "set_ds_response = sail.core.set_parameter(sum_column_job_id, \"4C3F2D549B2042E291C47A074A0194A6\", data_id)\n",
    "set_ds_response = sail.core.set_parameter(sum_column_job_id, \"4C275957B5C34C20BD0E02E03330167D\", pushed_column_name)\n",
    "print(\"Column job IP {}\".format(sail.core.get_ip_for_job(sum_column_job_id)))\n",
    "column_result_id = \"{}.{}\".format(sum_column_job_id, \"5036707EAABB46C584FC5DBA75D5718E\")\n",
    "\n",
    "pull_data_result = sail.core.pull_data(column_result_id)"
   ]
  },
  {
   "cell_type": "code",
   "execution_count": 15,
   "metadata": {},
   "outputs": [
    {
     "name": "stdout",
     "output_type": "stream",
     "text": [
      "The sum of column BMI is 7417\n"
     ]
    }
   ],
   "source": [
    "# Job should be running at this point\n",
    "import base64\n",
    "import pickle\n",
    "\n",
    "message_response = sail.core.wait_for_data(20000)\n",
    "increment_result = 0;\n",
    "while None != message_response:\n",
    "    if ( message_response is not None):\n",
    "        message_json = json.loads(message_response)\n",
    "        if ( message_json[\"SignalType\"] == 3):\n",
    "            data_value = message_json[\"FileData\"]\n",
    "            decoded_value = base64.b64decode(data_value)\n",
    "            un_serialized_value = pickle.loads(decoded_value)\n",
    "            print(\"The sum of column {} is {}\".format(column_name, un_serialized_value))\n",
    "            \n",
    "    message_response = sail.core.wait_for_data(5000)"
   ]
  },
  {
   "cell_type": "code",
   "execution_count": null,
   "metadata": {},
   "outputs": [],
   "source": [
    "sail.core.deprovision_digital_contract(provision_dc)"
   ]
  },
  {
   "cell_type": "code",
   "execution_count": null,
   "metadata": {},
   "outputs": [],
   "source": [
    "sail.core.exit_current_session()"
   ]
  },
  {
   "cell_type": "code",
   "execution_count": null,
   "metadata": {},
   "outputs": [],
   "source": []
  },
  {
   "cell_type": "code",
   "execution_count": null,
   "metadata": {},
   "outputs": [],
   "source": []
  },
  {
   "cell_type": "code",
   "execution_count": null,
   "metadata": {},
   "outputs": [],
   "source": []
  },
  {
   "cell_type": "code",
   "execution_count": null,
   "metadata": {},
   "outputs": [],
   "source": []
  },
  {
   "cell_type": "code",
   "execution_count": null,
   "metadata": {},
   "outputs": [],
   "source": [
    "safe_functions = sail.core.get_safe_functions()\n",
    "if ( safe_functions is not None):\n",
    "    json_safe_functions = json.loads(safe_functions)\n",
    "    print(json.dumps(json_safe_functions,indent=4))\n",
    "else:\n",
    "    print(\"No safe functions\")"
   ]
  },
  {
   "cell_type": "code",
   "execution_count": null,
   "metadata": {},
   "outputs": [],
   "source": [
    "job_id = sail.core.run_job(dg_test_object_guid)\n",
    "print(job_id)"
   ]
  },
  {
   "cell_type": "code",
   "execution_count": null,
   "metadata": {},
   "outputs": [],
   "source": [
    "job_id = sail.core.run_job(dg_test_object_guid)\n",
    "print(job_id)"
   ]
  },
  {
   "cell_type": "code",
   "execution_count": null,
   "metadata": {},
   "outputs": [],
   "source": [
    "tables = sail.core.get_tables()\n",
    "if ( tables is not None):\n",
    "    json_tables = json.loads(tables)\n",
    "    print(json.dumps(json_tables, indent=4))\n",
    "else:\n",
    "    print(\"No tables\")\n"
   ]
  },
  {
   "cell_type": "code",
   "execution_count": null,
   "metadata": {},
   "outputs": [],
   "source": [
    "job_id = sail.core.run_job(dg_test_object_guid)\n",
    "print(job_id)"
   ]
  },
  {
   "cell_type": "code",
   "execution_count": null,
   "metadata": {
    "scrolled": false
   },
   "outputs": [],
   "source": [
    "dg_increment_safefunction_guid = \"473001DB64AF456E971296418B6194FE\"\n",
    "my_table_guid = \"25EC141A-735D-E94F-B01F-B66726C14034\"\n",
    "\n",
    "increment_job_id = sail.core.run_job(dg_increment_safefunction_guid)\n",
    "print(increment_job_id)\n",
    "\n",
    "pull_data_id = \"{}.{}\".format(increment_job_id, \"51DD83834C2A41D6BB1F49889EA0A0AC\")\n",
    "\n",
    "#pull_data_result = sail.core.pull_data(pull_data_id)\n",
    "#print(pull_data_result)\n",
    "\n",
    "my_int_guid = sail.core.push_user_data(545)\n",
    "set_response = sail.core.set_parameter(increment_job_id, \"4C21EDF165AB4EF68853FA05FB805A03\", my_int_guid)\n",
    "set_response = sail.core.set_parameter(increment_job_id, \"4C8041B4513A44FAA5409662E014519C\", my_table_guid)\n",
    "print(my_int_guid)\n",
    "\n",
    "print(\"First job IP {}\".format(sail.core.get_ip_for_job(increment_job_id)))\n",
    "\n",
    "# Job should be running at this point\n",
    "import base64\n",
    "import pickle\n",
    "\n",
    "message_response = sail.core.wait_for_data(10000)\n",
    "increment_result = 0;\n",
    "while None != message_response:\n",
    "    if ( message_response is not None):\n",
    "        message_json = json.loads(message_response)\n",
    "        if ( message_json[\"SignalType\"] == 0):\n",
    "            print(\"Job {} is running\".format(message_json[\"JobUuid\"]))\n",
    "\n",
    "        if ( message_json[\"SignalType\"] == 1):\n",
    "            print(\"Job {} is done\".format(message_json[\"JobUuid\"]))\n",
    "\n",
    "        if ( message_json[\"SignalType\"] == 3):\n",
    "            data_value = message_json[\"FileData\"]\n",
    "            decoded_value = base64.b64decode(data_value)\n",
    "            un_serialized_value = pickle.loads(decoded_value)\n",
    "            print(\"Data received {} {}\".format(message_json[\"ValueName\"], un_serialized_value))\n",
    "            increment_result = un_serialized_value\n",
    "            \n",
    "    message_response = sail.core.wait_for_data(1000)"
   ]
  },
  {
   "cell_type": "code",
   "execution_count": null,
   "metadata": {},
   "outputs": [],
   "source": [
    "second_increment_job_id = sail.core.run_job(dg_increment_safefunction_guid)\n",
    "\n",
    "# We want the second job's value to be the result of the first job\n",
    "second_pull_data_id = \"{}.{}\".format(second_increment_job_id, \"51DD83834C2A41D6BB1F49889EA0A0AC\")\n",
    "\n",
    "second_pull_data_result = sail.core.pull_data(second_pull_data_id)\n",
    "\n",
    "set_response = sail.core.set_parameter(second_increment_job_id, \"4C21EDF165AB4EF68853FA05FB805A03\", pull_data_id)\n",
    "set_response = sail.core.set_parameter(second_increment_job_id, \"4C8041B4513A44FAA5409662E014519C\", my_table_guid)\n",
    "\n",
    "print(\"Second job IP {}\".format(sail.core.get_ip_for_job(second_increment_job_id)))\n",
    "\n",
    "# Job should be running at this point\n",
    "import base64\n",
    "import pickle\n",
    "\n",
    "message_response = sail.core.wait_for_data(10000)\n",
    "increment_result = 0;\n",
    "while None != message_response:\n",
    "    if ( message_response is not None):\n",
    "        message_json = json.loads(message_response)\n",
    "        if ( message_json[\"SignalType\"] == 0):\n",
    "            print(\"Job {} is running\".format(message_json[\"JobUuid\"]))\n",
    "\n",
    "        if ( message_json[\"SignalType\"] == 1):\n",
    "            print(\"Job {} is done\".format(message_json[\"JobUuid\"]))\n",
    "\n",
    "        if ( message_json[\"SignalType\"] == 3):\n",
    "            data_value = message_json[\"FileData\"]\n",
    "            decoded_value = base64.b64decode(data_value)\n",
    "            un_serialized_value = pickle.loads(decoded_value)\n",
    "            print(\"Data received {} {}\".format(message_json[\"ValueName\"], un_serialized_value))\n",
    "            increment_result = un_serialized_value\n",
    "            \n",
    "    message_response = sail.core.wait_for_data(1000)"
   ]
  },
  {
   "cell_type": "code",
   "execution_count": null,
   "metadata": {},
   "outputs": [],
   "source": [
    "# Job should be running at this point\n",
    "import base64\n",
    "import pickle\n",
    "\n",
    "message_response = sail.core.wait_for_data(10000)\n",
    "increment_result = 0;\n",
    "while None != message_response:\n",
    "    if ( message_response is not None):\n",
    "        message_json = json.loads(message_response)\n",
    "        if ( message_json[\"SignalType\"] == 0):\n",
    "            print(\"Job {} is running\".format(message_json[\"JobUuid\"]))\n",
    "\n",
    "        if ( message_json[\"SignalType\"] == 1):\n",
    "            print(\"Job {} is done\".format(message_json[\"JobUuid\"]))\n",
    "\n",
    "        if ( message_json[\"SignalType\"] == 3):\n",
    "            data_value = message_json[\"FileData\"]\n",
    "            decoded_value = base64.b64decode(data_value)\n",
    "            un_serialized_value = pickle.loads(decoded_value)\n",
    "            print(\"Data received {} {}\".format(message_json[\"ValueName\"], un_serialized_value))\n",
    "            increment_result = un_serialized_value\n",
    "            \n",
    "    message_response = sail.core.wait_for_data(500)"
   ]
  },
  {
   "cell_type": "code",
   "execution_count": null,
   "metadata": {},
   "outputs": [],
   "source": [
    "pull_data_id = \"{}.{}\".format(job_id, \"51DD83834C2A41D6BB1F49889EA0A0AC\")\n",
    "\n",
    "pull_data_result = sail.core.pull_data(pull_data_id)\n",
    "print(pull_data_result)"
   ]
  },
  {
   "cell_type": "code",
   "execution_count": 4,
   "metadata": {
    "scrolled": true
   },
   "outputs": [
    {
     "name": "stdout",
     "output_type": "stream",
     "text": [
      "{1429879E-8EDD-48F2-976A-CB8A2F9A3712}\n",
      "{\n",
      "    \"{1429879E-8EDD-48F2-976A-CB8A2F9A3712}\": {\n",
      "        \"ContractStage\": 3.0,\n",
      "        \"DOOName\": \"Cancer Research Hospital\",\n",
      "        \"ResearcherOrganization\": \"{04969C3A-77B2-452F-9DFB-1A7FFE6CA56D}\",\n",
      "        \"HostForVirtualMachines\": \"SAIL\",\n",
      "        \"DatasetGuid\": \"{222A023E-892A-452E-8358-D33517372709}\",\n",
      "        \"VersionNumber\": \"0x0000000100000001\",\n",
      "        \"ExpirationTime\": 1658857713.0,\n",
      "        \"EulaAcceptedByROAuthorizedUser\": \"Company grants You a revocable, non-exclusive, non-transferable, limited right to use the dataset on a single machine.\",\n",
      "        \"ROName\": \"International Genetics Research Facility\",\n",
      "        \"ProvisioningStatus\": 3.0,\n",
      "        \"DatasetDRMMetadataSize\": 0.0,\n",
      "        \"AzureTemplateGuid\": \"{00000000-0000-0000-0000-000000000000}\",\n",
      "        \"Description\": \"The dataset will be used to train models for academic research purposes.\",\n",
      "        \"Note\": \"...\",\n",
      "        \"DatasetDRMMetadata\": {\n",
      "            \"__IsEmpty__\": true\n",
      "        },\n",
      "        \"Title\": \"KCA Consortium - CRH\",\n",
      "        \"HostRegion\": \"East US\",\n",
      "        \"ActivationTime\": 1651081713.0,\n",
      "        \"LastActivity\": 1651081713.0,\n",
      "        \"DigitalContractGuid\": \"{1429879E-8EDD-48F2-976A-CB8A2F9A3712}\",\n",
      "        \"DataOwnerOrganization\": \"{04059668-85DE-40F6-B8FB-D9D916C0468D}\",\n",
      "        \"Eula\": \"Company grants You a revocable, non-exclusive, non-transferable, limited right to use the dataset on a single machine.\",\n",
      "        \"LegalAgreement\": \"The Parties acknowledge and agree that this Agreement represents the entire agreement between the Parties. In the event that the Parties desire to change, add, or otherwise modify any terms, they shall do so in writing to be signed by both parties.\",\n",
      "        \"RetentionTime\": 60768913.0,\n",
      "        \"SubscriptionDays\": 90.0,\n",
      "        \"DatasetName\": \"KCA Consortium Data - CRH\",\n",
      "        \"NumberOfVirtualMachines\": 1.0,\n",
      "        \"EulaAcceptedByDOOAuthorizedUser\": \"Company grants You a revocable, non-exclusive, non-transferable, limited right to use the dataset on a single machine.\"\n",
      "    },\n",
      "    \"{15E3540A-27C8-4F8B-97B5-5DC2963B9409}\": {\n",
      "        \"ContractStage\": 3.0,\n",
      "        \"DOOName\": \"Kidney Cancer Association\",\n",
      "        \"ResearcherOrganization\": \"{04969C3A-77B2-452F-9DFB-1A7FFE6CA56D}\",\n",
      "        \"HostForVirtualMachines\": \"SAIL\",\n",
      "        \"DatasetGuid\": \"{2395524D-80EF-4D32-AFA2-6967E667329F}\",\n",
      "        \"VersionNumber\": \"0x0000000100000001\",\n",
      "        \"ExpirationTime\": 1658857713.0,\n",
      "        \"EulaAcceptedByROAuthorizedUser\": \"Company grants You a revocable, non-exclusive, non-transferable, limited right to use the dataset on a single machine.\",\n",
      "        \"ROName\": \"International Genetics Research Facility\",\n",
      "        \"ProvisioningStatus\": 3.0,\n",
      "        \"DatasetDRMMetadataSize\": 0.0,\n",
      "        \"AzureTemplateGuid\": \"{00000000-0000-0000-0000-000000000000}\",\n",
      "        \"Description\": \"The dataset will be used to train models for academic research purposes.\",\n",
      "        \"Note\": \"...\",\n",
      "        \"DatasetDRMMetadata\": {\n",
      "            \"__IsEmpty__\": true\n",
      "        },\n",
      "        \"Title\": \"KCA Consortium - KCA\",\n",
      "        \"HostRegion\": \"East US\",\n",
      "        \"ActivationTime\": 1651081713.0,\n",
      "        \"LastActivity\": 1651081713.0,\n",
      "        \"DigitalContractGuid\": \"{15E3540A-27C8-4F8B-97B5-5DC2963B9409}\",\n",
      "        \"DataOwnerOrganization\": \"{068AC780-5B29-4333-B7A7-72C03913496C}\",\n",
      "        \"Eula\": \"Company grants You a revocable, non-exclusive, non-transferable, limited right to use the dataset on a single machine.\",\n",
      "        \"LegalAgreement\": \"The Parties acknowledge and agree that this Agreement represents the entire agreement between the Parties. In the event that the Parties desire to change, add, or otherwise modify any terms, they shall do so in writing to be signed by both parties.\",\n",
      "        \"RetentionTime\": 24117352.0,\n",
      "        \"SubscriptionDays\": 90.0,\n",
      "        \"DatasetName\": \"KCA Consortium Data - KCA\",\n",
      "        \"NumberOfVirtualMachines\": 1.0,\n",
      "        \"EulaAcceptedByDOOAuthorizedUser\": \"Company grants You a revocable, non-exclusive, non-transferable, limited right to use the dataset on a single machine.\"\n",
      "    },\n",
      "    \"{147F44CE-96B4-4791-AEDC-FE7E0AE65C2A}\": {\n",
      "        \"ContractStage\": 3.0,\n",
      "        \"DOOName\": \"Mercy General Hospital\",\n",
      "        \"ResearcherOrganization\": \"{04969C3A-77B2-452F-9DFB-1A7FFE6CA56D}\",\n",
      "        \"HostForVirtualMachines\": \"SAIL\",\n",
      "        \"DatasetGuid\": \"{21D1AAFD-4430-497E-9BE1-795FDACBA1BB}\",\n",
      "        \"VersionNumber\": \"0x0000000100000001\",\n",
      "        \"ExpirationTime\": 1658857712.0,\n",
      "        \"EulaAcceptedByROAuthorizedUser\": \"Company grants You a revocable, non-exclusive, non-transferable, limited right to use the dataset on a single machine.\",\n",
      "        \"ROName\": \"International Genetics Research Facility\",\n",
      "        \"ProvisioningStatus\": 3.0,\n",
      "        \"DatasetDRMMetadataSize\": 0.0,\n",
      "        \"AzureTemplateGuid\": \"{00000000-0000-0000-0000-000000000000}\",\n",
      "        \"Description\": \"The dataset will be used to train models for academic research purposes.\",\n",
      "        \"Note\": \"...\",\n",
      "        \"DatasetDRMMetadata\": {\n",
      "            \"__IsEmpty__\": true\n",
      "        },\n",
      "        \"Title\": \"KCA Consortium - MGH\",\n",
      "        \"HostRegion\": \"East US\",\n",
      "        \"ActivationTime\": 1651081712.0,\n",
      "        \"LastActivity\": 1651081712.0,\n",
      "        \"DigitalContractGuid\": \"{147F44CE-96B4-4791-AEDC-FE7E0AE65C2A}\",\n",
      "        \"DataOwnerOrganization\": \"{07671B86-8B7E-4CC2-BCE8-EC1FA4DBC757}\",\n",
      "        \"Eula\": \"Company grants You a revocable, non-exclusive, non-transferable, limited right to use the dataset on a single machine.\",\n",
      "        \"LegalAgreement\": \"The Parties acknowledge and agree that this Agreement represents the entire agreement between the Parties. In the event that the Parties desire to change, add, or otherwise modify any terms, they shall do so in writing to be signed by both parties.\",\n",
      "        \"RetentionTime\": 16186603.0,\n",
      "        \"SubscriptionDays\": 90.0,\n",
      "        \"DatasetName\": \"KCA Consortium Data - MGH\",\n",
      "        \"NumberOfVirtualMachines\": 1.0,\n",
      "        \"EulaAcceptedByDOOAuthorizedUser\": \"Company grants You a revocable, non-exclusive, non-transferable, limited right to use the dataset on a single machine.\"\n",
      "    },\n",
      "    \"{162BB07D-4BAC-432E-929D-9084AAE26CC2}\": {\n",
      "        \"ContractStage\": 3.0,\n",
      "        \"DOOName\": \"Mercy General Hospital\",\n",
      "        \"ResearcherOrganization\": \"{04969C3A-77B2-452F-9DFB-1A7FFE6CA56D}\",\n",
      "        \"HostForVirtualMachines\": \"Researcher\",\n",
      "        \"DatasetGuid\": \"2071FE30-A497-0F47-B2DC-F0A8BDB7AED3\",\n",
      "        \"VersionNumber\": \"1.0.0\",\n",
      "        \"ExpirationTime\": 1659724691.0,\n",
      "        \"EulaAcceptedByROAuthorizedUser\": \"Company grants You a revocable, non-exclusive, non-transferable, limited right to use the dataset on a single machine.\",\n",
      "        \"ROName\": \"International Genetics Research Facility\",\n",
      "        \"ProvisioningStatus\": 3.0,\n",
      "        \"DatasetDRMMetadataSize\": 0.0,\n",
      "        \"AzureTemplateGuid\": \"{00000000-0000-0000-0000-000000000000}\",\n",
      "        \"Description\": \"This is a sanity test\",\n",
      "        \"Note\": \"...\",\n",
      "        \"DatasetDRMMetadata\": {\n",
      "            \"__IsEmpty__\": true\n",
      "        },\n",
      "        \"Title\": \"SanityAccess\",\n",
      "        \"HostRegion\": \"eastus\",\n",
      "        \"ActivationTime\": 1651084691.0,\n",
      "        \"LastActivity\": 1651084691.0,\n",
      "        \"DigitalContractGuid\": \"{162BB07D-4BAC-432E-929D-9084AAE26CC2}\",\n",
      "        \"DataOwnerOrganization\": \"{07671B86-8B7E-4CC2-BCE8-EC1FA4DBC757}\",\n",
      "        \"Eula\": \"Company grants You a revocable, non-exclusive, non-transferable, limited right to use the dataset on a single machine.\",\n",
      "        \"LegalAgreement\": \"Sanity Agreement\",\n",
      "        \"RetentionTime\": 100.0,\n",
      "        \"SubscriptionDays\": 100.0,\n",
      "        \"DatasetName\": \"SanityDataset\",\n",
      "        \"NumberOfVirtualMachines\": 1.0,\n",
      "        \"EulaAcceptedByDOOAuthorizedUser\": \"Company grants You a revocable, non-exclusive, non-transferable, limited right to use the dataset on a single machine.\"\n",
      "    }\n",
      "}\n"
     ]
    }
   ],
   "source": [
    "digital_contracts = sail.core.get_digital_contracts()\n",
    "provision_dc = \"\"\n",
    "if ( digital_contracts is not None):\n",
    "    json_digital_contracts = json.loads(digital_contracts)\n",
    "    provision_dc = list(json_digital_contracts.keys())[0]\n",
    "    print(provision_dc)\n",
    "    print(json.dumps(json_digital_contracts, indent=4))\n",
    "else:\n",
    "    print(\"No digital contracts\")"
   ]
  },
  {
   "cell_type": "code",
   "execution_count": null,
   "metadata": {},
   "outputs": [],
   "source": [
    "datasets = sail.core.get_datasets()\n",
    "provision_ds = \"\"\n",
    "if ( datasets is not None ):\n",
    "    json_datasets = json.loads(datasets)\n",
    "    provision_ds = list(json_datasets.keys())[0]\n",
    "    print(provision_ds)\n",
    "    print(json.dumps(json_datasets, indent=4))\n",
    "    for dataset in json_datasets:\n",
    "        if dataset[1]\n",
    "else:\n",
    "    print(\"No loaded datasets\")"
   ]
  },
  {
   "cell_type": "code",
   "execution_count": null,
   "metadata": {},
   "outputs": [],
   "source": []
  }
 ],
 "metadata": {
  "kernelspec": {
   "display_name": "Python 3",
   "language": "python",
   "name": "python3"
  },
  "language_info": {
   "codemirror_mode": {
    "name": "ipython",
    "version": 3
   },
   "file_extension": ".py",
   "mimetype": "text/x-python",
   "name": "python",
   "nbconvert_exporter": "python",
   "pygments_lexer": "ipython3",
   "version": "3.8.10"
  }
 },
 "nbformat": 4,
 "nbformat_minor": 4
}
