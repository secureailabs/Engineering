{
 "cells": [
  {
   "cell_type": "code",
   "execution_count": 1,
   "id": "alternative-chinese",
   "metadata": {},
   "outputs": [],
   "source": [
    "from zero import ZeroClient\n",
    "import client_data\n",
    "import client_ml\n",
    "import client_plot\n",
    "import client_stat\n",
    "from prefect import task, Flow, Parameter\n",
    "from prefect.tasks.prefect import create_flow_run, wait_for_flow_run\n",
    "import time"
   ]
  },
  {
   "cell_type": "code",
   "execution_count": 2,
   "id": "nuclear-information",
   "metadata": {},
   "outputs": [],
   "source": [
    "client1 = ZeroClient(\"localhost\", 5559)\n",
    "client2 = ZeroClient(\"localhost\", 5558)\n",
    "client3 = ZeroClient(\"localhost\", 5557)\n",
    "clients = [client1, client2, client3]"
   ]
  },
  {
   "cell_type": "code",
   "execution_count": 3,
   "id": "empirical-continent",
   "metadata": {},
   "outputs": [
    {
     "name": "stdout",
     "output_type": "stream",
     "text": [
      "<contextlib._GeneratorContextManager object at 0x7f9c94dda580>\n",
      "<contextlib._GeneratorContextManager object at 0x7f9d30118580>\n",
      "<contextlib._GeneratorContextManager object at 0x7f9d30118760>\n"
     ]
    }
   ],
   "source": [
    "dfs = []\n",
    "for i in range(len(clients)):\n",
    "    data_id =  \"cardio_70000_\" + str(i) + \".txt\"\n",
    "    df = client_data.client_csv_to_df(clients[i], data_id, sep = ';')\n",
    "    dfs.append(df)"
   ]
  },
  {
   "cell_type": "code",
   "execution_count": 4,
   "id": "varying-illustration",
   "metadata": {},
   "outputs": [
    {
     "data": {
      "text/plain": [
       "[{'id': '7aaae2e130694c25973eb4f4217f513d',\n",
       "  'type': \"<class 'pandas.core.frame.DataFrame'>\",\n",
       "  '_SecretClientObject': True},\n",
       " {'id': 'ac9a93a66e59424d8364c5ceee85cf53',\n",
       "  'type': \"<class 'pandas.core.frame.DataFrame'>\",\n",
       "  '_SecretClientObject': True},\n",
       " {'id': 'c724ad33fdbd4e9f920433d530d06d90',\n",
       "  'type': \"<class 'pandas.core.frame.DataFrame'>\",\n",
       "  '_SecretClientObject': True}]"
      ]
     },
     "execution_count": 4,
     "metadata": {},
     "output_type": "execute_result"
    }
   ],
   "source": [
    "dfs"
   ]
  },
  {
   "cell_type": "code",
   "execution_count": 5,
   "id": "plastic-trace",
   "metadata": {},
   "outputs": [],
   "source": [
    "df_height_cols = []\n",
    "for i in range(len(clients)):\n",
    "    height_col = client_data.client_df_get_col(clients[i], dfs[i], \"height\")\n",
    "    df_height_cols.append(height_col)"
   ]
  },
  {
   "cell_type": "code",
   "execution_count": 6,
   "id": "continuous-parish",
   "metadata": {},
   "outputs": [
    {
     "data": {
      "text/plain": [
       "[{'id': 'ff5c55996150424395931670f78a5f57',\n",
       "  'type': \"<class 'pandas.core.series.Series'>\",\n",
       "  '_SecretClientObject': True},\n",
       " {'id': '5f1d607128084dcca4c766d9fa965d35',\n",
       "  'type': \"<class 'pandas.core.series.Series'>\",\n",
       "  '_SecretClientObject': True},\n",
       " {'id': 'ad5bb338fdb7404785259fe76328a254',\n",
       "  'type': \"<class 'pandas.core.series.Series'>\",\n",
       "  '_SecretClientObject': True}]"
      ]
     },
     "execution_count": 6,
     "metadata": {},
     "output_type": "execute_result"
    }
   ],
   "source": [
    "df_height_cols"
   ]
  },
  {
   "cell_type": "code",
   "execution_count": 7,
   "id": "introductory-stack",
   "metadata": {},
   "outputs": [
    {
     "data": {
      "text/plain": [
       "164.35922857142856"
      ]
     },
     "execution_count": 7,
     "metadata": {},
     "output_type": "execute_result"
    }
   ],
   "source": [
    "fed_mean = client_stat.fed_mean(clients, df_height_cols)\n",
    "fed_mean"
   ]
  },
  {
   "cell_type": "code",
   "execution_count": 8,
   "id": "mature-graduation",
   "metadata": {},
   "outputs": [
    {
     "data": {
      "text/plain": [
       "(54.768564816137605, 250.11703191519757)"
      ]
     },
     "execution_count": 8,
     "metadata": {},
     "output_type": "execute_result"
    }
   ],
   "source": [
    "fed_min_max = client_stat.fed_min_max(clients, df_height_cols)\n",
    "fed_min_max"
   ]
  },
  {
   "cell_type": "code",
   "execution_count": 9,
   "id": "incorporate-scenario",
   "metadata": {},
   "outputs": [
    {
     "data": {
      "text/plain": [
       "-0.6421736909174576"
      ]
     },
     "execution_count": 9,
     "metadata": {},
     "output_type": "execute_result"
    }
   ],
   "source": [
    "fed_skewness = client_stat.fed_skewness(clients, df_height_cols)\n",
    "fed_skewness"
   ]
  },
  {
   "cell_type": "code",
   "execution_count": 10,
   "id": "hourly-grave",
   "metadata": {},
   "outputs": [
    {
     "data": {
      "text/plain": [
       "7.942999474186861"
      ]
     },
     "execution_count": 10,
     "metadata": {},
     "output_type": "execute_result"
    }
   ],
   "source": [
    "fed_kurtosis = client_stat.fed_kurtosis(clients, df_height_cols)\n",
    "fed_kurtosis"
   ]
  },
  {
   "cell_type": "code",
   "execution_count": 11,
   "id": "dental-balloon",
   "metadata": {},
   "outputs": [
    {
     "data": {
      "text/plain": [
       "67.40617492168882"
      ]
     },
     "execution_count": 11,
     "metadata": {},
     "output_type": "execute_result"
    }
   ],
   "source": [
    "fed_variance = client_stat.fed_variance(clients, df_height_cols)\n",
    "fed_variance"
   ]
  },
  {
   "cell_type": "code",
   "execution_count": 12,
   "id": "harmful-timer",
   "metadata": {},
   "outputs": [],
   "source": [
    "df_ap_hi_cols = []\n",
    "for i in range(len(clients)):\n",
    "    ap_hi = client_data.client_df_get_col(clients[i], dfs[i], \"ap_hi\")\n",
    "    df_ap_hi_cols.append(ap_hi)"
   ]
  },
  {
   "cell_type": "code",
   "execution_count": 13,
   "id": "pleasant-healthcare",
   "metadata": {},
   "outputs": [
    {
     "data": {
      "text/plain": [
       "(0.0054877641584091, 69998)"
      ]
     },
     "execution_count": 13,
     "metadata": {},
     "output_type": "execute_result"
    }
   ],
   "source": [
    "fed_pearson = client_stat.fed_pearson(clients, df_height_cols, df_ap_hi_cols)\n",
    "fed_pearson"
   ]
  },
  {
   "cell_type": "code",
   "execution_count": 19,
   "id": "rental-destiny",
   "metadata": {},
   "outputs": [],
   "source": [
    "import numpy as np\n",
    "import math\n",
    "mu = 164.35922857142856\n",
    "sigma = math.sqrt(67.40617492168882)\n",
    "norm_sample_1 = np.random.normal(mu, sigma, 34999)\n",
    "norm_sample_1 = np.round(norm_sample_1).astype(int).tolist()\n",
    "norm_sample_2 = np.random.normal(mu, sigma, 12254)\n",
    "norm_sample_2 = np.round(norm_sample_2).astype(int).tolist()\n",
    "norm_sample_3 = np.random.normal(mu, sigma, 22747)\n",
    "norm_sample_3 = np.round(norm_sample_3).astype(int).tolist()\n",
    "height_norm_sample = [norm_sample_1, norm_sample_2, norm_sample_3]"
   ]
  },
  {
   "cell_type": "code",
   "execution_count": 20,
   "id": "exact-bullet",
   "metadata": {},
   "outputs": [
    {
     "data": {
      "text/plain": [
       "(6525.303698184403, 0.9999902978196219)"
      ]
     },
     "execution_count": 20,
     "metadata": {},
     "output_type": "execute_result"
    }
   ],
   "source": [
    "chi2 = client_stat.fed_chi_square(clients, df_height_cols, height_norm_sample)\n",
    "chi2"
   ]
  },
  {
   "cell_type": "code",
   "execution_count": 21,
   "id": "laden-pizza",
   "metadata": {},
   "outputs": [
    {
     "data": {
      "text/plain": [
       "(73.78703094197174, 139998)"
      ]
     },
     "execution_count": 21,
     "metadata": {},
     "output_type": "execute_result"
    }
   ],
   "source": [
    "levene = client_stat.fed_levene(clients, df_height_cols, height_norm_sample, [mu, mu, mu], [mu, mu, mu])\n",
    "levene"
   ]
  },
  {
   "cell_type": "code",
   "execution_count": 22,
   "id": "hazardous-electric",
   "metadata": {},
   "outputs": [
    {
     "data": {
      "text/plain": [
       "(-0.25595980366407073, 69999)"
      ]
     },
     "execution_count": 22,
     "metadata": {},
     "output_type": "execute_result"
    }
   ],
   "source": [
    "paired_t = client_stat.fed_paired_t(clients, df_height_cols, height_norm_sample)\n",
    "paired_t"
   ]
  },
  {
   "cell_type": "code",
   "execution_count": 23,
   "id": "geological-guard",
   "metadata": {},
   "outputs": [
    {
     "ename": "TypeError",
     "evalue": "client_unpaired_t_agg() missing 1 required positional argument: 'equal_varriances'",
     "output_type": "error",
     "traceback": [
      "\u001b[0;31m---------------------------------------------------------------------------\u001b[0m",
      "\u001b[0;31mTypeError\u001b[0m                                 Traceback (most recent call last)",
      "\u001b[0;32m<ipython-input-23-d1e260e4608f>\u001b[0m in \u001b[0;36m<module>\u001b[0;34m\u001b[0m\n\u001b[0;32m----> 1\u001b[0;31m \u001b[0munpaired_t\u001b[0m \u001b[0;34m=\u001b[0m \u001b[0mclient_stat\u001b[0m\u001b[0;34m.\u001b[0m\u001b[0mfed_unpaired_t\u001b[0m\u001b[0;34m(\u001b[0m\u001b[0mclients\u001b[0m\u001b[0;34m,\u001b[0m \u001b[0mdf_height_cols\u001b[0m\u001b[0;34m,\u001b[0m \u001b[0mheight_norm_sample\u001b[0m\u001b[0;34m)\u001b[0m\u001b[0;34m\u001b[0m\u001b[0;34m\u001b[0m\u001b[0m\n\u001b[0m\u001b[1;32m      2\u001b[0m \u001b[0munpaired_t\u001b[0m\u001b[0;34m\u001b[0m\u001b[0;34m\u001b[0m\u001b[0m\n",
      "\u001b[0;32m~/ScratchPad/JingweiZhang/prefect_related/client_stat.py\u001b[0m in \u001b[0;36mfed_unpaired_t\u001b[0;34m(clients, sample_0_series, sample_1_series)\u001b[0m\n\u001b[1;32m    155\u001b[0m         \u001b[0mres\u001b[0m \u001b[0;34m=\u001b[0m \u001b[0mclient_unpaired_t\u001b[0m\u001b[0;34m(\u001b[0m\u001b[0mclient\u001b[0m\u001b[0;34m,\u001b[0m \u001b[0msample_0_series\u001b[0m\u001b[0;34m[\u001b[0m\u001b[0mi\u001b[0m\u001b[0;34m]\u001b[0m\u001b[0;34m,\u001b[0m \u001b[0msample_1_series\u001b[0m\u001b[0;34m[\u001b[0m\u001b[0mi\u001b[0m\u001b[0;34m]\u001b[0m\u001b[0;34m)\u001b[0m\u001b[0;34m\u001b[0m\u001b[0;34m\u001b[0m\u001b[0m\n\u001b[1;32m    156\u001b[0m         \u001b[0mprecompute\u001b[0m\u001b[0;34m.\u001b[0m\u001b[0mappend\u001b[0m\u001b[0;34m(\u001b[0m\u001b[0mres\u001b[0m\u001b[0;34m)\u001b[0m\u001b[0;34m\u001b[0m\u001b[0;34m\u001b[0m\u001b[0m\n\u001b[0;32m--> 157\u001b[0;31m     \u001b[0;32mreturn\u001b[0m \u001b[0mclient_unpaired_t_agg\u001b[0m\u001b[0;34m(\u001b[0m\u001b[0mclients\u001b[0m\u001b[0;34m[\u001b[0m\u001b[0;36m0\u001b[0m\u001b[0;34m]\u001b[0m\u001b[0;34m,\u001b[0m \u001b[0mprecompute\u001b[0m\u001b[0;34m)\u001b[0m\u001b[0;34m\u001b[0m\u001b[0;34m\u001b[0m\u001b[0m\n\u001b[0m\u001b[1;32m    158\u001b[0m \u001b[0;34m\u001b[0m\u001b[0m\n\u001b[1;32m    159\u001b[0m \u001b[0;32mdef\u001b[0m \u001b[0mfed_variance\u001b[0m\u001b[0;34m(\u001b[0m\u001b[0mclients\u001b[0m\u001b[0;34m,\u001b[0m \u001b[0msample_0\u001b[0m\u001b[0;34m)\u001b[0m\u001b[0;34m:\u001b[0m\u001b[0;34m\u001b[0m\u001b[0;34m\u001b[0m\u001b[0m\n",
      "\u001b[0;31mTypeError\u001b[0m: client_unpaired_t_agg() missing 1 required positional argument: 'equal_varriances'"
     ]
    }
   ],
   "source": [
    "unpaired_t = client_stat.fed_unpaired_t(clients, df_height_cols, height_norm_sample)\n",
    "unpaired_t"
   ]
  },
  {
   "cell_type": "code",
   "execution_count": null,
   "id": "selected-piece",
   "metadata": {},
   "outputs": [],
   "source": []
  },
  {
   "cell_type": "code",
   "execution_count": null,
   "id": "creative-short",
   "metadata": {},
   "outputs": [],
   "source": [
    "#fed_kolmogorov_smirnovdef"
   ]
  },
  {
   "cell_type": "code",
   "execution_count": null,
   "id": "dirty-spirituality",
   "metadata": {},
   "outputs": [],
   "source": [
    "#fed_mann_whitney"
   ]
  },
  {
   "cell_type": "code",
   "execution_count": null,
   "id": "israeli-storm",
   "metadata": {},
   "outputs": [],
   "source": [
    "#fed_wilcoxon_signed_rank"
   ]
  }
 ],
 "metadata": {
  "kernelspec": {
   "display_name": "Python 3",
   "language": "python",
   "name": "python3"
  },
  "language_info": {
   "codemirror_mode": {
    "name": "ipython",
    "version": 3
   },
   "file_extension": ".py",
   "mimetype": "text/x-python",
   "name": "python",
   "nbconvert_exporter": "python",
   "pygments_lexer": "ipython3",
   "version": "3.8.10"
  }
 },
 "nbformat": 4,
 "nbformat_minor": 5
}
