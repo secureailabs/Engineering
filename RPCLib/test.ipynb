{
 "cells": [
  {
   "cell_type": "code",
   "execution_count": 1,
   "id": "curious-replica",
   "metadata": {},
   "outputs": [],
   "source": [
    "from zero import ZeroClient\n",
    "from sail_orchestrator_lib.data import utils"
   ]
  },
  {
   "cell_type": "code",
   "execution_count": 2,
   "id": "brazilian-convert",
   "metadata": {},
   "outputs": [],
   "source": [
    "client3 = ZeroClient(\"127.0.0.1\", 5556)\n",
    "DATA_PATH = \"/home/jjj/sail_lib/sail_test/sail_test/data_sail_safe_functions\""
   ]
  },
  {
   "cell_type": "code",
   "execution_count": 3,
   "id": "proved-thomas",
   "metadata": {},
   "outputs": [],
   "source": [
    "data = {'col1': [1, 2], 'col2': [3, 4]}\n",
    "rdf = client3.proxy(\"dataframe.RemoteDataFrame\", d=data)"
   ]
  },
  {
   "cell_type": "code",
   "execution_count": 4,
   "id": "executive-soccer",
   "metadata": {},
   "outputs": [
    {
     "data": {
      "text/plain": [
       "[<zero.client.Proxy at 0x7fda767c6b20>]"
      ]
     },
     "execution_count": 4,
     "metadata": {},
     "output_type": "execute_result"
    }
   ],
   "source": [
    "series_federated_1"
   ]
  },
  {
   "cell_type": "code",
   "execution_count": 5,
   "id": "rapid-knight",
   "metadata": {},
   "outputs": [
    {
     "name": "stdout",
     "output_type": "stream",
     "text": [
      "send msg\n",
      "b\"\\x83\\xa4col1\\xcb?\\xf8\\x00\\x00\\x00\\x00\\x00\\x00\\xa4col2\\xcb@\\x0c\\x00\\x00\\x00\\x00\\x00\\x00\\xa8__type__\\xd9#<class 'pandas.core.series.Series'>\"\n",
      "col1    1.5\n",
      "col2    3.5\n",
      "dtype: float64\n"
     ]
    },
    {
     "data": {
      "text/plain": [
       "col1    1.5\n",
       "col2    3.5\n",
       "dtype: float64"
      ]
     },
     "execution_count": 5,
     "metadata": {},
     "output_type": "execute_result"
    }
   ],
   "source": [
    "rdf.mean()"
   ]
  },
  {
   "cell_type": "code",
   "execution_count": 6,
   "id": "spread-fellow",
   "metadata": {},
   "outputs": [
    {
     "name": "stdout",
     "output_type": "stream",
     "text": [
      "send msg\n",
      "b\"\\x83\\xa4col1\\xcb?\\xe6\\xa0\\x9ef\\x7f;\\xcd\\xa4col2\\xcb?\\xe6\\xa0\\x9ef\\x7f;\\xcd\\xa8__type__\\xd9#<class 'pandas.core.series.Series'>\"\n",
      "col1    0.707107\n",
      "col2    0.707107\n",
      "dtype: float64\n"
     ]
    },
    {
     "data": {
      "text/plain": [
       "col1    0.707107\n",
       "col2    0.707107\n",
       "dtype: float64"
      ]
     },
     "execution_count": 6,
     "metadata": {},
     "output_type": "execute_result"
    }
   ],
   "source": [
    "rdf.std()"
   ]
  },
  {
   "cell_type": "code",
   "execution_count": null,
   "id": "requested-peter",
   "metadata": {},
   "outputs": [],
   "source": []
  }
 ],
 "metadata": {
  "kernelspec": {
   "display_name": "Python 3",
   "language": "python",
   "name": "python3"
  },
  "language_info": {
   "codemirror_mode": {
    "name": "ipython",
    "version": 3
   },
   "file_extension": ".py",
   "mimetype": "text/x-python",
   "name": "python",
   "nbconvert_exporter": "python",
   "pygments_lexer": "ipython3",
   "version": "3.8.10"
  }
 },
 "nbformat": 4,
 "nbformat_minor": 5
}
