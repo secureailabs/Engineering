{
 "cells": [
  {
   "cell_type": "code",
   "execution_count": 1,
   "id": "fancy-python",
   "metadata": {},
   "outputs": [],
   "source": [
    "from sail.data import RemoteDataFrame\n",
    "from sail.core import connect, newguid, get_fns, registersafeobj, querydata, pushsafeobj"
   ]
  },
  {
   "cell_type": "code",
   "execution_count": 2,
   "id": "blond-equity",
   "metadata": {},
   "outputs": [],
   "source": [
    "registersafeobj(\"/home/jjj/playground/demo/safeobjects/safeobjects\")"
   ]
  },
  {
   "cell_type": "code",
   "execution_count": 3,
   "id": "fuzzy-headquarters",
   "metadata": {},
   "outputs": [],
   "source": [
    "fns = get_fns()"
   ]
  },
  {
   "cell_type": "code",
   "execution_count": 4,
   "id": "heated-analysis",
   "metadata": {},
   "outputs": [
    {
     "data": {
      "text/plain": [
       "['{C241FA42-6ED5-4A8A-9C07-9967456B45C7}',\n",
       " '{5C92D80B-6299-403F-B3D0-467EDDF36411}',\n",
       " '{1DDE8119-A61C-48C2-A82A-94C838C96AF9}']"
      ]
     },
     "execution_count": 4,
     "metadata": {},
     "output_type": "execute_result"
    }
   ],
   "source": [
    "vm1 = connect(\"20.102.54.72\", 3500, \"lbart@igr.com\", \"sailpassword\")\n",
    "vm2 = connect(\"20.102.54.228\", 3500, \"lbart@igr.com\", \"sailpassword\")\n",
    "vm3 = connect(\"23.101.131.178\", 3500, \"lbart@igr.com\", \"sailpassword\")\n",
    "vms = [vm1, vm2, vm3]\n",
    "vms"
   ]
  },
  {
   "cell_type": "code",
   "execution_count": 5,
   "id": "industrial-horse",
   "metadata": {},
   "outputs": [],
   "source": [
    "for vm in vms:\n",
    "    for key in fns:\n",
    "        pushsafeobj(vm, fns[key])"
   ]
  },
  {
   "cell_type": "code",
   "execution_count": 6,
   "id": "jewish-princess",
   "metadata": {},
   "outputs": [
    {
     "data": {
      "text/plain": [
       "['60F08A025A553442806C74C1A368C2AF',\n",
       " '51827D851897CB419D2CF54FD0EA3AD0',\n",
       " 'FA87CB60F7FF314CA4705967ADE48421']"
      ]
     },
     "execution_count": 6,
     "metadata": {},
     "output_type": "execute_result"
    }
   ],
   "source": [
    "tableid1 = querydata(vm1)\n",
    "tableid2 = querydata(vm2)\n",
    "tableid3 = querydata(vm3)\n",
    "table = [tableid1[0], tableid2[0], tableid3[0]]\n",
    "table"
   ]
  },
  {
   "cell_type": "code",
   "execution_count": 7,
   "id": "entitled-flavor",
   "metadata": {},
   "outputs": [],
   "source": [
    "df = []\n",
    "for i in range(3):\n",
    "    rdf = RemoteDataFrame(vms[i], table[i], fns)\n",
    "    df.append(rdf)"
   ]
  },
  {
   "cell_type": "code",
   "execution_count": 8,
   "id": "resident-experiment",
   "metadata": {},
   "outputs": [
    {
     "name": "stdout",
     "output_type": "stream",
     "text": [
      "Index(['Unnamed: 0', 'age', 'postcode', 'salary'], dtype='object')\n",
      "Index(['Unnamed: 0', 'age', 'postcode', 'salary'], dtype='object')\n",
      "Index(['Unnamed: 0', 'age', 'postcode', 'salary'], dtype='object')\n"
     ]
    }
   ],
   "source": [
    "for i in range(3):\n",
    "    print(df[i].columns)"
   ]
  },
  {
   "cell_type": "code",
   "execution_count": 9,
   "id": "dress-trail",
   "metadata": {},
   "outputs": [
    {
     "name": "stdout",
     "output_type": "stream",
     "text": [
      "On party 0, we have total 1 records matching the condition\n"
     ]
    },
    {
     "ename": "RuntimeError",
     "evalue": "Cannot complete the requested job due to a possible policy violation: too few samples",
     "output_type": "error",
     "traceback": [
      "\u001b[0;31m---------------------------------------------------------------------------\u001b[0m",
      "\u001b[0;31mRuntimeError\u001b[0m                              Traceback (most recent call last)",
      "\u001b[0;32m<ipython-input-9-51ac22415808>\u001b[0m in \u001b[0;36m<module>\u001b[0;34m\u001b[0m\n\u001b[1;32m      3\u001b[0m     \u001b[0mrdf\u001b[0m \u001b[0;34m=\u001b[0m \u001b[0mRemoteDataFrame\u001b[0m\u001b[0;34m(\u001b[0m\u001b[0mvms\u001b[0m\u001b[0;34m[\u001b[0m\u001b[0mi\u001b[0m\u001b[0;34m]\u001b[0m\u001b[0;34m,\u001b[0m \u001b[0mdf_id\u001b[0m\u001b[0;34m,\u001b[0m \u001b[0mfns\u001b[0m\u001b[0;34m)\u001b[0m\u001b[0;34m\u001b[0m\u001b[0;34m\u001b[0m\u001b[0m\n\u001b[1;32m      4\u001b[0m     \u001b[0mprint\u001b[0m\u001b[0;34m(\u001b[0m\u001b[0;34m'On party {0}, we have total {1} records matching the condition'\u001b[0m\u001b[0;34m.\u001b[0m\u001b[0mformat\u001b[0m\u001b[0;34m(\u001b[0m\u001b[0mi\u001b[0m\u001b[0;34m,\u001b[0m  \u001b[0mrdf\u001b[0m\u001b[0;34m.\u001b[0m\u001b[0mshape\u001b[0m\u001b[0;34m[\u001b[0m\u001b[0;36m0\u001b[0m\u001b[0;34m]\u001b[0m\u001b[0;34m)\u001b[0m\u001b[0;34m)\u001b[0m\u001b[0;34m\u001b[0m\u001b[0;34m\u001b[0m\u001b[0m\n\u001b[0;32m----> 5\u001b[0;31m     \u001b[0mprint\u001b[0m\u001b[0;34m(\u001b[0m\u001b[0;34m'the sample has an average salary of {0}'\u001b[0m\u001b[0;34m.\u001b[0m\u001b[0mformat\u001b[0m\u001b[0;34m(\u001b[0m\u001b[0mrdf\u001b[0m\u001b[0;34m[\u001b[0m\u001b[0;34m'salary'\u001b[0m\u001b[0;34m]\u001b[0m\u001b[0;34m.\u001b[0m\u001b[0mmean\u001b[0m\u001b[0;34m(\u001b[0m\u001b[0;34m)\u001b[0m\u001b[0;34m)\u001b[0m\u001b[0;34m)\u001b[0m\u001b[0;34m\u001b[0m\u001b[0;34m\u001b[0m\u001b[0m\n\u001b[0m",
      "\u001b[0;32m/usr/local/lib/python3.8/dist-packages/sail/data/remote_series.py\u001b[0m in \u001b[0;36mmean\u001b[0;34m(self, axis, skipna, level, numeric_only, **kwargs)\u001b[0m\n\u001b[1;32m     70\u001b[0m         \u001b[0msubmitjob\u001b[0m\u001b[0;34m(\u001b[0m\u001b[0mself\u001b[0m\u001b[0;34m.\u001b[0m\u001b[0mvm\u001b[0m\u001b[0;34m,\u001b[0m \u001b[0mself\u001b[0m\u001b[0;34m.\u001b[0m\u001b[0mfns\u001b[0m\u001b[0;34m[\u001b[0m\u001b[0;34m'series_mean'\u001b[0m\u001b[0;34m]\u001b[0m\u001b[0;34m,\u001b[0m \u001b[0mjobid\u001b[0m\u001b[0;34m)\u001b[0m\u001b[0;34m\u001b[0m\u001b[0;34m\u001b[0m\u001b[0m\n\u001b[1;32m     71\u001b[0m         \u001b[0mpulldata\u001b[0m\u001b[0;34m(\u001b[0m\u001b[0mself\u001b[0m\u001b[0;34m.\u001b[0m\u001b[0mvm\u001b[0m\u001b[0;34m,\u001b[0m \u001b[0mjobid\u001b[0m\u001b[0;34m,\u001b[0m \u001b[0mself\u001b[0m\u001b[0;34m.\u001b[0m\u001b[0mfns\u001b[0m\u001b[0;34m[\u001b[0m\u001b[0;34m'series_mean'\u001b[0m\u001b[0;34m]\u001b[0m\u001b[0;34m)\u001b[0m\u001b[0;34m\u001b[0m\u001b[0;34m\u001b[0m\u001b[0m\n\u001b[0;32m---> 72\u001b[0;31m         \u001b[0mresult\u001b[0m \u001b[0;34m=\u001b[0m \u001b[0mqueryresult\u001b[0m\u001b[0;34m(\u001b[0m\u001b[0mjobid\u001b[0m\u001b[0;34m,\u001b[0m \u001b[0mself\u001b[0m\u001b[0;34m.\u001b[0m\u001b[0mfns\u001b[0m\u001b[0;34m[\u001b[0m\u001b[0;34m'series_mean'\u001b[0m\u001b[0;34m]\u001b[0m\u001b[0;34m)\u001b[0m\u001b[0;34m\u001b[0m\u001b[0;34m\u001b[0m\u001b[0m\n\u001b[0m\u001b[1;32m     73\u001b[0m         \u001b[0;32mreturn\u001b[0m \u001b[0mresult\u001b[0m\u001b[0;34m[\u001b[0m\u001b[0;36m0\u001b[0m\u001b[0;34m]\u001b[0m\u001b[0;34m\u001b[0m\u001b[0;34m\u001b[0m\u001b[0m\n",
      "\u001b[0;32m/usr/local/lib/python3.8/dist-packages/sail/core/sailcore.py\u001b[0m in \u001b[0;36mqueryresult\u001b[0;34m(jobid, fnid)\u001b[0m\n\u001b[1;32m     58\u001b[0m \u001b[0;34m\u001b[0m\u001b[0m\n\u001b[1;32m     59\u001b[0m     \u001b[0;32mif\u001b[0m\u001b[0;34m(\u001b[0m\u001b[0mjobstatus\u001b[0m \u001b[0;34m==\u001b[0m \u001b[0;34m-\u001b[0m\u001b[0;36m2\u001b[0m\u001b[0;34m)\u001b[0m\u001b[0;34m:\u001b[0m\u001b[0;34m\u001b[0m\u001b[0;34m\u001b[0m\u001b[0m\n\u001b[0;32m---> 60\u001b[0;31m         \u001b[0;32mraise\u001b[0m \u001b[0mRuntimeError\u001b[0m\u001b[0;34m(\u001b[0m\u001b[0;34m\"Cannot complete the requested job due to a possible policy violation: {0}\"\u001b[0m\u001b[0;34m.\u001b[0m\u001b[0mformat\u001b[0m\u001b[0;34m(\u001b[0m\u001b[0;34m\"too few samples\"\u001b[0m\u001b[0;34m)\u001b[0m\u001b[0;34m)\u001b[0m\u001b[0;34m\u001b[0m\u001b[0;34m\u001b[0m\u001b[0m\n\u001b[0m\u001b[1;32m     61\u001b[0m \u001b[0;34m\u001b[0m\u001b[0m\n\u001b[1;32m     62\u001b[0m     \u001b[0mbytelist\u001b[0m \u001b[0;34m=\u001b[0m  \u001b[0mSAILPyAPI\u001b[0m\u001b[0;34m.\u001b[0m\u001b[0mqueryresult\u001b[0m\u001b[0;34m(\u001b[0m\u001b[0mjobid\u001b[0m\u001b[0;34m,\u001b[0m \u001b[0mfnid\u001b[0m\u001b[0;34m)\u001b[0m\u001b[0;34m\u001b[0m\u001b[0;34m\u001b[0m\u001b[0m\n",
      "\u001b[0;31mRuntimeError\u001b[0m: Cannot complete the requested job due to a possible policy violation: too few samples"
     ]
    }
   ],
   "source": [
    "for i in range(3):\n",
    "    df_id = df[i].query(\"age>20 & age<60 & postcode==2125\")\n",
    "    rdf = RemoteDataFrame(vms[i], df_id, fns)\n",
    "    print('On party {0}, we have total {1} records matching the condition'.format(i,  rdf.shape[0]))\n",
    "    print('the sample has an average salary of {0}'.format(rdf['salary'].mean()))"
   ]
  },
  {
   "cell_type": "code",
   "execution_count": 10,
   "id": "solved-resource",
   "metadata": {
    "collapsed": true,
    "jupyter": {
     "outputs_hidden": true
    }
   },
   "outputs": [
    {
     "name": "stdout",
     "output_type": "stream",
     "text": [
      "On party 0, we have total 35 records matching the condition\n",
      "the sample has an average salary of 130322.08571428571\n",
      "On party 1, we have total 17 records matching the condition\n",
      "the sample has an average salary of 130250.94117647059\n",
      "On party 2, we have total 23 records matching the condition\n",
      "the sample has an average salary of 128760.95652173914\n"
     ]
    }
   ],
   "source": [
    "for i in range(3):\n",
    "    df_id = df[i].query(\"age>20 & age<60 & postcode==2114\")\n",
    "    rdf = RemoteDataFrame(vms[i], df_id, fns)\n",
    "    print('On party {0}, we have total {1} records matching the condition'.format(i,  rdf.shape[0]))\n",
    "    print('the sample has an average salary of {0}'.format(rdf['salary'].mean()))"
   ]
  },
  {
   "cell_type": "code",
   "execution_count": null,
   "id": "designed-leeds",
   "metadata": {},
   "outputs": [],
   "source": [
    "#salary no decimal"
   ]
  }
 ],
 "metadata": {
  "kernelspec": {
   "display_name": "Python 3",
   "language": "python",
   "name": "python3"
  },
  "language_info": {
   "codemirror_mode": {
    "name": "ipython",
    "version": 3
   },
   "file_extension": ".py",
   "mimetype": "text/x-python",
   "name": "python",
   "nbconvert_exporter": "python",
   "pygments_lexer": "ipython3",
   "version": "3.8.10"
  }
 },
 "nbformat": 4,
 "nbformat_minor": 5
}
