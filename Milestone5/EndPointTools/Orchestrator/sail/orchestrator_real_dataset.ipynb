{
 "cells": [
  {
   "cell_type": "code",
   "execution_count": 1,
   "metadata": {
    "scrolled": false
   },
   "outputs": [
    {
     "name": "stdout",
     "output_type": "stream",
     "text": [
      "{48A9BCF6-6F9B-4A3F-8E2B-AA52B093BEE9}\n",
      "{219AA7E2-6253-5549-BBA8-89DF5D77639D}\n",
      "{15FA536F-B8A6-4327-A9CF-E63C5C391F87}\n"
     ]
    }
   ],
   "source": [
    "import sail.core\n",
    "import json\n",
    "import getpass\n",
    "\n",
    "# password = getpass.getpass(prompt=\"Password: \")\n",
    "password = \"SailPassword@123\"\n",
    "\n",
    "sail.core.login(\"lbart@igr.com\", password, 6200, \"40.71.25.110\")\n",
    "\n",
    "sail.core.load_safe_objects(\"./SafeObjects\")\n",
    "dg_test_object_guid = \"479F9891BBDE41C2B8A06CF2E29F32AC\"\n",
    "dg_increment_safefunction_guid = \"473001DB64AF456E971296418B6194FE\"\n",
    "\n",
    "job_id = sail.core.run_job(dg_test_object_guid)\n",
    "print(job_id)\n",
    "\n",
    "#second_job_id = sail.core.run_job(dg_test_object_guid)\n",
    "#print(second_job_id)\n",
    "\n",
    "datasets = sail.core.get_datasets()\n",
    "provision_ds = \"\"\n",
    "if ( datasets is not None ):\n",
    "    json_datasets = json.loads(datasets)\n",
    "    provision_ds = list(json_datasets.keys())[0]\n",
    "    print(provision_ds)\n",
    "else:\n",
    "    print(\"No loaded datasets\")\n",
    "    \n",
    "digital_contracts = sail.core.get_digital_contracts()\n",
    "provision_dc = \"\"\n",
    "if ( digital_contracts is not None):\n",
    "    json_digital_contracts = json.loads(digital_contracts)\n",
    "    provision_dc = list(json_digital_contracts.keys())[0]\n",
    "    print(provision_dc)\n",
    "else:\n",
    "    print(\"No digital contracts\")"
   ]
  },
  {
   "cell_type": "code",
   "execution_count": null,
   "metadata": {},
   "outputs": [],
   "source": [
    "job_id = sail.core.run_job(dg_test_object_guid)\n",
    "print(job_id)"
   ]
  },
  {
   "cell_type": "code",
   "execution_count": null,
   "metadata": {
    "scrolled": false
   },
   "outputs": [],
   "source": [
    "job_status = sail.core.get_job_status(job_id)\n",
    "print(\"{}:{}\".format(job_id,job_status))\n",
    "#job_status = sail.core.get_job_status(second_job_id)\n",
    "#print(\"{}:{}\".format(second_job_id,job_status))"
   ]
  },
  {
   "cell_type": "code",
   "execution_count": 2,
   "metadata": {
    "scrolled": true
   },
   "outputs": [
    {
     "name": "stdout",
     "output_type": "stream",
     "text": [
      "{\"SCNGuid\":\"{4328C9E3-B992-4C06-997E-C3ABAD33DC60}\",\"Status\":true}\n"
     ]
    }
   ],
   "source": [
    "first_provision = sail.core.provision_secure_computational_node(provision_dc, provision_ds, \"Standard_D8s_v4\")\n",
    "#second_provision = sail.core.provision_secure_computational_node(provision_dc, provision_ds, \"Standard_D8s_v4\")\n",
    "\n",
    "print(first_provision)\n",
    "#print(second_provision)"
   ]
  },
  {
   "cell_type": "code",
   "execution_count": 4,
   "metadata": {
    "scrolled": true
   },
   "outputs": [
    {
     "name": "stdout",
     "output_type": "stream",
     "text": [
      "{\"AllDone\":false,\"Failed\":{},\"InProgress\":{\"{4328C9E3-B992-4C06-997E-C3ABAD33DC60}\":\"\"},\"Succeeded\":{}}\n"
     ]
    }
   ],
   "source": [
    "print(sail.core.wait_for_all_secure_nodes_to_be_provisioned(1000))"
   ]
  },
  {
   "cell_type": "code",
   "execution_count": null,
   "metadata": {},
   "outputs": [],
   "source": [
    "my_table_guid = \"2534C8FA-0E1A-D442-95A6-8ECB11A39746\"\n",
    "set_ds_response = sail.core.set_parameter(job_id, \"4DC7BEC15B384FBD9BD721B7BF36A984\", my_table_guid)\n",
    "#set_ds_response = sail.core.set_parameter(second_job_id, \"4C8041B4513A44FAA5409662E014519C\", provision_ds)\n",
    "\n",
    "print(\"First job IP {}\".format(sail.core.get_ip_for_job(job_id)))\n",
    "#print(\"Second job IP {}\".format(sail.core.get_ip_for_job(second_job_id)))"
   ]
  },
  {
   "cell_type": "code",
   "execution_count": null,
   "metadata": {},
   "outputs": [],
   "source": [
    "data_id = \"{}.{}\".format(job_id, \"52A2698D65C44433BEDDFEE508C9065F\")\n",
    "\n",
    "pull_data_result = sail.core.pull_data(data_id)\n",
    "print(pull_data_result)"
   ]
  },
  {
   "cell_type": "code",
   "execution_count": null,
   "metadata": {
    "scrolled": true
   },
   "outputs": [],
   "source": [
    "import base64\n",
    "import pickle\n",
    "\n",
    "message_response = sail.core.wait_for_data(10000)\n",
    "data_frame = \"\";\n",
    "while None != message_response:\n",
    "    if ( message_response is not None):\n",
    "        message_json = json.loads(message_response)\n",
    "        if ( message_json[\"SignalType\"] == 0):\n",
    "            print(\"Job {} is running\".format(message_json[\"JobUuid\"]))\n",
    "\n",
    "        if ( message_json[\"SignalType\"] == 1):\n",
    "            print(\"Job {} is done\".format(message_json[\"JobUuid\"]))\n",
    "\n",
    "        if ( message_json[\"SignalType\"] == 3):\n",
    "            data_value = message_json[\"FileData\"]\n",
    "            decoded_value = base64.b64decode(data_value)\n",
    "            un_serialized_value = pickle.loads(decoded_value)\n",
    "            print(\"Data received {}\".format(un_serialized_value))\n",
    "            data_frame = un_serialized_value\n",
    "            \n",
    "    message_response = sail.core.wait_for_data(500)"
   ]
  },
  {
   "cell_type": "code",
   "execution_count": null,
   "metadata": {},
   "outputs": [],
   "source": [
    "safe_functions = sail.core.get_safe_functions()\n",
    "if ( safe_functions is not None):\n",
    "    json_safe_functions = json.loads(safe_functions)\n",
    "    print(json.dumps(json_safe_functions,indent=4))\n",
    "else:\n",
    "    print(\"No safe functions\")"
   ]
  },
  {
   "cell_type": "code",
   "execution_count": null,
   "metadata": {},
   "outputs": [],
   "source": [
    "sail.core.exit_current_session()"
   ]
  },
  {
   "cell_type": "code",
   "execution_count": null,
   "metadata": {},
   "outputs": [],
   "source": [
    "sail.core.deprovision_digital_contract(provision_dc)"
   ]
  },
  {
   "cell_type": "code",
   "execution_count": null,
   "metadata": {},
   "outputs": [],
   "source": [
    "job_id = sail.core.run_job(dg_test_object_guid)\n",
    "print(job_id)"
   ]
  },
  {
   "cell_type": "code",
   "execution_count": null,
   "metadata": {},
   "outputs": [],
   "source": [
    "tables = sail.core.get_tables()\n",
    "if ( tables is not None):\n",
    "    json_tables = json.loads(tables)\n",
    "    print(json.dumps(json_tables, indent=4))\n",
    "else:\n",
    "    print(\"No tables\")\n"
   ]
  },
  {
   "cell_type": "code",
   "execution_count": null,
   "metadata": {},
   "outputs": [],
   "source": [
    "job_id = sail.core.run_job(dg_test_object_guid)\n",
    "print(job_id)"
   ]
  },
  {
   "cell_type": "code",
   "execution_count": 5,
   "metadata": {
    "scrolled": false
   },
   "outputs": [
    {
     "name": "stdout",
     "output_type": "stream",
     "text": [
      "{48CD466F-5AF9-4616-9A6C-FD6D5F6A0D90}\n",
      "Success\n",
      "{57D0645A-C3DD-4150-8F48-AD00E9B0109A}\n",
      "Job 48CD466F5AF946169A6CFD6D5F6A0D90 is running\n",
      "Job 48CD466F5AF946169A6CFD6D5F6A0D90 is done\n",
      "Data received 48CD466F5AF946169A6CFD6D5F6A0D90.51DD83834C2A41D6BB1F49889EA0A0AC 458\n"
     ]
    }
   ],
   "source": [
    "dg_increment_safefunction_guid = \"473001DB64AF456E971296418B6194FE\"\n",
    "my_table_guid = \"2534C8FA-0E1A-D442-95A6-8ECB11A39746\"\n",
    "\n",
    "increment_job_id = sail.core.run_job(dg_increment_safefunction_guid)\n",
    "print(increment_job_id)\n",
    "\n",
    "pull_data_id = \"{}.{}\".format(increment_job_id, \"51DD83834C2A41D6BB1F49889EA0A0AC\")\n",
    "\n",
    "pull_data_result = sail.core.pull_data(pull_data_id)\n",
    "print(pull_data_result)\n",
    "\n",
    "my_int_guid = sail.core.push_user_data(851)\n",
    "set_response = sail.core.set_parameter(increment_job_id, \"4C21EDF165AB4EF68853FA05FB805A03\", my_int_guid)\n",
    "set_response = sail.core.set_parameter(increment_job_id, \"4C8041B4513A44FAA5409662E014519C\", my_table_guid)\n",
    "print(my_int_guid)\n",
    "\n",
    "# Job should be running at this point\n",
    "import base64\n",
    "import pickle\n",
    "\n",
    "message_response = sail.core.wait_for_data(10000)\n",
    "increment_result = 0;\n",
    "while None != message_response:\n",
    "    if ( message_response is not None):\n",
    "        message_json = json.loads(message_response)\n",
    "        if ( message_json[\"SignalType\"] == 0):\n",
    "            print(\"Job {} is running\".format(message_json[\"JobUuid\"]))\n",
    "\n",
    "        if ( message_json[\"SignalType\"] == 1):\n",
    "            print(\"Job {} is done\".format(message_json[\"JobUuid\"]))\n",
    "\n",
    "        if ( message_json[\"SignalType\"] == 3):\n",
    "            data_value = message_json[\"FileData\"]\n",
    "            decoded_value = base64.b64decode(data_value)\n",
    "            un_serialized_value = pickle.loads(decoded_value)\n",
    "            print(\"Data received {} {}\".format(message_json[\"ValueName\"], un_serialized_value))\n",
    "            increment_result = un_serialized_value\n",
    "            \n",
    "    message_response = sail.core.wait_for_data(1000)"
   ]
  },
  {
   "cell_type": "code",
   "execution_count": 8,
   "metadata": {},
   "outputs": [
    {
     "name": "stdout",
     "output_type": "stream",
     "text": [
      "Job 4AC52601DCEB4921AF547BAAC9F310BD is running\n",
      "Job 4AC52601DCEB4921AF547BAAC9F310BD is done\n",
      "Data received 4AC52601DCEB4921AF547BAAC9F310BD.51DD83834C2A41D6BB1F49889EA0A0AC 459\n"
     ]
    }
   ],
   "source": [
    "second_increment_job_id = sail.core.run_job(dg_increment_safefunction_guid)\n",
    "\n",
    "# We want the second job's value to be the result of the first job\n",
    "second_pull_data_id = \"{}.{}\".format(second_increment_job_id, \"51DD83834C2A41D6BB1F49889EA0A0AC\")\n",
    "\n",
    "second_pull_data_result = sail.core.pull_data(second_pull_data_id)\n",
    "\n",
    "set_response = sail.core.set_parameter(second_increment_job_id, \"4C21EDF165AB4EF68853FA05FB805A03\", pull_data_id)\n",
    "set_response = sail.core.set_parameter(second_increment_job_id, \"4C8041B4513A44FAA5409662E014519C\", my_table_guid)\n",
    "\n",
    "# Job should be running at this point\n",
    "import base64\n",
    "import pickle\n",
    "\n",
    "message_response = sail.core.wait_for_data(10000)\n",
    "increment_result = 0;\n",
    "while None != message_response:\n",
    "    if ( message_response is not None):\n",
    "        message_json = json.loads(message_response)\n",
    "        if ( message_json[\"SignalType\"] == 0):\n",
    "            print(\"Job {} is running\".format(message_json[\"JobUuid\"]))\n",
    "\n",
    "        if ( message_json[\"SignalType\"] == 1):\n",
    "            print(\"Job {} is done\".format(message_json[\"JobUuid\"]))\n",
    "\n",
    "        if ( message_json[\"SignalType\"] == 3):\n",
    "            data_value = message_json[\"FileData\"]\n",
    "            decoded_value = base64.b64decode(data_value)\n",
    "            un_serialized_value = pickle.loads(decoded_value)\n",
    "            print(\"Data received {} {}\".format(message_json[\"ValueName\"], un_serialized_value))\n",
    "            increment_result = un_serialized_value\n",
    "            \n",
    "    message_response = sail.core.wait_for_data(1000)"
   ]
  },
  {
   "cell_type": "code",
   "execution_count": 7,
   "metadata": {},
   "outputs": [],
   "source": [
    "# Job should be running at this point\n",
    "import base64\n",
    "import pickle\n",
    "\n",
    "message_response = sail.core.wait_for_data(10000)\n",
    "increment_result = 0;\n",
    "while None != message_response:\n",
    "    if ( message_response is not None):\n",
    "        message_json = json.loads(message_response)\n",
    "        if ( message_json[\"SignalType\"] == 0):\n",
    "            print(\"Job {} is running\".format(message_json[\"JobUuid\"]))\n",
    "\n",
    "        if ( message_json[\"SignalType\"] == 1):\n",
    "            print(\"Job {} is done\".format(message_json[\"JobUuid\"]))\n",
    "\n",
    "        if ( message_json[\"SignalType\"] == 3):\n",
    "            data_value = message_json[\"FileData\"]\n",
    "            decoded_value = base64.b64decode(data_value)\n",
    "            un_serialized_value = pickle.loads(decoded_value)\n",
    "            print(\"Data received {} {}\".format(message_json[\"ValueName\"], un_serialized_value))\n",
    "            increment_result = un_serialized_value\n",
    "            \n",
    "    message_response = sail.core.wait_for_data(500)"
   ]
  },
  {
   "cell_type": "code",
   "execution_count": null,
   "metadata": {},
   "outputs": [],
   "source": [
    "pull_data_id = \"{}.{}\".format(job_id, \"51DD83834C2A41D6BB1F49889EA0A0AC\")\n",
    "\n",
    "pull_data_result = sail.core.pull_data(pull_data_id)\n",
    "print(pull_data_result)"
   ]
  },
  {
   "cell_type": "code",
   "execution_count": null,
   "metadata": {
    "scrolled": true
   },
   "outputs": [],
   "source": [
    "digital_contracts = sail.core.get_digital_contracts()\n",
    "provision_dc = \"\"\n",
    "if ( digital_contracts is not None):\n",
    "    json_digital_contracts = json.loads(digital_contracts)\n",
    "    provision_dc = list(json_digital_contracts.keys())[0]\n",
    "    print(provision_dc)\n",
    "    print(json.dumps(json_digital_contracts, indent=4))\n",
    "else:\n",
    "    print(\"No digital contracts\")"
   ]
  },
  {
   "cell_type": "code",
   "execution_count": null,
   "metadata": {},
   "outputs": [],
   "source": [
    "datasets = sail.core.get_datasets()\n",
    "provision_ds = \"\"\n",
    "if ( datasets is not None ):\n",
    "    json_datasets = json.loads(datasets)\n",
    "    provision_ds = list(json_datasets.keys())[0]\n",
    "    print(provision_ds)\n",
    "    print(json.dumps(json_datasets, indent=4))\n",
    "else:\n",
    "    print(\"No loaded datasets\")"
   ]
  },
  {
   "cell_type": "code",
   "execution_count": null,
   "metadata": {},
   "outputs": [],
   "source": []
  }
 ],
 "metadata": {
  "kernelspec": {
   "display_name": "Python 3",
   "language": "python",
   "name": "python3"
  },
  "language_info": {
   "codemirror_mode": {
    "name": "ipython",
    "version": 3
   },
   "file_extension": ".py",
   "mimetype": "text/x-python",
   "name": "python",
   "nbconvert_exporter": "python",
   "pygments_lexer": "ipython3",
   "version": "3.8.10"
  }
 },
 "nbformat": 4,
 "nbformat_minor": 4
}
