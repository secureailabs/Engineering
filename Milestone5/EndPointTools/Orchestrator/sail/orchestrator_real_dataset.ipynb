{
 "cells": [
  {
   "cell_type": "code",
   "execution_count": 1,
   "metadata": {
    "scrolled": false
   },
   "outputs": [
    {
     "name": "stdout",
     "output_type": "stream",
     "text": [
      "Job ID: {49C36C59-761B-43D3-BE71-5F85FBF09B3F} \n",
      "Datset: {219AA7E2-6253-5549-BBA8-89DF5D77639D}\n",
      "Digital Contract: {15FA536F-B8A6-4327-A9CF-E63C5C391F87}\n"
     ]
    }
   ],
   "source": [
    "import sail.core\n",
    "import json\n",
    "import getpass\n",
    "\n",
    "#password = None\n",
    "#password = getpass.getpass(prompt=\"Password: \")\n",
    "password = \"SailPassword@123\"\n",
    "\n",
    "sail.core.login(\"lbart@igr.com\", password, 6200, \"40.71.25.110\")\n",
    "\n",
    "sail.core.load_safe_objects(\"./SafeObjects\")\n",
    "dg_test_object_guid = \"479F9891BBDE41C2B8A06CF2E29F32AC\"\n",
    "dg_increment_safefunction_guid = \"473001DB64AF456E971296418B6194FE\"\n",
    "dg_sum_column_guid = \"441F628312304189886D5074D603C618\"\n",
    "\n",
    "job_id = sail.core.run_job(dg_test_object_guid)\n",
    "print(\"Job ID: {} \".format(job_id))\n",
    "\n",
    "datasets = sail.core.get_datasets()\n",
    "provision_ds = \"\"\n",
    "if ( datasets is not None ):\n",
    "    json_datasets = json.loads(datasets)\n",
    "    provision_ds = list(json_datasets.keys())[0]\n",
    "    print(\"Datset: {}\".format(provision_ds))\n",
    "else:\n",
    "    print(\"No loaded datasets\")\n",
    "    \n",
    "digital_contracts = sail.core.get_digital_contracts()\n",
    "provision_dc = \"\"\n",
    "if ( digital_contracts is not None):\n",
    "    json_digital_contracts = json.loads(digital_contracts)\n",
    "    provision_dc = list(json_digital_contracts.keys())[0]\n",
    "    print(\"Digital Contract: {}\".format(provision_dc))\n",
    "else:\n",
    "    print(\"No digital contracts\")"
   ]
  },
  {
   "cell_type": "code",
   "execution_count": 2,
   "metadata": {
    "scrolled": false
   },
   "outputs": [
    {
     "name": "stdout",
     "output_type": "stream",
     "text": [
      "{49C36C59-761B-43D3-BE71-5F85FBF09B3F}:Missing Input Parameters\n"
     ]
    }
   ],
   "source": [
    "job_status = sail.core.get_job_status(job_id)\n",
    "print(\"{}:{}\".format(job_id,job_status))\n",
    "#job_status = sail.core.get_job_status(second_job_id)\n",
    "#print(\"{}:{}\".format(second_job_id,job_status))"
   ]
  },
  {
   "cell_type": "code",
   "execution_count": 3,
   "metadata": {
    "scrolled": true
   },
   "outputs": [
    {
     "name": "stdout",
     "output_type": "stream",
     "text": [
      "Provision ID: {\"SCNGuid\":\"{40D76E8C-0A1C-4780-A6A1-B60A17B8FF29}\",\"Status\":true}\n"
     ]
    }
   ],
   "source": [
    "first_provision = sail.core.provision_secure_computational_node(provision_dc, provision_ds, \"Standard_D8s_v4\")\n",
    "#second_provision = sail.core.provision_secure_computational_node(provision_dc, provision_ds, \"Standard_D8s_v4\")\n",
    "\n",
    "print(\"Provision ID: {}\".format(first_provision))\n",
    "#print(second_provision)"
   ]
  },
  {
   "cell_type": "code",
   "execution_count": 4,
   "metadata": {
    "scrolled": true
   },
   "outputs": [
    {
     "name": "stdout",
     "output_type": "stream",
     "text": [
      "{\"AllDone\":true,\"Failed\":{},\"InProgress\":{},\"Succeeded\":{\"{40D76E8C-0A1C-4780-A6A1-B60A17B8FF29}\":\"\"}}\n"
     ]
    }
   ],
   "source": [
    "print(sail.core.wait_for_all_secure_nodes_to_be_provisioned(45000))"
   ]
  },
  {
   "cell_type": "code",
   "execution_count": 5,
   "metadata": {},
   "outputs": [
    {
     "name": "stdout",
     "output_type": "stream",
     "text": [
      "First job IP 13.92.32.195\n"
     ]
    }
   ],
   "source": [
    "my_table_guid = \"2534C8FA-0E1A-D442-95A6-8ECB11A39746\"\n",
    "set_ds_response = sail.core.set_parameter(job_id, \"4DC7BEC15B384FBD9BD721B7BF36A984\", my_table_guid)\n",
    "#set_ds_response = sail.core.set_parameter(second_job_id, \"4C8041B4513A44FAA5409662E014519C\", provision_ds)\n",
    "\n",
    "print(\"First job IP {}\".format(sail.core.get_ip_for_job(job_id)))\n",
    "#print(\"Second job IP {}\".format(sail.core.get_ip_for_job(second_job_id)))"
   ]
  },
  {
   "cell_type": "code",
   "execution_count": 6,
   "metadata": {},
   "outputs": [
    {
     "name": "stdout",
     "output_type": "stream",
     "text": [
      "Success\n"
     ]
    }
   ],
   "source": [
    "data_id = \"{}.{}\".format(job_id, \"52A2698D65C44433BEDDFEE508C9065F\")\n",
    "\n",
    "pull_data_result = sail.core.pull_data(data_id)\n",
    "print(pull_data_result)"
   ]
  },
  {
   "cell_type": "code",
   "execution_count": 8,
   "metadata": {
    "scrolled": true
   },
   "outputs": [
    {
     "name": "stdout",
     "output_type": "stream",
     "text": [
      "Job 49C36C59761B43D3BE715F85FBF09B3F is done\n",
      "Dataframe has been processed from CSV\n"
     ]
    }
   ],
   "source": [
    "############################################################################\n",
    "#\n",
    "# Produce data frame from CSV\n",
    "#\n",
    "############################################################################\n",
    "\n",
    "import base64\n",
    "import pickle\n",
    "\n",
    "message_response = sail.core.wait_for_data(10000)\n",
    "data_frame = None;\n",
    "while None != message_response:\n",
    "    if ( message_response is not None):\n",
    "        message_json = json.loads(message_response)\n",
    "        if ( message_json[\"SignalType\"] == 0):\n",
    "            print(\"Job {} is running\".format(message_json[\"JobUuid\"]))\n",
    "\n",
    "        if ( message_json[\"SignalType\"] == 1):\n",
    "            print(\"Job {} is done\".format(message_json[\"JobUuid\"]))\n",
    "\n",
    "        if ( message_json[\"SignalType\"] == 3):\n",
    "            data_value = message_json[\"FileData\"]\n",
    "            decoded_value = base64.b64decode(data_value)\n",
    "            un_serialized_value = pickle.loads(decoded_value)\n",
    "            print(\"Dataframe has been processed from CSV\")\n",
    "            data_frame = un_serialized_value\n",
    "            \n",
    "    message_response = sail.core.wait_for_data(500)\n"
   ]
  },
  {
   "cell_type": "code",
   "execution_count": 9,
   "metadata": {},
   "outputs": [
    {
     "name": "stdout",
     "output_type": "stream",
     "text": [
      "The sum of column BMI is 7417\n"
     ]
    }
   ],
   "source": [
    "############################################################################\n",
    "#\n",
    "# Get the sum of a column\n",
    "#\n",
    "############################################################################\n",
    "dg_sum_column_guid = \"441F628312304189886D5074D603C618\"\n",
    "sum_column_job_id = sail.core.run_job(dg_sum_column_guid)\n",
    "\n",
    "column_name = \"BMI\"\n",
    "# Setup a job to injest a dataframe, and sum a column's name\n",
    "pushed_column_name = sail.core.push_user_data(column_name)\n",
    "set_ds_response = sail.core.set_parameter(sum_column_job_id, \"4E62242A61724E3EBC6C534981D9EE74\", my_table_guid)\n",
    "set_ds_response = sail.core.set_parameter(sum_column_job_id, \"4C47725A36DB45A3920714A7089DDDED\", data_id)\n",
    "set_ds_response = sail.core.set_parameter(sum_column_job_id, \"4E63DE4EA2A94C53BD658F7DA83A8419\", pushed_column_name)\n",
    "\n",
    "column_result_id = \"{}.{}\".format(sum_column_job_id, \"51559F0423514F6CB38E5E4F8AE3B1EA\")\n",
    "\n",
    "pull_data_result = sail.core.pull_data(column_result_id)\n",
    "\n",
    "# Job should be running at this point\n",
    "import base64\n",
    "import pickle\n",
    "\n",
    "message_response = sail.core.wait_for_data(10000)\n",
    "increment_result = 0;\n",
    "while None != message_response:\n",
    "    if ( message_response is not None):\n",
    "        message_json = json.loads(message_response)\n",
    "        if ( message_json[\"SignalType\"] == 3):\n",
    "            data_value = message_json[\"FileData\"]\n",
    "            decoded_value = base64.b64decode(data_value)\n",
    "            un_serialized_value = pickle.loads(decoded_value)\n",
    "            print(\"The sum of column {} is {}\".format(column_name, un_serialized_value))\n",
    "            \n",
    "    message_response = sail.core.wait_for_data(1000)"
   ]
  },
  {
   "cell_type": "code",
   "execution_count": null,
   "metadata": {},
   "outputs": [],
   "source": [
    "sail.core.deprovision_digital_contract(provision_dc)"
   ]
  },
  {
   "cell_type": "code",
   "execution_count": null,
   "metadata": {},
   "outputs": [],
   "source": [
    "sail.core.exit_current_session()"
   ]
  },
  {
   "cell_type": "code",
   "execution_count": null,
   "metadata": {},
   "outputs": [],
   "source": []
  },
  {
   "cell_type": "code",
   "execution_count": null,
   "metadata": {},
   "outputs": [],
   "source": []
  },
  {
   "cell_type": "code",
   "execution_count": null,
   "metadata": {},
   "outputs": [],
   "source": []
  },
  {
   "cell_type": "code",
   "execution_count": null,
   "metadata": {},
   "outputs": [],
   "source": []
  },
  {
   "cell_type": "code",
   "execution_count": null,
   "metadata": {},
   "outputs": [],
   "source": [
    "safe_functions = sail.core.get_safe_functions()\n",
    "if ( safe_functions is not None):\n",
    "    json_safe_functions = json.loads(safe_functions)\n",
    "    print(json.dumps(json_safe_functions,indent=4))\n",
    "else:\n",
    "    print(\"No safe functions\")"
   ]
  },
  {
   "cell_type": "code",
   "execution_count": null,
   "metadata": {},
   "outputs": [],
   "source": [
    "job_id = sail.core.run_job(dg_test_object_guid)\n",
    "print(job_id)"
   ]
  },
  {
   "cell_type": "code",
   "execution_count": null,
   "metadata": {},
   "outputs": [],
   "source": [
    "job_id = sail.core.run_job(dg_test_object_guid)\n",
    "print(job_id)"
   ]
  },
  {
   "cell_type": "code",
   "execution_count": null,
   "metadata": {},
   "outputs": [],
   "source": [
    "tables = sail.core.get_tables()\n",
    "if ( tables is not None):\n",
    "    json_tables = json.loads(tables)\n",
    "    print(json.dumps(json_tables, indent=4))\n",
    "else:\n",
    "    print(\"No tables\")\n"
   ]
  },
  {
   "cell_type": "code",
   "execution_count": null,
   "metadata": {},
   "outputs": [],
   "source": [
    "job_id = sail.core.run_job(dg_test_object_guid)\n",
    "print(job_id)"
   ]
  },
  {
   "cell_type": "code",
   "execution_count": null,
   "metadata": {
    "scrolled": false
   },
   "outputs": [],
   "source": [
    "dg_increment_safefunction_guid = \"473001DB64AF456E971296418B6194FE\"\n",
    "my_table_guid = \"2534C8FA-0E1A-D442-95A6-8ECB11A39746\"\n",
    "\n",
    "increment_job_id = sail.core.run_job(dg_increment_safefunction_guid)\n",
    "print(increment_job_id)\n",
    "\n",
    "pull_data_id = \"{}.{}\".format(increment_job_id, \"51DD83834C2A41D6BB1F49889EA0A0AC\")\n",
    "\n",
    "pull_data_result = sail.core.pull_data(pull_data_id)\n",
    "print(pull_data_result)\n",
    "\n",
    "my_int_guid = sail.core.push_user_data(545)\n",
    "set_response = sail.core.set_parameter(increment_job_id, \"4C21EDF165AB4EF68853FA05FB805A03\", my_int_guid)\n",
    "set_response = sail.core.set_parameter(increment_job_id, \"4C8041B4513A44FAA5409662E014519C\", my_table_guid)\n",
    "print(my_int_guid)\n",
    "\n",
    "print(\"First job IP {}\".format(sail.core.get_ip_for_job(increment_job_id)))\n",
    "\n",
    "# Job should be running at this point\n",
    "import base64\n",
    "import pickle\n",
    "\n",
    "message_response = sail.core.wait_for_data(10000)\n",
    "increment_result = 0;\n",
    "while None != message_response:\n",
    "    if ( message_response is not None):\n",
    "        message_json = json.loads(message_response)\n",
    "        if ( message_json[\"SignalType\"] == 0):\n",
    "            print(\"Job {} is running\".format(message_json[\"JobUuid\"]))\n",
    "\n",
    "        if ( message_json[\"SignalType\"] == 1):\n",
    "            print(\"Job {} is done\".format(message_json[\"JobUuid\"]))\n",
    "\n",
    "        if ( message_json[\"SignalType\"] == 3):\n",
    "            data_value = message_json[\"FileData\"]\n",
    "            decoded_value = base64.b64decode(data_value)\n",
    "            un_serialized_value = pickle.loads(decoded_value)\n",
    "            print(\"Data received {} {}\".format(message_json[\"ValueName\"], un_serialized_value))\n",
    "            increment_result = un_serialized_value\n",
    "            \n",
    "    message_response = sail.core.wait_for_data(1000)"
   ]
  },
  {
   "cell_type": "code",
   "execution_count": null,
   "metadata": {},
   "outputs": [],
   "source": [
    "second_increment_job_id = sail.core.run_job(dg_increment_safefunction_guid)\n",
    "\n",
    "# We want the second job's value to be the result of the first job\n",
    "second_pull_data_id = \"{}.{}\".format(second_increment_job_id, \"51DD83834C2A41D6BB1F49889EA0A0AC\")\n",
    "\n",
    "second_pull_data_result = sail.core.pull_data(second_pull_data_id)\n",
    "\n",
    "set_response = sail.core.set_parameter(second_increment_job_id, \"4C21EDF165AB4EF68853FA05FB805A03\", pull_data_id)\n",
    "set_response = sail.core.set_parameter(second_increment_job_id, \"4C8041B4513A44FAA5409662E014519C\", my_table_guid)\n",
    "\n",
    "print(\"Second job IP {}\".format(sail.core.get_ip_for_job(second_increment_job_id)))\n",
    "\n",
    "# Job should be running at this point\n",
    "import base64\n",
    "import pickle\n",
    "\n",
    "message_response = sail.core.wait_for_data(10000)\n",
    "increment_result = 0;\n",
    "while None != message_response:\n",
    "    if ( message_response is not None):\n",
    "        message_json = json.loads(message_response)\n",
    "        if ( message_json[\"SignalType\"] == 0):\n",
    "            print(\"Job {} is running\".format(message_json[\"JobUuid\"]))\n",
    "\n",
    "        if ( message_json[\"SignalType\"] == 1):\n",
    "            print(\"Job {} is done\".format(message_json[\"JobUuid\"]))\n",
    "\n",
    "        if ( message_json[\"SignalType\"] == 3):\n",
    "            data_value = message_json[\"FileData\"]\n",
    "            decoded_value = base64.b64decode(data_value)\n",
    "            un_serialized_value = pickle.loads(decoded_value)\n",
    "            print(\"Data received {} {}\".format(message_json[\"ValueName\"], un_serialized_value))\n",
    "            increment_result = un_serialized_value\n",
    "            \n",
    "    message_response = sail.core.wait_for_data(1000)"
   ]
  },
  {
   "cell_type": "code",
   "execution_count": null,
   "metadata": {},
   "outputs": [],
   "source": [
    "# Job should be running at this point\n",
    "import base64\n",
    "import pickle\n",
    "\n",
    "message_response = sail.core.wait_for_data(10000)\n",
    "increment_result = 0;\n",
    "while None != message_response:\n",
    "    if ( message_response is not None):\n",
    "        message_json = json.loads(message_response)\n",
    "        if ( message_json[\"SignalType\"] == 0):\n",
    "            print(\"Job {} is running\".format(message_json[\"JobUuid\"]))\n",
    "\n",
    "        if ( message_json[\"SignalType\"] == 1):\n",
    "            print(\"Job {} is done\".format(message_json[\"JobUuid\"]))\n",
    "\n",
    "        if ( message_json[\"SignalType\"] == 3):\n",
    "            data_value = message_json[\"FileData\"]\n",
    "            decoded_value = base64.b64decode(data_value)\n",
    "            un_serialized_value = pickle.loads(decoded_value)\n",
    "            print(\"Data received {} {}\".format(message_json[\"ValueName\"], un_serialized_value))\n",
    "            increment_result = un_serialized_value\n",
    "            \n",
    "    message_response = sail.core.wait_for_data(500)"
   ]
  },
  {
   "cell_type": "code",
   "execution_count": null,
   "metadata": {},
   "outputs": [],
   "source": [
    "pull_data_id = \"{}.{}\".format(job_id, \"51DD83834C2A41D6BB1F49889EA0A0AC\")\n",
    "\n",
    "pull_data_result = sail.core.pull_data(pull_data_id)\n",
    "print(pull_data_result)"
   ]
  },
  {
   "cell_type": "code",
   "execution_count": null,
   "metadata": {
    "scrolled": true
   },
   "outputs": [],
   "source": [
    "digital_contracts = sail.core.get_digital_contracts()\n",
    "provision_dc = \"\"\n",
    "if ( digital_contracts is not None):\n",
    "    json_digital_contracts = json.loads(digital_contracts)\n",
    "    provision_dc = list(json_digital_contracts.keys())[0]\n",
    "    print(provision_dc)\n",
    "    print(json.dumps(json_digital_contracts, indent=4))\n",
    "else:\n",
    "    print(\"No digital contracts\")"
   ]
  },
  {
   "cell_type": "code",
   "execution_count": null,
   "metadata": {},
   "outputs": [],
   "source": [
    "datasets = sail.core.get_datasets()\n",
    "provision_ds = \"\"\n",
    "if ( datasets is not None ):\n",
    "    json_datasets = json.loads(datasets)\n",
    "    provision_ds = list(json_datasets.keys())[0]\n",
    "    print(provision_ds)\n",
    "    print(json.dumps(json_datasets, indent=4))\n",
    "else:\n",
    "    print(\"No loaded datasets\")"
   ]
  },
  {
   "cell_type": "code",
   "execution_count": null,
   "metadata": {},
   "outputs": [],
   "source": []
  }
 ],
 "metadata": {
  "kernelspec": {
   "display_name": "Python 3",
   "language": "python",
   "name": "python3"
  },
  "language_info": {
   "codemirror_mode": {
    "name": "ipython",
    "version": 3
   },
   "file_extension": ".py",
   "mimetype": "text/x-python",
   "name": "python",
   "nbconvert_exporter": "python",
   "pygments_lexer": "ipython3",
   "version": "3.8.10"
  }
 },
 "nbformat": 4,
 "nbformat_minor": 4
}
