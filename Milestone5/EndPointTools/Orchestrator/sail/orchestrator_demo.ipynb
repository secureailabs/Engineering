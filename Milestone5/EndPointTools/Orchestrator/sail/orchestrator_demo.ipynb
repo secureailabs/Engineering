{
 "cells": [
  {
   "cell_type": "code",
   "execution_count": 1,
   "metadata": {},
   "outputs": [
    {
     "name": "stdout",
     "output_type": "stream",
     "text": [
      "First Job {4A4463A2-1BB5-4F3A-8781-CC96749DE962}\n",
      "Second Job {4A0C1D13-466D-4064-8D75-4BF869ADE20F}\n",
      "Dataset {2014ED3C-50C1-4A1E-8F55-35749E5508AC}\n",
      "Digital contract {15732F7F-A741-4F95-808F-1FF0B76ECACB}\n",
      "{4A4463A2-1BB5-4F3A-8781-CC96749DE962}:Missing Input Parameters\n",
      "{4A0C1D13-466D-4064-8D75-4BF869ADE20F}:Missing Input Parameters\n",
      "{\"SCNGuid\":\"{41DD75C2-B7BF-4899-BEAF-BBFFA568FCD6}\",\"Status\":true}\n",
      "{\"AllDone\":true,\"Failed\":{},\"InProgress\":{},\"Succeeded\":{\"{41DD75C2-B7BF-4899-BEAF-BBFFA568FCD6}\":\"\"}}\n",
      "First job IP 20.115.121.124 status Waiting on SCN to report status\n",
      "Second job IP None status Missing Input Parameters\n"
     ]
    }
   ],
   "source": [
    "import sail.core\n",
    "import json\n",
    "import getpass\n",
    "\n",
    "# password = getpass.getpass(prompt=\"Password: \")\n",
    "password = \"SailPassword@123\"\n",
    "\n",
    "sail.core.login(\"lbart@igr.com\", password, 6200, \"192.168.0.244\")\n",
    "\n",
    "sail.core.load_safe_objects(\"./SafeObjects\")\n",
    "dg_test_object_guid = \"473001DB64AF456E971296418B6194FE\"\n",
    "\n",
    "job_id = sail.core.run_job(dg_test_object_guid)\n",
    "print(\"First Job {}\".format(job_id))\n",
    "\n",
    "second_job_id = sail.core.run_job(dg_test_object_guid)\n",
    "print(\"Second Job {}\".format(second_job_id))\n",
    "\n",
    "datasets = sail.core.get_datasets()\n",
    "provision_ds = \"\"\n",
    "if ( datasets is not None ):\n",
    "    json_datasets = json.loads(datasets)\n",
    "    provision_ds = list(json_datasets.keys())[0]\n",
    "    print(\"Dataset {}\".format(provision_ds))\n",
    "else:\n",
    "    print(\"No loaded datasets\")\n",
    "    \n",
    "digital_contracts = sail.core.get_digital_contracts()\n",
    "provision_dc = \"\"\n",
    "if ( digital_contracts is not None):\n",
    "    json_digital_contracts = json.loads(digital_contracts)\n",
    "    provision_dc = list(json_digital_contracts.keys())[0]\n",
    "    print(\"Digital contract {}\".format(provision_dc))\n",
    "else:\n",
    "    print(\"No digital contracts\")\n",
    "    \n",
    "job_status = sail.core.get_job_status(job_id)\n",
    "print(\"{}:{}\".format(job_id,job_status))\n",
    "job_status = sail.core.get_job_status(second_job_id)\n",
    "print(\"{}:{}\".format(second_job_id,job_status))\n",
    "      \n",
    "first_provision = sail.core.provision_secure_computational_node(provision_dc, provision_ds, \"Standard_D8s_v4\")\n",
    "\n",
    "print(first_provision)\n",
    "     \n",
    "print(sail.core.wait_for_all_secure_nodes_to_be_provisioned(2400000))\n",
    "      \n",
    "my_int_guid = sail.core.push_user_data(12)\n",
    "set_response = sail.core.set_parameter(job_id, \"4C21EDF165AB4EF68853FA05FB805A03\", my_int_guid)\n",
    "set_ds_response = sail.core.set_parameter(job_id, \"4C8041B4513A44FAA5409662E014519C\", provision_ds)\n",
    "\n",
    "print(\"First job IP {} status {}\".format(sail.core.get_ip_for_job(job_id), sail.core.get_job_status(job_id)))\n",
    "print(\"Second job IP {} status {}\".format(sail.core.get_ip_for_job(second_job_id), sail.core.get_job_status(second_job_id)))"
   ]
  },
  {
   "cell_type": "code",
   "execution_count": 2,
   "metadata": {
    "scrolled": false
   },
   "outputs": [
    {
     "name": "stdout",
     "output_type": "stream",
     "text": [
      "{\"JobGuid\":\"{4A4463A2-1BB5-4F3A-8781-CC96749DE962}\",\"TestMessage\":\"Hello\",\"TestValue\":0.000000}\n",
      "{\"JobGuid\":\"{4A4463A2-1BB5-4F3A-8781-CC96749DE962}\",\"TestMessage\":\"Hello\",\"TestValue\":1.000000}\n",
      "{\"JobGuid\":\"{4A4463A2-1BB5-4F3A-8781-CC96749DE962}\",\"TestMessage\":\"Hello\",\"TestValue\":2.000000}\n",
      "{\"JobGuid\":\"{4A4463A2-1BB5-4F3A-8781-CC96749DE962}\",\"TestMessage\":\"Hello\",\"TestValue\":3.000000}\n",
      "{\"JobGuid\":\"{4A4463A2-1BB5-4F3A-8781-CC96749DE962}\",\"TestMessage\":\"Hello\",\"TestValue\":4.000000}\n",
      "{\"JobGuid\":\"{4A4463A2-1BB5-4F3A-8781-CC96749DE962}\",\"TestMessage\":\"Hello\",\"TestValue\":5.000000}\n",
      "{\"JobGuid\":\"{4A4463A2-1BB5-4F3A-8781-CC96749DE962}\",\"TestMessage\":\"Hello\",\"TestValue\":6.000000}\n",
      "{\"JobGuid\":\"{4A4463A2-1BB5-4F3A-8781-CC96749DE962}\",\"TestMessage\":\"Hello\",\"TestValue\":7.000000}\n",
      "{\"JobGuid\":\"{4A4463A2-1BB5-4F3A-8781-CC96749DE962}\",\"TestMessage\":\"Hello\",\"TestValue\":8.000000}\n",
      "{\"JobGuid\":\"{4A4463A2-1BB5-4F3A-8781-CC96749DE962}\",\"TestMessage\":\"Hello\",\"TestValue\":9.000000}\n",
      "{\"FileData\":\"3q2+7w==\",\"JobGuid\":\"{4A4463A2-1BB5-4F3A-8781-CC96749DE962}\",\"SignalType\":3.000000,\"ValueName\":\"4A4463A21BB54F3A8781CC96749DE962.51DD83834C2A41D6BB1F49889EA0A0AC\"}\n",
      "{4A4463A2-1BB5-4F3A-8781-CC96749DE962}.51DD83834C2A41D6BB1F49889EA0A0AC\n",
      "{\"JobGuid\":\"{4A0C1D13-466D-4064-8D75-4BF869ADE20F}\",\"TestMessage\":\"Hello\",\"TestValue\":0.000000}\n"
     ]
    }
   ],
   "source": [
    "message_response = sail.core.wait_for_data(10000)\n",
    "while None != message_response:\n",
    "    print(message_response)\n",
    "    message_response = sail.core.wait_for_data(500)\n",
    "\n",
    "pull_data_id = \"{}.{}\".format(job_id, \"51DD83834C2A41D6BB1F49889EA0A0AC\")\n",
    "print(pull_data_id)\n",
    "\n",
    "sail.core.set_parameter(second_job_id,\"4C8041B4513A44FAA5409662E014519C\", provision_ds)\n",
    "sail.core.set_parameter(second_job_id, \"4C21EDF165AB4EF68853FA05FB805A03\", pull_data_id)\n",
    "\n",
    "message_response = sail.core.wait_for_data(10000)\n",
    "while None != message_response:\n",
    "    print(message_response)\n",
    "    message_response = sail.core.wait_for_data(500)"
   ]
  },
  {
   "cell_type": "code",
   "execution_count": 3,
   "metadata": {},
   "outputs": [
    {
     "name": "stdout",
     "output_type": "stream",
     "text": [
      "{\"JobGuid\":\"{4A0C1D13-466D-4064-8D75-4BF869ADE20F}\",\"TestMessage\":\"Hello\",\"TestValue\":1.000000}\n",
      "{\"JobGuid\":\"{4A0C1D13-466D-4064-8D75-4BF869ADE20F}\",\"TestMessage\":\"Hello\",\"TestValue\":2.000000}\n",
      "{\"JobGuid\":\"{4A0C1D13-466D-4064-8D75-4BF869ADE20F}\",\"TestMessage\":\"Hello\",\"TestValue\":3.000000}\n",
      "{\"JobGuid\":\"{4A0C1D13-466D-4064-8D75-4BF869ADE20F}\",\"TestMessage\":\"Hello\",\"TestValue\":4.000000}\n",
      "{\"JobGuid\":\"{4A0C1D13-466D-4064-8D75-4BF869ADE20F}\",\"TestMessage\":\"Hello\",\"TestValue\":5.000000}\n",
      "{\"JobGuid\":\"{4A0C1D13-466D-4064-8D75-4BF869ADE20F}\",\"TestMessage\":\"Hello\",\"TestValue\":6.000000}\n",
      "{\"JobGuid\":\"{4A0C1D13-466D-4064-8D75-4BF869ADE20F}\",\"TestMessage\":\"Hello\",\"TestValue\":7.000000}\n",
      "{\"JobGuid\":\"{4A0C1D13-466D-4064-8D75-4BF869ADE20F}\",\"TestMessage\":\"Hello\",\"TestValue\":8.000000}\n",
      "{\"JobGuid\":\"{4A0C1D13-466D-4064-8D75-4BF869ADE20F}\",\"TestMessage\":\"Hello\",\"TestValue\":9.000000}\n",
      "{\"FileData\":\"3q2+7w==\",\"JobGuid\":\"{4A0C1D13-466D-4064-8D75-4BF869ADE20F}\",\"SignalType\":3.000000,\"ValueName\":\"4A0C1D13466D40648D754BF869ADE20F.51DD83834C2A41D6BB1F49889EA0A0AC\"}\n"
     ]
    }
   ],
   "source": [
    "message_response = sail.core.wait_for_data(10000)\n",
    "while None != message_response:\n",
    "    print(message_response)\n",
    "    message_response = sail.core.wait_for_data(500)"
   ]
  },
  {
   "cell_type": "code",
   "execution_count": null,
   "metadata": {},
   "outputs": [],
   "source": [
    "pull_data_id = \"{}.{}\".format(job_id, \"51DD83834C2A41D6BB1F49889EA0A0AC\")\n",
    "print(pull_data_id)\n",
    "sail.core.pull_data(pull_data_id)"
   ]
  },
  {
   "cell_type": "code",
   "execution_count": 4,
   "metadata": {},
   "outputs": [
    {
     "name": "stdout",
     "output_type": "stream",
     "text": [
      "{4A4463A2-1BB5-4F3A-8781-CC96749DE962}:Job Started\n",
      "{4A0C1D13-466D-4064-8D75-4BF869ADE20F}:Job Started\n"
     ]
    }
   ],
   "source": [
    "job_status = sail.core.get_job_status(job_id)\n",
    "print(\"{}:{}\".format(job_id,job_status))\n",
    "job_status = sail.core.get_job_status(second_job_id)\n",
    "print(\"{}:{}\".format(second_job_id,job_status))"
   ]
  },
  {
   "cell_type": "code",
   "execution_count": null,
   "metadata": {},
   "outputs": [],
   "source": [
    "safe_functions = sail.core.get_safe_functions()\n",
    "if ( safe_functions is not None):\n",
    "    json_safe_functions = json.loads(safe_functions)\n",
    "    print(json.dumps(json_safe_functions,indent=4))\n",
    "else:\n",
    "    print(\"No safe functions\")"
   ]
  },
  {
   "cell_type": "code",
   "execution_count": null,
   "metadata": {},
   "outputs": [],
   "source": [
    "sail.core.exit_current_session()"
   ]
  },
  {
   "cell_type": "code",
   "execution_count": null,
   "metadata": {},
   "outputs": [],
   "source": [
    "sail.core.deprovision_digital_contract(provision_dc)"
   ]
  },
  {
   "cell_type": "code",
   "execution_count": null,
   "metadata": {},
   "outputs": [],
   "source": [
    "tables = sail.core.get_tables()\n",
    "if ( tables is not None):\n",
    "    json_tables = json.loads(tables)\n",
    "    print(json.dumps(json_tables, indent=4))\n",
    "else:\n",
    "    print(\"No tables\")\n"
   ]
  },
  {
   "cell_type": "code",
   "execution_count": null,
   "metadata": {},
   "outputs": [],
   "source": []
  },
  {
   "cell_type": "code",
   "execution_count": null,
   "metadata": {},
   "outputs": [],
   "source": []
  }
 ],
 "metadata": {
  "kernelspec": {
   "display_name": "Python 3",
   "language": "python",
   "name": "python3"
  },
  "language_info": {
   "codemirror_mode": {
    "name": "ipython",
    "version": 3
   },
   "file_extension": ".py",
   "mimetype": "text/x-python",
   "name": "python",
   "nbconvert_exporter": "python",
   "pygments_lexer": "ipython3",
   "version": "3.8.10"
  }
 },
 "nbformat": 4,
 "nbformat_minor": 4
}
