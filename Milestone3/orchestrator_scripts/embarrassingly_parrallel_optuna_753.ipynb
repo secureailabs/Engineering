{
 "cells": [
  {
   "cell_type": "code",
   "execution_count": 1,
   "metadata": {},
   "outputs": [],
   "source": [
    "# !pip3 install embarrassingly"
   ]
  },
  {
   "cell_type": "code",
   "execution_count": 2,
   "metadata": {},
   "outputs": [],
   "source": [
    "from embarrassingly.parallel import Parallel\n",
    "import optuna\n",
    "import time\n",
    "\n",
    "\n",
    "def pre_objective(worker, trial):\n",
    "    x = [trial.suggest_float('x' + str(i), 0, 1) for i in range(3)]\n",
    "    print('Worker ' + str(worker)+' testing parameters: '+str(x))\n",
    "    print(\"Sleeping for 5 seconds\")\n",
    "    time.sleep(5)\n",
    "    \n",
    "    #if this works the function will maximise x[0] and x[2] while minimising x[1]\n",
    "    return x[0] - x[1] * x[2]"
   ]
  },
  {
   "cell_type": "code",
   "execution_count": 3,
   "metadata": {},
   "outputs": [
    {
     "name": "stderr",
     "output_type": "stream",
     "text": [
      "\u001b[32m[I 2021-11-30 18:38:00,851]\u001b[0m A new study created in memory with name: no-name-71886e68-9a3b-4e6f-8f37-5d38777bfe84\u001b[0m\n",
      "/usr/local/lib/python3.8/dist-packages/optuna/study/study.py:393: FutureWarning: `n_jobs` argument has been deprecated in v2.7.0. This feature will be removed in v4.0.0. See https://github.com/optuna/optuna/releases/tag/v2.7.0.\n",
      "  warnings.warn(\n"
     ]
    },
    {
     "name": "stdout",
     "output_type": "stream",
     "text": [
      "Worker 0 testing parameters: [0.4857801825359367, 0.4901042237770402, 0.3796310959088339]\n",
      "Sleeping for 5 seconds\n",
      "Worker 1 testing parameters: [0.3812242997455271, 0.6789452156759215, 0.6988717447927877]\n",
      "Sleeping for 5 seconds\n",
      "Worker 2 testing parameters: [0.5507210363757106, 0.0237466473522413, 0.9259544943697443]\n",
      "Sleeping for 5 seconds\n",
      "Worker 3 testing parameters: [0.3133298052255661, 0.6336963832593944, 0.4047230161748526]\n",
      "Sleeping for 5 seconds\n",
      "Worker 5 testing parameters: [0.9947613329626686, 0.9724174418884881, 0.40407563186954565]\n",
      "Sleeping for 5 seconds\n",
      "Worker 4 testing parameters: [0.9304870439187808, 0.8764898074162101, 0.9802854939769461]\n",
      "Sleeping for 5 seconds\n",
      "Worker 6 testing parameters: [0.5921217650906102, 0.6898492506467683, 0.9031000308678436]\n",
      "Sleeping for 5 seconds\n"
     ]
    },
    {
     "name": "stderr",
     "output_type": "stream",
     "text": [
      "\u001b[32m[I 2021-11-30 18:38:05,872]\u001b[0m Trial 0 finished with value: 0.2997213789539105 and parameters: {'x0': 0.4857801825359367, 'x1': 0.4901042237770402, 'x2': 0.3796310959088339}. Best is trial 0 with value: 0.2997213789539105.\u001b[0m\n",
      "\u001b[32m[I 2021-11-30 18:38:05,874]\u001b[0m Trial 4 finished with value: 0.5287327215336893 and parameters: {'x0': 0.5507210363757106, 'x1': 0.0237466473522413, 'x2': 0.9259544943697443}. Best is trial 4 with value: 0.5287327215336893.\u001b[0m\n",
      "\u001b[32m[I 2021-11-30 18:38:05,875]\u001b[0m Trial 1 finished with value: -0.0932713277526197 and parameters: {'x0': 0.3812242997455271, 'x1': 0.6789452156759215, 'x2': 0.6988717447927877}. Best is trial 4 with value: 0.5287327215336893.\u001b[0m\n",
      "\u001b[32m[I 2021-11-30 18:38:05,879]\u001b[0m Trial 2 finished with value: 0.05685829365372863 and parameters: {'x0': 0.3133298052255661, 'x1': 0.6336963832593944, 'x2': 0.4047230161748526}. Best is trial 4 with value: 0.5287327215336893.\u001b[0m\n",
      "\u001b[32m[I 2021-11-30 18:38:05,880]\u001b[0m Trial 6 finished with value: -0.030881114462644965 and parameters: {'x0': 0.5921217650906102, 'x1': 0.6898492506467683, 'x2': 0.9031000308678436}. Best is trial 4 with value: 0.5287327215336893.\u001b[0m\n",
      "\u001b[32m[I 2021-11-30 18:38:05,880]\u001b[0m Trial 5 finished with value: 0.6018311406906105 and parameters: {'x0': 0.9947613329626686, 'x1': 0.9724174418884881, 'x2': 0.40407563186954565}. Best is trial 5 with value: 0.6018311406906105.\u001b[0m\n",
      "\u001b[32m[I 2021-11-30 18:38:05,881]\u001b[0m Trial 3 finished with value: 0.07127680009002291 and parameters: {'x0': 0.9304870439187808, 'x1': 0.8764898074162101, 'x2': 0.9802854939769461}. Best is trial 5 with value: 0.6018311406906105.\u001b[0m\n"
     ]
    },
    {
     "name": "stdout",
     "output_type": "stream",
     "text": [
      "Worker 0 testing parameters: [0.7827935315468968, 0.602330195508203, 0.9496276776469095]\n",
      "Sleeping for 5 seconds\n",
      "Worker 2 testing parameters: [0.9153526842110673, 0.7901354381223287, 0.32506663532772595]\n",
      "Sleeping for 5 seconds\n",
      "Worker 1 testing parameters: [0.6590433970371122, 0.4878911074318306, 0.033625963185807684]\n",
      "Sleeping for 5 seconds\n",
      "Worker 3 testing parameters: [0.7745978602702288, 0.060310990963261424, 0.3176297851594221]\n",
      "Sleeping for 5 seconds\n",
      "Worker 6 testing parameters: [0.7718126864529583, 0.9521335544167334, 0.6508071388693801]\n",
      "Sleeping for 5 seconds\n",
      "Worker 5 testing parameters: [0.5767402926609408, 0.5811145940670405, 0.9338022098775358]\n",
      "Sleeping for 5 seconds\n",
      "Worker 4 testing parameters: [0.022995555366967846, 0.25764082605217475, 0.9111127145741207]\n",
      "Sleeping for 5 seconds\n"
     ]
    },
    {
     "name": "stderr",
     "output_type": "stream",
     "text": [
      "\u001b[32m[I 2021-11-30 18:38:10,882]\u001b[0m Trial 7 finished with value: 0.21080410680983308 and parameters: {'x0': 0.7827935315468968, 'x1': 0.602330195508203, 'x2': 0.9496276776469095}. Best is trial 5 with value: 0.6018311406906105.\u001b[0m\n",
      "\u001b[32m[I 2021-11-30 18:38:10,887]\u001b[0m Trial 8 finished with value: 0.6585060158874434 and parameters: {'x0': 0.9153526842110673, 'x1': 0.7901354381223287, 'x2': 0.32506663532772595}. Best is trial 8 with value: 0.6585060158874434.\u001b[0m\n",
      "\u001b[32m[I 2021-11-30 18:38:10,889]\u001b[0m Trial 10 finished with value: 0.7554412931678163 and parameters: {'x0': 0.7745978602702288, 'x1': 0.060310990963261424, 'x2': 0.3176297851594221}. Best is trial 10 with value: 0.7554412931678163.\u001b[0m\n",
      "\u001b[32m[I 2021-11-30 18:38:10,889]\u001b[0m Trial 9 finished with value: 0.6426375886199266 and parameters: {'x0': 0.6590433970371122, 'x1': 0.4878911074318306, 'x2': 0.033625963185807684}. Best is trial 10 with value: 0.7554412931678163.\u001b[0m\n",
      "\u001b[32m[I 2021-11-30 18:38:10,897]\u001b[0m Trial 11 finished with value: 0.15215737208147073 and parameters: {'x0': 0.7718126864529583, 'x1': 0.9521335544167334, 'x2': 0.6508071388693801}. Best is trial 10 with value: 0.7554412931678163.\u001b[0m\n",
      "\u001b[32m[I 2021-11-30 18:38:10,897]\u001b[0m Trial 12 finished with value: 0.03409420052905132 and parameters: {'x0': 0.5767402926609408, 'x1': 0.5811145940670405, 'x2': 0.9338022098775358}. Best is trial 10 with value: 0.7554412931678163.\u001b[0m\n",
      "\u001b[32m[I 2021-11-30 18:38:10,898]\u001b[0m Trial 13 finished with value: -0.21174427704254792 and parameters: {'x0': 0.022995555366967846, 'x1': 0.25764082605217475, 'x2': 0.9111127145741207}. Best is trial 10 with value: 0.7554412931678163.\u001b[0m\n"
     ]
    },
    {
     "name": "stdout",
     "output_type": "stream",
     "text": [
      "Worker 0 testing parameters: [0.3822288839439658, 0.022347190387331017, 0.23174357829726466]\n",
      "Sleeping for 5 seconds\n",
      "Worker 2 testing parameters: [0.7846375862886037, 0.024022281887495257, 0.16633524842585481]\n",
      "Sleeping for 5 seconds\n",
      "Worker 3 testing parameters: [0.8454155456360145, 0.07083300380100233, 0.17473375996904444]\n",
      "Sleeping for 5 seconds\n",
      "Worker 6 testing parameters: [0.8213834624879135, 0.24096361210850167, 0.17471261300266458]\n",
      "Sleeping for 5 seconds\n",
      "Worker 1 testing parameters: [0.8234558905910777, 0.05787709917986723, 0.2037965810414492]\n",
      "Sleeping for 5 seconds\n",
      "Worker 5 testing parameters: [0.837564511760923, 0.005381011929413093, 0.14060138630518182]\n",
      "Sleeping for 5 seconds\n",
      "Worker 4 testing parameters: [0.8412986947067882, 0.016306336753200652, 0.1947660721211352]\n",
      "Sleeping for 5 seconds\n"
     ]
    },
    {
     "name": "stderr",
     "output_type": "stream",
     "text": [
      "\u001b[32m[I 2021-11-30 18:38:15,890]\u001b[0m Trial 14 finished with value: 0.3770500660787155 and parameters: {'x0': 0.3822288839439658, 'x1': 0.022347190387331017, 'x2': 0.23174357829726466}. Best is trial 10 with value: 0.7554412931678163.\u001b[0m\n",
      "\u001b[32m[I 2021-11-30 18:38:15,920]\u001b[0m Trial 15 finished with value: 0.7806418340630913 and parameters: {'x0': 0.7846375862886037, 'x1': 0.024022281887495257, 'x2': 0.16633524842585481}. Best is trial 15 with value: 0.7806418340630913.\u001b[0m\n",
      "\u001b[32m[I 2021-11-30 18:38:15,948]\u001b[0m Trial 16 finished with value: 0.8330386285519638 and parameters: {'x0': 0.8454155456360145, 'x1': 0.07083300380100233, 'x2': 0.17473375996904444}. Best is trial 16 with value: 0.8330386285519638.\u001b[0m\n",
      "\u001b[32m[I 2021-11-30 18:38:15,953]\u001b[0m Trial 18 finished with value: 0.7792840801778766 and parameters: {'x0': 0.8213834624879135, 'x1': 0.24096361210850167, 'x2': 0.17471261300266458}. Best is trial 16 with value: 0.8330386285519638.\u001b[0m\n",
      "\u001b[32m[I 2021-11-30 18:38:15,959]\u001b[0m Trial 17 finished with value: 0.8116607356576239 and parameters: {'x0': 0.8234558905910777, 'x1': 0.05787709917986723, 'x2': 0.2037965810414492}. Best is trial 16 with value: 0.8330386285519638.\u001b[0m\n",
      "\u001b[32m[I 2021-11-30 18:38:15,966]\u001b[0m Trial 19 finished with value: 0.8368079340239227 and parameters: {'x0': 0.837564511760923, 'x1': 0.005381011929413093, 'x2': 0.14060138630518182}. Best is trial 19 with value: 0.8368079340239227.\u001b[0m\n",
      "\u001b[32m[I 2021-11-30 18:38:15,971]\u001b[0m Trial 20 finished with value: 0.8381227735466829 and parameters: {'x0': 0.8412986947067882, 'x1': 0.016306336753200652, 'x2': 0.1947660721211352}. Best is trial 20 with value: 0.8381227735466829.\u001b[0m\n"
     ]
    },
    {
     "name": "stdout",
     "output_type": "stream",
     "text": [
      "15.140012502670288\n"
     ]
    }
   ],
   "source": [
    "start_time = time.time()\n",
    "\n",
    "#Create parrallel objective function\n",
    "objective = Parallel(pre_objective, num_workers=7)\n",
    "\n",
    "#initiate study with direction set to maximize the output\n",
    "study = optuna.create_study(direction=\"maximize\")\n",
    "\n",
    "#initiate the study\n",
    "study.optimize(objective, n_trials=21, n_jobs=7)\n",
    "\n",
    "print(time.time()-start_time)"
   ]
  },
  {
   "cell_type": "code",
   "execution_count": 4,
   "metadata": {},
   "outputs": [
    {
     "name": "stdout",
     "output_type": "stream",
     "text": [
      "Best score: 0.8381227735466829\n",
      "\n",
      "Optimized parameters: {'x0': 0.8412986947067882, 'x1': 0.016306336753200652, 'x2': 0.1947660721211352}\n",
      "\n"
     ]
    }
   ],
   "source": [
    "best_params = study.best_params\n",
    "best_score = study.best_value\n",
    "print(f\"Best score: {best_score}\\n\")\n",
    "print(f\"Optimized parameters: {best_params}\\n\")"
   ]
  }
 ],
 "metadata": {
  "kernelspec": {
   "display_name": "Python 3",
   "language": "python",
   "name": "python3"
  },
  "language_info": {
   "codemirror_mode": {
    "name": "ipython",
    "version": 3
   },
   "file_extension": ".py",
   "mimetype": "text/x-python",
   "name": "python",
   "nbconvert_exporter": "python",
   "pygments_lexer": "ipython3",
   "version": "3.8.10"
  }
 },
 "nbformat": 4,
 "nbformat_minor": 4
}
