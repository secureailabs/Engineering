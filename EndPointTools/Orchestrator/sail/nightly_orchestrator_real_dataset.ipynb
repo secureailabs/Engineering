{
 "cells": [
  {
   "cell_type": "code",
   "execution_count": null,
   "metadata": {
    "scrolled": false
   },
   "outputs": [],
   "source": [
    "#########################################################\n",
    "# Import and Login\n",
    "#########################################################\n",
    "from dotenv import load_dotenv\n",
    "from pathlib import Path\n",
    "\n",
    "import json\n",
    "import os\n",
    "\n",
    "import sail.core"
   ]
  },
  {
   "cell_type": "code",
   "execution_count": 2,
   "metadata": {},
   "outputs": [
    {
     "ename": "NameError",
     "evalue": "name 'Path' is not defined",
     "output_type": "error",
     "traceback": [
      "\u001b[0;31m---------------------------------------------------------------------------\u001b[0m",
      "\u001b[0;31mNameError\u001b[0m                                 Traceback (most recent call last)",
      "\u001b[1;32m/home/stanley/REPO/Engineering/EndPointTools/Orchestrator/sail/nightly_orchestrator_real_dataset.ipynb Cell 2'\u001b[0m in \u001b[0;36m<cell line: 1>\u001b[0;34m()\u001b[0m\n\u001b[0;32m----> <a href='vscode-notebook-cell://ssh-remote%2B192.168.12.10/home/stanley/REPO/Engineering/EndPointTools/Orchestrator/sail/nightly_orchestrator_real_dataset.ipynb#ch0000013vscode-remote?line=0'>1</a>\u001b[0m env_path \u001b[39m=\u001b[39m Path(\u001b[39m'\u001b[39m\u001b[39m.\u001b[39m\u001b[39m'\u001b[39m) \u001b[39m/\u001b[39m \u001b[39m'\u001b[39m\u001b[39m.env\u001b[39m\u001b[39m'\u001b[39m\n\u001b[1;32m      <a href='vscode-notebook-cell://ssh-remote%2B192.168.12.10/home/stanley/REPO/Engineering/EndPointTools/Orchestrator/sail/nightly_orchestrator_real_dataset.ipynb#ch0000013vscode-remote?line=1'>2</a>\u001b[0m load_dotenv(dotenv_path\u001b[39m=\u001b[39menv_path, verbose\u001b[39m=\u001b[39m\u001b[39mTrue\u001b[39;00m)\n\u001b[1;32m      <a href='vscode-notebook-cell://ssh-remote%2B192.168.12.10/home/stanley/REPO/Engineering/EndPointTools/Orchestrator/sail/nightly_orchestrator_real_dataset.ipynb#ch0000013vscode-remote?line=2'>3</a>\u001b[0m password \u001b[39m=\u001b[39m os\u001b[39m.\u001b[39menviron\u001b[39m.\u001b[39mget(\u001b[39m\"\u001b[39m\u001b[39mSAIL_PASS\u001b[39m\u001b[39m\"\u001b[39m) \n",
      "\u001b[0;31mNameError\u001b[0m: name 'Path' is not defined"
     ]
    }
   ],
   "source": [
    "env_path = Path('.') / '.env'\n",
    "load_dotenv(dotenv_path=env_path, verbose=True)\n",
    "password = os.environ.get(\"SAIL_PASS\") \n",
    "platform_ip = os.environ.get(\"PS_IP\")\n",
    "user_dataset_name = os.environ.get(\"DS_NAME\")\n",
    "\n",
    "sail.core.login(\"lbart@igr.com\", password, 6200, platform_ip)"
   ]
  },
  {
   "cell_type": "code",
   "execution_count": null,
   "metadata": {},
   "outputs": [],
   "source": [
    "#########################################################\n",
    "# Allocate our job and load our SafeObjects\n",
    "#########################################################\n",
    "\n",
    "sail.core.load_safe_objects(\"../SafeObjects\")\n",
    "dg_test_object_guid = \"479F9891BBDE41C2B8A06CF2E29F32AC\"\n",
    "dg_increment_safefunction_guid = \"473001DB64AF456E971296418B6194FE\"\n",
    "dg_sum_column_guid = \"442D0290DEA14CE4B70FB31B891F20B6\"\n",
    "\n",
    "job_id = sail.core.run_job(dg_test_object_guid)\n",
    "print(\"Job ID: {} \".format(job_id))"
   ]
  },
  {
   "cell_type": "code",
   "execution_count": null,
   "metadata": {},
   "outputs": [],
   "source": [
    "#########################################################\n",
    "# Extract our identifiers\n",
    "#########################################################\n",
    "json_datasets = json.loads(sail.core.get_datasets())\n",
    "json_digital_contracts = json.loads(sail.core.get_digital_contracts())\n",
    "\n",
    "provision_dc = \"\"\n",
    "provision_ds = \"\"\n",
    "my_table_guid = \"\"\n",
    "for dataset in json_datasets:\n",
    "    if(json_datasets[dataset][\"DatasetName\"] == user_dataset_name):\n",
    "        provision_ds = dataset\n",
    "        my_table_guid = list(json_datasets[dataset][\"Tables\"].keys())[0]\n",
    "\n",
    "for digital_contract in json_digital_contracts:\n",
    "    trimmed_ds = provision_ds.replace('{','').replace('}','')\n",
    "    if (json_digital_contracts[digital_contract][\"DatasetGuid\"] == trimmed_ds):\n",
    "        provision_dc = digital_contract\n",
    "    \n",
    "print(\"DC {} DS {} TABLE {}\".format(provision_dc, provision_ds, my_table_guid))"
   ]
  },
  {
   "cell_type": "code",
   "execution_count": null,
   "metadata": {
    "scrolled": false
   },
   "outputs": [],
   "source": [
    "job_status = sail.core.get_job_status(job_id)\n",
    "print(\"{}:{}\".format(job_id,job_status))\n",
    "#job_status = sail.core.get_job_status(second_job_id)\n",
    "#print(\"{}:{}\".format(second_job_id,job_status))"
   ]
  },
  {
   "cell_type": "code",
   "execution_count": null,
   "metadata": {
    "scrolled": false
   },
   "outputs": [],
   "source": [
    "first_provision = sail.core.provision_secure_computational_node(provision_dc, provision_ds, \"Standard_D4s_v4\")\n",
    "\n",
    "print(\"Provision ID: {}\".format(first_provision))\n"
   ]
  },
  {
   "cell_type": "code",
   "execution_count": null,
   "metadata": {
    "scrolled": true
   },
   "outputs": [],
   "source": [
    "print(sail.core.wait_for_all_secure_nodes_to_be_provisioned(300000))"
   ]
  },
  {
   "cell_type": "code",
   "execution_count": null,
   "metadata": {},
   "outputs": [],
   "source": [
    "############################################################################\n",
    "#\n",
    "# Set the parameters for the job and set a variable for its output\n",
    "#\n",
    "############################################################################\n",
    "\n",
    "set_ds_response = sail.core.set_parameter(job_id, \"4DC7BEC15B384FBD9BD721B7BF36A984\", my_table_guid)\n",
    "#set_ds_response = sail.core.set_parameter(second_job_id, \"4C8041B4513A44FAA5409662E014519C\", provision_ds)\n",
    "data_id = \"{}.{}\".format(job_id, \"52A2698D65C44433BEDDFEE508C9065F\")\n",
    "print(\"First job IP {}\".format(sail.core.get_ip_for_job(job_id)))\n",
    "#print(\"Second job IP {}\".format(sail.core.get_ip_for_job(second_job_id)))"
   ]
  },
  {
   "cell_type": "code",
   "execution_count": null,
   "metadata": {},
   "outputs": [],
   "source": [
    "data_id = \"{}.{}\".format(job_id, \"52A2698D65C44433BEDDFEE508C9065F\")\n",
    "\n",
    "#pull_data_result = sail.core.pull_data(data_id)\n",
    "#print(pull_data_result)"
   ]
  },
  {
   "cell_type": "code",
   "execution_count": null,
   "metadata": {
    "scrolled": false
   },
   "outputs": [],
   "source": [
    "############################################################################\n",
    "#\n",
    "# Produce data frame from CSV\n",
    "#\n",
    "############################################################################\n",
    "\n",
    "import base64\n",
    "import pickle\n",
    "\n",
    "message_response = sail.core.wait_for_data(10000)\n",
    "data_frame = None;\n",
    "while None != message_response:\n",
    "    if ( message_response is not None):\n",
    "        message_json = json.loads(message_response)\n",
    "        if ( message_json[\"SignalType\"] == 0):\n",
    "            print(\"Job {} is running\".format(message_json[\"JobUuid\"]))\n",
    "\n",
    "        if ( message_json[\"SignalType\"] == 1):\n",
    "            print(\"Job {} is done\".format(message_json[\"JobUuid\"]))\n",
    "\n",
    "        if ( message_json[\"SignalType\"] == 3):\n",
    "            data_value = message_json[\"FileData\"]\n",
    "            decoded_value = base64.b64decode(data_value)\n",
    "            un_serialized_value = pickle.loads(decoded_value)\n",
    "            print(\"Dataframe has been processed from CSV\")\n",
    "            data_frame = un_serialized_value\n",
    "            \n",
    "    message_response = sail.core.wait_for_data(2000)\n"
   ]
  },
  {
   "cell_type": "code",
   "execution_count": null,
   "metadata": {
    "scrolled": true
   },
   "outputs": [],
   "source": [
    "############################################################################\n",
    "#\n",
    "# Get the sum of a column\n",
    "#\n",
    "############################################################################\n",
    "sum_column_job_id = sail.core.run_job(dg_sum_column_guid)\n",
    "\n",
    "column_name = \"BMI\"\n",
    "# Setup a job to injest a dataframe, and sum a column's name\n",
    "pushed_column_name = sail.core.push_user_data(column_name)\n",
    "set_ds_response = sail.core.set_parameter(sum_column_job_id, \"4C3F2D549B2042E291C47A074A0194A6\", data_id)\n",
    "set_ds_response = sail.core.set_parameter(sum_column_job_id, \"4C275957B5C34C20BD0E02E03330167D\", pushed_column_name)\n",
    "print(\"Column job IP {}\".format(sail.core.get_ip_for_job(sum_column_job_id)))\n",
    "column_result_id = \"{}.{}\".format(sum_column_job_id, \"5036707EAABB46C584FC5DBA75D5718E\")\n",
    "\n",
    "pull_data_result = sail.core.pull_data(column_result_id)"
   ]
  },
  {
   "cell_type": "code",
   "execution_count": null,
   "metadata": {},
   "outputs": [],
   "source": [
    "# Job should be running at this point\n",
    "import base64\n",
    "import pickle\n",
    "\n",
    "message_response = sail.core.wait_for_data(20000)\n",
    "increment_result = 0;\n",
    "while None != message_response:\n",
    "    if ( message_response is not None):\n",
    "        message_json = json.loads(message_response)\n",
    "        if ( message_json[\"SignalType\"] == 3):\n",
    "            data_value = message_json[\"FileData\"]\n",
    "            decoded_value = base64.b64decode(data_value)\n",
    "            un_serialized_value = pickle.loads(decoded_value)\n",
    "            print(\"The sum of column {} is {}\".format(column_name, un_serialized_value))\n",
    "            \n",
    "    message_response = sail.core.wait_for_data(5000)"
   ]
  },
  {
   "cell_type": "code",
   "execution_count": null,
   "metadata": {},
   "outputs": [],
   "source": [
    "sail.core.deprovision_digital_contract(provision_dc)"
   ]
  },
  {
   "cell_type": "code",
   "execution_count": null,
   "metadata": {},
   "outputs": [],
   "source": [
    "sail.core.exit_current_session()"
   ]
  }
 ],
 "metadata": {
  "kernelspec": {
   "display_name": "Python 3",
   "language": "python",
   "name": "python3"
  },
  "language_info": {
   "codemirror_mode": {
    "name": "ipython",
    "version": 3
   },
   "file_extension": ".py",
   "mimetype": "text/x-python",
   "name": "python",
   "nbconvert_exporter": "python",
   "pygments_lexer": "ipython3",
   "version": "3.8.10"
  }
 },
 "nbformat": 4,
 "nbformat_minor": 4
}
