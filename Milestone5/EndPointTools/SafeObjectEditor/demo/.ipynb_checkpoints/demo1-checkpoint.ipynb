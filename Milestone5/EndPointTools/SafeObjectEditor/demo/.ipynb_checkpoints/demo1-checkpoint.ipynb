{
 "cells": [
  {
   "cell_type": "code",
   "execution_count": 2,
   "id": "naval-horizon",
   "metadata": {},
   "outputs": [],
   "source": [
    "from sail.data import RemoteDataFrame\n",
    "from sail.core import connect, newguid, get_fns, registersafeobj, querydata, pushsafeobj"
   ]
  },
  {
   "cell_type": "code",
   "execution_count": 3,
   "id": "private-shame",
   "metadata": {},
   "outputs": [],
   "source": [
    "registersafeobj(\"/home/jjj/playground/demo/safeobjects/safeobjects\")"
   ]
  },
  {
   "cell_type": "code",
   "execution_count": 4,
   "id": "scientific-trade",
   "metadata": {},
   "outputs": [],
   "source": [
    "fns = get_fns()"
   ]
  },
  {
   "cell_type": "code",
   "execution_count": 5,
   "id": "sitting-range",
   "metadata": {},
   "outputs": [
    {
     "data": {
      "text/plain": [
       "['{1C45B3B0-0562-4F70-B30A-5AE2ECC89FDB}',\n",
       " '{DD89AA90-B2A0-4360-9137-BAB7F5AC0F1A}',\n",
       " '{129F6FBF-8979-40DA-B91B-9850DF191876}']"
      ]
     },
     "execution_count": 5,
     "metadata": {},
     "output_type": "execute_result"
    }
   ],
   "source": [
    "vm1 = connect(\"52.249.179.78\", 3500, \"lbart@igr.com\", \"sailpassword\")\n",
    "vm2 = connect(\"13.92.28.19\", 3500, \"lbart@igr.com\", \"sailpassword\")\n",
    "vm3 = connect(\"52.249.181.3\", 3500, \"lbart@igr.com\", \"sailpassword\")\n",
    "vms = [vm1, vm2, vm3]\n",
    "vms"
   ]
  },
  {
   "cell_type": "code",
   "execution_count": 6,
   "id": "falling-phone",
   "metadata": {},
   "outputs": [],
   "source": [
    "for vm in vms:\n",
    "    for key in fns:\n",
    "        pushsafeobj(vm, fns[key])"
   ]
  },
  {
   "cell_type": "code",
   "execution_count": 7,
   "id": "incoming-leone",
   "metadata": {},
   "outputs": [
    {
     "data": {
      "text/plain": [
       "['9C80A6B8F8CD6E42B2E950AB2260477D',\n",
       " '220B2F3FDAFDB9418B2AC05C9DFF0246',\n",
       " '346481BFEDDCE94E91E62243B55FD378']"
      ]
     },
     "execution_count": 7,
     "metadata": {},
     "output_type": "execute_result"
    }
   ],
   "source": [
    "tableid1 = querydata(vm1)\n",
    "tableid2 = querydata(vm2)\n",
    "tableid3 = querydata(vm3)\n",
    "table = [tableid1[0], tableid2[0], tableid3[0]]\n",
    "table"
   ]
  },
  {
   "cell_type": "code",
   "execution_count": 8,
   "id": "fossil-concentrate",
   "metadata": {},
   "outputs": [],
   "source": [
    "df = []\n",
    "for i in range(3):\n",
    "    rdf = RemoteDataFrame(vms[i], table[i], fns)\n",
    "    df.append(rdf)"
   ]
  },
  {
   "cell_type": "code",
   "execution_count": 9,
   "id": "reliable-justice",
   "metadata": {},
   "outputs": [
    {
     "name": "stdout",
     "output_type": "stream",
     "text": [
      "Index(['Unnamed: 0', 'AGE', 'BMI', 'PD-L1 level before treatment',\n",
      "       'PD-L1 level after treatment', 'PD-L2 level before treatment',\n",
      "       'PD-L2 level after treatment', 'PD1 level before treatment',\n",
      "       'PD1 level after treatment'],\n",
      "      dtype='object')\n",
      "Index(['Unnamed: 0', 'AGE', 'BMI', 'PD-L1 level before treatment',\n",
      "       'PD-L1 level after treatment', 'PD-L2 level before treatment',\n",
      "       'PD-L2 level after treatment', 'PD1 level before treatment',\n",
      "       'PD1 level after treatment'],\n",
      "      dtype='object')\n",
      "Index(['Unnamed: 0', 'AGE', 'BMI', 'PD-L1 level before treatment',\n",
      "       'PD-L1 level after treatment', 'PD-L2 level before treatment',\n",
      "       'PD-L2 level after treatment', 'PD1 level before treatment',\n",
      "       'PD1 level after treatment'],\n",
      "      dtype='object')\n"
     ]
    }
   ],
   "source": [
    "for i in range(3):\n",
    "    print(df[i].columns)"
   ]
  },
  {
   "cell_type": "code",
   "execution_count": 10,
   "id": "sunset-barcelona",
   "metadata": {},
   "outputs": [],
   "source": [
    "selected_df = []\n",
    "for i in range(3):\n",
    "    df_id = df[i].query('AGE>25 & AGE<50 & BMI>25 & BMI<30')\n",
    "    rdf = RemoteDataFrame(vms[i], df_id, fns)\n",
    "    selected_df.append(rdf)"
   ]
  },
  {
   "cell_type": "code",
   "execution_count": 11,
   "id": "interim-template",
   "metadata": {},
   "outputs": [
    {
     "name": "stdout",
     "output_type": "stream",
     "text": [
      "On party 0 The change of the following biomarkers before and after the treatment are: \n",
      "PD-L1: 54.285985953370385\n",
      "PD-L2: 3.0024798174968126\n",
      "PD1: -2.1784798082806347\n",
      "On party 1 The change of the following biomarkers before and after the treatment are: \n",
      "PD-L1: 54.92399573591146\n",
      "PD-L2: 3.1555203110167795\n",
      "PD1: 1.4041631248628939\n",
      "On party 2 The change of the following biomarkers before and after the treatment are: \n",
      "PD-L1: 54.89693445968601\n",
      "PD-L2: 2.8382806152452567\n",
      "PD1: -0.9792833487898633\n"
     ]
    }
   ],
   "source": [
    "for i in range(3):\n",
    "    diff_PDL1 = selected_df[i]['PD-L1 level before treatment'].mean() - selected_df[i]['PD-L1 level after treatment'].mean()\n",
    "    diff_PDL2 = selected_df[i]['PD-L2 level before treatment'].mean() - selected_df[i]['PD-L2 level after treatment'].mean()\n",
    "    diff_PD1 = selected_df[i]['PD1 level before treatment'].mean() - selected_df[i]['PD1 level after treatment'].mean()\n",
    "    print(\"On party {0} The change of the following biomarkers before and after the treatment are: \\nPD-L1: {1}\\nPD-L2: {2}\\nPD1: {3}\".format(i, diff_PDL1, diff_PDL2, diff_PD1))"
   ]
  },
  {
   "cell_type": "code",
   "execution_count": null,
   "id": "overall-relations",
   "metadata": {},
   "outputs": [],
   "source": []
  }
 ],
 "metadata": {
  "kernelspec": {
   "display_name": "Python 3",
   "language": "python",
   "name": "python3"
  },
  "language_info": {
   "codemirror_mode": {
    "name": "ipython",
    "version": 3
   },
   "file_extension": ".py",
   "mimetype": "text/x-python",
   "name": "python",
   "nbconvert_exporter": "python",
   "pygments_lexer": "ipython3",
   "version": "3.8.10"
  }
 },
 "nbformat": 4,
 "nbformat_minor": 5
}
