{
 "cells": [
  {
   "cell_type": "code",
   "execution_count": 1,
   "metadata": {},
   "outputs": [],
   "source": [
    "from sail.core import VMSetup, querydata\n",
    "from sail.data import RemoteDataFrame, Utils\n",
    "import time\n"
   ]
  },
  {
   "cell_type": "code",
   "execution_count": 2,
   "metadata": {},
   "outputs": [
    {
     "name": "stdout",
     "output_type": "stream",
     "text": [
      "[P]safe objects registered\n",
      "[P]login success\n",
      "{\"DigitalContractGuid\": \"{3BFF6633-477E-43D8-B3A3-F3079A1AF10F}\"}\n"
     ]
    },
    {
     "name": "stderr",
     "output_type": "stream",
     "text": [
      "/usr/local/lib/python3.8/dist-packages/urllib3/connectionpool.py:1013: InsecureRequestWarning: Unverified HTTPS request is being made to host '20.185.6.111'. Adding certificate verification is strongly advised. See: https://urllib3.readthedocs.io/en/1.26.x/advanced-usage.html#ssl-warnings\n",
      "  warnings.warn(\n"
     ]
    },
    {
     "name": "stdout",
     "output_type": "stream",
     "text": [
      "['20.101.77.222']\n",
      "{\"DigitalContractGuid\": \"{34E8FF34-2D5E-41C1-ACF4-0106227D88A5}\"}\n"
     ]
    },
    {
     "name": "stderr",
     "output_type": "stream",
     "text": [
      "/usr/local/lib/python3.8/dist-packages/urllib3/connectionpool.py:1013: InsecureRequestWarning: Unverified HTTPS request is being made to host '20.185.6.111'. Adding certificate verification is strongly advised. See: https://urllib3.readthedocs.io/en/1.26.x/advanced-usage.html#ssl-warnings\n",
      "  warnings.warn(\n"
     ]
    },
    {
     "name": "stdout",
     "output_type": "stream",
     "text": [
      "['20.101.77.222', '20.107.99.141']\n",
      "[P]virtual machine connection to ip: 20.101.77.222 success\n",
      "[P]virtual machine connection to ip: 20.107.99.141 success\n",
      "[P]safe object pushed to virtual machines\n",
      "[P]obtain table ids\n"
     ]
    }
   ],
   "source": [
    "#setup the communication with the remote virtual machines with digital contracts\n",
    "so_path = \"/Development/Milestone3/EndPointTools/SafeObjectEditor/KPMG/safeobjects\"\n",
    "dc = [{\"DigitalContractGuid\":\"{3BFF6633-477E-43D8-B3A3-F3079A1AF10F}\"}, {\"DigitalContractGuid\":\"{34E8FF34-2D5E-41C1-ACF4-0106227D88A5}\"}]\n",
    "vmids, datasets, fns = VMSetup(dc, \"20.185.6.111\", so_path)"
   ]
  },
  {
   "cell_type": "code",
   "execution_count": 3,
   "metadata": {},
   "outputs": [
    {
     "data": {
      "text/plain": [
       "['{247E9D04-089D-424E-AB09-C1C5F1BFBAC9}',\n",
       " '{B1748DF6-9139-43EF-8885-077998CB0079}']"
      ]
     },
     "execution_count": 3,
     "metadata": {},
     "output_type": "execute_result"
    }
   ],
   "source": [
    "#obtain virtual machines ids and dataset ids, so we can confirm the datasets are intact and ready for studying\n",
    "vmids"
   ]
  },
  {
   "cell_type": "code",
   "execution_count": 4,
   "metadata": {},
   "outputs": [
    {
     "data": {
      "text/plain": [
       "[{'agreement09nov': '804DD44A900818499D3FA68CDDF1C844',\n",
       "  'agreementMapping': '68DA5CD6CE4D3D4F9E5A33E587B80958',\n",
       "  'contact09nov': '613438CFD17362418C67F98AD9B015B2',\n",
       "  'createReasonMapping': '431F1BD48F684140ADE8FB1BB5A80568',\n",
       "  'payment09nov': '9C47F4F3BBE07B4F89256B1EED3C960D'},\n",
       " {'agreement09nov': 'F6C97A39723D4F478CC06371EB98103B',\n",
       "  'agreementMapping': '1EE7D5340BEFBB40BB21D92CF002A7C6',\n",
       "  'contact09nov': '99FC69A3BEABFB4C865F6B0D594A6173',\n",
       "  'createReasonMapping': '068E2C8F14EC0241968305B80D12F65F',\n",
       "  'payment09nov': '5CDB0CBA5D6D3D4E81A00524D8602448'}]"
      ]
     },
     "execution_count": 4,
     "metadata": {},
     "output_type": "execute_result"
    }
   ],
   "source": [
    "datasets"
   ]
  },
  {
   "cell_type": "code",
   "execution_count": 5,
   "metadata": {},
   "outputs": [
    {
     "data": {
      "text/plain": [
       "[['{1F4C74A1-AF97-41AE-A91D-E8978CA33ADE}.5C37473C6D3443F49C03CAF0D746B997',\n",
       "  '{4DD95B07-AC1E-46ED-AE1C-DE54881E6D3C}.5C37473C6D3443F49C03CAF0D746B997',\n",
       "  '{48FCE4E2-6DD6-4648-9BFC-7DD890147732}.5C37473C6D3443F49C03CAF0D746B997',\n",
       "  '{4AA2C9A6-6718-4BE7-97BC-5F965B312FB2}.5C37473C6D3443F49C03CAF0D746B997',\n",
       "  '{4054AB1F-ADA9-4F6C-87E2-BB164EC836E5}.5C37473C6D3443F49C03CAF0D746B997'],\n",
       " ['{3979BCCC-B4C9-4161-9F7D-EB78A6864534}.5C37473C6D3443F49C03CAF0D746B997',\n",
       "  '{F75EDB2F-BE58-44F7-993B-B892E352EC89}.5C37473C6D3443F49C03CAF0D746B997',\n",
       "  '{F5FF807E-E7D7-4807-86FB-A078913FE408}.5C37473C6D3443F49C03CAF0D746B997',\n",
       "  '{B8B1B61B-9BEA-4DA9-B6C3-D30D0AC32C91}.5C37473C6D3443F49C03CAF0D746B997',\n",
       "  '{F77E85C8-0C77-4BD5-A845-9CA13A04BAF2}.5C37473C6D3443F49C03CAF0D746B997']]"
      ]
     },
     "execution_count": 5,
     "metadata": {},
     "output_type": "execute_result"
    }
   ],
   "source": [
    "from sail.data import Utils\n",
    "#Prepare for data to be preprocessed\n",
    "u1 = Utils(vmids[0], fns)\n",
    "u2 = Utils(vmids[1], fns)\n",
    "u = [u1, u2]\n",
    "\n",
    "for i in range(2):\n",
    "    for key in datasets[i]:\n",
    "        datasets[i][key] = u[i].read_csv(datasets[i][key])\n",
    "\n",
    "data1 = [datasets[0]['agreement09nov'], datasets[0]['contact09nov'], datasets[0]['payment09nov'], datasets[0]['agreementMapping'], datasets[0]['createReasonMapping']]\n",
    "data2 = [datasets[1]['agreement09nov'], datasets[1]['contact09nov'], datasets[1]['payment09nov'], datasets[1]['agreementMapping'], datasets[1]['createReasonMapping']]\n",
    "data = [data1, data2]\n",
    "#data = [data1]\n",
    "data"
   ]
  },
  {
   "cell_type": "code",
   "execution_count": 6,
   "metadata": {},
   "outputs": [],
   "source": [
    "#Setup parameters for federated xgboost model\n",
    "from sail.algo import fdxgb"
   ]
  },
  {
   "cell_type": "code",
   "execution_count": 7,
   "metadata": {},
   "outputs": [],
   "source": [
    "model = fdxgb(vmids)"
   ]
  },
  {
   "cell_type": "code",
   "execution_count": 8,
   "metadata": {},
   "outputs": [
    {
     "name": "stdout",
     "output_type": "stream",
     "text": [
      "TIME TAKEN:394.38338351249695\n"
     ]
    }
   ],
   "source": [
    "mid_time = time.time()\n",
    "\n",
    "#Preprocess to raw data and obtain the final dataframe \n",
    "processed_data = model.data_preprocessv6(data)\n",
    "\n",
    "print(\"TIME TAKEN:\"+str(time.time() - mid_time))"
   ]
  },
  {
   "cell_type": "code",
   "execution_count": 9,
   "metadata": {},
   "outputs": [
    {
     "data": {
      "text/plain": [
       "[['{94149FE6-BEE9-4BD8-B703-EF2FE0E9565C}.22781F1189EE4A59811FC87A58F87FE1',\n",
       "  '{94149FE6-BEE9-4BD8-B703-EF2FE0E9565C}.A25D92AC2CE3419183BA2D2DC327853E',\n",
       "  '{94149FE6-BEE9-4BD8-B703-EF2FE0E9565C}.1D45849AE8E348AC9E0E1D327963720B',\n",
       "  '{94149FE6-BEE9-4BD8-B703-EF2FE0E9565C}.DFF3006247B84C48B8F6566A1FBCF450',\n",
       "  '{94149FE6-BEE9-4BD8-B703-EF2FE0E9565C}.04791A2940C246C9BFF33BD8CEAC5A4E',\n",
       "  '{94149FE6-BEE9-4BD8-B703-EF2FE0E9565C}.E0C8C95A43FE48A980DD74EB94B50D52',\n",
       "  '{94149FE6-BEE9-4BD8-B703-EF2FE0E9565C}.0BF4AC222C15496884B65150893F2BBA',\n",
       "  '{94149FE6-BEE9-4BD8-B703-EF2FE0E9565C}.E87E761B37B14F8CA829CC9558A3B22E',\n",
       "  '{94149FE6-BEE9-4BD8-B703-EF2FE0E9565C}.A532E0888F9943A3AE5CDD8EEA16A5C8',\n",
       "  '{94149FE6-BEE9-4BD8-B703-EF2FE0E9565C}.178301F3D4C54CFF838BB97729BD0D96'],\n",
       " ['{E3D224DF-F7F3-4F38-AA55-838D311AEB5F}.22781F1189EE4A59811FC87A58F87FE1',\n",
       "  '{E3D224DF-F7F3-4F38-AA55-838D311AEB5F}.A25D92AC2CE3419183BA2D2DC327853E',\n",
       "  '{E3D224DF-F7F3-4F38-AA55-838D311AEB5F}.1D45849AE8E348AC9E0E1D327963720B',\n",
       "  '{E3D224DF-F7F3-4F38-AA55-838D311AEB5F}.DFF3006247B84C48B8F6566A1FBCF450',\n",
       "  '{E3D224DF-F7F3-4F38-AA55-838D311AEB5F}.04791A2940C246C9BFF33BD8CEAC5A4E',\n",
       "  '{E3D224DF-F7F3-4F38-AA55-838D311AEB5F}.E0C8C95A43FE48A980DD74EB94B50D52',\n",
       "  '{E3D224DF-F7F3-4F38-AA55-838D311AEB5F}.0BF4AC222C15496884B65150893F2BBA',\n",
       "  '{E3D224DF-F7F3-4F38-AA55-838D311AEB5F}.E87E761B37B14F8CA829CC9558A3B22E',\n",
       "  '{E3D224DF-F7F3-4F38-AA55-838D311AEB5F}.A532E0888F9943A3AE5CDD8EEA16A5C8',\n",
       "  '{E3D224DF-F7F3-4F38-AA55-838D311AEB5F}.178301F3D4C54CFF838BB97729BD0D96']]"
      ]
     },
     "execution_count": 9,
     "metadata": {},
     "output_type": "execute_result"
    }
   ],
   "source": [
    "processed_data"
   ]
  },
  {
   "cell_type": "code",
   "execution_count": 10,
   "metadata": {},
   "outputs": [],
   "source": [
    "#[y_val, y_test, X_val, X_test, X_train, y_train, X_train_val, y_train_val]\n",
    "X_train = [processed_data[0][0],processed_data[1][0]]\n",
    "y_train = [processed_data[0][1],processed_data[1][1]]\n",
    "X_val = [processed_data[0][2],processed_data[1][2]]\n",
    "y_val = [processed_data[0][3],processed_data[1][3]]\n",
    "X_train_val = [processed_data[0][4],processed_data[1][4]]\n",
    "y_train_val = [processed_data[0][5],processed_data[1][5]]\n",
    "X_test = [processed_data[0][6],processed_data[1][6]]\n",
    "y_test = [processed_data[0][7],processed_data[1][7]]"
   ]
  },
  {
   "cell_type": "code",
   "execution_count": 11,
   "metadata": {},
   "outputs": [
    {
     "name": "stdout",
     "output_type": "stream",
     "text": [
      "TIME TAKEN:2.0030293464660645\n"
     ]
    }
   ],
   "source": [
    "mid_time = time.time()\n",
    "\n",
    "rdf = RemoteDataFrame(vmids[0], X_train[0], fns)\n",
    "cols = rdf.columns\n",
    "cols\n",
    "print(\"TIME TAKEN:\"+str(time.time() - mid_time))"
   ]
  },
  {
   "cell_type": "code",
   "execution_count": 12,
   "metadata": {},
   "outputs": [],
   "source": [
    "import statistics\n",
    "import optuna\n",
    "\n",
    "def objective(trial, fdxgbmod, X_train, y_train, X_val, y_val):\n",
    "    from sklearn.model_selection import cross_val_score\n",
    "    from sklearn.metrics import auc\n",
    "    import numpy as np\n",
    "    \n",
    "    mid_time = time.time()\n",
    "    \n",
    "    #trial partameter values\n",
    "    learning_rate = trial.suggest_uniform('learning_rate', 0, 0.1)\n",
    "    max_depth = trial.suggest_int('max_depth', 5, 10, step=1)\n",
    "    max_delta_step = trial.suggest_int('max_delta_step', 10, 20, step=1)\n",
    "    subsample = trial.suggest_uniform('subsample', 0.5, 1)\n",
    "    colsample_bytree = trial.suggest_uniform('colsample_bytree', 0.1, 0.5)\n",
    "    colsample_bylevel = trial.suggest_uniform('colsample_bylevel', 0.5, 1.0)\n",
    "    reg_lambda = trial.suggest_int('reg_lambda', 50, 100, step=2)\n",
    "    reg_alpha = trial.suggest_uniform('reg_alpha', 1e-6, 1e-5)\n",
    "    gamma = trial.suggest_uniform('gamma', 1e-9, 1e-8)\n",
    "    n_estimators = trial.suggest_int('n_estimators', 100, 200, step=2)\n",
    "    scale_pos_weight = trial.suggest_uniform('scale_pos_weight', 5, 15)\n",
    "\n",
    "    \n",
    "    model_params = {\n",
    "        \"colsample_bylevel\": colsample_bylevel,\n",
    "        \"colsample_bytree\": colsample_bytree,\n",
    "        \"gamma\": gamma,\n",
    "        \"learning_rate\": learning_rate,\n",
    "        \"max_delta_step\": max_delta_step,\n",
    "        \"max_depth\": max_depth,\n",
    "        \"n_estimators\": n_estimators,\n",
    "        \"reg_alpha\": reg_alpha,\n",
    "        \"reg_lambda\": reg_lambda,\n",
    "        \"subsample\": subsample,\n",
    "        \"scale_pos_weight\": scale_pos_weight\n",
    "        }\n",
    "\n",
    "    #train the a new model\n",
    "    fdxgbmod.params =  model_params\n",
    "    model_tmp = model.fit_withhash(X_train,y_train)\n",
    "    \n",
    "    #evaluate the model in terms of accuracy\n",
    "    results =  fdxgbmod.aucpr_score(model_tmp, X_val, y_val)\n",
    "    precision = results[0][0]\n",
    "    recall = results[0][2]\n",
    "    \n",
    "    recall = np.append(recall, [1])    \n",
    "    \n",
    "    #calculate area under curve\n",
    "    auc_precision_recall = auc(recall, precision)\n",
    "    \n",
    "    print(\"AUC:\"+str(auc_precision_recall))\n",
    "    print(\"TIME TAKEN:\"+str(time.time() - mid_time))\n",
    "    #return area under curve\n",
    "    return auc_precision_recall"
   ]
  },
  {
   "cell_type": "code",
   "execution_count": 13,
   "metadata": {},
   "outputs": [],
   "source": [
    "# xgbmodel = model.fit_withhash(X_train,y_train)\n",
    "#xgbmodel = model.fit(X_train,y_train)"
   ]
  },
  {
   "cell_type": "code",
   "execution_count": null,
   "metadata": {},
   "outputs": [
    {
     "name": "stderr",
     "output_type": "stream",
     "text": [
      "\u001b[32m[I 2021-11-28 03:15:14,005]\u001b[0m A new study created in memory with name: no-name-107bbb61-faf9-4006-85af-9d612a3f87a1\u001b[0m\n"
     ]
    },
    {
     "name": "stdout",
     "output_type": "stream",
     "text": [
      "[03:15:14] WARNING: ../src/learner.cc:576: \n",
      "Parameters: { \"n_estimators\" } might not be used.\n",
      "\n",
      "  This could be a false alarm, with some parameters getting used by language bindings but\n",
      "  then being mistakenly passed down to XGBoost core, or some parameter actually being used\n",
      "  but getting flagged wrongly here. Please open an issue if you find any such cases.\n",
      "\n",
      "\n",
      "Tree 1\n",
      "Tree 2\n",
      "Tree 3\n",
      "Tree 4\n",
      "Tree 5\n",
      "Tree 6\n",
      "Tree 7\n",
      "Tree 8\n",
      "Tree 9\n",
      "Tree 10\n",
      "Tree 11\n",
      "Tree 12\n",
      "Tree 13\n",
      "Tree 14\n",
      "Tree 15\n",
      "Tree 16\n",
      "Tree 17\n",
      "Tree 18\n",
      "Tree 19\n",
      "Tree 20\n",
      "Tree 21\n",
      "Tree 22\n",
      "Tree 23\n",
      "Tree 24\n",
      "Tree 25\n",
      "Tree 26\n",
      "Tree 27\n",
      "Tree 28\n",
      "Tree 29\n",
      "Tree 30\n",
      "Tree 31\n",
      "Tree 32\n",
      "Tree 33\n",
      "Tree 34\n",
      "Tree 35\n",
      "Tree 36\n",
      "Tree 37\n",
      "Tree 38\n",
      "Tree 39\n",
      "Tree 40\n",
      "Tree 41\n",
      "Tree 42\n",
      "Tree 43\n",
      "Tree 44\n",
      "Tree 45\n",
      "Tree 46\n",
      "Tree 47\n",
      "Tree 48\n",
      "Tree 49\n",
      "Tree 50\n",
      "Tree 51\n",
      "Tree 52\n",
      "Tree 53\n",
      "Tree 54\n",
      "Tree 55\n",
      "Tree 56\n",
      "Tree 57\n",
      "Tree 58\n",
      "Tree 59\n",
      "Tree 60\n",
      "Tree 61\n",
      "Tree 62\n",
      "Tree 63\n",
      "Tree 64\n",
      "Tree 65\n",
      "Tree 66\n",
      "Tree 67\n",
      "Tree 68\n",
      "Tree 69\n",
      "Tree 70\n",
      "Tree 71\n",
      "Tree 72\n",
      "Tree 73\n",
      "Tree 74\n",
      "Tree 75\n",
      "Tree 76\n",
      "Tree 77\n",
      "Tree 78\n",
      "Tree 79\n",
      "Tree 80\n",
      "Tree 81\n",
      "Tree 82\n",
      "Tree 83\n",
      "Tree 84\n",
      "Tree 85\n",
      "Tree 86\n",
      "Tree 87\n",
      "Tree 88\n",
      "Tree 89\n",
      "Tree 90\n",
      "Tree 91\n",
      "Tree 92\n",
      "Tree 93\n",
      "Tree 94\n",
      "Tree 95\n",
      "Tree 96\n",
      "Tree 97\n",
      "Tree 98\n",
      "Tree 99\n",
      "Tree 100\n",
      "Tree 101\n",
      "Tree 102\n",
      "Tree 103\n",
      "Tree 104\n",
      "Tree 105\n",
      "Tree 106\n",
      "Tree 107\n",
      "Tree 108\n",
      "Tree 109\n",
      "Tree 110\n",
      "Tree 111\n",
      "Tree 112\n",
      "Tree 113\n",
      "Tree 114\n",
      "Tree 115\n",
      "Tree 116\n",
      "Tree 117\n",
      "Tree 118\n",
      "Tree 119\n",
      "Tree 120\n",
      "Tree 121\n",
      "Tree 122\n",
      "Tree 123\n",
      "Tree 124\n",
      "Tree 125\n",
      "Tree 126\n",
      "Tree 127\n",
      "Tree 128\n",
      "Tree 129\n",
      "Tree 130\n",
      "Tree 131\n",
      "Tree 132\n",
      "Tree 133\n",
      "Tree 134\n",
      "Tree 135\n",
      "Tree 136\n",
      "Tree 137\n",
      "Tree 138\n",
      "Tree 139\n",
      "Tree 140\n",
      "Tree 141\n",
      "Tree 142\n",
      "Tree 143\n",
      "Tree 144\n",
      "Tree 145\n",
      "Tree 146\n",
      "Tree 147\n",
      "Tree 148\n",
      "Tree 149\n",
      "Tree 150\n",
      "Tree 151\n",
      "Tree 152\n",
      "Tree 153\n",
      "Tree 154\n",
      "Tree 155\n",
      "Tree 156\n",
      "Tree 157\n",
      "Tree 158\n",
      "Tree 159\n",
      "Tree 160\n",
      "Tree 161\n",
      "Tree 162\n"
     ]
    },
    {
     "name": "stderr",
     "output_type": "stream",
     "text": [
      "\u001b[32m[I 2021-11-28 03:54:38,022]\u001b[0m Trial 0 finished with value: 0.4247702372921492 and parameters: {'learning_rate': 0.0877450185462584, 'max_depth': 7, 'max_delta_step': 14, 'subsample': 0.8030712022325209, 'colsample_bytree': 0.28619475352973184, 'colsample_bylevel': 0.9256444466188802, 'reg_lambda': 80, 'reg_alpha': 4.37562890547629e-06, 'gamma': 3.6146372354889084e-09, 'n_estimators': 162, 'scale_pos_weight': 12.395448132404997}. Best is trial 0 with value: 0.4247702372921492.\u001b[0m\n"
     ]
    },
    {
     "name": "stdout",
     "output_type": "stream",
     "text": [
      "AUC:0.4247702372921492\n",
      "TIME TAKEN:2364.014364719391\n",
      "[03:54:38] WARNING: ../src/learner.cc:576: \n",
      "Parameters: { \"n_estimators\" } might not be used.\n",
      "\n",
      "  This could be a false alarm, with some parameters getting used by language bindings but\n",
      "  then being mistakenly passed down to XGBoost core, or some parameter actually being used\n",
      "  but getting flagged wrongly here. Please open an issue if you find any such cases.\n",
      "\n",
      "\n",
      "Tree 1\n",
      "Tree 2\n",
      "Tree 3\n",
      "Tree 4\n",
      "Tree 5\n",
      "Tree 6\n",
      "Tree 7\n",
      "Tree 8\n",
      "Tree 9\n",
      "Tree 10\n",
      "Tree 11\n",
      "Tree 12\n",
      "Tree 13\n",
      "Tree 14\n",
      "Tree 15\n",
      "Tree 16\n",
      "Tree 17\n",
      "Tree 18\n",
      "Tree 19\n",
      "Tree 20\n",
      "Tree 21\n",
      "Tree 22\n",
      "Tree 23\n",
      "Tree 24\n",
      "Tree 25\n",
      "Tree 26\n",
      "Tree 27\n",
      "Tree 28\n",
      "Tree 29\n",
      "Tree 30\n",
      "Tree 31\n",
      "Tree 32\n",
      "Tree 33\n",
      "Tree 34\n",
      "Tree 35\n",
      "Tree 36\n",
      "Tree 37\n",
      "Tree 38\n",
      "Tree 39\n",
      "Tree 40\n",
      "Tree 41\n",
      "Tree 42\n",
      "Tree 43\n",
      "Tree 44\n",
      "Tree 45\n",
      "Tree 46\n",
      "Tree 47\n",
      "Tree 48\n",
      "Tree 49\n",
      "Tree 50\n",
      "Tree 51\n",
      "Tree 52\n",
      "Tree 53\n",
      "Tree 54\n",
      "Tree 55\n",
      "Tree 56\n",
      "Tree 57\n",
      "Tree 58\n",
      "Tree 59\n",
      "Tree 60\n",
      "Tree 61\n",
      "Tree 62\n",
      "Tree 63\n",
      "Tree 64\n",
      "Tree 65\n",
      "Tree 66\n",
      "Tree 67\n",
      "Tree 68\n",
      "Tree 69\n",
      "Tree 70\n",
      "Tree 71\n",
      "Tree 72\n",
      "Tree 73\n",
      "Tree 74\n",
      "Tree 75\n",
      "Tree 76\n",
      "Tree 77\n",
      "Tree 78\n",
      "Tree 79\n",
      "Tree 80\n",
      "Tree 81\n",
      "Tree 82\n",
      "Tree 83\n",
      "Tree 84\n",
      "Tree 85\n",
      "Tree 86\n",
      "Tree 87\n",
      "Tree 88\n",
      "Tree 89\n",
      "Tree 90\n",
      "Tree 91\n",
      "Tree 92\n",
      "Tree 93\n",
      "Tree 94\n",
      "Tree 95\n",
      "Tree 96\n",
      "Tree 97\n",
      "Tree 98\n",
      "Tree 99\n",
      "Tree 100\n",
      "Tree 101\n",
      "Tree 102\n",
      "Tree 103\n",
      "Tree 104\n",
      "Tree 105\n",
      "Tree 106\n",
      "Tree 107\n",
      "Tree 108\n",
      "Tree 109\n",
      "Tree 110\n",
      "Tree 111\n",
      "Tree 112\n",
      "Tree 113\n",
      "Tree 114\n",
      "Tree 115\n",
      "Tree 116\n",
      "Tree 117\n",
      "Tree 118\n",
      "Tree 119\n",
      "Tree 120\n",
      "Tree 121\n"
     ]
    }
   ],
   "source": [
    "mid_time = time.time()\n",
    "\n",
    "model.feature_num = len(cols)\n",
    "study = optuna.create_study(direction=\"maximize\")\n",
    "\n",
    "n=3\n",
    "study.optimize(lambda trial: objective(trial, model, X_train, y_train, X_val, y_val ), n_trials=n)\n",
    "\n",
    "print(time.time() - mid_time)"
   ]
  },
  {
   "cell_type": "code",
   "execution_count": null,
   "metadata": {},
   "outputs": [],
   "source": [
    "best_params = study.best_params\n",
    "best_score = study.best_value\n",
    "print(f\"Best score: {best_score}\\n\")\n",
    "print(f\"Optimized parameters: {best_params}\\n\")"
   ]
  },
  {
   "cell_type": "code",
   "execution_count": null,
   "metadata": {},
   "outputs": [],
   "source": []
  },
  {
   "cell_type": "code",
   "execution_count": null,
   "metadata": {},
   "outputs": [],
   "source": [
    "# full_mat = []\n",
    "# precision = []\n",
    "# recall = []\n",
    "# #results[0][3][0]+results[1][3][0]\n",
    "# for i in range(100):\n",
    "#     tmp = results[0][3][i]+results[1][3][i]\n",
    "#     full_mat.append(results[0][3][i]+results[1][3][i])\n",
    "#     #print(tmp, flush=True)\n",
    "#     p = tmp[1][1]+tmp[0][1]\n",
    "#     if(p==0):\n",
    "#         precision.append(0)\n",
    "#     else:\n",
    "#         precision.append(tmp[1][1]/(tmp[1][1]+tmp[0][1]))\n",
    "#     r = tmp[1][1]+tmp[1][0]\n",
    "#     if(r==0):\n",
    "#         recall.append(0)\n",
    "#     else:\n",
    "#         recall.append(tmp[1][1]/(tmp[1][0]+tmp[1][1]))\n",
    "# #print(precision)\n",
    "# #print(recall)\n",
    "# import numpy as np\n",
    "# from sklearn.metrics import PrecisionRecallDisplay\n",
    "# import matplotlib.pyplot as plt\n",
    "# disp = PrecisionRecallDisplay(precision=precision, recall=recall)\n",
    "# disp.plot()"
   ]
  },
  {
   "cell_type": "code",
   "execution_count": null,
   "metadata": {},
   "outputs": [],
   "source": [
    "# precision = results[0][0]\n",
    "# recall = results[0][1]\n",
    "# import numpy as np\n",
    "# #precision = np.append(precision, [1])\n",
    "# #print(precision)\n",
    "# #print(recall)\n",
    "# from sklearn.metrics import PrecisionRecallDisplay\n",
    "# import matplotlib.pyplot as plt\n",
    "# disp = PrecisionRecallDisplay(precision=precision, recall=recall)\n",
    "# disp.plot()"
   ]
  },
  {
   "cell_type": "code",
   "execution_count": null,
   "metadata": {},
   "outputs": [],
   "source": [
    "# precision = results[1][0]\n",
    "# recall = results[1][1]\n",
    "# #import numpy as np\n",
    "# #precision = np.append(precision, [1])\n",
    "# #print(precision)\n",
    "# #print(recall)\n",
    "# #from sklearn.metrics import PrecisionRecallDisplay\n",
    "# #import matplotlib.pyplot as plt\n",
    "# disp = PrecisionRecallDisplay(precision=precision, recall=recall)\n",
    "# disp.plot()"
   ]
  },
  {
   "cell_type": "code",
   "execution_count": null,
   "metadata": {},
   "outputs": [],
   "source": [
    "# model.model = xgbmodel\n",
    "# model.shap(X_val)"
   ]
  }
 ],
 "metadata": {
  "kernelspec": {
   "display_name": "Python 3",
   "language": "python",
   "name": "python3"
  },
  "language_info": {
   "codemirror_mode": {
    "name": "ipython",
    "version": 3
   },
   "file_extension": ".py",
   "mimetype": "text/x-python",
   "name": "python",
   "nbconvert_exporter": "python",
   "pygments_lexer": "ipython3",
   "version": "3.8.10"
  }
 },
 "nbformat": 4,
 "nbformat_minor": 5
}
