{
 "cells": [
  {
   "cell_type": "code",
   "execution_count": 1,
   "id": "medieval-indicator",
   "metadata": {},
   "outputs": [],
   "source": [
    "from zero import ZeroClient\n",
    "import client_data\n",
    "import client_ml\n",
    "import client_plot\n",
    "import client_stat\n",
    "from prefect import task, Flow, Parameter\n",
    "from prefect.tasks.prefect import create_flow_run, wait_for_flow_run\n",
    "import time"
   ]
  },
  {
   "cell_type": "code",
   "execution_count": 2,
   "id": "advance-ethics",
   "metadata": {},
   "outputs": [],
   "source": [
    "client1 = ZeroClient(\"localhost\", 5559)\n",
    "client2 = ZeroClient(\"localhost\", 5558)\n",
    "client3 = ZeroClient(\"localhost\", 5557)\n",
    "clients = [client1, client2, client3]"
   ]
  },
  {
   "cell_type": "code",
   "execution_count": 3,
   "id": "choice-russia",
   "metadata": {},
   "outputs": [
    {
     "name": "stdout",
     "output_type": "stream",
     "text": [
      "<contextlib._GeneratorContextManager object at 0x7f76d02417c0>\n",
      "<contextlib._GeneratorContextManager object at 0x7f76d02268e0>\n",
      "<contextlib._GeneratorContextManager object at 0x7f76d023e6d0>\n"
     ]
    }
   ],
   "source": [
    "dfs = []\n",
    "for i in range(len(clients)):\n",
    "    data_id =  \"cardio_70000_\" + str(i) + \".txt\"\n",
    "    df = client_data.client_csv_to_df(clients[i], data_id, sep = ';')\n",
    "    dfs.append(df)"
   ]
  },
  {
   "cell_type": "code",
   "execution_count": 4,
   "id": "clinical-auckland",
   "metadata": {},
   "outputs": [
    {
     "data": {
      "text/plain": [
       "[{'id': 'ad85a3c1aed9465282191d361bdb0c6d',\n",
       "  'type': \"<class 'pandas.core.frame.DataFrame'>\",\n",
       "  '_SecretClientObject': True},\n",
       " {'id': '4ac76e9a6aec44f5aeb99fae6448f311',\n",
       "  'type': \"<class 'pandas.core.frame.DataFrame'>\",\n",
       "  '_SecretClientObject': True},\n",
       " {'id': 'b025410d877744819774e958b0d05e78',\n",
       "  'type': \"<class 'pandas.core.frame.DataFrame'>\",\n",
       "  '_SecretClientObject': True}]"
      ]
     },
     "execution_count": 4,
     "metadata": {},
     "output_type": "execute_result"
    }
   ],
   "source": [
    "dfs"
   ]
  },
  {
   "cell_type": "code",
   "execution_count": 5,
   "id": "apart-creature",
   "metadata": {},
   "outputs": [],
   "source": [
    "df_height_cols = []\n",
    "for i in range(len(clients)):\n",
    "    height_col = client_data.client_df_get_col(clients[i], dfs[i], \"height\")\n",
    "    df_height_cols.append(height_col)"
   ]
  },
  {
   "cell_type": "code",
   "execution_count": 6,
   "id": "oriental-sudan",
   "metadata": {},
   "outputs": [
    {
     "data": {
      "text/plain": [
       "[{'id': '259e906de4e541b0bf757be03468669b',\n",
       "  'type': \"<class 'pandas.core.series.Series'>\",\n",
       "  '_SecretClientObject': True},\n",
       " {'id': 'd29b8e8ee14743d7a193ede507552b60',\n",
       "  'type': \"<class 'pandas.core.series.Series'>\",\n",
       "  '_SecretClientObject': True},\n",
       " {'id': '64dbcb8d0e3346ada0baa2e2df005d84',\n",
       "  'type': \"<class 'pandas.core.series.Series'>\",\n",
       "  '_SecretClientObject': True}]"
      ]
     },
     "execution_count": 6,
     "metadata": {},
     "output_type": "execute_result"
    }
   ],
   "source": [
    "df_height_cols"
   ]
  },
  {
   "cell_type": "code",
   "execution_count": 7,
   "id": "processed-hypothesis",
   "metadata": {},
   "outputs": [
    {
     "data": {
      "text/plain": [
       "164.35922857142856"
      ]
     },
     "execution_count": 7,
     "metadata": {},
     "output_type": "execute_result"
    }
   ],
   "source": [
    "fed_mean = client_stat.fed_mean(clients, df_height_cols)\n",
    "fed_mean"
   ]
  },
  {
   "cell_type": "code",
   "execution_count": 8,
   "id": "viral-spread",
   "metadata": {},
   "outputs": [
    {
     "data": {
      "text/plain": [
       "(54.768564816137605, 250.11703191519757)"
      ]
     },
     "execution_count": 8,
     "metadata": {},
     "output_type": "execute_result"
    }
   ],
   "source": [
    "fed_min_max = client_stat.fed_min_max(clients, df_height_cols)\n",
    "fed_min_max"
   ]
  },
  {
   "cell_type": "code",
   "execution_count": 9,
   "id": "particular-casino",
   "metadata": {},
   "outputs": [
    {
     "data": {
      "text/plain": [
       "-0.6421736909174576"
      ]
     },
     "execution_count": 9,
     "metadata": {},
     "output_type": "execute_result"
    }
   ],
   "source": [
    "fed_skewness = client_stat.fed_skewness(clients, df_height_cols)\n",
    "fed_skewness"
   ]
  },
  {
   "cell_type": "code",
   "execution_count": 10,
   "id": "unauthorized-judgment",
   "metadata": {},
   "outputs": [
    {
     "data": {
      "text/plain": [
       "7.942999474186861"
      ]
     },
     "execution_count": 10,
     "metadata": {},
     "output_type": "execute_result"
    }
   ],
   "source": [
    "fed_kurtosis = client_stat.fed_kurtosis(clients, df_height_cols)\n",
    "fed_kurtosis"
   ]
  },
  {
   "cell_type": "code",
   "execution_count": 11,
   "id": "constitutional-anger",
   "metadata": {},
   "outputs": [
    {
     "data": {
      "text/plain": [
       "67.40617492168882"
      ]
     },
     "execution_count": 11,
     "metadata": {},
     "output_type": "execute_result"
    }
   ],
   "source": [
    "fed_variance = client_stat.fed_variance(clients, df_height_cols)\n",
    "fed_variance"
   ]
  },
  {
   "cell_type": "code",
   "execution_count": 12,
   "id": "exciting-arthur",
   "metadata": {},
   "outputs": [],
   "source": [
    "df_ap_hi_cols = []\n",
    "for i in range(len(clients)):\n",
    "    ap_hi = client_data.client_df_get_col(clients[i], dfs[i], \"ap_hi\")\n",
    "    df_ap_hi_cols.append(ap_hi)"
   ]
  },
  {
   "cell_type": "code",
   "execution_count": 13,
   "id": "american-gross",
   "metadata": {},
   "outputs": [
    {
     "data": {
      "text/plain": [
       "(0.0054877641584091, 69998)"
      ]
     },
     "execution_count": 13,
     "metadata": {},
     "output_type": "execute_result"
    }
   ],
   "source": [
    "fed_pearson = client_stat.fed_pearson(clients, df_height_cols, df_ap_hi_cols)\n",
    "fed_pearson"
   ]
  },
  {
   "cell_type": "code",
   "execution_count": 15,
   "id": "handmade-sewing",
   "metadata": {},
   "outputs": [],
   "source": [
    "import numpy as np\n",
    "import math\n",
    "mu = 164.35922857142856\n",
    "sigma = math.sqrt(67.40617492168882)\n",
    "norm_sample_1 = np.random.normal(mu, sigma, 34999)\n",
    "norm_sample_1 = np.round(norm_sample_1).astype(int).tolist()\n",
    "norm_sample_2 = np.random.normal(mu, sigma, 12254)\n",
    "norm_sample_2 = np.round(norm_sample_2).astype(int).tolist()\n",
    "norm_sample_3 = np.random.normal(mu, sigma, 22747)\n",
    "norm_sample_3 = np.round(norm_sample_3).astype(int).tolist()\n",
    "height_norm_sample = [norm_sample_1, norm_sample_2, norm_sample_3]"
   ]
  },
  {
   "cell_type": "code",
   "execution_count": 16,
   "id": "infinite-fossil",
   "metadata": {},
   "outputs": [
    {
     "data": {
      "text/plain": [
       "(6241.296505399152, 0.9999999999999956)"
      ]
     },
     "execution_count": 16,
     "metadata": {},
     "output_type": "execute_result"
    }
   ],
   "source": [
    "chi2 = client_stat.fed_chi_square(clients, df_height_cols, height_norm_sample)\n",
    "chi2"
   ]
  },
  {
   "cell_type": "code",
   "execution_count": 17,
   "id": "fatal-password",
   "metadata": {},
   "outputs": [
    {
     "data": {
      "text/plain": [
       "(83.0143763223708, 139998)"
      ]
     },
     "execution_count": 17,
     "metadata": {},
     "output_type": "execute_result"
    }
   ],
   "source": [
    "levene = client_stat.fed_levene(clients, df_height_cols, height_norm_sample, [mu, mu, mu], [mu, mu, mu])\n",
    "levene"
   ]
  },
  {
   "cell_type": "code",
   "execution_count": 18,
   "id": "abandoned-jewel",
   "metadata": {},
   "outputs": [
    {
     "data": {
      "text/plain": [
       "(0.9320423129641423, 69999)"
      ]
     },
     "execution_count": 18,
     "metadata": {},
     "output_type": "execute_result"
    }
   ],
   "source": [
    "paired_t = client_stat.fed_paired_t(clients, df_height_cols, height_norm_sample)\n",
    "paired_t"
   ]
  },
  {
   "cell_type": "code",
   "execution_count": 19,
   "id": "indoor-supervision",
   "metadata": {},
   "outputs": [
    {
     "data": {
      "text/plain": [
       "(0.9333230645609402, 139996.3859239811)"
      ]
     },
     "execution_count": 19,
     "metadata": {},
     "output_type": "execute_result"
    }
   ],
   "source": [
    "unpaired_t = client_stat.fed_unpaired_t(clients, df_height_cols, height_norm_sample)\n",
    "unpaired_t"
   ]
  },
  {
   "cell_type": "code",
   "execution_count": null,
   "id": "computational-machinery",
   "metadata": {},
   "outputs": [],
   "source": []
  },
  {
   "cell_type": "code",
   "execution_count": null,
   "id": "worldwide-button",
   "metadata": {},
   "outputs": [],
   "source": [
    "#fed_kolmogorov_smirnovdef"
   ]
  },
  {
   "cell_type": "code",
   "execution_count": null,
   "id": "personalized-truth",
   "metadata": {},
   "outputs": [],
   "source": [
    "#fed_mann_whitney"
   ]
  },
  {
   "cell_type": "code",
   "execution_count": null,
   "id": "selected-pakistan",
   "metadata": {},
   "outputs": [],
   "source": [
    "#fed_wilcoxon_signed_rank"
   ]
  }
 ],
 "metadata": {
  "kernelspec": {
   "display_name": "Python 3",
   "language": "python",
   "name": "python3"
  },
  "language_info": {
   "codemirror_mode": {
    "name": "ipython",
    "version": 3
   },
   "file_extension": ".py",
   "mimetype": "text/x-python",
   "name": "python",
   "nbconvert_exporter": "python",
   "pygments_lexer": "ipython3",
   "version": "3.8.10"
  }
 },
 "nbformat": 4,
 "nbformat_minor": 5
}
