{
 "cells": [
  {
   "cell_type": "code",
   "execution_count": 23,
   "id": "realistic-national",
   "metadata": {},
   "outputs": [],
   "source": [
    "import sail"
   ]
  },
  {
   "cell_type": "code",
   "execution_count": 24,
   "id": "assumed-spread",
   "metadata": {},
   "outputs": [],
   "source": [
    "vm1 = sail.connect(\"127.0.0.1\", 7001, \"marine@terran.com\", \"sailpassword\")\n",
    "vm2 = sail.connect(\"127.0.0.1\", 7002, \"marine@terran.com\", \"sailpassword\")\n",
    "vm3 = sail.connect(\"127.0.0.1\", 7003, \"marine@terran.com\", \"sailpassword\")\n",
    "vmlist = [vm1, vm2, vm3]\n",
    "num_parties = len(vmlist)"
   ]
  },
  {
   "cell_type": "code",
   "execution_count": 25,
   "id": "italian-journalist",
   "metadata": {},
   "outputs": [],
   "source": [
    "fn1 = sail.registerfn(\"fn_data_gen.py\", 0, 0, 0, 1)\n",
    "fn2 = sail.registerfn(\"fn_fd_mean.py\", 1, 1, 2, 0)\n",
    "fn3 = sail.registerfn(\"fn_fd_sdeviation.py\", 2, 1, 2, 0)\n",
    "fn4 = sail.registerfn(\"fn_fd_min.py\", 1, 1, 1, 0)\n",
    "fn5 = sail.registerfn(\"fn_fd_max.py\", 1, 1, 1, 0)\n",
    "fn6 = sail.registerfn(\"stand_fd.py\", 3, 1, 0, 1)\n",
    "fn7 = sail.registerfn(\"normal_fd.py\", 3, 1, 0, 1)\n",
    "fn8 = sail.registerfn(\"fn_logtrans.py\", 1, 1, 0, 1)"
   ]
  },
  {
   "cell_type": "code",
   "execution_count": 26,
   "id": "urban-somewhere",
   "metadata": {},
   "outputs": [],
   "source": [
    "fn_data_gen = fn1[0]\n",
    "fn_mean = fn2[0]\n",
    "fn_std = fn3[0]\n",
    "fn_min = fn4[0]\n",
    "fn_max = fn5[0]\n",
    "fn_stand = fn6[0]\n",
    "fn_normal = fn7[0]\n",
    "fn_logtrans = fn8[0]\n",
    "fnlist = [fn_data_gen, fn_mean, fn_std, fn_min, fn_max, fn_stand, fn_normal, fn_logtrans]"
   ]
  },
  {
   "cell_type": "code",
   "execution_count": 27,
   "id": "normal-luxembourg",
   "metadata": {},
   "outputs": [],
   "source": [
    "for fn in fnlist:\n",
    "    for vm in vmlist:\n",
    "        sail.pushfn(vm, fn)"
   ]
  },
  {
   "cell_type": "code",
   "execution_count": 28,
   "id": "fifth-canberra",
   "metadata": {},
   "outputs": [],
   "source": [
    "data = []\n",
    "for vm in vmlist:\n",
    "    jobid1 = sail.newguid()\n",
    "    sail.execjob(vm, fn_data_gen, jobid1)\n",
    "    result = sail.pulldata(vm, jobid1, fn_data_gen, \"/home/jjj/playground\")\n",
    "    data.append(result[1][0])"
   ]
  },
  {
   "cell_type": "code",
   "execution_count": 29,
   "id": "funded-hunger",
   "metadata": {},
   "outputs": [
    {
     "data": {
      "text/plain": [
       "['95F1601D25A446289F7F7F73D3CC7F90F187ABD7A0DD4936BDEE1EF5EFC2F51A',\n",
       " '1E4A03FA185948459F4F36504256400EF187ABD7A0DD4936BDEE1EF5EFC2F51A',\n",
       " 'C0975C1B62E34A3A9FC069D8D14E2967F187ABD7A0DD4936BDEE1EF5EFC2F51A']"
      ]
     },
     "execution_count": 29,
     "metadata": {},
     "output_type": "execute_result"
    }
   ],
   "source": [
    "data"
   ]
  },
  {
   "cell_type": "code",
   "execution_count": 30,
   "id": "outdoor-lawrence",
   "metadata": {},
   "outputs": [],
   "source": [
    "col_num=1"
   ]
  },
  {
   "cell_type": "code",
   "execution_count": 31,
   "id": "offensive-glasgow",
   "metadata": {},
   "outputs": [],
   "source": [
    "sizelist = []\n",
    "meanlist = []\n",
    "for i in range(num_parties):\n",
    "    jobid2 = sail.newguid()\n",
    "    sail.pushdata(vmlist[i], jobid2, fn_mean, [col_num], [data[i]], \"/home/jjj/playground\")\n",
    "    sail.execjob(vmlist[i], fn_mean, jobid2)\n",
    "    result = sail.pulldata(vmlist[i], jobid2, fn_mean, \"/home/jjj/playground\")\n",
    "    sizelist.append(result[0][0])\n",
    "    meanlist.append(result[0][1])"
   ]
  },
  {
   "cell_type": "code",
   "execution_count": 34,
   "id": "innocent-mason",
   "metadata": {},
   "outputs": [],
   "source": [
    "summean = 0\n",
    "for i in range(num_parties):\n",
    "    summean += meanlist[i]*sizelist[i]\n",
    "mean = summean/sum(sizelist)"
   ]
  },
  {
   "cell_type": "code",
   "execution_count": 35,
   "id": "suspended-belief",
   "metadata": {},
   "outputs": [
    {
     "data": {
      "text/plain": [
       "1.130448764428769"
      ]
     },
     "execution_count": 35,
     "metadata": {},
     "output_type": "execute_result"
    }
   ],
   "source": [
    "mean"
   ]
  },
  {
   "cell_type": "code",
   "execution_count": 36,
   "id": "stable-anderson",
   "metadata": {},
   "outputs": [],
   "source": [
    "sumdevlist = []\n",
    "sizelist = []\n",
    "for i in range(num_parties):\n",
    "    jobid3 = sail.newguid()\n",
    "    sail.pushdata(vmlist[i], jobid3, fn_std, [col_num, mean], [data[i]], \"/home/jjj/playground\")\n",
    "    sail.execjob(vmlist[i], fn_std, jobid3)\n",
    "    result = sail.pulldata(vmlist[i], jobid3, fn_std, \"/home/jjj/playground\")\n",
    "    sumdevlist.append(result[0][0])\n",
    "    sizelist.append(result[0][1])"
   ]
  },
  {
   "cell_type": "code",
   "execution_count": 37,
   "id": "outside-hours",
   "metadata": {},
   "outputs": [
    {
     "data": {
      "text/plain": [
       "10.090807911902038"
      ]
     },
     "execution_count": 37,
     "metadata": {},
     "output_type": "execute_result"
    }
   ],
   "source": [
    "stdev = sum(sumdevlist)/sum(sizelist)\n",
    "stdev"
   ]
  },
  {
   "cell_type": "code",
   "execution_count": 38,
   "id": "compliant-terror",
   "metadata": {},
   "outputs": [],
   "source": [
    "minlist = []\n",
    "maxlist = []\n",
    "for i in range(num_parties):\n",
    "    jobid4 = sail.newguid()\n",
    "    sail.pushdata(vmlist[i], jobid4, fn_min, [col_num], [data[i]], \"/home/jjj/playground\")\n",
    "    sail.execjob(vmlist[i], fn_min, jobid4)\n",
    "    result = sail.pulldata(vmlist[i], jobid4, fn_min, \"/home/jjj/playground\")\n",
    "    minlist.append(result[0][0])\n",
    "    jobid5 = sail.newguid()\n",
    "    sail.pushdata(vmlist[i], jobid5, fn_max, [col_num], [data[i]], \"/home/jjj/playground\")\n",
    "    sail.execjob(vmlist[i], fn_max, jobid5)\n",
    "    result = sail.pulldata(vmlist[i], jobid5, fn_max, \"/home/jjj/playground\")\n",
    "    maxlist.append(result[0][0])\n",
    "minval = min(minlist)\n",
    "maxval = max(maxlist)"
   ]
  },
  {
   "cell_type": "code",
   "execution_count": 39,
   "id": "false-pastor",
   "metadata": {},
   "outputs": [
    {
     "data": {
      "text/plain": [
       "-4.531882804265771"
      ]
     },
     "execution_count": 39,
     "metadata": {},
     "output_type": "execute_result"
    }
   ],
   "source": [
    "minval"
   ]
  },
  {
   "cell_type": "code",
   "execution_count": 40,
   "id": "sustainable-therapist",
   "metadata": {},
   "outputs": [
    {
     "data": {
      "text/plain": [
       "10.253261861176659"
      ]
     },
     "execution_count": 40,
     "metadata": {},
     "output_type": "execute_result"
    }
   ],
   "source": [
    "maxval"
   ]
  },
  {
   "cell_type": "code",
   "execution_count": 41,
   "id": "dominant-elephant",
   "metadata": {},
   "outputs": [],
   "source": [
    "newcols = []\n",
    "for i in range(num_parties):\n",
    "    jobid6 = sail.newguid()\n",
    "    sail.pushdata(vmlist[i], jobid6, fn_logtrans, [col_num], [data[i]], \"/home/jjj/playground\")\n",
    "    sail.execjob(vmlist[i], fn_logtrans, jobid6)\n",
    "    result = sail.pulldata(vmlist[i], jobid6, fn_logtrans, \"/home/jjj/playground\")\n",
    "    newcols.append(result[1][0])"
   ]
  },
  {
   "cell_type": "code",
   "execution_count": 42,
   "id": "supreme-shame",
   "metadata": {},
   "outputs": [
    {
     "data": {
      "text/plain": [
       "['3190B96A490A470EBCC54B1D157DACAB39E972FE8B4D449880B406B8FE45BE03',\n",
       " '3C1142C41AD746D193CDE9403B26FE4039E972FE8B4D449880B406B8FE45BE03',\n",
       " '6C36053515A142618AA29C8D259A37F639E972FE8B4D449880B406B8FE45BE03']"
      ]
     },
     "execution_count": 42,
     "metadata": {},
     "output_type": "execute_result"
    }
   ],
   "source": [
    "newcols"
   ]
  },
  {
   "cell_type": "code",
   "execution_count": 43,
   "id": "defensive-whole",
   "metadata": {},
   "outputs": [],
   "source": [
    "newstdcols = []\n",
    "newnorcols = []\n",
    "for i in range(num_parties):\n",
    "    jobid7 = sail.newguid()\n",
    "    sail.pushdata(vmlist[i], jobid7, fn_stand, [col_num, mean, stdev], [data[i]], \"/home/jjj/playground\")\n",
    "    sail.execjob(vmlist[i], fn_stand, jobid7)\n",
    "    result = sail.pulldata(vmlist[i], jobid7, fn_stand, \"/home/jjj/playground\")\n",
    "    newstdcols.append(result[1][0])\n",
    "    jobid8 = sail.newguid()\n",
    "    sail.pushdata(vmlist[i], jobid8, fn_normal, [col_num, minval, maxval], [data[i]], \"/home/jjj/playground\")\n",
    "    sail.execjob(vmlist[i], fn_normal, jobid8)\n",
    "    result = sail.pulldata(vmlist[i], jobid8, fn_normal, \"/home/jjj/playground\")\n",
    "    newnorcols.append(result[1][0])"
   ]
  },
  {
   "cell_type": "code",
   "execution_count": 44,
   "id": "facial-strip",
   "metadata": {},
   "outputs": [
    {
     "data": {
      "text/plain": [
       "['612F3CD875704FF4A1CEF0E673B15CE799A9F1FCF2E247A3BB6006C7F476A8AB',\n",
       " 'D480764D617849E3A74D8A797E7DE08499A9F1FCF2E247A3BB6006C7F476A8AB',\n",
       " 'BD19D9AC43DD4B5AA6DE14818AF579B999A9F1FCF2E247A3BB6006C7F476A8AB']"
      ]
     },
     "execution_count": 44,
     "metadata": {},
     "output_type": "execute_result"
    }
   ],
   "source": [
    "newstdcols"
   ]
  },
  {
   "cell_type": "code",
   "execution_count": 45,
   "id": "bigger-communication",
   "metadata": {},
   "outputs": [
    {
     "data": {
      "text/plain": [
       "['B8F93C72124E4DB4A99CC4FA8F4CB3C2F355E17C9A0E4A3EA971B3DDFD4141C2',\n",
       " '8E4877CB465849068FAB20366BA241AAF355E17C9A0E4A3EA971B3DDFD4141C2',\n",
       " '65CC7B4885BD418D8AC486A8D3C28DB8F355E17C9A0E4A3EA971B3DDFD4141C2']"
      ]
     },
     "execution_count": 45,
     "metadata": {},
     "output_type": "execute_result"
    }
   ],
   "source": [
    "newnorcols"
   ]
  },
  {
   "cell_type": "code",
   "execution_count": null,
   "id": "successful-mambo",
   "metadata": {},
   "outputs": [],
   "source": []
  }
 ],
 "metadata": {
  "kernelspec": {
   "display_name": "Python 3",
   "language": "python",
   "name": "python3"
  },
  "language_info": {
   "codemirror_mode": {
    "name": "ipython",
    "version": 3
   },
   "file_extension": ".py",
   "mimetype": "text/x-python",
   "name": "python",
   "nbconvert_exporter": "python",
   "pygments_lexer": "ipython3",
   "version": "3.8.5"
  }
 },
 "nbformat": 4,
 "nbformat_minor": 5
}
