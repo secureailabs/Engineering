{
 "cells": [
  {
   "cell_type": "code",
   "execution_count": 1,
   "metadata": {},
   "outputs": [
    {
     "name": "stdout",
     "output_type": "stream",
     "text": [
      "{4816C1A4-9527-4C6A-AADB-99037F96C231}\n",
      "{4816CE4F-212A-4029-9227-BF07245686F0}\n"
     ]
    }
   ],
   "source": [
    "import sail.core\n",
    "import json\n",
    "import getpass\n",
    "\n",
    "# password = getpass.getpass(prompt=\"Password: \")\n",
    "password = \"SailPassword@123\"\n",
    "\n",
    "sail.core.login(\"lbart@igr.com\", password, 6200, \"192.168.0.244\")\n",
    "\n",
    "sail.core.load_safe_objects(\"./SafeObjects\")\n",
    "dg_test_object_guid = \"473001DB64AF456E971296418B6194FE\"\n",
    "\n",
    "job_id = sail.core.run_job(dg_test_object_guid)\n",
    "print(job_id)\n",
    "\n",
    "second_job_id = sail.core.run_job(dg_test_object_guid)\n",
    "print(second_job_id)"
   ]
  },
  {
   "cell_type": "code",
   "execution_count": 2,
   "metadata": {},
   "outputs": [
    {
     "name": "stdout",
     "output_type": "stream",
     "text": [
      "{200A3247-D70F-4C83-9218-6220CB61D8E4}\n"
     ]
    }
   ],
   "source": [
    "datasets = sail.core.get_datasets()\n",
    "provision_ds = \"\"\n",
    "if ( datasets is not None ):\n",
    "    json_datasets = json.loads(datasets)\n",
    "    provision_ds = list(json_datasets.keys())[0]\n",
    "    print(provision_ds)\n",
    "else:\n",
    "    print(\"No loaded datasets\")"
   ]
  },
  {
   "cell_type": "code",
   "execution_count": 3,
   "metadata": {
    "scrolled": true
   },
   "outputs": [
    {
     "name": "stdout",
     "output_type": "stream",
     "text": [
      "{14A62505-734E-478F-AEB7-4725B88C43F9}\n"
     ]
    }
   ],
   "source": [
    "digital_contracts = sail.core.get_digital_contracts()\n",
    "provision_dc = \"\"\n",
    "if ( digital_contracts is not None):\n",
    "    json_digital_contracts = json.loads(digital_contracts)\n",
    "    provision_dc = list(json_digital_contracts.keys())[0]\n",
    "    print(provision_dc)\n",
    "else:\n",
    "    print(\"No digital contracts\")"
   ]
  },
  {
   "cell_type": "code",
   "execution_count": 4,
   "metadata": {
    "scrolled": false
   },
   "outputs": [
    {
     "name": "stdout",
     "output_type": "stream",
     "text": [
      "{4816C1A4-9527-4C6A-AADB-99037F96C231}:Missing Input Parameters\n",
      "{4816CE4F-212A-4029-9227-BF07245686F0}:Missing Input Parameters\n"
     ]
    }
   ],
   "source": [
    "job_status = sail.core.get_job_status(job_id)\n",
    "print(\"{}:{}\".format(job_id,job_status))\n",
    "job_status = sail.core.get_job_status(second_job_id)\n",
    "print(\"{}:{}\".format(second_job_id,job_status))"
   ]
  },
  {
   "cell_type": "code",
   "execution_count": 5,
   "metadata": {
    "scrolled": true
   },
   "outputs": [
    {
     "data": {
      "text/plain": [
       "'{\"Message\":\"Unknown Virtual Machine type Standard_D8s_v4 using DC value Standard_D8s_v4\",\"SCNGuid\":\"{413598BE-A1DA-4A68-9987-45DE7F0CF91B}\",\"Status\":true}'"
      ]
     },
     "execution_count": 5,
     "metadata": {},
     "output_type": "execute_result"
    }
   ],
   "source": [
    "first_provision = sail.core.provision_secure_computational_node(provision_dc, provision_ds, \"Standard_D8s_v4\")\n",
    "second_provision = sail.core.provision_secure_computational_node(provision_dc, provision_ds, \"Standard_D8s_v4\")\n",
    "\n",
    "print(first_provision)\n",
    "print(second_provision)"
   ]
  },
  {
   "cell_type": "code",
   "execution_count": 7,
   "metadata": {
    "scrolled": true
   },
   "outputs": [
    {
     "name": "stdout",
     "output_type": "stream",
     "text": [
      "{\"AllDone\":true,\"Failed\":{},\"InProgress\":{},\"Succeeded\":{\"{413598BE-A1DA-4A68-9987-45DE7F0CF91B}\":\"\"}}\n"
     ]
    }
   ],
   "source": [
    "print(sail.core.wait_for_all_secure_nodes_to_be_provisioned(30000))"
   ]
  },
  {
   "cell_type": "code",
   "execution_count": 8,
   "metadata": {
    "scrolled": true
   },
   "outputs": [
    {
     "name": "stdout",
     "output_type": "stream",
     "text": [
      "{547AE8D1-1620-4B2F-A032-FB3A3230F9AE}\n"
     ]
    }
   ],
   "source": [
    "my_int_guid = sail.core.push_user_data(12)\n",
    "set_response = sail.core.set_parameter(job_id, \"4C21EDF165AB4EF68853FA05FB805A03\", my_int_guid)\n",
    "set_response = sail.core.set_parameter(second_job_id, \"4C21EDF165AB4EF68853FA05FB805A03\", my_int_guid)\n",
    "print(my_int_guid)"
   ]
  },
  {
   "cell_type": "code",
   "execution_count": 9,
   "metadata": {},
   "outputs": [
    {
     "name": "stdout",
     "output_type": "stream",
     "text": [
      "First job IP 20.106.166.134\n",
      "Second job IP 20.106.166.134\n"
     ]
    }
   ],
   "source": [
    "set_ds_response = sail.core.set_parameter(job_id, \"4C8041B4513A44FAA5409662E014519C\", provision_ds)\n",
    "set_ds_response = sail.core.set_parameter(second_job_id, \"4C8041B4513A44FAA5409662E014519C\", provision_ds)\n",
    "\n",
    "print(\"First job IP {}\".format(sail.core.get_ip_for_job(job_id)))\n",
    "print(\"Second job IP {}\".format(sail.core.get_ip_for_job(second_job_id)))"
   ]
  },
  {
   "cell_type": "code",
   "execution_count": 10,
   "metadata": {
    "scrolled": true
   },
   "outputs": [
    {
     "name": "stdout",
     "output_type": "stream",
     "text": [
      "{\"JobGuid\":\"{4816C1A4-9527-4C6A-AADB-99037F96C231}\",\"TestMessage\":\"Hello\",\"TestValue\":0.000000}\n",
      "{\"JobGuid\":\"{4816CE4F-212A-4029-9227-BF07245686F0}\",\"TestMessage\":\"Hello\",\"TestValue\":0.000000}\n",
      "{\"JobGuid\":\"{4816C1A4-9527-4C6A-AADB-99037F96C231}\",\"TestMessage\":\"Hello\",\"TestValue\":1.000000}\n",
      "{\"JobGuid\":\"{4816CE4F-212A-4029-9227-BF07245686F0}\",\"TestMessage\":\"Hello\",\"TestValue\":1.000000}\n",
      "{\"JobGuid\":\"{4816C1A4-9527-4C6A-AADB-99037F96C231}\",\"TestMessage\":\"Hello\",\"TestValue\":2.000000}\n",
      "{\"JobGuid\":\"{4816CE4F-212A-4029-9227-BF07245686F0}\",\"TestMessage\":\"Hello\",\"TestValue\":2.000000}\n",
      "{\"JobGuid\":\"{4816C1A4-9527-4C6A-AADB-99037F96C231}\",\"TestMessage\":\"Hello\",\"TestValue\":3.000000}\n",
      "{\"JobGuid\":\"{4816CE4F-212A-4029-9227-BF07245686F0}\",\"TestMessage\":\"Hello\",\"TestValue\":3.000000}\n",
      "{\"JobGuid\":\"{4816C1A4-9527-4C6A-AADB-99037F96C231}\",\"TestMessage\":\"Hello\",\"TestValue\":4.000000}\n",
      "{\"JobGuid\":\"{4816CE4F-212A-4029-9227-BF07245686F0}\",\"TestMessage\":\"Hello\",\"TestValue\":4.000000}\n",
      "{\"JobGuid\":\"{4816C1A4-9527-4C6A-AADB-99037F96C231}\",\"TestMessage\":\"Hello\",\"TestValue\":5.000000}\n",
      "{\"JobGuid\":\"{4816CE4F-212A-4029-9227-BF07245686F0}\",\"TestMessage\":\"Hello\",\"TestValue\":5.000000}\n",
      "{\"JobGuid\":\"{4816C1A4-9527-4C6A-AADB-99037F96C231}\",\"TestMessage\":\"Hello\",\"TestValue\":6.000000}\n",
      "{\"JobGuid\":\"{4816CE4F-212A-4029-9227-BF07245686F0}\",\"TestMessage\":\"Hello\",\"TestValue\":6.000000}\n",
      "{\"JobGuid\":\"{4816C1A4-9527-4C6A-AADB-99037F96C231}\",\"TestMessage\":\"Hello\",\"TestValue\":7.000000}\n",
      "{\"JobGuid\":\"{4816CE4F-212A-4029-9227-BF07245686F0}\",\"TestMessage\":\"Hello\",\"TestValue\":7.000000}\n",
      "{\"JobGuid\":\"{4816C1A4-9527-4C6A-AADB-99037F96C231}\",\"TestMessage\":\"Hello\",\"TestValue\":8.000000}\n",
      "{\"JobGuid\":\"{4816CE4F-212A-4029-9227-BF07245686F0}\",\"TestMessage\":\"Hello\",\"TestValue\":8.000000}\n",
      "{\"JobGuid\":\"{4816C1A4-9527-4C6A-AADB-99037F96C231}\",\"TestMessage\":\"Hello\",\"TestValue\":9.000000}\n",
      "{\"JobGuid\":\"{4816CE4F-212A-4029-9227-BF07245686F0}\",\"TestMessage\":\"Hello\",\"TestValue\":9.000000}\n",
      "{\"JobGuid\":\"{4816C1A4-9527-4C6A-AADB-99037F96C231}\",\"TestMessage\":\"Hello\",\"TestValue\":10.000000}\n",
      "{\"JobGuid\":\"{4816CE4F-212A-4029-9227-BF07245686F0}\",\"TestMessage\":\"Hello\",\"TestValue\":10.000000}\n",
      "{\"JobGuid\":\"{4816C1A4-9527-4C6A-AADB-99037F96C231}\",\"TestMessage\":\"Hello\",\"TestValue\":11.000000}\n",
      "{\"JobGuid\":\"{4816CE4F-212A-4029-9227-BF07245686F0}\",\"TestMessage\":\"Hello\",\"TestValue\":11.000000}\n",
      "{\"JobGuid\":\"{4816C1A4-9527-4C6A-AADB-99037F96C231}\",\"TestMessage\":\"Hello\",\"TestValue\":12.000000}\n",
      "{\"JobGuid\":\"{4816CE4F-212A-4029-9227-BF07245686F0}\",\"TestMessage\":\"Hello\",\"TestValue\":12.000000}\n",
      "{\"JobGuid\":\"{4816C1A4-9527-4C6A-AADB-99037F96C231}\",\"TestMessage\":\"Hello\",\"TestValue\":13.000000}\n",
      "{\"JobGuid\":\"{4816CE4F-212A-4029-9227-BF07245686F0}\",\"TestMessage\":\"Hello\",\"TestValue\":13.000000}\n",
      "{\"JobGuid\":\"{4816C1A4-9527-4C6A-AADB-99037F96C231}\",\"TestMessage\":\"Hello\",\"TestValue\":14.000000}\n",
      "{\"JobGuid\":\"{4816CE4F-212A-4029-9227-BF07245686F0}\",\"TestMessage\":\"Hello\",\"TestValue\":14.000000}\n",
      "{\"JobGuid\":\"{4816C1A4-9527-4C6A-AADB-99037F96C231}\",\"TestMessage\":\"Hello\",\"TestValue\":15.000000}\n",
      "{\"JobGuid\":\"{4816CE4F-212A-4029-9227-BF07245686F0}\",\"TestMessage\":\"Hello\",\"TestValue\":15.000000}\n",
      "{\"JobGuid\":\"{4816C1A4-9527-4C6A-AADB-99037F96C231}\",\"TestMessage\":\"Hello\",\"TestValue\":16.000000}\n",
      "{\"JobGuid\":\"{4816CE4F-212A-4029-9227-BF07245686F0}\",\"TestMessage\":\"Hello\",\"TestValue\":16.000000}\n",
      "{\"JobGuid\":\"{4816C1A4-9527-4C6A-AADB-99037F96C231}\",\"TestMessage\":\"Hello\",\"TestValue\":17.000000}\n",
      "{\"JobGuid\":\"{4816CE4F-212A-4029-9227-BF07245686F0}\",\"TestMessage\":\"Hello\",\"TestValue\":17.000000}\n",
      "{\"JobGuid\":\"{4816C1A4-9527-4C6A-AADB-99037F96C231}\",\"TestMessage\":\"Hello\",\"TestValue\":18.000000}\n",
      "{\"JobGuid\":\"{4816CE4F-212A-4029-9227-BF07245686F0}\",\"TestMessage\":\"Hello\",\"TestValue\":18.000000}\n",
      "{\"JobGuid\":\"{4816C1A4-9527-4C6A-AADB-99037F96C231}\",\"TestMessage\":\"Hello\",\"TestValue\":19.000000}\n",
      "{\"JobGuid\":\"{4816CE4F-212A-4029-9227-BF07245686F0}\",\"TestMessage\":\"Hello\",\"TestValue\":19.000000}\n",
      "{\"JobGuid\":\"{4816C1A4-9527-4C6A-AADB-99037F96C231}\",\"TestMessage\":\"Hello\",\"TestValue\":20.000000}\n",
      "{\"JobGuid\":\"{4816CE4F-212A-4029-9227-BF07245686F0}\",\"TestMessage\":\"Hello\",\"TestValue\":20.000000}\n",
      "{\"JobGuid\":\"{4816C1A4-9527-4C6A-AADB-99037F96C231}\",\"TestMessage\":\"Hello\",\"TestValue\":21.000000}\n",
      "{\"JobGuid\":\"{4816CE4F-212A-4029-9227-BF07245686F0}\",\"TestMessage\":\"Hello\",\"TestValue\":21.000000}\n",
      "{\"JobGuid\":\"{4816C1A4-9527-4C6A-AADB-99037F96C231}\",\"TestMessage\":\"Hello\",\"TestValue\":22.000000}\n",
      "{\"JobGuid\":\"{4816CE4F-212A-4029-9227-BF07245686F0}\",\"TestMessage\":\"Hello\",\"TestValue\":22.000000}\n",
      "{\"JobGuid\":\"{4816C1A4-9527-4C6A-AADB-99037F96C231}\",\"TestMessage\":\"Hello\",\"TestValue\":23.000000}\n",
      "{\"JobGuid\":\"{4816CE4F-212A-4029-9227-BF07245686F0}\",\"TestMessage\":\"Hello\",\"TestValue\":23.000000}\n",
      "{\"JobGuid\":\"{4816C1A4-9527-4C6A-AADB-99037F96C231}\",\"TestMessage\":\"Hello\",\"TestValue\":24.000000}\n",
      "{\"JobGuid\":\"{4816CE4F-212A-4029-9227-BF07245686F0}\",\"TestMessage\":\"Hello\",\"TestValue\":24.000000}\n",
      "{\"JobGuid\":\"{4816C1A4-9527-4C6A-AADB-99037F96C231}\",\"TestMessage\":\"Hello\",\"TestValue\":25.000000}\n",
      "{\"JobGuid\":\"{4816CE4F-212A-4029-9227-BF07245686F0}\",\"TestMessage\":\"Hello\",\"TestValue\":25.000000}\n",
      "{\"JobGuid\":\"{4816C1A4-9527-4C6A-AADB-99037F96C231}\",\"TestMessage\":\"Hello\",\"TestValue\":26.000000}\n",
      "{\"JobGuid\":\"{4816CE4F-212A-4029-9227-BF07245686F0}\",\"TestMessage\":\"Hello\",\"TestValue\":26.000000}\n",
      "{\"JobGuid\":\"{4816C1A4-9527-4C6A-AADB-99037F96C231}\",\"TestMessage\":\"Hello\",\"TestValue\":27.000000}\n",
      "{\"JobGuid\":\"{4816CE4F-212A-4029-9227-BF07245686F0}\",\"TestMessage\":\"Hello\",\"TestValue\":27.000000}\n",
      "{\"JobGuid\":\"{4816C1A4-9527-4C6A-AADB-99037F96C231}\",\"TestMessage\":\"Hello\",\"TestValue\":28.000000}\n",
      "{\"JobGuid\":\"{4816CE4F-212A-4029-9227-BF07245686F0}\",\"TestMessage\":\"Hello\",\"TestValue\":28.000000}\n",
      "{\"JobGuid\":\"{4816C1A4-9527-4C6A-AADB-99037F96C231}\",\"TestMessage\":\"Hello\",\"TestValue\":29.000000}\n",
      "{\"JobGuid\":\"{4816CE4F-212A-4029-9227-BF07245686F0}\",\"TestMessage\":\"Hello\",\"TestValue\":29.000000}\n",
      "{\"JobGuid\":\"{4816C1A4-9527-4C6A-AADB-99037F96C231}\",\"TestMessage\":\"Hello\",\"TestValue\":30.000000}\n",
      "{\"JobGuid\":\"{4816CE4F-212A-4029-9227-BF07245686F0}\",\"TestMessage\":\"Hello\",\"TestValue\":30.000000}\n",
      "{\"JobGuid\":\"{4816C1A4-9527-4C6A-AADB-99037F96C231}\",\"TestMessage\":\"Hello\",\"TestValue\":31.000000}\n",
      "{\"JobGuid\":\"{4816CE4F-212A-4029-9227-BF07245686F0}\",\"TestMessage\":\"Hello\",\"TestValue\":31.000000}\n",
      "{\"JobGuid\":\"{4816C1A4-9527-4C6A-AADB-99037F96C231}\",\"TestMessage\":\"Hello\",\"TestValue\":32.000000}\n",
      "{\"JobGuid\":\"{4816CE4F-212A-4029-9227-BF07245686F0}\",\"TestMessage\":\"Hello\",\"TestValue\":32.000000}\n",
      "{\"JobGuid\":\"{4816C1A4-9527-4C6A-AADB-99037F96C231}\",\"TestMessage\":\"Hello\",\"TestValue\":33.000000}\n",
      "{\"JobGuid\":\"{4816CE4F-212A-4029-9227-BF07245686F0}\",\"TestMessage\":\"Hello\",\"TestValue\":33.000000}\n",
      "{\"JobGuid\":\"{4816C1A4-9527-4C6A-AADB-99037F96C231}\",\"TestMessage\":\"Hello\",\"TestValue\":34.000000}\n",
      "{\"JobGuid\":\"{4816CE4F-212A-4029-9227-BF07245686F0}\",\"TestMessage\":\"Hello\",\"TestValue\":34.000000}\n",
      "{\"JobGuid\":\"{4816C1A4-9527-4C6A-AADB-99037F96C231}\",\"TestMessage\":\"Hello\",\"TestValue\":35.000000}\n",
      "{\"JobGuid\":\"{4816CE4F-212A-4029-9227-BF07245686F0}\",\"TestMessage\":\"Hello\",\"TestValue\":35.000000}\n",
      "{\"JobGuid\":\"{4816C1A4-9527-4C6A-AADB-99037F96C231}\",\"TestMessage\":\"Hello\",\"TestValue\":36.000000}\n",
      "{\"JobGuid\":\"{4816CE4F-212A-4029-9227-BF07245686F0}\",\"TestMessage\":\"Hello\",\"TestValue\":36.000000}\n",
      "{\"JobGuid\":\"{4816C1A4-9527-4C6A-AADB-99037F96C231}\",\"TestMessage\":\"Hello\",\"TestValue\":37.000000}\n",
      "{\"JobGuid\":\"{4816CE4F-212A-4029-9227-BF07245686F0}\",\"TestMessage\":\"Hello\",\"TestValue\":37.000000}\n",
      "{\"JobGuid\":\"{4816C1A4-9527-4C6A-AADB-99037F96C231}\",\"TestMessage\":\"Hello\",\"TestValue\":38.000000}\n",
      "{\"JobGuid\":\"{4816CE4F-212A-4029-9227-BF07245686F0}\",\"TestMessage\":\"Hello\",\"TestValue\":38.000000}\n",
      "{\"JobGuid\":\"{4816C1A4-9527-4C6A-AADB-99037F96C231}\",\"TestMessage\":\"Hello\",\"TestValue\":39.000000}\n",
      "{\"JobGuid\":\"{4816CE4F-212A-4029-9227-BF07245686F0}\",\"TestMessage\":\"Hello\",\"TestValue\":39.000000}\n",
      "{\"JobGuid\":\"{4816C1A4-9527-4C6A-AADB-99037F96C231}\",\"TestMessage\":\"Hello\",\"TestValue\":40.000000}\n",
      "{\"JobGuid\":\"{4816CE4F-212A-4029-9227-BF07245686F0}\",\"TestMessage\":\"Hello\",\"TestValue\":40.000000}\n",
      "{\"JobGuid\":\"{4816C1A4-9527-4C6A-AADB-99037F96C231}\",\"TestMessage\":\"Hello\",\"TestValue\":41.000000}\n",
      "{\"JobGuid\":\"{4816CE4F-212A-4029-9227-BF07245686F0}\",\"TestMessage\":\"Hello\",\"TestValue\":41.000000}\n",
      "{\"JobGuid\":\"{4816C1A4-9527-4C6A-AADB-99037F96C231}\",\"TestMessage\":\"Hello\",\"TestValue\":42.000000}\n",
      "{\"JobGuid\":\"{4816CE4F-212A-4029-9227-BF07245686F0}\",\"TestMessage\":\"Hello\",\"TestValue\":42.000000}\n",
      "{\"JobGuid\":\"{4816C1A4-9527-4C6A-AADB-99037F96C231}\",\"TestMessage\":\"Hello\",\"TestValue\":43.000000}\n",
      "{\"JobGuid\":\"{4816CE4F-212A-4029-9227-BF07245686F0}\",\"TestMessage\":\"Hello\",\"TestValue\":43.000000}\n",
      "{\"JobGuid\":\"{4816C1A4-9527-4C6A-AADB-99037F96C231}\",\"TestMessage\":\"Hello\",\"TestValue\":44.000000}\n",
      "{\"JobGuid\":\"{4816CE4F-212A-4029-9227-BF07245686F0}\",\"TestMessage\":\"Hello\",\"TestValue\":44.000000}\n",
      "{\"JobGuid\":\"{4816C1A4-9527-4C6A-AADB-99037F96C231}\",\"TestMessage\":\"Hello\",\"TestValue\":45.000000}\n",
      "{\"JobGuid\":\"{4816CE4F-212A-4029-9227-BF07245686F0}\",\"TestMessage\":\"Hello\",\"TestValue\":45.000000}\n",
      "{\"JobGuid\":\"{4816C1A4-9527-4C6A-AADB-99037F96C231}\",\"TestMessage\":\"Hello\",\"TestValue\":46.000000}\n",
      "{\"JobGuid\":\"{4816CE4F-212A-4029-9227-BF07245686F0}\",\"TestMessage\":\"Hello\",\"TestValue\":46.000000}\n",
      "{\"JobGuid\":\"{4816C1A4-9527-4C6A-AADB-99037F96C231}\",\"TestMessage\":\"Hello\",\"TestValue\":47.000000}\n",
      "{\"JobGuid\":\"{4816CE4F-212A-4029-9227-BF07245686F0}\",\"TestMessage\":\"Hello\",\"TestValue\":47.000000}\n",
      "{\"JobGuid\":\"{4816C1A4-9527-4C6A-AADB-99037F96C231}\",\"TestMessage\":\"Hello\",\"TestValue\":48.000000}\n",
      "{\"JobGuid\":\"{4816CE4F-212A-4029-9227-BF07245686F0}\",\"TestMessage\":\"Hello\",\"TestValue\":48.000000}\n",
      "{\"JobGuid\":\"{4816C1A4-9527-4C6A-AADB-99037F96C231}\",\"TestMessage\":\"Hello\",\"TestValue\":49.000000}\n",
      "{\"JobGuid\":\"{4816CE4F-212A-4029-9227-BF07245686F0}\",\"TestMessage\":\"Hello\",\"TestValue\":49.000000}\n",
      "{\"JobGuid\":\"{4816C1A4-9527-4C6A-AADB-99037F96C231}\",\"TestMessage\":\"Hello\",\"TestValue\":50.000000}\n",
      "{\"JobGuid\":\"{4816CE4F-212A-4029-9227-BF07245686F0}\",\"TestMessage\":\"Hello\",\"TestValue\":50.000000}\n",
      "{\"JobGuid\":\"{4816C1A4-9527-4C6A-AADB-99037F96C231}\",\"TestMessage\":\"Hello\",\"TestValue\":51.000000}\n",
      "{\"JobGuid\":\"{4816CE4F-212A-4029-9227-BF07245686F0}\",\"TestMessage\":\"Hello\",\"TestValue\":51.000000}\n",
      "{\"JobGuid\":\"{4816C1A4-9527-4C6A-AADB-99037F96C231}\",\"TestMessage\":\"Hello\",\"TestValue\":52.000000}\n",
      "{\"JobGuid\":\"{4816CE4F-212A-4029-9227-BF07245686F0}\",\"TestMessage\":\"Hello\",\"TestValue\":52.000000}\n",
      "{\"JobGuid\":\"{4816C1A4-9527-4C6A-AADB-99037F96C231}\",\"TestMessage\":\"Hello\",\"TestValue\":53.000000}\n",
      "{\"JobGuid\":\"{4816CE4F-212A-4029-9227-BF07245686F0}\",\"TestMessage\":\"Hello\",\"TestValue\":53.000000}\n",
      "{\"JobGuid\":\"{4816C1A4-9527-4C6A-AADB-99037F96C231}\",\"TestMessage\":\"Hello\",\"TestValue\":54.000000}\n",
      "{\"JobGuid\":\"{4816CE4F-212A-4029-9227-BF07245686F0}\",\"TestMessage\":\"Hello\",\"TestValue\":54.000000}\n",
      "{\"JobGuid\":\"{4816C1A4-9527-4C6A-AADB-99037F96C231}\",\"TestMessage\":\"Hello\",\"TestValue\":55.000000}\n",
      "{\"JobGuid\":\"{4816CE4F-212A-4029-9227-BF07245686F0}\",\"TestMessage\":\"Hello\",\"TestValue\":55.000000}\n",
      "{\"JobGuid\":\"{4816C1A4-9527-4C6A-AADB-99037F96C231}\",\"TestMessage\":\"Hello\",\"TestValue\":56.000000}\n",
      "{\"JobGuid\":\"{4816CE4F-212A-4029-9227-BF07245686F0}\",\"TestMessage\":\"Hello\",\"TestValue\":56.000000}\n",
      "{\"JobGuid\":\"{4816C1A4-9527-4C6A-AADB-99037F96C231}\",\"TestMessage\":\"Hello\",\"TestValue\":57.000000}\n",
      "{\"JobGuid\":\"{4816CE4F-212A-4029-9227-BF07245686F0}\",\"TestMessage\":\"Hello\",\"TestValue\":57.000000}\n",
      "{\"JobGuid\":\"{4816C1A4-9527-4C6A-AADB-99037F96C231}\",\"TestMessage\":\"Hello\",\"TestValue\":58.000000}\n",
      "{\"JobGuid\":\"{4816CE4F-212A-4029-9227-BF07245686F0}\",\"TestMessage\":\"Hello\",\"TestValue\":58.000000}\n",
      "{\"JobGuid\":\"{4816C1A4-9527-4C6A-AADB-99037F96C231}\",\"TestMessage\":\"Hello\",\"TestValue\":59.000000}\n",
      "{\"JobGuid\":\"{4816CE4F-212A-4029-9227-BF07245686F0}\",\"TestMessage\":\"Hello\",\"TestValue\":59.000000}\n",
      "{\"JobGuid\":\"{4816C1A4-9527-4C6A-AADB-99037F96C231}\",\"TestMessage\":\"Hello\",\"TestValue\":60.000000}\n",
      "{\"JobGuid\":\"{4816CE4F-212A-4029-9227-BF07245686F0}\",\"TestMessage\":\"Hello\",\"TestValue\":60.000000}\n",
      "{\"JobGuid\":\"{4816C1A4-9527-4C6A-AADB-99037F96C231}\",\"TestMessage\":\"Hello\",\"TestValue\":61.000000}\n",
      "{\"JobGuid\":\"{4816CE4F-212A-4029-9227-BF07245686F0}\",\"TestMessage\":\"Hello\",\"TestValue\":61.000000}\n",
      "{\"JobGuid\":\"{4816C1A4-9527-4C6A-AADB-99037F96C231}\",\"TestMessage\":\"Hello\",\"TestValue\":62.000000}\n",
      "{\"JobGuid\":\"{4816CE4F-212A-4029-9227-BF07245686F0}\",\"TestMessage\":\"Hello\",\"TestValue\":62.000000}\n",
      "{\"JobGuid\":\"{4816C1A4-9527-4C6A-AADB-99037F96C231}\",\"TestMessage\":\"Hello\",\"TestValue\":63.000000}\n",
      "{\"JobGuid\":\"{4816CE4F-212A-4029-9227-BF07245686F0}\",\"TestMessage\":\"Hello\",\"TestValue\":63.000000}\n",
      "{\"JobGuid\":\"{4816C1A4-9527-4C6A-AADB-99037F96C231}\",\"TestMessage\":\"Hello\",\"TestValue\":64.000000}\n",
      "{\"JobGuid\":\"{4816CE4F-212A-4029-9227-BF07245686F0}\",\"TestMessage\":\"Hello\",\"TestValue\":64.000000}\n",
      "{\"JobGuid\":\"{4816C1A4-9527-4C6A-AADB-99037F96C231}\",\"TestMessage\":\"Hello\",\"TestValue\":65.000000}\n",
      "{\"JobGuid\":\"{4816CE4F-212A-4029-9227-BF07245686F0}\",\"TestMessage\":\"Hello\",\"TestValue\":65.000000}\n",
      "{\"JobGuid\":\"{4816C1A4-9527-4C6A-AADB-99037F96C231}\",\"TestMessage\":\"Hello\",\"TestValue\":66.000000}\n",
      "{\"JobGuid\":\"{4816CE4F-212A-4029-9227-BF07245686F0}\",\"TestMessage\":\"Hello\",\"TestValue\":66.000000}\n",
      "{\"JobGuid\":\"{4816C1A4-9527-4C6A-AADB-99037F96C231}\",\"TestMessage\":\"Hello\",\"TestValue\":67.000000}\n",
      "{\"JobGuid\":\"{4816CE4F-212A-4029-9227-BF07245686F0}\",\"TestMessage\":\"Hello\",\"TestValue\":67.000000}\n",
      "{\"JobGuid\":\"{4816C1A4-9527-4C6A-AADB-99037F96C231}\",\"TestMessage\":\"Hello\",\"TestValue\":68.000000}\n",
      "{\"JobGuid\":\"{4816CE4F-212A-4029-9227-BF07245686F0}\",\"TestMessage\":\"Hello\",\"TestValue\":68.000000}\n",
      "{\"JobGuid\":\"{4816C1A4-9527-4C6A-AADB-99037F96C231}\",\"TestMessage\":\"Hello\",\"TestValue\":69.000000}\n",
      "{\"JobGuid\":\"{4816CE4F-212A-4029-9227-BF07245686F0}\",\"TestMessage\":\"Hello\",\"TestValue\":69.000000}\n",
      "{\"JobGuid\":\"{4816C1A4-9527-4C6A-AADB-99037F96C231}\",\"TestMessage\":\"Hello\",\"TestValue\":70.000000}\n",
      "{\"JobGuid\":\"{4816CE4F-212A-4029-9227-BF07245686F0}\",\"TestMessage\":\"Hello\",\"TestValue\":70.000000}\n",
      "{\"JobGuid\":\"{4816C1A4-9527-4C6A-AADB-99037F96C231}\",\"TestMessage\":\"Hello\",\"TestValue\":71.000000}\n",
      "{\"JobGuid\":\"{4816CE4F-212A-4029-9227-BF07245686F0}\",\"TestMessage\":\"Hello\",\"TestValue\":71.000000}\n",
      "{\"JobGuid\":\"{4816C1A4-9527-4C6A-AADB-99037F96C231}\",\"TestMessage\":\"Hello\",\"TestValue\":72.000000}\n",
      "{\"JobGuid\":\"{4816CE4F-212A-4029-9227-BF07245686F0}\",\"TestMessage\":\"Hello\",\"TestValue\":72.000000}\n",
      "{\"JobGuid\":\"{4816C1A4-9527-4C6A-AADB-99037F96C231}\",\"TestMessage\":\"Hello\",\"TestValue\":73.000000}\n",
      "{\"JobGuid\":\"{4816CE4F-212A-4029-9227-BF07245686F0}\",\"TestMessage\":\"Hello\",\"TestValue\":73.000000}\n",
      "{\"JobGuid\":\"{4816C1A4-9527-4C6A-AADB-99037F96C231}\",\"TestMessage\":\"Hello\",\"TestValue\":74.000000}\n",
      "{\"JobGuid\":\"{4816CE4F-212A-4029-9227-BF07245686F0}\",\"TestMessage\":\"Hello\",\"TestValue\":74.000000}\n",
      "{\"JobGuid\":\"{4816C1A4-9527-4C6A-AADB-99037F96C231}\",\"TestMessage\":\"Hello\",\"TestValue\":75.000000}\n",
      "{\"JobGuid\":\"{4816CE4F-212A-4029-9227-BF07245686F0}\",\"TestMessage\":\"Hello\",\"TestValue\":75.000000}\n",
      "{\"JobGuid\":\"{4816C1A4-9527-4C6A-AADB-99037F96C231}\",\"TestMessage\":\"Hello\",\"TestValue\":76.000000}\n",
      "{\"JobGuid\":\"{4816CE4F-212A-4029-9227-BF07245686F0}\",\"TestMessage\":\"Hello\",\"TestValue\":76.000000}\n",
      "{\"JobGuid\":\"{4816C1A4-9527-4C6A-AADB-99037F96C231}\",\"TestMessage\":\"Hello\",\"TestValue\":77.000000}\n",
      "{\"JobGuid\":\"{4816CE4F-212A-4029-9227-BF07245686F0}\",\"TestMessage\":\"Hello\",\"TestValue\":77.000000}\n",
      "{\"JobGuid\":\"{4816C1A4-9527-4C6A-AADB-99037F96C231}\",\"TestMessage\":\"Hello\",\"TestValue\":78.000000}\n",
      "{\"JobGuid\":\"{4816CE4F-212A-4029-9227-BF07245686F0}\",\"TestMessage\":\"Hello\",\"TestValue\":78.000000}\n",
      "{\"JobGuid\":\"{4816C1A4-9527-4C6A-AADB-99037F96C231}\",\"TestMessage\":\"Hello\",\"TestValue\":79.000000}\n",
      "{\"JobGuid\":\"{4816CE4F-212A-4029-9227-BF07245686F0}\",\"TestMessage\":\"Hello\",\"TestValue\":79.000000}\n",
      "{\"JobGuid\":\"{4816C1A4-9527-4C6A-AADB-99037F96C231}\",\"TestMessage\":\"Hello\",\"TestValue\":80.000000}\n",
      "{\"JobGuid\":\"{4816CE4F-212A-4029-9227-BF07245686F0}\",\"TestMessage\":\"Hello\",\"TestValue\":80.000000}\n",
      "{\"JobGuid\":\"{4816C1A4-9527-4C6A-AADB-99037F96C231}\",\"TestMessage\":\"Hello\",\"TestValue\":81.000000}\n",
      "{\"JobGuid\":\"{4816CE4F-212A-4029-9227-BF07245686F0}\",\"TestMessage\":\"Hello\",\"TestValue\":81.000000}\n",
      "{\"JobGuid\":\"{4816C1A4-9527-4C6A-AADB-99037F96C231}\",\"TestMessage\":\"Hello\",\"TestValue\":82.000000}\n",
      "{\"JobGuid\":\"{4816CE4F-212A-4029-9227-BF07245686F0}\",\"TestMessage\":\"Hello\",\"TestValue\":82.000000}\n",
      "{\"JobGuid\":\"{4816C1A4-9527-4C6A-AADB-99037F96C231}\",\"TestMessage\":\"Hello\",\"TestValue\":83.000000}\n",
      "{\"JobGuid\":\"{4816CE4F-212A-4029-9227-BF07245686F0}\",\"TestMessage\":\"Hello\",\"TestValue\":83.000000}\n",
      "{\"JobGuid\":\"{4816C1A4-9527-4C6A-AADB-99037F96C231}\",\"TestMessage\":\"Hello\",\"TestValue\":84.000000}\n",
      "{\"JobGuid\":\"{4816CE4F-212A-4029-9227-BF07245686F0}\",\"TestMessage\":\"Hello\",\"TestValue\":84.000000}\n",
      "{\"JobGuid\":\"{4816C1A4-9527-4C6A-AADB-99037F96C231}\",\"TestMessage\":\"Hello\",\"TestValue\":85.000000}\n",
      "{\"JobGuid\":\"{4816CE4F-212A-4029-9227-BF07245686F0}\",\"TestMessage\":\"Hello\",\"TestValue\":85.000000}\n",
      "{\"JobGuid\":\"{4816C1A4-9527-4C6A-AADB-99037F96C231}\",\"TestMessage\":\"Hello\",\"TestValue\":86.000000}\n",
      "{\"JobGuid\":\"{4816CE4F-212A-4029-9227-BF07245686F0}\",\"TestMessage\":\"Hello\",\"TestValue\":86.000000}\n",
      "{\"JobGuid\":\"{4816C1A4-9527-4C6A-AADB-99037F96C231}\",\"TestMessage\":\"Hello\",\"TestValue\":87.000000}\n",
      "{\"JobGuid\":\"{4816CE4F-212A-4029-9227-BF07245686F0}\",\"TestMessage\":\"Hello\",\"TestValue\":87.000000}\n",
      "{\"JobGuid\":\"{4816C1A4-9527-4C6A-AADB-99037F96C231}\",\"TestMessage\":\"Hello\",\"TestValue\":88.000000}\n",
      "{\"JobGuid\":\"{4816CE4F-212A-4029-9227-BF07245686F0}\",\"TestMessage\":\"Hello\",\"TestValue\":88.000000}\n",
      "{\"JobGuid\":\"{4816C1A4-9527-4C6A-AADB-99037F96C231}\",\"TestMessage\":\"Hello\",\"TestValue\":89.000000}\n",
      "{\"JobGuid\":\"{4816CE4F-212A-4029-9227-BF07245686F0}\",\"TestMessage\":\"Hello\",\"TestValue\":89.000000}\n",
      "{\"JobGuid\":\"{4816C1A4-9527-4C6A-AADB-99037F96C231}\",\"TestMessage\":\"Hello\",\"TestValue\":90.000000}\n",
      "{\"JobGuid\":\"{4816CE4F-212A-4029-9227-BF07245686F0}\",\"TestMessage\":\"Hello\",\"TestValue\":90.000000}\n",
      "{\"JobGuid\":\"{4816C1A4-9527-4C6A-AADB-99037F96C231}\",\"TestMessage\":\"Hello\",\"TestValue\":91.000000}\n",
      "{\"JobGuid\":\"{4816CE4F-212A-4029-9227-BF07245686F0}\",\"TestMessage\":\"Hello\",\"TestValue\":91.000000}\n",
      "{\"JobGuid\":\"{4816C1A4-9527-4C6A-AADB-99037F96C231}\",\"TestMessage\":\"Hello\",\"TestValue\":92.000000}\n",
      "{\"JobGuid\":\"{4816CE4F-212A-4029-9227-BF07245686F0}\",\"TestMessage\":\"Hello\",\"TestValue\":92.000000}\n"
     ]
    }
   ],
   "source": [
    "message_response = sail.core.wait_for_data(10000)\n",
    "while None != message_response:\n",
    "    print(message_response)\n",
    "    message_response = sail.core.wait_for_data(500)\n"
   ]
  },
  {
   "cell_type": "code",
   "execution_count": null,
   "metadata": {},
   "outputs": [],
   "source": [
    "safe_functions = sail.core.get_safe_functions()\n",
    "if ( safe_functions is not None):\n",
    "    json_safe_functions = json.loads(safe_functions)\n",
    "    print(json.dumps(json_safe_functions,indent=4))\n",
    "else:\n",
    "    print(\"No safe functions\")"
   ]
  },
  {
   "cell_type": "code",
   "execution_count": 11,
   "metadata": {},
   "outputs": [
    {
     "data": {
      "text/plain": [
       "'exited'"
      ]
     },
     "execution_count": 11,
     "metadata": {},
     "output_type": "execute_result"
    }
   ],
   "source": [
    "sail.core.exit_current_session()"
   ]
  },
  {
   "cell_type": "code",
   "execution_count": null,
   "metadata": {},
   "outputs": [],
   "source": [
    "sail.core.deprovision_digital_contract(provision_dc)"
   ]
  },
  {
   "cell_type": "code",
   "execution_count": null,
   "metadata": {},
   "outputs": [],
   "source": [
    "tables = sail.core.get_tables()\n",
    "if ( tables is not None):\n",
    "    json_tables = json.loads(tables)\n",
    "    print(json.dumps(json_tables, indent=4))\n",
    "else:\n",
    "    print(\"No tables\")\n"
   ]
  },
  {
   "cell_type": "code",
   "execution_count": null,
   "metadata": {},
   "outputs": [],
   "source": []
  },
  {
   "cell_type": "code",
   "execution_count": null,
   "metadata": {},
   "outputs": [],
   "source": []
  }
 ],
 "metadata": {
  "kernelspec": {
   "display_name": "Python 3",
   "language": "python",
   "name": "python3"
  },
  "language_info": {
   "codemirror_mode": {
    "name": "ipython",
    "version": 3
   },
   "file_extension": ".py",
   "mimetype": "text/x-python",
   "name": "python",
   "nbconvert_exporter": "python",
   "pygments_lexer": "ipython3",
   "version": "3.8.10"
  }
 },
 "nbformat": 4,
 "nbformat_minor": 4
}
