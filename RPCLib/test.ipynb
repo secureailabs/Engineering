{
 "cells": [
  {
   "cell_type": "code",
   "execution_count": 1,
   "id": "talented-tampa",
   "metadata": {},
   "outputs": [],
   "source": [
    "from zero import ZeroClient"
   ]
  },
  {
   "cell_type": "code",
   "execution_count": 2,
   "id": "careful-tuner",
   "metadata": {},
   "outputs": [],
   "source": [
    "client3 = ZeroClient(\"localhost\", 5556)"
   ]
  },
  {
   "cell_type": "code",
   "execution_count": 3,
   "id": "ordered-meeting",
   "metadata": {},
   "outputs": [
    {
     "name": "stdout",
     "output_type": "stream",
     "text": [
      "<contextlib._GeneratorContextManager object at 0x7fa58c414880>\n",
      "{'id': 'a1a2c580a0c148ac9aba1072b79dde90', 'type': \"<class 'dataframe.RemoteDataFrame'>\", 'object': 2}\n"
     ]
    }
   ],
   "source": [
    "data = {'col1': [1, 2], 'col2': [3, 4]}\n",
    "rdf = client3.proxy(\"dataframe.RemoteDataFrame\", d=data)"
   ]
  },
  {
   "cell_type": "code",
   "execution_count": 4,
   "id": "effective-adelaide",
   "metadata": {},
   "outputs": [
    {
     "name": "stdout",
     "output_type": "stream",
     "text": [
      "{'attributes': ('at', 'axes', 'dtyps', 'empty', 'frame', 'iat', 'iloc', 'index', 'loc', 'ndim', 'shape', 'size', 'values'), 'methods': ('add', 'aggregate', 'align', 'all', 'any', 'apply', 'applymap', 'asfreq', 'assign', 'bfill', 'clip', 'combine', 'combine_first', 'compare', 'corr', 'corrwith', 'count', 'cov', 'cummax', 'cummin', 'cumprod', 'cumsum', 'diff', 'dot', 'drop', 'drop_duplicates', 'dropna', 'duplicated', 'eq', 'eval', 'explode', 'ffill', 'fillna', 'floordiv', 'ge', 'groupby', 'gt', 'idxmax', 'idxmin', 'info', 'insert', 'interpolate', 'isin', 'isna', 'isnull', 'join', 'kurt', 'le', 'lt', 'mad', 'mask', 'max', 'mean', 'median', 'melt', 'memory_usage', 'merge', 'min', 'mod', 'mode', 'mul', 'ne', 'nlargest', 'notna', 'notnull', 'nsmallest', 'nunique', 'pivot', 'pop', 'pow', 'prod', 'quantile', 'query', 'radd', 'reindex', 'rename', 'reorder_levels', 'replace', 'resample', 'reset_index', 'rfloordiv', 'rmod', 'rmul', 'round', 'rpow', 'rsub', 'rtruediv', 'select_dtypes', 'sem', 'set_axis', 'set_index', 'shift', 'skew', 'sort_index', 'sort_values', 'stack', 'std', 'sub', 'sum', 'swaplevel', 'to_dict', 'to_numpy', 'to_period', 'to_timestamp', 'transform', 'transpose', 'truediv', 'unstack', 'update', 'value_counts', 'var', 'where')}\n",
      "col1    1.5\n",
      "col2    3.5\n",
      "dtype: float64\n"
     ]
    },
    {
     "data": {
      "text/plain": [
       "col1    1.5\n",
       "col2    3.5\n",
       "dtype: float64"
      ]
     },
     "execution_count": 4,
     "metadata": {},
     "output_type": "execute_result"
    }
   ],
   "source": [
    "rdf.mean()"
   ]
  },
  {
   "cell_type": "code",
   "execution_count": 5,
   "id": "threatened-compiler",
   "metadata": {},
   "outputs": [
    {
     "name": "stdout",
     "output_type": "stream",
     "text": [
      "col1    0.707107\n",
      "col2    0.707107\n",
      "dtype: float64\n"
     ]
    },
    {
     "data": {
      "text/plain": [
       "col1    0.707107\n",
       "col2    0.707107\n",
       "dtype: float64"
      ]
     },
     "execution_count": 5,
     "metadata": {},
     "output_type": "execute_result"
    }
   ],
   "source": [
    "rdf.std()"
   ]
  }
 ],
 "metadata": {
  "kernelspec": {
   "display_name": "Python 3",
   "language": "python",
   "name": "python3"
  },
  "language_info": {
   "codemirror_mode": {
    "name": "ipython",
    "version": 3
   },
   "file_extension": ".py",
   "mimetype": "text/x-python",
   "name": "python",
   "nbconvert_exporter": "python",
   "pygments_lexer": "ipython3",
   "version": "3.8.10"
  }
 },
 "nbformat": 4,
 "nbformat_minor": 5
}
