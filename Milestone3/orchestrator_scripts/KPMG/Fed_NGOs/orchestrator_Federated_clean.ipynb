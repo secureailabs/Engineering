{
 "cells": [
  {
   "cell_type": "markdown",
   "metadata": {},
   "source": [
    "# Federated Training SCL and GFR datasets\n",
    "\n",
    "This notebook exhibits training the SimFL model on on both datasets. The intention of this is to provide a benchmark for us to better understand our federated learning results. We follow through the following phases:\n",
    "\n",
    "- establishing our environment\n",
    "- preprocessing the data\n",
    "- training our model\n",
    "- evaluating our model\n",
    "- providing predictions on test data"
   ]
  },
  {
   "cell_type": "markdown",
   "metadata": {},
   "source": [
    "## Establishing our Remote Execution Environment\n",
    "\n",
    "First we log in to the SAIL backend. This allows us to query for our contracts of interest to see if any remote execution VMs have been initialised for them. We push our safe functions to the respective remote execution VMs and then query for details of the tables they hold. They should both hold unique but valid tables to be processed into training data.  "
   ]
  },
  {
   "cell_type": "code",
   "execution_count": 1,
   "metadata": {},
   "outputs": [],
   "source": [
    "#First we pull in our tools\n",
    "from sail.core import VMSetup, registersafeobj,login,connect,pushsafeobj,querydata,get_fns\n",
    "from sail.data import RemoteDataFrame, Utils, RemoteSeries\n",
    "from sail.algo import fdxgb\n",
    "\n",
    "from sail.tmp import shap_private, get_tmp_fns"
   ]
  },
  {
   "cell_type": "code",
   "execution_count": 2,
   "metadata": {},
   "outputs": [],
   "source": [
    "import time"
   ]
  },
  {
   "cell_type": "code",
   "execution_count": 3,
   "metadata": {},
   "outputs": [
    {
     "name": "stdout",
     "output_type": "stream",
     "text": [
      "[P]safe objects registered\n"
     ]
    }
   ],
   "source": [
    "#We load our safe object storage location\n",
    "import json, requests\n",
    "soPath = \"/Engineering/Milestone3/EndPointTools/SafeObjectEditor/KPMG/safeobjects\"\n",
    "backendIP = \"20.185.6.111\"\n",
    "\n",
    "registersafeobj(soPath)\n",
    "print(\"[P]safe objects registered\")"
   ]
  },
  {
   "cell_type": "code",
   "execution_count": 4,
   "metadata": {},
   "outputs": [
    {
     "name": "stdout",
     "output_type": "stream",
     "text": [
      "[P]login success\n",
      "5iEQAhtloSNHrZ0tu2LElV2HTzzzKVkLiYbJJG0c8kPuyDsB5mmN8fGQSZGunZr12a5T0iYDAACuLP6UAKpuXPjqiia1nFPQOJC2Z/SgQ4nOEBLUYFkF0AVj0lSDzw+SbZHDBvhxntdbU8f3uhL9WYc1K8J5EJaKQ9/gI0deSpEFOKyAurGKwSoCGFGgHa/0gSBGvCwHOFyWpljGk2yi3IS6a9lYT4bf4wsQVufvUsOwvL1BskqYgQwhKFdLQipoWPJAuJSf52odz1amM4qWex8kByIlc6lHqU0I2jsiMsMFy1G/8XxLS+/vFInI33BJwTv8ulvxNbCU/TKJ0bUFbeoDlFw9QJ9p+lzmnXF/SBxHknjCHOsZ99yN6uN/HIgNnBQJRdAbVs7kNb0MXvyyhCrIi8M9pI513vHYT49h8885I3a4KLuBwWQxJJatx/Aovbbtx+tUFFXbS1pV8/PioclsvW3ikzGCRMN6/jmf1mM9UabWPZ4Yasxj+BzbrcsBmq8wh568JbXFXo55c70uHcr25pdwwhaENzvcdwuEs8pe+PmqeL+ABxTmgA+WzVJ/OZhdLq2Hz3RMkoYeHj61IMNpWp7Nut2Iznx47NWrS3RAw+3dS9ILvZBUtwQ+mwI1uIrV7FHlo5nrw18AhWJK3zPF2Plyn6fu6Xmd+jdYPSbEJxaT0Y4i0Pxpt2EmgVDmUFXil+wEjBXpRj3PuBT7QVoB6RrICIM9ITvSWfYApjvTACZbYdrirMQkwu76ppd0UqMGpSvxlmn2noieNGhFuX5cHD9UBZWdaVurYglJG41diDCV3MgKBChosAqd+fTM+X5+nglIoTtEdX1LvaFTpTIXtv5Kd/ItPnN+DszFo+TgZKIGoYQwU/AanbIOUp/cK4C8XbDxrPmVNmw7NtZ57bYYnubbytCAV3JkTfYyulUECnjKKDBY0yuG5yy5W/naDR7meSJqN2kHvm//RZ36B4Xd8oFHjlbM5Ho0sRCfL6DvzCKYVNsfPXlzp0gf3MGnQs23qB/jmO0nir3bTV+w3LfTvJkEyWBl4mYagAfoHA9zMnRG7ypRwcewtThOpauo8KW2KhL/t0ey42CZTdhO/TLhAFrpqt8nhPWbXm+fphK2+Tqm9dvMeG+Ev0QjhTIaVrEpkRJu\n"
     ]
    }
   ],
   "source": [
    "#We log in to the backend using our credentials, receive eosb token\n",
    "from sail.core import login\n",
    "eosb = login(\"adam.hall@secureailabs.com\", \"-OJBFE2qw-OJBFE2qw\", 6200, backendIP)\n",
    "print(\"[P]login success\")\n",
    "print(eosb)"
   ]
  },
  {
   "cell_type": "code",
   "execution_count": 5,
   "metadata": {},
   "outputs": [],
   "source": [
    "#specify our digital contracts, set our backend ip, query for backend for VMs associated to contracts.\n",
    "dc = [{\"DigitalContractGuid\":\"{3BFF6633-477E-43D8-B3A3-F3079A1AF10F}\"}, {\"DigitalContractGuid\":\"{34E8FF34-2D5E-41C1-ACF4-0106227D88A5}\"}]\n",
    "backendIP = \"20.185.6.111\"\n",
    "url = \"https://\"+backendIP+\":6200/SAIL/VirtualMachineManager/GetRunningVMsIpAdresses?Eosb=\"+eosb"
   ]
  },
  {
   "cell_type": "code",
   "execution_count": 6,
   "metadata": {},
   "outputs": [
    {
     "name": "stdout",
     "output_type": "stream",
     "text": [
      "{\"DigitalContractGuid\": \"{3BFF6633-477E-43D8-B3A3-F3079A1AF10F}\"}\n"
     ]
    },
    {
     "name": "stderr",
     "output_type": "stream",
     "text": [
      "/usr/local/lib/python3.8/dist-packages/urllib3/connectionpool.py:1013: InsecureRequestWarning: Unverified HTTPS request is being made to host '20.185.6.111'. Adding certificate verification is strongly advised. See: https://urllib3.readthedocs.io/en/1.26.x/advanced-usage.html#ssl-warnings\n",
      "  warnings.warn(\n"
     ]
    },
    {
     "name": "stdout",
     "output_type": "stream",
     "text": [
      "<Response [200]>\n",
      "{'Status': 200.0, 'VirtualMachines': {'21D2A531DDC04DB6BF27AEAEF64726E5': '51.124.208.15'}}\n",
      "['51.124.208.15']\n",
      "{\"DigitalContractGuid\": \"{34E8FF34-2D5E-41C1-ACF4-0106227D88A5}\"}\n"
     ]
    },
    {
     "name": "stderr",
     "output_type": "stream",
     "text": [
      "/usr/local/lib/python3.8/dist-packages/urllib3/connectionpool.py:1013: InsecureRequestWarning: Unverified HTTPS request is being made to host '20.185.6.111'. Adding certificate verification is strongly advised. See: https://urllib3.readthedocs.io/en/1.26.x/advanced-usage.html#ssl-warnings\n",
      "  warnings.warn(\n"
     ]
    },
    {
     "name": "stdout",
     "output_type": "stream",
     "text": [
      "<Response [200]>\n",
      "{'Status': 200.0, 'VirtualMachines': {'1CAE9D443D5C4F2FB1685B4E6A3F3F35': '51.124.234.195'}}\n",
      "['51.124.208.15', '51.124.234.195']\n"
     ]
    }
   ],
   "source": [
    "#obtain virtual machines ids and dataset ids, so we can confirm the datasets are intact and ready for studying\n",
    "import json, requests\n",
    "payloads = []\n",
    "for item in dc:\n",
    "    temp = json.dumps(item)\n",
    "    payloads.append(temp)\n",
    "\n",
    "headers = {\n",
    "    'Content-Type': 'application/json'\n",
    "}\n",
    "\n",
    "ips = []\n",
    "for payload in payloads:\n",
    "    print(payload)\n",
    "    response = requests.request(\"GET\", url, headers=headers, data=payload, verify=False)\n",
    "    print(response)\n",
    "    response = response.json()\n",
    "    print(response)\n",
    "    for key in response['VirtualMachines']:\n",
    "        ips.append(response['VirtualMachines'][key])\n",
    "        print(ips)"
   ]
  },
  {
   "cell_type": "code",
   "execution_count": 7,
   "metadata": {},
   "outputs": [
    {
     "name": "stdout",
     "output_type": "stream",
     "text": [
      "[P]virtual machine connection to ip: 51.124.208.15 success\n",
      "[P]virtual machine connection to ip: 51.124.234.195 success\n"
     ]
    },
    {
     "data": {
      "text/plain": [
       "['{01012009-ED35-44FA-94A3-F8F8FD4B4E44}',\n",
       " '{BBE2D7D2-653C-47C7-96A1-2B15EC3C362C}']"
      ]
     },
     "execution_count": 7,
     "metadata": {},
     "output_type": "execute_result"
    }
   ],
   "source": [
    "#Connect to each IP address in the list of IP addresses returned by the backend\n",
    "from sail.core import connect\n",
    "\n",
    "vmids = []\n",
    "for ip in ips:\n",
    "    vmid = connect(ip, 3500)\n",
    "    vmids.append(vmid)\n",
    "    print(\"[P]virtual machine connection to ip: {0} success\".format(ip))\n",
    "vmids"
   ]
  },
  {
   "cell_type": "code",
   "execution_count": 8,
   "metadata": {},
   "outputs": [
    {
     "name": "stdout",
     "output_type": "stream",
     "text": [
      "[P]safe object pushed to virtual machines\n"
     ]
    },
    {
     "data": {
      "text/plain": [
       "{'getitem': 'F11C49327A9244A5AEE568B531C6A957',\n",
       " 'getattr': '9C4019584DB04B1A9BF05EC91836BCB0',\n",
       " 'setitem': 'A04E4CC9E3BC4A7B9AFAB6CB3E040FAC',\n",
       " 'iter': 'CC8B5A66C10F47A1A977E2BE2B522768',\n",
       " 'next': '6D48AC3C3245411992E65E5FF5B90DDB',\n",
       " 'rdf_describe': '18F2566E7FF34D77A7DE668DD220CEFD',\n",
       " 'rdf_drop': '9A04D50B403C4716A79CABEF1F90D832',\n",
       " 'rdf_dropna': '039181877F8A492A86A4BD996D0AD4E2',\n",
       " 'rdf_merge': '8C938D7D313A49C09509D6A43AAFD096',\n",
       " 'rdf_groupby': '3E3716FCA7DE4ABEB8A3FAB4DA14EA9D',\n",
       " 'rdf_query': 'BF18C294BCCC4B9C94624C79D2506CCC',\n",
       " 'rdf_sort_values': '10DCB6636C8A4832AD6CE7BCDB1F9983',\n",
       " 'rdf_set_index': '09EE6479EE97461DBC4E44D95D77235B',\n",
       " 'rdf_reset_index': 'F408E02C932D47C49BC5DC640C108AEB',\n",
       " 'rdf_label_encode': '56D864CD0B81459CB0540E364BB49D6F',\n",
       " 'groupby_agg': 'CEFAABE1879741269037050B25A5CCFD',\n",
       " 'groupby_diff': '9604982079924320B6C7B6DCA27CFC6C',\n",
       " 'groupby_cumsum': 'AB04C77FA5DD4B1B8AAD2867F44BC886',\n",
       " 'groupby_first': 'FF2156013B9A483F9FC8F0DB27E3B74D',\n",
       " 'series_add': 'B13E83BD3F5743BCABE36FDB418F100C',\n",
       " 'series_and': '3E58E89566AA423093D7184988A60854',\n",
       " 'series_astype': 'F1B6F4B3359D4371A653C395418BF12A',\n",
       " 'series_eq': '8972411C102743EF9F262DBAEA9E8693',\n",
       " 'series_fillna': '5C0BC5A7F9714DA79017E3FCF16C26D6',\n",
       " 'series_ge': 'DE9C9AB3D1CB410291ABD038A5A1AF92',\n",
       " 'series_gt': '34A48D79AC9843F9ACF2B2E3A7C8F4A0',\n",
       " 'series_invert': '8DE96396431C4DCD897225B94971515B',\n",
       " 'series_isin': '1463121DB74B467F82B212B4190FAF5C',\n",
       " 'series_isna': 'EAA299EEF38149B58830A8267D1DE5F4',\n",
       " 'series_le': 'BEE2F244260445AC9A634B00CC753630',\n",
       " 'series_lt': '556B3C62AA88461F977CB55220B79C73',\n",
       " 'series_map': '757A54DFA63346D28CC39571A63BE6B4',\n",
       " 'series_max': '76ABB96DA9EB4FAA8E3073EBED270EDC',\n",
       " 'series_mean': '0650C80D11A04720BFA8F1693AC292D0',\n",
       " 'series_min': 'EE498A68C65347D68ACD6661207EC705',\n",
       " 'series_or': '8BBCF91120A749AE9CE22E0855B89B60',\n",
       " 'series_ravel': '2ADA37AD4D9A49689183845183CA3096',\n",
       " 'series_sub': '0899F5B598904B279AA98ADFD923888F',\n",
       " 'series_unique': 'B6FD9631354A4985A3E674DF28457A5D',\n",
       " 'series_value_counts': '2275B04657D94BFD8787C519C2C3B8EA',\n",
       " 'util_get_dummies': '6FB479BE72A04B158C15FD5EBDF875FC',\n",
       " 'util_to_datetime': 'D35FC476B97F42AB9CE45D8E7604DD3C',\n",
       " 'util_to_numeric': '6299E37D96884EAFB9E21692FB24014B',\n",
       " 'util_ravel': '43B37087962644229B53B0D7C3A1E386',\n",
       " 'util_where': '98F83AA9DC3249B983A4262BE0BCEB55',\n",
       " 'util_train_test_split': 'AF83E839A5514B178951B205F5CCB6E5',\n",
       " 'util_read_csv': 'E764BBFDB1C44271837A1384CD40AD94'}"
      ]
     },
     "execution_count": 8,
     "metadata": {},
     "output_type": "execute_result"
    }
   ],
   "source": [
    "#Push our safe objects to the remote VMs\n",
    "from sail.core import get_fns, pushsafeobj\n",
    "\n",
    "fns = get_fns()\n",
    "for vm in vmids:\n",
    "    for key in fns:\n",
    "        pushsafeobj(vm, fns[key])\n",
    "print(\"[P]safe object pushed to virtual machines\")\n",
    "fns"
   ]
  },
  {
   "cell_type": "code",
   "execution_count": 9,
   "metadata": {},
   "outputs": [
    {
     "name": "stdout",
     "output_type": "stream",
     "text": [
      "[P]obtain table ids\n"
     ]
    },
    {
     "data": {
      "text/plain": [
       "[{'agreement09nov': '804DD44A900818499D3FA68CDDF1C844',\n",
       "  'agreementMapping': '68DA5CD6CE4D3D4F9E5A33E587B80958',\n",
       "  'contact09nov': '613438CFD17362418C67F98AD9B015B2',\n",
       "  'createReasonMapping': '431F1BD48F684140ADE8FB1BB5A80568',\n",
       "  'payment09nov': '9C47F4F3BBE07B4F89256B1EED3C960D'},\n",
       " {'agreement09nov': 'F6C97A39723D4F478CC06371EB98103B',\n",
       "  'agreementMapping': '1EE7D5340BEFBB40BB21D92CF002A7C6',\n",
       "  'contact09nov': '99FC69A3BEABFB4C865F6B0D594A6173',\n",
       "  'createReasonMapping': '068E2C8F14EC0241968305B80D12F65F',\n",
       "  'payment09nov': '5CDB0CBA5D6D3D4E81A00524D8602448'}]"
      ]
     },
     "execution_count": 9,
     "metadata": {},
     "output_type": "execute_result"
    }
   ],
   "source": [
    "#Query for tables on the remote host and report back table names\n",
    "from sail.core import querydata\n",
    "\n",
    "table = []\n",
    "for vm in vmids:\n",
    "    tableid = querydata(vm)\n",
    "    table.append(tableid)\n",
    "print(\"[P]obtain table ids\")\n",
    "\n",
    "datasets = table\n",
    "table"
   ]
  },
  {
   "cell_type": "markdown",
   "metadata": {},
   "source": [
    "For each of the tables on each VM we have, we'd like to read these into a pandas dataframe on the remote execution VM. This dataframe is held remotely and is referenced by the data_id of the dataframe held remotely."
   ]
  },
  {
   "cell_type": "code",
   "execution_count": 10,
   "metadata": {},
   "outputs": [
    {
     "name": "stdout",
     "output_type": "stream",
     "text": [
      "1\n",
      "2\n",
      "48.05635666847229\n"
     ]
    }
   ],
   "source": [
    "start_time = time.time()\n",
    "\n",
    "\n",
    "data = []\n",
    "i = 0\n",
    "for vm in vmids:\n",
    "    util = Utils(vm, fns)\n",
    "    data.append([util.read_csv(table[i]['agreement09nov']), util.read_csv(table[i]['contact09nov']), util.read_csv(table[i]['payment09nov']), util.read_csv(table[i]['agreementMapping']), util.read_csv(table[i]['createReasonMapping'])])\n",
    "    i+=1\n",
    "    print(i)\n",
    "\n",
    "print(time.time() - start_time)"
   ]
  },
  {
   "cell_type": "markdown",
   "metadata": {},
   "source": [
    "We can pass a specfic data_id to the RemoteDataFrame object to expose a traditional pandas style api to the dataframe held remotely. This allows us to query columns, index values etc. of the dataframe held remotely."
   ]
  },
  {
   "cell_type": "code",
   "execution_count": 11,
   "metadata": {},
   "outputs": [
    {
     "data": {
      "text/plain": [
       "Index(['AgreementGUID', 'AgreementID', 'Startdate', 'CreateReason',\n",
       "       'Cancelreason', 'CancelDate', 'ChannelName', 'ChannelD',\n",
       "       'AgreementType', 'FutureCancelDate', 'FutureCancel', 'ContactGUID',\n",
       "       'ContactID'],\n",
       "      dtype='object')"
      ]
     },
     "execution_count": 11,
     "metadata": {},
     "output_type": "execute_result"
    }
   ],
   "source": [
    "df = RemoteDataFrame(vmids[0], data[0][0], fns)\n",
    "df.columns"
   ]
  },
  {
   "cell_type": "markdown",
   "metadata": {},
   "source": [
    "## Preprocessing\n",
    "\n",
    "Next, we'd like to preprocess the tables associated with our contracts into training data. We do this using a preprocessing safe function which follows the KPMG pre-processing with some minor edits. We instantiate our model first because our we store this preprocessing function in the fdxgb class as a matter of convenience. We're going to set up the fdxgb model at the most basic setting to begin with, just passing in our array of vmids associated with the contracts we specified in the beginning. As we have two remote datasets, we pas our these together as an array of data_ids which are consumed by the preprocessing safe function."
   ]
  },
  {
   "cell_type": "code",
   "execution_count": 12,
   "metadata": {},
   "outputs": [],
   "source": [
    "#Initialise our fdxgb class\n",
    "model = fdxgb(vmids)"
   ]
  },
  {
   "cell_type": "code",
   "execution_count": 13,
   "metadata": {},
   "outputs": [
    {
     "name": "stdout",
     "output_type": "stream",
     "text": [
      "290.297292470932\n"
     ]
    }
   ],
   "source": [
    "start_time = time.time()\n",
    "\n",
    "#Preprocess to raw data and obtain the final dataframe \n",
    "processed_data = model.data_preprocessv6(data)\n",
    "\n",
    "print(time.time() - start_time)"
   ]
  },
  {
   "cell_type": "code",
   "execution_count": 14,
   "metadata": {},
   "outputs": [
    {
     "data": {
      "text/plain": [
       "[['{65EFA868-E43C-4BD0-BFDE-8821056AD87C}.22781F1189EE4A59811FC87A58F87FE1',\n",
       "  '{65EFA868-E43C-4BD0-BFDE-8821056AD87C}.A25D92AC2CE3419183BA2D2DC327853E',\n",
       "  '{65EFA868-E43C-4BD0-BFDE-8821056AD87C}.1D45849AE8E348AC9E0E1D327963720B',\n",
       "  '{65EFA868-E43C-4BD0-BFDE-8821056AD87C}.DFF3006247B84C48B8F6566A1FBCF450',\n",
       "  '{65EFA868-E43C-4BD0-BFDE-8821056AD87C}.04791A2940C246C9BFF33BD8CEAC5A4E',\n",
       "  '{65EFA868-E43C-4BD0-BFDE-8821056AD87C}.E0C8C95A43FE48A980DD74EB94B50D52',\n",
       "  '{65EFA868-E43C-4BD0-BFDE-8821056AD87C}.0BF4AC222C15496884B65150893F2BBA',\n",
       "  '{65EFA868-E43C-4BD0-BFDE-8821056AD87C}.E87E761B37B14F8CA829CC9558A3B22E',\n",
       "  '{65EFA868-E43C-4BD0-BFDE-8821056AD87C}.A532E0888F9943A3AE5CDD8EEA16A5C8',\n",
       "  '{65EFA868-E43C-4BD0-BFDE-8821056AD87C}.178301F3D4C54CFF838BB97729BD0D96'],\n",
       " ['{229EA75E-6434-47E7-981D-1A466A9FA79B}.22781F1189EE4A59811FC87A58F87FE1',\n",
       "  '{229EA75E-6434-47E7-981D-1A466A9FA79B}.A25D92AC2CE3419183BA2D2DC327853E',\n",
       "  '{229EA75E-6434-47E7-981D-1A466A9FA79B}.1D45849AE8E348AC9E0E1D327963720B',\n",
       "  '{229EA75E-6434-47E7-981D-1A466A9FA79B}.DFF3006247B84C48B8F6566A1FBCF450',\n",
       "  '{229EA75E-6434-47E7-981D-1A466A9FA79B}.04791A2940C246C9BFF33BD8CEAC5A4E',\n",
       "  '{229EA75E-6434-47E7-981D-1A466A9FA79B}.E0C8C95A43FE48A980DD74EB94B50D52',\n",
       "  '{229EA75E-6434-47E7-981D-1A466A9FA79B}.0BF4AC222C15496884B65150893F2BBA',\n",
       "  '{229EA75E-6434-47E7-981D-1A466A9FA79B}.E87E761B37B14F8CA829CC9558A3B22E',\n",
       "  '{229EA75E-6434-47E7-981D-1A466A9FA79B}.A532E0888F9943A3AE5CDD8EEA16A5C8',\n",
       "  '{229EA75E-6434-47E7-981D-1A466A9FA79B}.178301F3D4C54CFF838BB97729BD0D96']]"
      ]
     },
     "execution_count": 14,
     "metadata": {},
     "output_type": "execute_result"
    }
   ],
   "source": [
    "#Here we can see the data_ids of the results of out preprocessing safe function\n",
    "processed_data"
   ]
  },
  {
   "cell_type": "code",
   "execution_count": 15,
   "metadata": {},
   "outputs": [],
   "source": [
    "#Next we sort these results into their respective datasets\n",
    "#[y_val, y_test, X_val, X_test, X_train, y_train, X_train_val, y_train_val]\n",
    "X_train = [processed_data[0][0],processed_data[1][0]]\n",
    "y_train = [processed_data[0][1],processed_data[1][1]]\n",
    "X_val = [processed_data[0][2],processed_data[1][2]]\n",
    "y_val = [processed_data[0][3],processed_data[1][3]]\n",
    "X_train_val = [processed_data[0][4],processed_data[1][4]]\n",
    "y_train_val = [processed_data[0][5],processed_data[1][5]]\n",
    "X_test = [processed_data[0][6],processed_data[1][6]]\n",
    "y_test = [processed_data[0][7],processed_data[1][7]]"
   ]
  },
  {
   "cell_type": "markdown",
   "metadata": {},
   "source": [
    "## Training our Model\n",
    "\n",
    "First we set the parameters of our federated xgboost model. Then we call the model.fit() function to train a new classifier on the training data retrieved in the pre-processing phase. "
   ]
  },
  {
   "cell_type": "code",
   "execution_count": 16,
   "metadata": {},
   "outputs": [
    {
     "data": {
      "text/plain": [
       "Index(['Age_max', 'ChargedAmount_sum', 'PostalCode_max', 'PaidAmount_sum',\n",
       "       'AgreementGUID_count', 'PaymentGUID_count', 'Donation_sum',\n",
       "       'Medlemskab_sum', 'Product_sum', 'Lottery_sum',\n",
       "       'payment_on_agreement_sum', 'months_since_start_min',\n",
       "       'months_since_start_max', 'months_since_last_payment_min',\n",
       "       'months_since_last_payment_max', 'months_since_missing_payment_min',\n",
       "       'months_since_missing_payment_max', 'missing_payment_sum',\n",
       "       'AgreementType_donation_sum', 'AgreementType_householdMembership_sum',\n",
       "       'AgreementType_householdMembershipWithDonation_sum',\n",
       "       'AgreementType_lottery_sum', 'AgreementType_membershipWithDonation_sum',\n",
       "       'AgreementType_personalMembership_sum',\n",
       "       'AgreementType_researchRelated_sum', 'AgreementType_event_sum',\n",
       "       'ChannelD_Bank_sum', 'ChannelD_Betalingsservice_sum',\n",
       "       'ChannelD_Card_sum', 'ChannelD_Giro_sum',\n",
       "       'ChannelD_MobilepaySubscription_sum', 'ChannelD_Mobilepay_sum',\n",
       "       'ChannelD_Invoice_sum', 'CreateReason_administrative_sum',\n",
       "       'CreateReason_digital_sum', 'CreateReason_externalTM_sum',\n",
       "       'CreateReason_internalTM_sum', 'CreateReason_noReason_sum',\n",
       "       'CreateReason_upgrading_sum', 'CreateReason_retention_sum',\n",
       "       'CreateReason_f2f_sum', 'CreateReason_selfInterest_sum',\n",
       "       'CreateReason_event_sum', 'PaymentMethod_Bank_sum',\n",
       "       'PaymentMethod_Betalingsservice_sum', 'PaymentMethod_Card_sum',\n",
       "       'PaymentMethod_Cash_sum', 'PaymentMethod_Giro_sum',\n",
       "       'PaymentMethod_Mobilepay_sum',\n",
       "       'PaymentMethod_MobilepaySubscription_sum', 'PaymentMethod_NoMethod_sum',\n",
       "       'PaymentMethod_Sms_sum', 'PaymentMethod_Webshop_sum',\n",
       "       'PaymentMethod_Invoice_sum', 'PaymentMethod_SCLspecial_sum',\n",
       "       'PaymentStatus_Canceled_sum', 'PaymentStatus_PaymentRegistered_sum',\n",
       "       'PaymentStatus_PaymentRejected_sum', 'PaymentStatus_Refunded_sum',\n",
       "       'PaymentStatus_SendForCollection_sum', 'PaymentStatus_Created_sum',\n",
       "       'PaymentStatus_Error_sum', 'PaymentMonth_1_sum', 'PaymentMonth_2_sum',\n",
       "       'PaymentMonth_3_sum', 'PaymentMonth_4_sum', 'PaymentMonth_5_sum',\n",
       "       'PaymentMonth_6_sum', 'PaymentMonth_7_sum', 'PaymentMonth_8_sum',\n",
       "       'PaymentMonth_9_sum', 'PaymentMonth_10_sum', 'PaymentMonth_11_sum',\n",
       "       'PaymentMonth_12_sum', 'cumulated_paid_amount',\n",
       "       'cumulated_amount_3months', 'cumulated_amount_6months',\n",
       "       'payment_count_last3m', 'payment_count_last6m', 'payment_count_total'],\n",
       "      dtype='object')"
      ]
     },
     "execution_count": 16,
     "metadata": {},
     "output_type": "execute_result"
    }
   ],
   "source": [
    "#We pass the data_id for one of our X sets to a remote dataframe so we can report the columns.\n",
    "#We do this because we need the value in order to set the number of features for the model and to label\n",
    "#our output shap feature columns later on.\n",
    "X_train_df = RemoteDataFrame(vmids[0], X_train[0], fns)\n",
    "cols = X_train_df.columns\n",
    "cols"
   ]
  },
  {
   "cell_type": "code",
   "execution_count": 17,
   "metadata": {},
   "outputs": [
    {
     "data": {
      "text/plain": [
       "0    679099\n",
       "1      8669\n",
       "Name: is_churned_within3m, dtype: int64"
      ]
     },
     "execution_count": 17,
     "metadata": {},
     "output_type": "execute_result"
    }
   ],
   "source": [
    "#We check the value counts of the training data so we can appropriately set the scale position weight \n",
    "# parameter of our model to deal with calss imbalance. This is the ratio of positive to negative classes.\n",
    "y_train_df = RemoteDataFrame(vmids[0], y_train[0], fns)\n",
    "lab = y_train_df.value_counts()\n",
    "lab"
   ]
  },
  {
   "cell_type": "code",
   "execution_count": 18,
   "metadata": {},
   "outputs": [
    {
     "data": {
      "text/plain": [
       "78"
      ]
     },
     "execution_count": 18,
     "metadata": {},
     "output_type": "execute_result"
    }
   ],
   "source": [
    "int(lab[0]/lab[1])"
   ]
  },
  {
   "cell_type": "code",
   "execution_count": 19,
   "metadata": {},
   "outputs": [],
   "source": [
    "#Setup parameters for federated xgboost model\n",
    "from sail.algo import fdxgb\n",
    "model_params = {\n",
    "# \"colsample_bylevel\": ,\n",
    "# \"colsample_bytree\": ,\n",
    "# \"gamma\": ,\n",
    "\"learning_rate\": 0.1285296847082715,\n",
    "# \"max_delta_step\": ,\n",
    "\"max_depth\": 9,\n",
    "\"n_estimators\": 150,\n",
    "# \"reg_alpha\": ,\n",
    "# \"reg_lambda\": ,\n",
    "\"subsample\": 0.8,\n",
    "\"scale_pos_weight\": int(lab[0]/lab[1])\n",
    "}\n",
    "\n",
    "model.params = model_params"
   ]
  },
  {
   "cell_type": "code",
   "execution_count": 20,
   "metadata": {},
   "outputs": [],
   "source": [
    "#Set the feature dimensions as described above\n",
    "model.feature_num = len(cols)"
   ]
  },
  {
   "cell_type": "code",
   "execution_count": 21,
   "metadata": {},
   "outputs": [
    {
     "name": "stdout",
     "output_type": "stream",
     "text": [
      "[23:55:42] WARNING: ../src/learner.cc:576: \n",
      "Parameters: { \"n_estimators\" } might not be used.\n",
      "\n",
      "  This could be a false alarm, with some parameters getting used by language bindings but\n",
      "  then being mistakenly passed down to XGBoost core, or some parameter actually being used\n",
      "  but getting flagged wrongly here. Please open an issue if you find any such cases.\n",
      "\n",
      "\n",
      "Tree 1\n",
      "Tree 2\n",
      "Tree 3\n",
      "Tree 4\n",
      "Tree 5\n",
      "Tree 6\n",
      "Tree 7\n",
      "Tree 8\n",
      "Tree 9\n",
      "Tree 10\n",
      "Tree 11\n",
      "Tree 12\n",
      "Tree 13\n",
      "Tree 14\n",
      "Tree 15\n",
      "Tree 16\n",
      "Tree 17\n",
      "Tree 18\n",
      "Tree 19\n",
      "Tree 20\n",
      "Tree 21\n",
      "Tree 22\n",
      "Tree 23\n",
      "Tree 24\n",
      "Tree 25\n",
      "Tree 26\n",
      "Tree 27\n",
      "Tree 28\n",
      "Tree 29\n",
      "Tree 30\n",
      "Tree 31\n",
      "Tree 32\n",
      "Tree 33\n",
      "Tree 34\n",
      "Tree 35\n",
      "Tree 36\n",
      "Tree 37\n",
      "Tree 38\n",
      "Tree 39\n",
      "Tree 40\n",
      "Tree 41\n",
      "Tree 42\n",
      "Tree 43\n",
      "Tree 44\n",
      "Tree 45\n",
      "Tree 46\n",
      "Tree 47\n",
      "Tree 48\n",
      "Tree 49\n",
      "Tree 50\n",
      "Tree 51\n",
      "Tree 52\n",
      "Tree 53\n",
      "Tree 54\n",
      "Tree 55\n",
      "Tree 56\n",
      "Tree 57\n",
      "Tree 58\n",
      "Tree 59\n",
      "Tree 60\n",
      "Tree 61\n",
      "Tree 62\n",
      "Tree 63\n",
      "Tree 64\n",
      "Tree 65\n",
      "Tree 66\n",
      "Tree 67\n",
      "Tree 68\n",
      "Tree 69\n",
      "Tree 70\n",
      "Tree 71\n",
      "Tree 72\n",
      "Tree 73\n",
      "Tree 74\n",
      "Tree 75\n",
      "Tree 76\n",
      "Tree 77\n",
      "Tree 78\n",
      "Tree 79\n",
      "Tree 80\n",
      "Tree 81\n",
      "Tree 82\n",
      "Tree 83\n",
      "Tree 84\n",
      "Tree 85\n",
      "Tree 86\n",
      "Tree 87\n",
      "Tree 88\n",
      "Tree 89\n",
      "Tree 90\n",
      "Tree 91\n",
      "Tree 92\n",
      "Tree 93\n",
      "Tree 94\n",
      "Tree 95\n",
      "Tree 96\n",
      "Tree 97\n",
      "Tree 98\n",
      "Tree 99\n",
      "Tree 100\n",
      "Tree 101\n",
      "Tree 102\n",
      "Tree 103\n",
      "Tree 104\n",
      "Tree 105\n",
      "Tree 106\n",
      "Tree 107\n",
      "Tree 108\n",
      "Tree 109\n",
      "Tree 110\n",
      "Tree 111\n",
      "Tree 112\n",
      "Tree 113\n",
      "Tree 114\n",
      "Tree 115\n",
      "Tree 116\n",
      "Tree 117\n",
      "Tree 118\n",
      "Tree 119\n",
      "Tree 120\n",
      "Tree 121\n",
      "Tree 122\n",
      "Tree 123\n",
      "Tree 124\n",
      "Tree 125\n",
      "Tree 126\n",
      "Tree 127\n",
      "Tree 128\n",
      "Tree 129\n",
      "Tree 130\n",
      "Tree 131\n",
      "Tree 132\n",
      "Tree 133\n",
      "Tree 134\n",
      "Tree 135\n",
      "Tree 136\n",
      "Tree 137\n",
      "Tree 138\n",
      "Tree 139\n",
      "Tree 140\n",
      "Tree 141\n",
      "Tree 142\n",
      "Tree 143\n",
      "Tree 144\n",
      "Tree 145\n",
      "Tree 146\n",
      "Tree 147\n",
      "Tree 148\n",
      "Tree 149\n",
      "Tree 150\n",
      "2790.3457617759705\n"
     ]
    }
   ],
   "source": [
    "#Train a new model on the training data\n",
    "\n",
    "start_time = time.time()\n",
    "\n",
    "xgbmodel = model.fit_withhash(X_train,y_train)\n",
    "\n",
    "print(time.time() - start_time)"
   ]
  },
  {
   "cell_type": "markdown",
   "metadata": {},
   "source": [
    "## Model Validation\n",
    "\n",
    "Having trained our model, we will now evaluate the performance against the validation set. We do this by generating confusion matrices for the model over 100 threshold points, calculating the average precision/ recall and plotting this over these given threshold points."
   ]
  },
  {
   "cell_type": "code",
   "execution_count": 22,
   "metadata": {},
   "outputs": [
    {
     "name": "stdout",
     "output_type": "stream",
     "text": [
      "14.326985836029053\n"
     ]
    }
   ],
   "source": [
    "#calculate our precision recall over 100 threshold points.\n",
    "\n",
    "start_time = time.time()\n",
    "\n",
    "results =  model.aucpr_score(xgbmodel, X_val, y_val)\n",
    "\n",
    "print(time.time() - start_time)"
   ]
  },
  {
   "cell_type": "code",
   "execution_count": 23,
   "metadata": {},
   "outputs": [
    {
     "name": "stdout",
     "output_type": "stream",
     "text": [
      "Threshold 0\n",
      "[[    0 61383]\n",
      " [    0   745]]\n",
      "[[    0 32139]\n",
      " [    0   505]]\n",
      "Threshold 1\n",
      "[[52932  8451]\n",
      " [  624   121]]\n",
      "[[27577  4562]\n",
      " [  310   195]]\n",
      "Threshold 2\n",
      "[[57612  3771]\n",
      " [  686    59]]\n",
      "[[30205  1934]\n",
      " [  373   132]]\n",
      "Threshold 3\n",
      "[[58989  2394]\n",
      " [  707    38]]\n",
      "[[30859  1280]\n",
      " [  399   106]]\n",
      "Threshold 4\n",
      "[[59593  1790]\n",
      " [  718    27]]\n",
      "[[31195   944]\n",
      " [  413    92]]\n",
      "Threshold 5\n",
      "[[60085  1298]\n",
      " [  722    23]]\n",
      "[[31466   673]\n",
      " [  425    80]]\n",
      "Threshold 6\n",
      "[[60339  1044]\n",
      " [  725    20]]\n",
      "[[31590   549]\n",
      " [  439    66]]\n",
      "Threshold 7\n",
      "[[60527   856]\n",
      " [  728    17]]\n",
      "[[31696   443]\n",
      " [  443    62]]\n",
      "Threshold 8\n",
      "[[60641   742]\n",
      " [  730    15]]\n",
      "[[31770   369]\n",
      " [  448    57]]\n",
      "Threshold 9\n",
      "[[60738   645]\n",
      " [  732    13]]\n",
      "[[31821   318]\n",
      " [  453    52]]\n",
      "Threshold 10\n",
      "[[60794   589]\n",
      " [  732    13]]\n",
      "[[31861   278]\n",
      " [  456    49]]\n",
      "Threshold 11\n",
      "[[60847   536]\n",
      " [  734    11]]\n",
      "[[31898   241]\n",
      " [  457    48]]\n",
      "Threshold 12\n",
      "[[60903   480]\n",
      " [  734    11]]\n",
      "[[31928   211]\n",
      " [  461    44]]\n",
      "Threshold 13\n",
      "[[60953   430]\n",
      " [  734    11]]\n",
      "[[31955   184]\n",
      " [  464    41]]\n",
      "Threshold 14\n",
      "[[60990   393]\n",
      " [  734    11]]\n",
      "[[31977   162]\n",
      " [  473    32]]\n",
      "Threshold 15\n",
      "[[61031   352]\n",
      " [  734    11]]\n",
      "[[31995   144]\n",
      " [  474    31]]\n",
      "Threshold 16\n",
      "[[61059   324]\n",
      " [  734    11]]\n",
      "[[32001   138]\n",
      " [  474    31]]\n",
      "Threshold 17\n",
      "[[61092   291]\n",
      " [  735    10]]\n",
      "[[32013   126]\n",
      " [  474    31]]\n",
      "Threshold 18\n",
      "[[61132   251]\n",
      " [  736     9]]\n",
      "[[32022   117]\n",
      " [  481    24]]\n",
      "Threshold 19\n",
      "[[61149   234]\n",
      " [  736     9]]\n",
      "[[32030   109]\n",
      " [  482    23]]\n",
      "Threshold 20\n",
      "[[61171   212]\n",
      " [  736     9]]\n",
      "[[32041    98]\n",
      " [  482    23]]\n",
      "Threshold 21\n",
      "[[61197   186]\n",
      " [  736     9]]\n",
      "[[32050    89]\n",
      " [  483    22]]\n",
      "Threshold 22\n",
      "[[61210   173]\n",
      " [  736     9]]\n",
      "[[32060    79]\n",
      " [  484    21]]\n",
      "Threshold 23\n",
      "[[61222   161]\n",
      " [  738     7]]\n",
      "[[32076    63]\n",
      " [  487    18]]\n",
      "Threshold 24\n",
      "[[61240   143]\n",
      " [  738     7]]\n",
      "[[32086    53]\n",
      " [  488    17]]\n",
      "Threshold 25\n",
      "[[61252   131]\n",
      " [  738     7]]\n",
      "[[32094    45]\n",
      " [  488    17]]\n",
      "Threshold 26\n",
      "[[61260   123]\n",
      " [  741     4]]\n",
      "[[32096    43]\n",
      " [  489    16]]\n",
      "Threshold 27\n",
      "[[61270   113]\n",
      " [  741     4]]\n",
      "[[32098    41]\n",
      " [  490    15]]\n",
      "Threshold 28\n",
      "[[61275   108]\n",
      " [  741     4]]\n",
      "[[32105    34]\n",
      " [  494    11]]\n",
      "Threshold 29\n",
      "[[61277   106]\n",
      " [  741     4]]\n",
      "[[32113    26]\n",
      " [  495    10]]\n",
      "Threshold 30\n",
      "[[61284    99]\n",
      " [  741     4]]\n",
      "[[32117    22]\n",
      " [  497     8]]\n",
      "Threshold 31\n",
      "[[61289    94]\n",
      " [  741     4]]\n",
      "[[32120    19]\n",
      " [  497     8]]\n",
      "Threshold 32\n",
      "[[61296    87]\n",
      " [  741     4]]\n",
      "[[32122    17]\n",
      " [  498     7]]\n",
      "Threshold 33\n",
      "[[61298    85]\n",
      " [  741     4]]\n",
      "[[32124    15]\n",
      " [  498     7]]\n",
      "Threshold 34\n",
      "[[61299    84]\n",
      " [  741     4]]\n",
      "[[32125    14]\n",
      " [  498     7]]\n",
      "Threshold 35\n",
      "[[61304    79]\n",
      " [  741     4]]\n",
      "[[32125    14]\n",
      " [  498     7]]\n",
      "Threshold 36\n",
      "[[61308    75]\n",
      " [  741     4]]\n",
      "[[32127    12]\n",
      " [  501     4]]\n",
      "Threshold 37\n",
      "[[61310    73]\n",
      " [  741     4]]\n",
      "[[32127    12]\n",
      " [  503     2]]\n",
      "Threshold 38\n",
      "[[61313    70]\n",
      " [  742     3]]\n",
      "[[32128    11]\n",
      " [  503     2]]\n",
      "Threshold 39\n",
      "[[61315    68]\n",
      " [  742     3]]\n",
      "[[32128    11]\n",
      " [  503     2]]\n",
      "Threshold 40\n",
      "[[61350    33]\n",
      " [  744     1]]\n",
      "[[32128    11]\n",
      " [  504     1]]\n",
      "Threshold 41\n",
      "[[61354    29]\n",
      " [  744     1]]\n",
      "[[32128    11]\n",
      " [  504     1]]\n",
      "Threshold 42\n",
      "[[61355    28]\n",
      " [  744     1]]\n",
      "[[32129    10]\n",
      " [  504     1]]\n",
      "Threshold 43\n",
      "[[61360    23]\n",
      " [  744     1]]\n",
      "[[32131     8]\n",
      " [  504     1]]\n",
      "Threshold 44\n",
      "[[61362    21]\n",
      " [  744     1]]\n",
      "[[32132     7]\n",
      " [  504     1]]\n",
      "Threshold 45\n",
      "[[61364    19]\n",
      " [  744     1]]\n",
      "[[32132     7]\n",
      " [  504     1]]\n",
      "Threshold 46\n",
      "[[61367    16]\n",
      " [  744     1]]\n",
      "[[32133     6]\n",
      " [  504     1]]\n",
      "Threshold 47\n",
      "[[61367    16]\n",
      " [  744     1]]\n",
      "[[32134     5]\n",
      " [  504     1]]\n",
      "Threshold 48\n",
      "[[61370    13]\n",
      " [  744     1]]\n",
      "[[32134     5]\n",
      " [  504     1]]\n",
      "Threshold 49\n",
      "[[61370    13]\n",
      " [  744     1]]\n",
      "[[32135     4]\n",
      " [  504     1]]\n",
      "Threshold 50\n",
      "[[61370    13]\n",
      " [  744     1]]\n",
      "[[32135     4]\n",
      " [  505     0]]\n",
      "Threshold 51\n",
      "[[61370    13]\n",
      " [  744     1]]\n",
      "[[32137     2]\n",
      " [  505     0]]\n",
      "Threshold 52\n",
      "[[61374     9]\n",
      " [  744     1]]\n",
      "[[32137     2]\n",
      " [  505     0]]\n",
      "Threshold 53\n",
      "[[61374     9]\n",
      " [  744     1]]\n",
      "[[32137     2]\n",
      " [  505     0]]\n",
      "Threshold 54\n",
      "[[61374     9]\n",
      " [  744     1]]\n",
      "[[32138     1]\n",
      " [  505     0]]\n",
      "Threshold 55\n",
      "[[61374     9]\n",
      " [  744     1]]\n",
      "[[32138     1]\n",
      " [  505     0]]\n",
      "Threshold 56\n",
      "[[61374     9]\n",
      " [  744     1]]\n",
      "[[32138     1]\n",
      " [  505     0]]\n",
      "Threshold 57\n",
      "[[61374     9]\n",
      " [  744     1]]\n",
      "[[32138     1]\n",
      " [  505     0]]\n",
      "Threshold 58\n",
      "[[61376     7]\n",
      " [  744     1]]\n",
      "[[32138     1]\n",
      " [  505     0]]\n",
      "Threshold 59\n",
      "[[61377     6]\n",
      " [  744     1]]\n",
      "[[32139     0]\n",
      " [  505     0]]\n",
      "Threshold 60\n",
      "[[61377     6]\n",
      " [  744     1]]\n",
      "[[32139     0]\n",
      " [  505     0]]\n",
      "Threshold 61\n",
      "[[61377     6]\n",
      " [  744     1]]\n",
      "[[32139     0]\n",
      " [  505     0]]\n",
      "Threshold 62\n",
      "[[61378     5]\n",
      " [  744     1]]\n",
      "[[32139     0]\n",
      " [  505     0]]\n",
      "Threshold 63\n",
      "[[61378     5]\n",
      " [  744     1]]\n",
      "[[32139     0]\n",
      " [  505     0]]\n",
      "Threshold 64\n",
      "[[61378     5]\n",
      " [  744     1]]\n",
      "[[32139     0]\n",
      " [  505     0]]\n",
      "Threshold 65\n",
      "[[61378     5]\n",
      " [  744     1]]\n",
      "[[32139     0]\n",
      " [  505     0]]\n",
      "Threshold 66\n",
      "[[61381     2]\n",
      " [  744     1]]\n",
      "[[32139     0]\n",
      " [  505     0]]\n",
      "Threshold 67\n",
      "[[61381     2]\n",
      " [  744     1]]\n",
      "[[32139     0]\n",
      " [  505     0]]\n",
      "Threshold 68\n",
      "[[61381     2]\n",
      " [  744     1]]\n",
      "[[32139     0]\n",
      " [  505     0]]\n",
      "Threshold 69\n",
      "[[61381     2]\n",
      " [  744     1]]\n",
      "[[32139     0]\n",
      " [  505     0]]\n",
      "Threshold 70\n",
      "[[61381     2]\n",
      " [  744     1]]\n",
      "[[32139     0]\n",
      " [  505     0]]\n",
      "Threshold 71\n",
      "[[61382     1]\n",
      " [  744     1]]\n",
      "[[32139     0]\n",
      " [  505     0]]\n",
      "Threshold 72\n",
      "[[61382     1]\n",
      " [  744     1]]\n",
      "[[32139     0]\n",
      " [  505     0]]\n",
      "Threshold 73\n",
      "[[61382     1]\n",
      " [  744     1]]\n",
      "[[32139     0]\n",
      " [  505     0]]\n",
      "Threshold 74\n",
      "[[61382     1]\n",
      " [  744     1]]\n",
      "[[32139     0]\n",
      " [  505     0]]\n",
      "Threshold 75\n",
      "[[61382     1]\n",
      " [  744     1]]\n",
      "[[32139     0]\n",
      " [  505     0]]\n",
      "Threshold 76\n",
      "[[61382     1]\n",
      " [  744     1]]\n",
      "[[32139     0]\n",
      " [  505     0]]\n",
      "Threshold 77\n",
      "[[61382     1]\n",
      " [  744     1]]\n",
      "[[32139     0]\n",
      " [  505     0]]\n",
      "Threshold 78\n",
      "[[61382     1]\n",
      " [  744     1]]\n",
      "[[32139     0]\n",
      " [  505     0]]\n",
      "Threshold 79\n",
      "[[61382     1]\n",
      " [  745     0]]\n",
      "[[32139     0]\n",
      " [  505     0]]\n",
      "Threshold 80\n",
      "[[61382     1]\n",
      " [  745     0]]\n",
      "[[32139     0]\n",
      " [  505     0]]\n",
      "Threshold 81\n",
      "[[61382     1]\n",
      " [  745     0]]\n",
      "[[32139     0]\n",
      " [  505     0]]\n",
      "Threshold 82\n",
      "[[61382     1]\n",
      " [  745     0]]\n",
      "[[32139     0]\n",
      " [  505     0]]\n",
      "Threshold 83\n",
      "[[61382     1]\n",
      " [  745     0]]\n",
      "[[32139     0]\n",
      " [  505     0]]\n",
      "Threshold 84\n",
      "[[61382     1]\n",
      " [  745     0]]\n",
      "[[32139     0]\n",
      " [  505     0]]\n",
      "Threshold 85\n",
      "[[61382     1]\n",
      " [  745     0]]\n",
      "[[32139     0]\n",
      " [  505     0]]\n",
      "Threshold 86\n",
      "[[61382     1]\n",
      " [  745     0]]\n",
      "[[32139     0]\n",
      " [  505     0]]\n",
      "Threshold 87\n",
      "[[61383     0]\n",
      " [  745     0]]\n",
      "[[32139     0]\n",
      " [  505     0]]\n",
      "Threshold 88\n",
      "[[61383     0]\n",
      " [  745     0]]\n",
      "[[32139     0]\n",
      " [  505     0]]\n",
      "Threshold 89\n",
      "[[61383     0]\n",
      " [  745     0]]\n",
      "[[32139     0]\n",
      " [  505     0]]\n",
      "Threshold 90\n",
      "[[61383     0]\n",
      " [  745     0]]\n",
      "[[32139     0]\n",
      " [  505     0]]\n",
      "Threshold 91\n",
      "[[61383     0]\n",
      " [  745     0]]\n",
      "[[32139     0]\n",
      " [  505     0]]\n",
      "Threshold 92\n",
      "[[61383     0]\n",
      " [  745     0]]\n",
      "[[32139     0]\n",
      " [  505     0]]\n",
      "Threshold 93\n",
      "[[61383     0]\n",
      " [  745     0]]\n",
      "[[32139     0]\n",
      " [  505     0]]\n",
      "Threshold 94\n",
      "[[61383     0]\n",
      " [  745     0]]\n",
      "[[32139     0]\n",
      " [  505     0]]\n",
      "Threshold 95\n",
      "[[61383     0]\n",
      " [  745     0]]\n",
      "[[32139     0]\n",
      " [  505     0]]\n",
      "Threshold 96\n",
      "[[61383     0]\n",
      " [  745     0]]\n",
      "[[32139     0]\n",
      " [  505     0]]\n",
      "Threshold 97\n",
      "[[61383     0]\n",
      " [  745     0]]\n",
      "[[32139     0]\n",
      " [  505     0]]\n",
      "Threshold 98\n",
      "[[61383     0]\n",
      " [  745     0]]\n",
      "[[32139     0]\n",
      " [  505     0]]\n",
      "Threshold 99\n",
      "[[61383     0]\n",
      " [  745     0]]\n",
      "[[32139     0]\n",
      " [  505     0]]\n"
     ]
    }
   ],
   "source": [
    "#For each dataset in our X_val set, tally the confusion matrices and calculate the precision\n",
    "\n",
    "\n",
    "precision = []\n",
    "recall = []\n",
    "for i in range(len(results[0][3])):\n",
    "    tmp = [0,0,0,0]\n",
    "    print(\"Threshold \"+str(i))\n",
    "    #combine the confusion matrices for both datasets\n",
    "    for j in range(len(vmids)):\n",
    "    #The confusion matrix is inverted, that's why this is inverted. The negative class is the true class\n",
    "        \n",
    "        print(results[j][3][i])\n",
    "        tmp[0]+=results[j][3][i].ravel()[0]\n",
    "        tmp[1]+=results[j][3][i].ravel()[1]\n",
    "        tmp[2]+=results[j][3][i].ravel()[2]\n",
    "        tmp[3]+=results[j][3][i].ravel()[3]\n",
    "    \n",
    "    if (tmp[3]+tmp[1]) == 0:\n",
    "        prec = 0\n",
    "    else:\n",
    "        prec = tmp[3]/(tmp[3]+tmp[1])\n",
    "    reca = tmp[3]/(tmp[3]+tmp[2])\n",
    "    precision.append(prec)\n",
    "    recall.append(reca)"
   ]
  },
  {
   "cell_type": "code",
   "execution_count": 24,
   "metadata": {},
   "outputs": [
    {
     "data": {
      "text/plain": [
       "0.11342327157795289"
      ]
     },
     "execution_count": 24,
     "metadata": {},
     "output_type": "execute_result"
    }
   ],
   "source": [
    "#Average Precision\n",
    "sum(precision)/len(precision)"
   ]
  },
  {
   "cell_type": "code",
   "execution_count": 25,
   "metadata": {},
   "outputs": [
    {
     "data": {
      "text/plain": [
       "0.026087999999999955"
      ]
     },
     "execution_count": 25,
     "metadata": {},
     "output_type": "execute_result"
    }
   ],
   "source": [
    "#Average Recall\n",
    "sum(recall)/len(recall)"
   ]
  },
  {
   "cell_type": "code",
   "execution_count": 26,
   "metadata": {},
   "outputs": [
    {
     "name": "stdout",
     "output_type": "stream",
     "text": [
      "[0.013189549656016545, 0.02370770500412634, 0.03239484396200814, 0.03771608171817706, 0.041710480196284615, 0.04966248794599807, 0.05122096486003574, 0.057329462989840346, 0.060862214708368556, 0.0632295719844358, 0.06673842841765339, 0.07057416267942583, 0.07372654155495978, 0.07807807807807808, 0.07190635451505016, 0.07806691449814127, 0.08333333333333333, 0.08951965065502183, 0.08229426433915212, 0.08533333333333333, 0.0935672514619883, 0.10130718954248366, 0.10638297872340426, 0.10040160642570281, 0.10909090909090909, 0.12, 0.10752688172043011, 0.10982658959537572, 0.09554140127388536, 0.0958904109589041, 0.09022556390977443, 0.096, 0.09565217391304348, 0.0990990990990991, 0.10091743119266056, 0.10576923076923077, 0.08421052631578947, 0.06593406593406594, 0.05813953488372093, 0.05952380952380952, 0.043478260869565216, 0.047619047619047616, 0.05, 0.06060606060606061, 0.06666666666666667, 0.07142857142857142, 0.08333333333333333, 0.08695652173913043, 0.1, 0.10526315789473684, 0.05555555555555555, 0.0625, 0.08333333333333333, 0.08333333333333333, 0.09090909090909091, 0.09090909090909091, 0.09090909090909091, 0.09090909090909091, 0.1111111111111111, 0.14285714285714285, 0.14285714285714285, 0.14285714285714285, 0.16666666666666666, 0.16666666666666666, 0.16666666666666666, 0.16666666666666666, 0.3333333333333333, 0.3333333333333333, 0.3333333333333333, 0.3333333333333333, 0.3333333333333333, 0.5, 0.5, 0.5, 0.5, 0.5, 0.5, 0.5, 0.5, 0.0, 0.0, 0.0, 0.0, 0.0, 0.0, 0.0, 0.0, 0, 0, 0, 0, 0, 0, 0, 0, 0, 0, 0, 0, 0]\n",
      "[1.0, 0.2528, 0.1528, 0.1152, 0.0952, 0.0824, 0.0688, 0.0632, 0.0576, 0.052, 0.0496, 0.0472, 0.044, 0.0416, 0.0344, 0.0336, 0.0336, 0.0328, 0.0264, 0.0256, 0.0256, 0.0248, 0.024, 0.02, 0.0192, 0.0192, 0.016, 0.0152, 0.012, 0.0112, 0.0096, 0.0096, 0.0088, 0.0088, 0.0088, 0.0088, 0.0064, 0.0048, 0.004, 0.004, 0.0016, 0.0016, 0.0016, 0.0016, 0.0016, 0.0016, 0.0016, 0.0016, 0.0016, 0.0016, 0.0008, 0.0008, 0.0008, 0.0008, 0.0008, 0.0008, 0.0008, 0.0008, 0.0008, 0.0008, 0.0008, 0.0008, 0.0008, 0.0008, 0.0008, 0.0008, 0.0008, 0.0008, 0.0008, 0.0008, 0.0008, 0.0008, 0.0008, 0.0008, 0.0008, 0.0008, 0.0008, 0.0008, 0.0008, 0.0, 0.0, 0.0, 0.0, 0.0, 0.0, 0.0, 0.0, 0.0, 0.0, 0.0, 0.0, 0.0, 0.0, 0.0, 0.0, 0.0, 0.0, 0.0, 0.0, 0.0]\n"
     ]
    },
    {
     "data": {
      "text/plain": [
       "<sklearn.metrics._plot.precision_recall_curve.PrecisionRecallDisplay at 0x7f86cd5692b0>"
      ]
     },
     "execution_count": 26,
     "metadata": {},
     "output_type": "execute_result"
    },
    {
     "data": {
      "image/png": "[encoded data removed]",
      "text/plain": [
       "<Figure size 432x288 with 1 Axes>"
      ]
     },
     "metadata": {
      "needs_background": "light"
     },
     "output_type": "display_data"
    }
   ],
   "source": [
    "import numpy as np\n",
    "# precision = np.append(precision, [1])\n",
    "print(precision)\n",
    "print(recall)\n",
    "from sklearn.metrics import PrecisionRecallDisplay\n",
    "import matplotlib.pyplot as plt\n",
    "disp = PrecisionRecallDisplay(precision=precision, recall=recall)\n",
    "disp.plot()"
   ]
  },
  {
   "cell_type": "markdown",
   "metadata": {},
   "source": [
    "## Prediction and Prediction Explainability \n",
    "\n",
    "In the next section we'll generate some predictions for the SCL test set. With these predictions, we'll also produce shap values to explain the predicitions. First we produce shap plots locally to the remote machine and pull back the created image. This plot includes the data values in the heatmap. This is to be used for diagnosing performance of the model.\n",
    "\n",
    "The second shap function performs shap analysis remotely using the test set and pulls back the shap values, base_values and model expected value to be used on the orchestrator side. We use this to produce the prediction output with shap values csv deliverable."
   ]
  },
  {
   "cell_type": "markdown",
   "metadata": {},
   "source": [
    "### SHAP Plot for model diagnosis"
   ]
  },
  {
   "cell_type": "code",
   "execution_count": null,
   "metadata": {
    "scrolled": true
   },
   "outputs": [],
   "source": [
    "#For each dataset, generate shap images on the local machine, pull back the plots that were generated\n",
    "start_time = time.time()\n",
    "\n",
    "model.model = xgbmodel\n",
    "model.shap(X_test)\n",
    "\n",
    "print(time.time() - start_time)"
   ]
  },
  {
   "cell_type": "markdown",
   "metadata": {},
   "source": [
    "### Create Prediction and Shap Values CSV for GFR"
   ]
  },
  {
   "cell_type": "code",
   "execution_count": null,
   "metadata": {},
   "outputs": [],
   "source": [
    "#Pull in our final set of safe functions\n",
    "from sail.tmp import shap_private, get_tmp_fns\n",
    "\n",
    "tmp_fns = get_tmp_fns()"
   ]
  },
  {
   "cell_type": "code",
   "execution_count": null,
   "metadata": {},
   "outputs": [],
   "source": [
    "#Push these safe functions to the remote VM\n",
    "\n",
    "for vm in vmids:\n",
    "        for key in tmp_fns:\n",
    "            pushsafeobj(vm, tmp_fns[key])"
   ]
  },
  {
   "cell_type": "code",
   "execution_count": null,
   "metadata": {},
   "outputs": [],
   "source": [
    "#Generate predictions for csv file\n",
    "preds = model.predict(X_test)"
   ]
  },
  {
   "cell_type": "code",
   "execution_count": null,
   "metadata": {
    "scrolled": true
   },
   "outputs": [],
   "source": [
    "import pandas as pd\n",
    "\n",
    "y_test_df = RemoteDataFrame(vmids[0], y_test[0], fns)\n",
    "lab = y_test_df.value_counts()\n",
    "temp_index = y_test_df.index\n",
    "temp_index\n",
    "\n",
    "explanation_values, explanation_base_values, expected_value = shap_private(vmids[0], xgbmodel, X_test[0], tmp_fns)\n",
    "\n",
    "customer_guid = []\n",
    "date = []\n",
    "for i in range(0, len(temp_index)):\n",
    "    customer_guid.append(temp_index[i][0])\n",
    "    date.append(temp_index[i][1])\n",
    "\n",
    "# Add references to customer instances\n",
    "df1 = pd.DataFrame()\n",
    "df1['CustomerGUID'] = customer_guid\n",
    "df1['Date'] = date\n",
    "\n",
    "#add predictions\n",
    "df1['Predictions Probabilities'] = 1/(1+ np.exp(-preds[0]))\n",
    "df1['Predictions Log Odds'] = preds[0]\n",
    "df1['SHAP Base Values'] = explanation_base_values\n",
    "\n",
    "#Add Explanation Values\n",
    "df2 = pd.DataFrame()\n",
    "df2 = pd.DataFrame(explanation_values)\n",
    "df2.columns = cols\n",
    "results_for_csv = pd.concat([df1, df2], axis=1, join='inner')\n",
    "results_for_csv.to_csv('./predictions_federated_shap_GFR_test.csv')\n",
    "results_for_csv.head()"
   ]
  },
  {
   "cell_type": "markdown",
   "metadata": {},
   "source": [
    "### Display shap values for model analysis GFR"
   ]
  },
  {
   "cell_type": "code",
   "execution_count": null,
   "metadata": {},
   "outputs": [],
   "source": [
    "import shap\n",
    "\n",
    "explanation = shap.Explanation(explanation_values, base_values=explanation_base_values, feature_names=cols)\n",
    "print(shap.plots.bar(explanation, max_display=len(cols)))\n",
    "print(shap.plots.beeswarm(explanation, max_display=len(cols)))\n",
    "print(shap.decision_plot(expected_value, explanation.values[:50], cols))"
   ]
  },
  {
   "cell_type": "markdown",
   "metadata": {},
   "source": [
    "### Create Prediction and Shap Values CSV for SCL"
   ]
  },
  {
   "cell_type": "code",
   "execution_count": null,
   "metadata": {
    "scrolled": true
   },
   "outputs": [],
   "source": [
    "\n",
    "y_test_df = RemoteDataFrame(vmids[1], y_test[1], fns)\n",
    "lab = y_test_df.value_counts()\n",
    "temp_index = y_test_df.index\n",
    "temp_index\n",
    "\n",
    "explanation_values, explanation_base_values, expected_value = shap_private(vmids[1], xgbmodel, X_test[1], tmp_fns)\n",
    "\n",
    "customer_guid = []\n",
    "date = []\n",
    "for i in range(0, len(temp_index)):\n",
    "    customer_guid.append(temp_index[i][0])\n",
    "    date.append(temp_index[i][1])\n",
    "\n",
    "# Add references to customer instances\n",
    "df1 = pd.DataFrame()\n",
    "df1['CustomerGUID'] = customer_guid\n",
    "df1['Date'] = date\n",
    "\n",
    "#add predictions\n",
    "df1['Predictions Probabilities'] = 1/(1+ np.exp(-preds[1]))\n",
    "df1['Predictions Log Odds'] = preds[1]\n",
    "df1['SHAP Base Values'] = explanation_base_values\n",
    "\n",
    "#Add Explanation Values\n",
    "df2 = pd.DataFrame()\n",
    "df2 = pd.DataFrame(explanation_values)\n",
    "df2.columns = cols\n",
    "results_for_csv = pd.concat([df1, df2], axis=1, join='inner')\n",
    "results_for_csv.to_csv('./predictions_federated_shap_SCL_test.csv')\n",
    "results_for_csv.head()"
   ]
  },
  {
   "cell_type": "markdown",
   "metadata": {},
   "source": [
    "### Display shap values for model analysis SCL"
   ]
  },
  {
   "cell_type": "code",
   "execution_count": null,
   "metadata": {},
   "outputs": [],
   "source": [
    "explanation = shap.Explanation(explanation_values, base_values=explanation_base_values, feature_names=cols)\n",
    "print(shap.plots.bar(explanation, max_display=len(cols)))\n",
    "print(shap.plots.beeswarm(explanation, max_display=len(cols)))\n",
    "print(shap.decision_plot(expected_value, explanation.values[:50], cols))"
   ]
  },
  {
   "cell_type": "code",
   "execution_count": null,
   "metadata": {},
   "outputs": [],
   "source": []
  }
 ],
 "metadata": {
  "kernelspec": {
   "display_name": "Python 3",
   "language": "python",
   "name": "python3"
  },
  "language_info": {
   "codemirror_mode": {
    "name": "ipython",
    "version": 3
   },
   "file_extension": ".py",
   "mimetype": "text/x-python",
   "name": "python",
   "nbconvert_exporter": "python",
   "pygments_lexer": "ipython3",
   "version": "3.8.10"
  }
 },
 "nbformat": 4,
 "nbformat_minor": 5
}
