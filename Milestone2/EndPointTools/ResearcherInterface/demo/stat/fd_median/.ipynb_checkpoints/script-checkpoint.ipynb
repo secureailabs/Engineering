{
 "cells": [
  {
   "cell_type": "code",
   "execution_count": 1,
   "id": "capital-viking",
   "metadata": {},
   "outputs": [],
   "source": [
    "import sail\n",
    "import sys"
   ]
  },
  {
   "cell_type": "code",
   "execution_count": 2,
   "id": "expired-swedish",
   "metadata": {},
   "outputs": [],
   "source": [
    "vm1 = sail.connect(\"127.0.0.1\", 7001, \"marine@terran.com\", \"sailpassword\")\n",
    "vm2 = sail.connect(\"127.0.0.1\", 7002, \"marine@terran.com\", \"sailpassword\")\n",
    "vm3 = sail.connect(\"127.0.0.1\", 7003, \"marine@terran.com\", \"sailpassword\")\n",
    "vms = [vm1, vm2, vm3]\n",
    "num_parties = len(vms)"
   ]
  },
  {
   "cell_type": "code",
   "execution_count": 3,
   "id": "unlike-cuisine",
   "metadata": {},
   "outputs": [],
   "source": [
    "fn_getdata = sail.registerfn(\"fn_gen_data.py\", 0, 0, 1, 1)[0]\n",
    "fn_getheap = sail.registerfn(\"fn_gen_heap.py\", 0, 1, 0, 1)[0]\n",
    "fn_update = sail.registerfn(\"fn_update.py\", 0, 1, 1, 1)[0]\n",
    "fns = [fn_getdata, fn_getheap, fn_update]"
   ]
  },
  {
   "cell_type": "code",
   "execution_count": 4,
   "id": "fatty-atlanta",
   "metadata": {},
   "outputs": [],
   "source": [
    "for vm in vms:\n",
    "    for fn in fns:\n",
    "        sail.pushfn(vm, fn)"
   ]
  },
  {
   "cell_type": "code",
   "execution_count": 5,
   "id": "tight-bunny",
   "metadata": {},
   "outputs": [],
   "source": [
    "dataset = []\n",
    "datasize = []\n",
    "dataheap = []\n",
    "for vm in vms:\n",
    "    jobid1 = sail.newguid()\n",
    "    sail.execjob(vm, fn_getdata, jobid1)\n",
    "    result = sail.pulldata(vm, jobid1, fn_getdata, \"/home/jjj/playground\")\n",
    "    datasize.append(result[0][0])\n",
    "    dataset.append(result[1][0])\n",
    "for i in range(num_parties):\n",
    "    jobid2 = sail.newguid()\n",
    "    sail.pushdata(vms[i], jobid2, fn_getheap, [], [dataset[i]], \"/home/jjj/playground\")\n",
    "    sail.execjob(vms[i], fn_getheap, jobid2)\n",
    "    result = sail.pulldata(vms[i], jobid2, fn_getheap, \"/home/jjj/playground\")\n",
    "    dataheap.append(result[1][0])"
   ]
  },
  {
   "cell_type": "code",
   "execution_count": 6,
   "id": "promotional-passing",
   "metadata": {},
   "outputs": [],
   "source": [
    "totlen = 0\n",
    "for size in datasize:\n",
    "    totlen += size\n",
    "totlen = int(totlen/2)+1"
   ]
  },
  {
   "cell_type": "code",
   "execution_count": 7,
   "id": "utility-recovery",
   "metadata": {},
   "outputs": [],
   "source": [
    "def getminidx(currlist):\n",
    "    idx = 0\n",
    "    minval = float(\"inf\")\n",
    "    for i in range(len(currlist)):\n",
    "        if(currlist[i]<minval):\n",
    "            minval = currlist[i]\n",
    "            idx = i\n",
    "    return idx"
   ]
  },
  {
   "cell_type": "code",
   "execution_count": 8,
   "id": "conventional-tourism",
   "metadata": {},
   "outputs": [
    {
     "name": "stdout",
     "output_type": "stream",
     "text": [
      "0\n",
      "1\n",
      "2\n"
     ]
    }
   ],
   "source": [
    "currlist = []\n",
    "currheap = []\n",
    "median = 0\n",
    "for i in range(num_parties):\n",
    "    jobid3 = sail.newguid()\n",
    "    sail.pushdata(vms[i], jobid3, fn_update, [], [dataheap[i]], \"/home/jjj/playground\")\n",
    "    sail.execjob(vms[i], fn_update, jobid3)\n",
    "    result = sail.pulldata(vms[i], jobid3, fn_update, \"/home/jjj/playground\")\n",
    "    currheap.append(result[1][0])\n",
    "    currlist.append(result[0][0])"
   ]
  },
  {
   "cell_type": "code",
   "execution_count": 9,
   "id": "possible-newton",
   "metadata": {},
   "outputs": [],
   "source": [
    "while(i<totlen):\n",
    "    minidx = getminidx(currlist)\n",
    "    if(len(currheap[minidx])==0):\n",
    "        currlist[minidx] = float(\"inf\")\n",
    "        continue\n",
    "    jobid4 = sail.newguid()\n",
    "    sail.pushdata(vms[minidx], jobid4, fn_update, [], [dataheap[minidx]], \"/home/jjj/playground\")\n",
    "    sail.execjob(vms[minidx], fn_update, jobid4)\n",
    "    result = sail.pulldata(vms[minidx], jobid4, fn_update, \"/home/jjj/playground\")\n",
    "    currheap[minidx] = result[1][0]\n",
    "    currlist[minidx] = result[0][0]\n",
    "    median = result[0][0]\n",
    "    i += 1 "
   ]
  },
  {
   "cell_type": "code",
   "execution_count": 10,
   "id": "important-cement",
   "metadata": {},
   "outputs": [
    {
     "data": {
      "text/plain": [
       "-1.9902980917355964"
      ]
     },
     "execution_count": 10,
     "metadata": {},
     "output_type": "execute_result"
    }
   ],
   "source": [
    "median"
   ]
  },
  {
   "cell_type": "code",
   "execution_count": null,
   "id": "distinct-fiber",
   "metadata": {},
   "outputs": [],
   "source": []
  }
 ],
 "metadata": {
  "kernelspec": {
   "display_name": "Python 3",
   "language": "python",
   "name": "python3"
  },
  "language_info": {
   "codemirror_mode": {
    "name": "ipython",
    "version": 3
   },
   "file_extension": ".py",
   "mimetype": "text/x-python",
   "name": "python",
   "nbconvert_exporter": "python",
   "pygments_lexer": "ipython3",
   "version": "3.8.5"
  }
 },
 "nbformat": 4,
 "nbformat_minor": 5
}
