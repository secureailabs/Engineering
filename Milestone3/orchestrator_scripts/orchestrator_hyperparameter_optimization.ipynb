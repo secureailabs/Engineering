{
 "cells": [
  {
   "cell_type": "code",
   "execution_count": 1,
   "metadata": {},
   "outputs": [],
   "source": [
    "from sail.core import VMSetup, querydata\n",
    "from sail.data import RemoteDataFrame, Utils\n",
    "import time"
   ]
  },
  {
   "cell_type": "code",
   "execution_count": 2,
   "metadata": {},
   "outputs": [
    {
     "name": "stdout",
     "output_type": "stream",
     "text": [
      "[P]safe objects registered\n",
      "[P]login success\n",
      "{\"DigitalContractGuid\": \"{3BFF6633-477E-43D8-B3A3-F3079A1AF10F}\"}\n"
     ]
    },
    {
     "name": "stderr",
     "output_type": "stream",
     "text": [
      "/usr/local/lib/python3.8/dist-packages/urllib3/connectionpool.py:1013: InsecureRequestWarning: Unverified HTTPS request is being made to host '20.185.6.111'. Adding certificate verification is strongly advised. See: https://urllib3.readthedocs.io/en/1.26.x/advanced-usage.html#ssl-warnings\n",
      "  warnings.warn(\n"
     ]
    },
    {
     "name": "stdout",
     "output_type": "stream",
     "text": [
      "['13.88.207.142']\n",
      "{\"DigitalContractGuid\": \"{34E8FF34-2D5E-41C1-ACF4-0106227D88A5}\"}\n"
     ]
    },
    {
     "name": "stderr",
     "output_type": "stream",
     "text": [
      "/usr/local/lib/python3.8/dist-packages/urllib3/connectionpool.py:1013: InsecureRequestWarning: Unverified HTTPS request is being made to host '20.185.6.111'. Adding certificate verification is strongly advised. See: https://urllib3.readthedocs.io/en/1.26.x/advanced-usage.html#ssl-warnings\n",
      "  warnings.warn(\n"
     ]
    },
    {
     "name": "stdout",
     "output_type": "stream",
     "text": [
      "['13.88.207.142', '20.93.140.107']\n",
      "[P]virtual machine connection to ip: 13.88.207.142 success\n",
      "[P]virtual machine connection to ip: 20.93.140.107 success\n",
      "[P]safe object pushed to virtual machines\n",
      "[P]obtain table ids\n"
     ]
    }
   ],
   "source": [
    "#setup the communication with the remote virtual machines with digital contracts\n",
    "so_path = \"/Engineering/Milestone3/EndPointTools/SafeObjectEditor/KPMG/safeobjects\"\n",
    "dc = [{\"DigitalContractGuid\":\"{3BFF6633-477E-43D8-B3A3-F3079A1AF10F}\"}, {\"DigitalContractGuid\":\"{34E8FF34-2D5E-41C1-ACF4-0106227D88A5}\"}]\n",
    "vmids, datasets, fns = VMSetup(dc, \"20.185.6.111\", so_path)"
   ]
  },
  {
   "cell_type": "code",
   "execution_count": 3,
   "metadata": {},
   "outputs": [
    {
     "data": {
      "text/plain": [
       "['{63C66C42-A0D7-4F4F-BFB6-E97B2F426714}',\n",
       " '{FA97939D-04C4-4DC8-87E5-00A121068199}']"
      ]
     },
     "execution_count": 3,
     "metadata": {},
     "output_type": "execute_result"
    }
   ],
   "source": [
    "#obtain virtual machines ids and dataset ids, so we can confirm the datasets are intact and ready for studying\n",
    "vmids"
   ]
  },
  {
   "cell_type": "code",
   "execution_count": 4,
   "metadata": {},
   "outputs": [
    {
     "data": {
      "text/plain": [
       "[{'agreement09nov': '804DD44A900818499D3FA68CDDF1C844',\n",
       "  'agreementMapping': '68DA5CD6CE4D3D4F9E5A33E587B80958',\n",
       "  'contact09nov': '613438CFD17362418C67F98AD9B015B2',\n",
       "  'createReasonMapping': '431F1BD48F684140ADE8FB1BB5A80568',\n",
       "  'payment09nov': '9C47F4F3BBE07B4F89256B1EED3C960D'},\n",
       " {'agreement09nov': 'F6C97A39723D4F478CC06371EB98103B',\n",
       "  'agreementMapping': '1EE7D5340BEFBB40BB21D92CF002A7C6',\n",
       "  'contact09nov': '99FC69A3BEABFB4C865F6B0D594A6173',\n",
       "  'createReasonMapping': '068E2C8F14EC0241968305B80D12F65F',\n",
       "  'payment09nov': '5CDB0CBA5D6D3D4E81A00524D8602448'}]"
      ]
     },
     "execution_count": 4,
     "metadata": {},
     "output_type": "execute_result"
    }
   ],
   "source": [
    "datasets"
   ]
  },
  {
   "cell_type": "code",
   "execution_count": 5,
   "metadata": {},
   "outputs": [
    {
     "data": {
      "text/plain": [
       "[['{5A23038C-3511-4ACE-B645-4F565AB95400}.5C37473C6D3443F49C03CAF0D746B997',\n",
       "  '{746D00A1-1541-4A1B-B4F7-E56A7A6BBC8F}.5C37473C6D3443F49C03CAF0D746B997',\n",
       "  '{13A68BE7-DB42-4DAF-94C2-7C372BC3C552}.5C37473C6D3443F49C03CAF0D746B997',\n",
       "  '{0B0D4EB1-A528-4658-8118-35740A1F99CD}.5C37473C6D3443F49C03CAF0D746B997',\n",
       "  '{ADA30463-6B09-4202-B704-142C02BA52CF}.5C37473C6D3443F49C03CAF0D746B997'],\n",
       " ['{8258F232-7E9B-43E9-8737-DA5DEECE0DBD}.5C37473C6D3443F49C03CAF0D746B997',\n",
       "  '{281880C6-5294-4EAD-99B4-0565C109B400}.5C37473C6D3443F49C03CAF0D746B997',\n",
       "  '{4097C89C-421F-488D-9194-28DE38038067}.5C37473C6D3443F49C03CAF0D746B997',\n",
       "  '{2B64575B-A893-4811-8A3E-96DB774A595D}.5C37473C6D3443F49C03CAF0D746B997',\n",
       "  '{224A1E61-E9AE-401D-9573-B4E5B0592B08}.5C37473C6D3443F49C03CAF0D746B997']]"
      ]
     },
     "execution_count": 5,
     "metadata": {},
     "output_type": "execute_result"
    }
   ],
   "source": [
    "from sail.data import Utils\n",
    "#Prepare for data to be preprocessed\n",
    "u1 = Utils(vmids[0], fns)\n",
    "u2 = Utils(vmids[1], fns)\n",
    "u = [u1, u2]\n",
    "\n",
    "for i in range(2):\n",
    "    for key in datasets[i]:\n",
    "        datasets[i][key] = u[i].read_csv(datasets[i][key])\n",
    "\n",
    "data1 = [datasets[0]['agreement09nov'], datasets[0]['contact09nov'], datasets[0]['payment09nov'], datasets[0]['agreementMapping'], datasets[0]['createReasonMapping']]\n",
    "data2 = [datasets[1]['agreement09nov'], datasets[1]['contact09nov'], datasets[1]['payment09nov'], datasets[1]['agreementMapping'], datasets[1]['createReasonMapping']]\n",
    "data = [data1, data2]\n",
    "#data = [data1]\n",
    "data"
   ]
  },
  {
   "cell_type": "code",
   "execution_count": 6,
   "metadata": {},
   "outputs": [],
   "source": [
    "#Setup parameters for federated xgboost model\n",
    "from sail.algo import fdxgb"
   ]
  },
  {
   "cell_type": "code",
   "execution_count": 7,
   "metadata": {},
   "outputs": [],
   "source": [
    "model = fdxgb(vmids)"
   ]
  },
  {
   "cell_type": "code",
   "execution_count": 8,
   "metadata": {},
   "outputs": [
    {
     "name": "stdout",
     "output_type": "stream",
     "text": [
      "TIME TAKEN:378.3979663848877\n"
     ]
    }
   ],
   "source": [
    "mid_time = time.time()\n",
    "\n",
    "#Preprocess to raw data and obtain the final dataframe \n",
    "processed_data = model.data_preprocessv6(data)\n",
    "\n",
    "print(\"TIME TAKEN:\"+str(time.time() - mid_time))"
   ]
  },
  {
   "cell_type": "code",
   "execution_count": 9,
   "metadata": {},
   "outputs": [
    {
     "data": {
      "text/plain": [
       "[['{EE60BF3B-5E6D-46C0-A187-2EE1E3D1C46D}.22781F1189EE4A59811FC87A58F87FE1',\n",
       "  '{EE60BF3B-5E6D-46C0-A187-2EE1E3D1C46D}.A25D92AC2CE3419183BA2D2DC327853E',\n",
       "  '{EE60BF3B-5E6D-46C0-A187-2EE1E3D1C46D}.1D45849AE8E348AC9E0E1D327963720B',\n",
       "  '{EE60BF3B-5E6D-46C0-A187-2EE1E3D1C46D}.DFF3006247B84C48B8F6566A1FBCF450',\n",
       "  '{EE60BF3B-5E6D-46C0-A187-2EE1E3D1C46D}.04791A2940C246C9BFF33BD8CEAC5A4E',\n",
       "  '{EE60BF3B-5E6D-46C0-A187-2EE1E3D1C46D}.E0C8C95A43FE48A980DD74EB94B50D52',\n",
       "  '{EE60BF3B-5E6D-46C0-A187-2EE1E3D1C46D}.0BF4AC222C15496884B65150893F2BBA',\n",
       "  '{EE60BF3B-5E6D-46C0-A187-2EE1E3D1C46D}.E87E761B37B14F8CA829CC9558A3B22E',\n",
       "  '{EE60BF3B-5E6D-46C0-A187-2EE1E3D1C46D}.A532E0888F9943A3AE5CDD8EEA16A5C8',\n",
       "  '{EE60BF3B-5E6D-46C0-A187-2EE1E3D1C46D}.178301F3D4C54CFF838BB97729BD0D96'],\n",
       " ['{72144788-83DA-4120-B75D-FA58626E124F}.22781F1189EE4A59811FC87A58F87FE1',\n",
       "  '{72144788-83DA-4120-B75D-FA58626E124F}.A25D92AC2CE3419183BA2D2DC327853E',\n",
       "  '{72144788-83DA-4120-B75D-FA58626E124F}.1D45849AE8E348AC9E0E1D327963720B',\n",
       "  '{72144788-83DA-4120-B75D-FA58626E124F}.DFF3006247B84C48B8F6566A1FBCF450',\n",
       "  '{72144788-83DA-4120-B75D-FA58626E124F}.04791A2940C246C9BFF33BD8CEAC5A4E',\n",
       "  '{72144788-83DA-4120-B75D-FA58626E124F}.E0C8C95A43FE48A980DD74EB94B50D52',\n",
       "  '{72144788-83DA-4120-B75D-FA58626E124F}.0BF4AC222C15496884B65150893F2BBA',\n",
       "  '{72144788-83DA-4120-B75D-FA58626E124F}.E87E761B37B14F8CA829CC9558A3B22E',\n",
       "  '{72144788-83DA-4120-B75D-FA58626E124F}.A532E0888F9943A3AE5CDD8EEA16A5C8',\n",
       "  '{72144788-83DA-4120-B75D-FA58626E124F}.178301F3D4C54CFF838BB97729BD0D96']]"
      ]
     },
     "execution_count": 9,
     "metadata": {},
     "output_type": "execute_result"
    }
   ],
   "source": [
    "processed_data"
   ]
  },
  {
   "cell_type": "code",
   "execution_count": 10,
   "metadata": {},
   "outputs": [],
   "source": [
    "#[y_val, y_test, X_val, X_test, X_train, y_train, X_train_val, y_train_val]\n",
    "X_train = [processed_data[0][0],processed_data[1][0]]\n",
    "y_train = [processed_data[0][1],processed_data[1][1]]\n",
    "X_val = [processed_data[0][2],processed_data[1][2]]\n",
    "y_val = [processed_data[0][3],processed_data[1][3]]\n",
    "X_train_val = [processed_data[0][4],processed_data[1][4]]\n",
    "y_train_val = [processed_data[0][5],processed_data[1][5]]\n",
    "X_test = [processed_data[0][6],processed_data[1][6]]\n",
    "y_test = [processed_data[0][7],processed_data[1][7]]"
   ]
  },
  {
   "cell_type": "code",
   "execution_count": 11,
   "metadata": {},
   "outputs": [
    {
     "name": "stdout",
     "output_type": "stream",
     "text": [
      "TIME TAKEN:2.0031886100769043\n"
     ]
    }
   ],
   "source": [
    "mid_time = time.time()\n",
    "\n",
    "rdf = RemoteDataFrame(vmids[0], X_train[0], fns)\n",
    "cols = rdf.columns\n",
    "cols\n",
    "print(\"TIME TAKEN:\"+str(time.time() - mid_time))"
   ]
  },
  {
   "cell_type": "code",
   "execution_count": 12,
   "metadata": {},
   "outputs": [],
   "source": [
    "import statistics\n",
    "import optuna\n",
    "\n",
    "def objective(trial, fdxgbmod, X_train, y_train, X_val, y_val):\n",
    "    from sklearn.model_selection import cross_val_score\n",
    "    from sklearn.metrics import auc\n",
    "    import numpy as np\n",
    "    \n",
    "    mid_time = time.time()\n",
    "    \n",
    "    #trial partameter values\n",
    "    learning_rate = trial.suggest_uniform('learning_rate', 0, 0.1)\n",
    "    max_depth = trial.suggest_int('max_depth', 5, 10, step=1)\n",
    "    max_delta_step = trial.suggest_int('max_delta_step', 10, 20, step=1)\n",
    "    subsample = trial.suggest_uniform('subsample', 0.5, 1)\n",
    "    colsample_bytree = trial.suggest_uniform('colsample_bytree', 0.1, 0.5)\n",
    "    colsample_bylevel = trial.suggest_uniform('colsample_bylevel', 0.5, 1.0)\n",
    "    reg_lambda = trial.suggest_int('reg_lambda', 50, 100, step=2)\n",
    "    reg_alpha = trial.suggest_uniform('reg_alpha', 1e-6, 1e-5)\n",
    "    gamma = trial.suggest_uniform('gamma', 1e-9, 1e-8)\n",
    "    n_estimators = trial.suggest_int('n_estimators', 100, 200, step=2)\n",
    "    scale_pos_weight = trial.suggest_uniform('scale_pos_weight', 5, 15)\n",
    "\n",
    "    \n",
    "    model_params = {\n",
    "        \"colsample_bylevel\": colsample_bylevel,\n",
    "        \"colsample_bytree\": colsample_bytree,\n",
    "        \"gamma\": gamma,\n",
    "        \"learning_rate\": learning_rate,\n",
    "        \"max_delta_step\": max_delta_step,\n",
    "        \"max_depth\": max_depth,\n",
    "        \"n_estimators\": n_estimators,\n",
    "        \"reg_alpha\": reg_alpha,\n",
    "        \"reg_lambda\": reg_lambda,\n",
    "        \"subsample\": subsample,\n",
    "        \"scale_pos_weight\": scale_pos_weight\n",
    "        }\n",
    "\n",
    "    #train the a new model\n",
    "    fdxgbmod.params =  model_params\n",
    "    model_tmp = model.fit_withhash(X_train,y_train)\n",
    "    \n",
    "    #evaluate the model in terms of accuracy\n",
    "    results =  fdxgbmod.aucpr_score(model_tmp, X_val, y_val)\n",
    "    precision = results[0][0]\n",
    "    recall = results[0][2]\n",
    "    \n",
    "    recall = np.append(recall, [1])    \n",
    "    \n",
    "    #calculate area under curve\n",
    "    auc_precision_recall = auc(recall, precision)\n",
    "    \n",
    "    print(\"AUC:\"+str(auc_precision_recall))\n",
    "    print(\"TIME TAKEN:\"+str(time.time() - mid_time))\n",
    "    #return area under curve\n",
    "    return auc_precision_recall"
   ]
  },
  {
   "cell_type": "code",
   "execution_count": 13,
   "metadata": {},
   "outputs": [],
   "source": [
    "# xgbmodel = model.fit_withhash(X_train,y_train)\n",
    "#xgbmodel = model.fit(X_train,y_train)"
   ]
  },
  {
   "cell_type": "code",
   "execution_count": 14,
   "metadata": {},
   "outputs": [
    {
     "name": "stderr",
     "output_type": "stream",
     "text": [
      "\u001b[32m[I 2021-11-28 06:33:29,151]\u001b[0m A new study created in memory with name: no-name-a09a83a5-7b8b-44c3-9ff1-b9133e40c76d\u001b[0m\n"
     ]
    },
    {
     "name": "stdout",
     "output_type": "stream",
     "text": [
      "[06:33:29] WARNING: ../src/learner.cc:576: \n",
      "Parameters: { \"n_estimators\" } might not be used.\n",
      "\n",
      "  This could be a false alarm, with some parameters getting used by language bindings but\n",
      "  then being mistakenly passed down to XGBoost core, or some parameter actually being used\n",
      "  but getting flagged wrongly here. Please open an issue if you find any such cases.\n",
      "\n",
      "\n",
      "Tree 1\n",
      "Tree 2\n",
      "Tree 3\n",
      "Tree 4\n",
      "Tree 5\n",
      "Tree 6\n",
      "Tree 7\n",
      "Tree 8\n",
      "Tree 9\n",
      "Tree 10\n",
      "Tree 11\n",
      "Tree 12\n",
      "Tree 13\n",
      "Tree 14\n",
      "Tree 15\n",
      "Tree 16\n",
      "Tree 17\n",
      "Tree 18\n",
      "Tree 19\n",
      "Tree 20\n",
      "Tree 21\n",
      "Tree 22\n",
      "Tree 23\n",
      "Tree 24\n",
      "Tree 25\n",
      "Tree 26\n",
      "Tree 27\n",
      "Tree 28\n",
      "Tree 29\n",
      "Tree 30\n",
      "Tree 31\n",
      "Tree 32\n",
      "Tree 33\n",
      "Tree 34\n",
      "Tree 35\n",
      "Tree 36\n",
      "Tree 37\n",
      "Tree 38\n",
      "Tree 39\n",
      "Tree 40\n",
      "Tree 41\n",
      "Tree 42\n",
      "Tree 43\n",
      "Tree 44\n",
      "Tree 45\n",
      "Tree 46\n",
      "Tree 47\n",
      "Tree 48\n",
      "Tree 49\n",
      "Tree 50\n",
      "Tree 51\n",
      "Tree 52\n",
      "Tree 53\n",
      "Tree 54\n",
      "Tree 55\n",
      "Tree 56\n",
      "Tree 57\n",
      "Tree 58\n",
      "Tree 59\n",
      "Tree 60\n",
      "Tree 61\n",
      "Tree 62\n",
      "Tree 63\n",
      "Tree 64\n",
      "Tree 65\n",
      "Tree 66\n",
      "Tree 67\n",
      "Tree 68\n",
      "Tree 69\n",
      "Tree 70\n",
      "Tree 71\n",
      "Tree 72\n",
      "Tree 73\n",
      "Tree 74\n",
      "Tree 75\n",
      "Tree 76\n",
      "Tree 77\n",
      "Tree 78\n",
      "Tree 79\n",
      "Tree 80\n",
      "Tree 81\n",
      "Tree 82\n",
      "Tree 83\n",
      "Tree 84\n",
      "Tree 85\n",
      "Tree 86\n",
      "Tree 87\n",
      "Tree 88\n",
      "Tree 89\n",
      "Tree 90\n",
      "Tree 91\n",
      "Tree 92\n",
      "Tree 93\n",
      "Tree 94\n",
      "Tree 95\n",
      "Tree 96\n",
      "Tree 97\n",
      "Tree 98\n",
      "Tree 99\n",
      "Tree 100\n",
      "Tree 101\n",
      "Tree 102\n",
      "Tree 103\n",
      "Tree 104\n",
      "Tree 105\n",
      "Tree 106\n",
      "Tree 107\n",
      "Tree 108\n",
      "Tree 109\n",
      "Tree 110\n",
      "Tree 111\n",
      "Tree 112\n",
      "Tree 113\n",
      "Tree 114\n",
      "Tree 115\n",
      "Tree 116\n",
      "Tree 117\n",
      "Tree 118\n",
      "Tree 119\n",
      "Tree 120\n",
      "Tree 121\n",
      "Tree 122\n",
      "Tree 123\n",
      "Tree 124\n",
      "Tree 125\n",
      "Tree 126\n",
      "Tree 127\n",
      "Tree 128\n",
      "Tree 129\n",
      "Tree 130\n",
      "Tree 131\n",
      "Tree 132\n",
      "Tree 133\n",
      "Tree 134\n",
      "Tree 135\n",
      "Tree 136\n",
      "Tree 137\n",
      "Tree 138\n",
      "Tree 139\n",
      "Tree 140\n",
      "Tree 141\n",
      "Tree 142\n",
      "Tree 143\n",
      "Tree 144\n",
      "Tree 145\n",
      "Tree 146\n",
      "Tree 147\n",
      "Tree 148\n",
      "Tree 149\n",
      "Tree 150\n",
      "Tree 151\n",
      "Tree 152\n",
      "Tree 153\n",
      "Tree 154\n",
      "Tree 155\n",
      "Tree 156\n",
      "Tree 157\n",
      "Tree 158\n",
      "Tree 159\n",
      "Tree 160\n",
      "Tree 161\n",
      "Tree 162\n",
      "Tree 163\n",
      "Tree 164\n",
      "Tree 165\n",
      "Tree 166\n",
      "Tree 167\n",
      "Tree 168\n",
      "Tree 169\n",
      "Tree 170\n",
      "Tree 171\n",
      "Tree 172\n",
      "Tree 173\n",
      "Tree 174\n",
      "Tree 175\n",
      "Tree 176\n",
      "Tree 177\n",
      "Tree 178\n",
      "Tree 179\n",
      "Tree 180\n",
      "Tree 181\n",
      "Tree 182\n",
      "Tree 183\n",
      "Tree 184\n",
      "Tree 185\n",
      "Tree 186\n",
      "Tree 187\n",
      "Tree 188\n"
     ]
    },
    {
     "name": "stderr",
     "output_type": "stream",
     "text": [
      "\u001b[32m[I 2021-11-28 07:16:06,825]\u001b[0m Trial 0 finished with value: 0.4197881677241034 and parameters: {'learning_rate': 0.03823393188715621, 'max_depth': 6, 'max_delta_step': 19, 'subsample': 0.8420204183167326, 'colsample_bytree': 0.39069945835802855, 'colsample_bylevel': 0.5874007305158777, 'reg_lambda': 90, 'reg_alpha': 7.400596507711234e-06, 'gamma': 3.6556343125417354e-09, 'n_estimators': 188, 'scale_pos_weight': 5.013038412971277}. Best is trial 0 with value: 0.4197881677241034.\u001b[0m\n"
     ]
    },
    {
     "name": "stdout",
     "output_type": "stream",
     "text": [
      "AUC:0.4197881677241034\n",
      "TIME TAKEN:2557.6726381778717\n",
      "[07:16:06] WARNING: ../src/learner.cc:576: \n",
      "Parameters: { \"n_estimators\" } might not be used.\n",
      "\n",
      "  This could be a false alarm, with some parameters getting used by language bindings but\n",
      "  then being mistakenly passed down to XGBoost core, or some parameter actually being used\n",
      "  but getting flagged wrongly here. Please open an issue if you find any such cases.\n",
      "\n",
      "\n",
      "Tree 1\n",
      "Tree 2\n",
      "Tree 3\n",
      "Tree 4\n",
      "Tree 5\n",
      "Tree 6\n",
      "Tree 7\n",
      "Tree 8\n",
      "Tree 9\n",
      "Tree 10\n",
      "Tree 11\n",
      "Tree 12\n",
      "Tree 13\n",
      "Tree 14\n",
      "Tree 15\n",
      "Tree 16\n",
      "Tree 17\n",
      "Tree 18\n",
      "Tree 19\n",
      "Tree 20\n",
      "Tree 21\n",
      "Tree 22\n",
      "Tree 23\n",
      "Tree 24\n",
      "Tree 25\n",
      "Tree 26\n",
      "Tree 27\n",
      "Tree 28\n",
      "Tree 29\n",
      "Tree 30\n",
      "Tree 31\n",
      "Tree 32\n",
      "Tree 33\n",
      "Tree 34\n",
      "Tree 35\n",
      "Tree 36\n",
      "Tree 37\n",
      "Tree 38\n",
      "Tree 39\n",
      "Tree 40\n",
      "Tree 41\n",
      "Tree 42\n",
      "Tree 43\n",
      "Tree 44\n",
      "Tree 45\n",
      "Tree 46\n",
      "Tree 47\n",
      "Tree 48\n",
      "Tree 49\n",
      "Tree 50\n",
      "Tree 51\n",
      "Tree 52\n",
      "Tree 53\n",
      "Tree 54\n",
      "Tree 55\n",
      "Tree 56\n",
      "Tree 57\n",
      "Tree 58\n",
      "Tree 59\n",
      "Tree 60\n",
      "Tree 61\n",
      "Tree 62\n",
      "Tree 63\n",
      "Tree 64\n",
      "Tree 65\n",
      "Tree 66\n",
      "Tree 67\n",
      "Tree 68\n",
      "Tree 69\n",
      "Tree 70\n",
      "Tree 71\n",
      "Tree 72\n",
      "Tree 73\n",
      "Tree 74\n",
      "Tree 75\n",
      "Tree 76\n",
      "Tree 77\n",
      "Tree 78\n",
      "Tree 79\n",
      "Tree 80\n",
      "Tree 81\n",
      "Tree 82\n",
      "Tree 83\n",
      "Tree 84\n",
      "Tree 85\n",
      "Tree 86\n",
      "Tree 87\n",
      "Tree 88\n",
      "Tree 89\n",
      "Tree 90\n",
      "Tree 91\n",
      "Tree 92\n",
      "Tree 93\n",
      "Tree 94\n",
      "Tree 95\n",
      "Tree 96\n",
      "Tree 97\n",
      "Tree 98\n",
      "Tree 99\n",
      "Tree 100\n",
      "Tree 101\n",
      "Tree 102\n",
      "Tree 103\n",
      "Tree 104\n",
      "Tree 105\n",
      "Tree 106\n",
      "Tree 107\n",
      "Tree 108\n",
      "Tree 109\n",
      "Tree 110\n"
     ]
    },
    {
     "name": "stderr",
     "output_type": "stream",
     "text": [
      "\u001b[32m[I 2021-11-28 07:40:03,116]\u001b[0m Trial 1 finished with value: 0.9255339389600966 and parameters: {'learning_rate': 0.08502320041936406, 'max_depth': 6, 'max_delta_step': 11, 'subsample': 0.8243153863000665, 'colsample_bytree': 0.15498261427131974, 'colsample_bylevel': 0.5767484890635408, 'reg_lambda': 68, 'reg_alpha': 5.8587081944382525e-06, 'gamma': 6.954746538238729e-09, 'n_estimators': 110, 'scale_pos_weight': 7.9894942079588755}. Best is trial 1 with value: 0.9255339389600966.\u001b[0m\n"
     ]
    },
    {
     "name": "stdout",
     "output_type": "stream",
     "text": [
      "AUC:0.9255339389600966\n",
      "TIME TAKEN:1436.289720773697\n",
      "[07:40:03] WARNING: ../src/learner.cc:576: \n",
      "Parameters: { \"n_estimators\" } might not be used.\n",
      "\n",
      "  This could be a false alarm, with some parameters getting used by language bindings but\n",
      "  then being mistakenly passed down to XGBoost core, or some parameter actually being used\n",
      "  but getting flagged wrongly here. Please open an issue if you find any such cases.\n",
      "\n",
      "\n",
      "Tree 1\n",
      "Tree 2\n",
      "Tree 3\n",
      "Tree 4\n",
      "Tree 5\n",
      "Tree 6\n",
      "Tree 7\n",
      "Tree 8\n",
      "Tree 9\n",
      "Tree 10\n",
      "Tree 11\n",
      "Tree 12\n",
      "Tree 13\n",
      "Tree 14\n",
      "Tree 15\n",
      "Tree 16\n",
      "Tree 17\n",
      "Tree 18\n",
      "Tree 19\n",
      "Tree 20\n",
      "Tree 21\n",
      "Tree 22\n",
      "Tree 23\n",
      "Tree 24\n",
      "Tree 25\n",
      "Tree 26\n",
      "Tree 27\n",
      "Tree 28\n",
      "Tree 29\n",
      "Tree 30\n",
      "Tree 31\n",
      "Tree 32\n",
      "Tree 33\n",
      "Tree 34\n",
      "Tree 35\n",
      "Tree 36\n",
      "Tree 37\n",
      "Tree 38\n",
      "Tree 39\n",
      "Tree 40\n",
      "Tree 41\n",
      "Tree 42\n",
      "Tree 43\n",
      "Tree 44\n",
      "Tree 45\n",
      "Tree 46\n",
      "Tree 47\n",
      "Tree 48\n",
      "Tree 49\n",
      "Tree 50\n",
      "Tree 51\n",
      "Tree 52\n",
      "Tree 53\n",
      "Tree 54\n",
      "Tree 55\n",
      "Tree 56\n",
      "Tree 57\n",
      "Tree 58\n",
      "Tree 59\n",
      "Tree 60\n",
      "Tree 61\n",
      "Tree 62\n",
      "Tree 63\n",
      "Tree 64\n",
      "Tree 65\n",
      "Tree 66\n",
      "Tree 67\n",
      "Tree 68\n",
      "Tree 69\n",
      "Tree 70\n",
      "Tree 71\n",
      "Tree 72\n",
      "Tree 73\n",
      "Tree 74\n",
      "Tree 75\n",
      "Tree 76\n",
      "Tree 77\n",
      "Tree 78\n",
      "Tree 79\n",
      "Tree 80\n",
      "Tree 81\n",
      "Tree 82\n",
      "Tree 83\n",
      "Tree 84\n",
      "Tree 85\n",
      "Tree 86\n",
      "Tree 87\n",
      "Tree 88\n",
      "Tree 89\n",
      "Tree 90\n",
      "Tree 91\n",
      "Tree 92\n",
      "Tree 93\n",
      "Tree 94\n",
      "Tree 95\n",
      "Tree 96\n",
      "Tree 97\n",
      "Tree 98\n",
      "Tree 99\n",
      "Tree 100\n",
      "Tree 101\n",
      "Tree 102\n",
      "Tree 103\n",
      "Tree 104\n",
      "Tree 105\n",
      "Tree 106\n",
      "Tree 107\n",
      "Tree 108\n",
      "Tree 109\n",
      "Tree 110\n",
      "Tree 111\n",
      "Tree 112\n",
      "Tree 113\n",
      "Tree 114\n",
      "Tree 115\n",
      "Tree 116\n",
      "Tree 117\n",
      "Tree 118\n",
      "Tree 119\n",
      "Tree 120\n",
      "Tree 121\n",
      "Tree 122\n",
      "Tree 123\n",
      "Tree 124\n",
      "Tree 125\n",
      "Tree 126\n",
      "Tree 127\n",
      "Tree 128\n",
      "Tree 129\n",
      "Tree 130\n",
      "Tree 131\n",
      "Tree 132\n",
      "Tree 133\n",
      "Tree 134\n",
      "Tree 135\n",
      "Tree 136\n",
      "Tree 137\n",
      "Tree 138\n",
      "Tree 139\n",
      "Tree 140\n",
      "Tree 141\n",
      "Tree 142\n",
      "Tree 143\n",
      "Tree 144\n",
      "Tree 145\n",
      "Tree 146\n",
      "Tree 147\n",
      "Tree 148\n",
      "Tree 149\n",
      "Tree 150\n",
      "Tree 151\n",
      "Tree 152\n",
      "Tree 153\n",
      "Tree 154\n",
      "Tree 155\n",
      "Tree 156\n",
      "Tree 157\n",
      "Tree 158\n",
      "Tree 159\n",
      "Tree 160\n",
      "Tree 161\n",
      "Tree 162\n",
      "Tree 163\n",
      "Tree 164\n",
      "Tree 165\n",
      "Tree 166\n",
      "Tree 167\n",
      "Tree 168\n",
      "Tree 169\n",
      "Tree 170\n",
      "Tree 171\n",
      "Tree 172\n",
      "Tree 173\n",
      "Tree 174\n",
      "Tree 175\n",
      "Tree 176\n",
      "Tree 177\n",
      "Tree 178\n",
      "Tree 179\n",
      "Tree 180\n",
      "Tree 181\n",
      "Tree 182\n"
     ]
    },
    {
     "name": "stderr",
     "output_type": "stream",
     "text": [
      "\u001b[32m[I 2021-11-28 08:21:33,277]\u001b[0m Trial 2 finished with value: 0.44062589983602574 and parameters: {'learning_rate': 0.033045126242286095, 'max_depth': 5, 'max_delta_step': 13, 'subsample': 0.7641500760083224, 'colsample_bytree': 0.21208007005324592, 'colsample_bylevel': 0.8859015278420416, 'reg_lambda': 56, 'reg_alpha': 8.70898470707507e-06, 'gamma': 1.9215766647557677e-09, 'n_estimators': 182, 'scale_pos_weight': 14.398837331294374}. Best is trial 1 with value: 0.9255339389600966.\u001b[0m\n"
     ]
    },
    {
     "name": "stdout",
     "output_type": "stream",
     "text": [
      "AUC:0.44062589983602574\n",
      "TIME TAKEN:2490.159247636795\n",
      "6484.127410650253\n"
     ]
    }
   ],
   "source": [
    "mid_time = time.time()\n",
    "\n",
    "model.feature_num = len(cols)\n",
    "study = optuna.create_study(direction=\"maximize\")\n",
    "\n",
    "n=3\n",
    "study.optimize(lambda trial: objective(trial, model, X_train, y_train, X_val, y_val ), n_trials=n)\n",
    "\n",
    "print(time.time() - mid_time)"
   ]
  },
  {
   "cell_type": "code",
   "execution_count": 15,
   "metadata": {},
   "outputs": [
    {
     "name": "stdout",
     "output_type": "stream",
     "text": [
      "Best score: 0.9255339389600966\n",
      "\n",
      "Optimized parameters: {'learning_rate': 0.08502320041936406, 'max_depth': 6, 'max_delta_step': 11, 'subsample': 0.8243153863000665, 'colsample_bytree': 0.15498261427131974, 'colsample_bylevel': 0.5767484890635408, 'reg_lambda': 68, 'reg_alpha': 5.8587081944382525e-06, 'gamma': 6.954746538238729e-09, 'n_estimators': 110, 'scale_pos_weight': 7.9894942079588755}\n",
      "\n"
     ]
    }
   ],
   "source": [
    "best_params = study.best_params\n",
    "best_score = study.best_value\n",
    "print(f\"Best score: {best_score}\\n\")\n",
    "print(f\"Optimized parameters: {best_params}\\n\")"
   ]
  },
  {
   "cell_type": "code",
   "execution_count": 21,
   "metadata": {
    "scrolled": true
   },
   "outputs": [
    {
     "name": "stderr",
     "output_type": "stream",
     "text": [
      "<ipython-input-21-ac243543a9b5>:1: ExperimentalWarning: plot_slice is experimental (supported from v2.2.0). The interface can change in the future.\n",
      "  optuna.visualization.matplotlib.plot_slice(study)\n"
     ]
    },
    {
     "data": {
      "text/plain": [
       "array([<AxesSubplot:xlabel='colsample_bylevel', ylabel='Objective Value'>,\n",
       "       <AxesSubplot:xlabel='colsample_bytree'>,\n",
       "       <AxesSubplot:xlabel='gamma'>, <AxesSubplot:xlabel='learning_rate'>,\n",
       "       <AxesSubplot:xlabel='max_delta_step'>,\n",
       "       <AxesSubplot:xlabel='max_depth'>,\n",
       "       <AxesSubplot:xlabel='n_estimators'>,\n",
       "       <AxesSubplot:xlabel='reg_alpha'>,\n",
       "       <AxesSubplot:xlabel='reg_lambda'>,\n",
       "       <AxesSubplot:xlabel='scale_pos_weight'>,\n",
       "       <AxesSubplot:xlabel='subsample'>], dtype=object)"
      ]
     },
     "execution_count": 21,
     "metadata": {},
     "output_type": "execute_result"
    },
    {
     "data": {
      "image/png": "[encoded data removed]",
      "text/plain": [
       "<Figure size 2376x288 with 12 Axes>"
      ]
     },
     "metadata": {},
     "output_type": "display_data"
    }
   ],
   "source": [
    "optuna.visualization.matplotlib.plot_slice(study)"
   ]
  },
  {
   "cell_type": "code",
   "execution_count": 22,
   "metadata": {
    "scrolled": true
   },
   "outputs": [
    {
     "name": "stderr",
     "output_type": "stream",
     "text": [
      "<ipython-input-22-93837a46823f>:1: ExperimentalWarning: plot_edf is experimental (supported from v2.2.0). The interface can change in the future.\n",
      "  optuna.visualization.matplotlib.plot_edf([study])\n"
     ]
    },
    {
     "data": {
      "text/plain": [
       "<AxesSubplot:title={'center':'Empirical Distribution Function Plot'}, xlabel='Objective Value', ylabel='Cumulative Probability'>"
      ]
     },
     "execution_count": 22,
     "metadata": {},
     "output_type": "execute_result"
    },
    {
     "data": {
      "image/png": "[encoded data removed]",
      "text/plain": [
       "<Figure size 432x288 with 1 Axes>"
      ]
     },
     "metadata": {},
     "output_type": "display_data"
    }
   ],
   "source": [
    "optuna.visualization.matplotlib.plot_edf([study])"
   ]
  },
  {
   "cell_type": "code",
   "execution_count": 24,
   "metadata": {
    "scrolled": true
   },
   "outputs": [
    {
     "name": "stderr",
     "output_type": "stream",
     "text": [
      "<ipython-input-24-471f79a759ba>:1: ExperimentalWarning: plot_optimization_history is experimental (supported from v2.2.0). The interface can change in the future.\n",
      "  optuna.visualization.matplotlib.plot_optimization_history(study)\n"
     ]
    },
    {
     "data": {
      "text/plain": [
       "<AxesSubplot:title={'center':'Optimization History Plot'}, xlabel='#Trials', ylabel='Objective Value'>"
      ]
     },
     "execution_count": 24,
     "metadata": {},
     "output_type": "execute_result"
    },
    {
     "data": {
      "image/png": "[encoded data removed]",
      "text/plain": [
       "<Figure size 432x288 with 1 Axes>"
      ]
     },
     "metadata": {},
     "output_type": "display_data"
    }
   ],
   "source": [
    "optuna.visualization.matplotlib.plot_optimization_history(study)"
   ]
  },
  {
   "cell_type": "code",
   "execution_count": 25,
   "metadata": {
    "scrolled": true
   },
   "outputs": [
    {
     "name": "stderr",
     "output_type": "stream",
     "text": [
      "<ipython-input-25-a5c7740d20da>:1: ExperimentalWarning: plot_param_importances is experimental (supported from v2.2.0). The interface can change in the future.\n",
      "  optuna.visualization.matplotlib.plot_param_importances(study)\n"
     ]
    },
    {
     "data": {
      "text/plain": [
       "<AxesSubplot:title={'center':'Hyperparameter Importances'}, xlabel='Importance for Objective Value', ylabel='Hyperparameter'>"
      ]
     },
     "execution_count": 25,
     "metadata": {},
     "output_type": "execute_result"
    },
    {
     "data": {
      "image/png": "[encoded data removed]",
      "text/plain": [
       "<Figure size 432x288 with 1 Axes>"
      ]
     },
     "metadata": {},
     "output_type": "display_data"
    }
   ],
   "source": [
    "optuna.visualization.matplotlib.plot_param_importances(study)"
   ]
  }
 ],
 "metadata": {
  "kernelspec": {
   "display_name": "Python 3",
   "language": "python",
   "name": "python3"
  },
  "language_info": {
   "codemirror_mode": {
    "name": "ipython",
    "version": 3
   },
   "file_extension": ".py",
   "mimetype": "text/x-python",
   "name": "python",
   "nbconvert_exporter": "python",
   "pygments_lexer": "ipython3",
   "version": "3.8.10"
  }
 },
 "nbformat": 4,
 "nbformat_minor": 5
}
