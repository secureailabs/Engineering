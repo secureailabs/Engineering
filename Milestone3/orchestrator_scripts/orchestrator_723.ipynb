{
 "cells": [
  {
   "cell_type": "code",
   "execution_count": 1,
   "metadata": {},
   "outputs": [],
   "source": [
    "from sail.core import VMSetup, registersafeobj,login,connect,pushsafeobj,querydata,get_fns\n",
    "from sail.data import RemoteDataFrame, Utils\n",
    "from sail.algo import fdxgb"
   ]
  },
  {
   "cell_type": "code",
   "execution_count": 2,
   "metadata": {},
   "outputs": [],
   "source": [
    "import time"
   ]
  },
  {
   "cell_type": "code",
   "execution_count": 3,
   "metadata": {},
   "outputs": [
    {
     "name": "stdout",
     "output_type": "stream",
     "text": [
      "[P]safe objects registered\n"
     ]
    }
   ],
   "source": [
    "import json, requests\n",
    "soPath = \"/Development/Milestone3/EndPointTools/SafeObjectEditor/KPMG/safeobjects\"\n",
    "backendIP = \"20.185.6.111\"\n",
    "\n",
    "registersafeobj(soPath)\n",
    "print(\"[P]safe objects registered\")"
   ]
  },
  {
   "cell_type": "code",
   "execution_count": 4,
   "metadata": {},
   "outputs": [
    {
     "name": "stdout",
     "output_type": "stream",
     "text": [
      "[P]login success\n",
      "5iEQAhtloSO/rC9lX1n3/Npqy05OAwnwtRodFH3Zx8588FY9h84LrnqTQJumD8rfP/NJJA4DAADv0Zb5i8KlVh+2iJy8bx2nirN6LYWyqPNI4M3YG0B0/M8HENm92wJGddnI7s/3WByh1rPHY47BWHZKG3Qg2FlxAZXakS2GjKU8/K2y6XZM0cZ8/CuBxYUZPoJf5iGm/kEVQ2/mEeEszKx75qR5L4jf3fDSfRZ/l+qKQc+Y9T4VX/0dmaX29lMgqfefw4LBxsIWy6MEbObfB+4hnPQ+VLZsFmIH0VEucA0lDxhlNaCtvwxuvfncUgedmKbjtWtMn81CGnYjSGjX2B8OWQRPInZswSPd5or5oTubJlFT1p4lE4keI0eHY25XMriR7j/gLiDIL4Q/1LFg/GwZKohTdv3cwkHHHRQNE6l+LioGWOs3wBxt0KvvrqLlADMbp/FENkSs5bojxUgokos3Sw9MHdRGeKdSY5Q+7LsejWr6nSfCrlRUvOKf9S2w6aoSUxwp7DI6kTeDkYD61On6ASjiywv+SSVNMkIs1svBlrNbXkGjmNmj1jheB4gXasO1QMXJAMtbvnf0nKDrLV2ylTM1f2Sbwrtw1HOFKTmXzEPWeptos1FlPqrJirKRF0luJawv2HhUGGcNVsL9qh/puwkZmzaIB7adfjAfOpkRdPJT1K3ZTum3aRNq3amT+UGhGYvmhazFIEPTBmfLZqK8+Sy4JYxPGMAywxU1QZ2eJi+9foS6VPpk1n7P3uP5ukVwmNj+otunEGWXoNdGpD12Svl9tIytS7IwjLPqe2AvC3LUZ5XLD19a+MjPk/Y6yqJACCxEBNaibBdyBxD33LoqjwkkwOKTyiBtjugHsHtVc9u2lHCirYuDYWHIZe/WcrNZNXWSSBJGRYt1GmgrIhM34KchsvzUl7W5EnfXRbrkWqoxF0vi7A8Z7m4YSsbMZBrDKYjIb0hrc6WbG/x3nGuDzg/3zHioN0c8Q0aOJNZL4iJMx2xJlGohEG7CzRZQEsb2LMsCdQBcQfeCwLgNoQOoyW6y0lMKdk4eUHw8NZAzCkZe7Zhh3qN/blT17RHLs/vT0rtzlgrnJFlsdyjcErQY92A1hDIaVrEpkRJu\n"
     ]
    }
   ],
   "source": [
    "from sail.core import login\n",
    "eosb = login(\"jingwei@kpmg.com\", \"-OJBFE2qw-OJBFE2qw\", 6200, backendIP)\n",
    "print(\"[P]login success\")\n",
    "print(eosb)"
   ]
  },
  {
   "cell_type": "code",
   "execution_count": 5,
   "metadata": {},
   "outputs": [],
   "source": [
    "#setup the communication with the remote virtual machines with digital contracts\n",
    "dc =  [{\"DigitalContractGuid\":\"{3BFF6633-477E-43D8-B3A3-F3079A1AF10F}\"}, {\"DigitalContractGuid\":\"{34E8FF34-2D5E-41C1-ACF4-0106227D88A5}\"}]\n",
    "backendIP = \"20.185.6.111\"\n",
    "url = \"https://\"+backendIP+\":6200/SAIL/VirtualMachineManager/GetRunningVMsIpAdresses?Eosb=\"+eosb"
   ]
  },
  {
   "cell_type": "code",
   "execution_count": 6,
   "metadata": {},
   "outputs": [
    {
     "name": "stdout",
     "output_type": "stream",
     "text": [
      "{\"DigitalContractGuid\": \"{3BFF6633-477E-43D8-B3A3-F3079A1AF10F}\"}\n"
     ]
    },
    {
     "name": "stderr",
     "output_type": "stream",
     "text": [
      "/usr/local/lib/python3.8/dist-packages/urllib3/connectionpool.py:1013: InsecureRequestWarning: Unverified HTTPS request is being made to host '20.185.6.111'. Adding certificate verification is strongly advised. See: https://urllib3.readthedocs.io/en/1.26.x/advanced-usage.html#ssl-warnings\n",
      "  warnings.warn(\n"
     ]
    },
    {
     "name": "stdout",
     "output_type": "stream",
     "text": [
      "<Response [200]>\n",
      "{'Status': 200.0, 'VirtualMachines': {'95D00CE840434C2883AAD27FACBC7769': '13.69.127.101'}}\n",
      "['13.69.127.101']\n",
      "{\"DigitalContractGuid\": \"{34E8FF34-2D5E-41C1-ACF4-0106227D88A5}\"}\n"
     ]
    },
    {
     "name": "stderr",
     "output_type": "stream",
     "text": [
      "/usr/local/lib/python3.8/dist-packages/urllib3/connectionpool.py:1013: InsecureRequestWarning: Unverified HTTPS request is being made to host '20.185.6.111'. Adding certificate verification is strongly advised. See: https://urllib3.readthedocs.io/en/1.26.x/advanced-usage.html#ssl-warnings\n",
      "  warnings.warn(\n"
     ]
    },
    {
     "name": "stdout",
     "output_type": "stream",
     "text": [
      "<Response [200]>\n",
      "{'Status': 200.0, 'VirtualMachines': {'8147CE4786904F9E8B264C9666F6B3A2': '20.107.32.168'}}\n",
      "['13.69.127.101', '20.107.32.168']\n"
     ]
    }
   ],
   "source": [
    "#obtain virtual machines ids and dataset ids, so we can confirm the datasets are intact and ready for studying\n",
    "import json, requests\n",
    "payloads = []\n",
    "for item in dc:\n",
    "    temp = json.dumps(item)\n",
    "    payloads.append(temp)\n",
    "\n",
    "headers = {\n",
    "    'Content-Type': 'application/json'\n",
    "}\n",
    "\n",
    "ips = []\n",
    "for payload in payloads:\n",
    "    print(payload)\n",
    "    response = requests.request(\"GET\", url, headers=headers, data=payload, verify=False)\n",
    "    print(response)\n",
    "    response = response.json()\n",
    "    print(response)\n",
    "    for key in response['VirtualMachines']:\n",
    "        ips.append(response['VirtualMachines'][key])\n",
    "        print(ips)"
   ]
  },
  {
   "cell_type": "code",
   "execution_count": 7,
   "metadata": {},
   "outputs": [
    {
     "name": "stdout",
     "output_type": "stream",
     "text": [
      "[P]virtual machine connection to ip: 13.69.127.101 success\n",
      "[P]virtual machine connection to ip: 20.107.32.168 success\n"
     ]
    },
    {
     "data": {
      "text/plain": [
       "['{1A438A42-A5DF-4DE0-906D-65DD3211DFEF}',\n",
       " '{EE770F36-3491-4503-A734-B05A6CA42461}']"
      ]
     },
     "execution_count": 7,
     "metadata": {},
     "output_type": "execute_result"
    }
   ],
   "source": [
    "from sail.core import connect\n",
    "\n",
    "vmids = []\n",
    "for ip in ips:\n",
    "    vmid = connect(ip, 3500)\n",
    "    vmids.append(vmid)\n",
    "    print(\"[P]virtual machine connection to ip: {0} success\".format(ip))\n",
    "vmids"
   ]
  },
  {
   "cell_type": "code",
   "execution_count": 8,
   "metadata": {},
   "outputs": [
    {
     "name": "stdout",
     "output_type": "stream",
     "text": [
      "[P]safe object pushed to virtual machines\n"
     ]
    },
    {
     "data": {
      "text/plain": [
       "{'getitem': 'F11C49327A9244A5AEE568B531C6A957',\n",
       " 'getattr': '9C4019584DB04B1A9BF05EC91836BCB0',\n",
       " 'setitem': 'A04E4CC9E3BC4A7B9AFAB6CB3E040FAC',\n",
       " 'iter': 'CC8B5A66C10F47A1A977E2BE2B522768',\n",
       " 'next': '6D48AC3C3245411992E65E5FF5B90DDB',\n",
       " 'rdf_describe': '18F2566E7FF34D77A7DE668DD220CEFD',\n",
       " 'rdf_drop': '9A04D50B403C4716A79CABEF1F90D832',\n",
       " 'rdf_dropna': '039181877F8A492A86A4BD996D0AD4E2',\n",
       " 'rdf_merge': '8C938D7D313A49C09509D6A43AAFD096',\n",
       " 'rdf_groupby': '3E3716FCA7DE4ABEB8A3FAB4DA14EA9D',\n",
       " 'rdf_query': 'BF18C294BCCC4B9C94624C79D2506CCC',\n",
       " 'rdf_sort_values': '10DCB6636C8A4832AD6CE7BCDB1F9983',\n",
       " 'rdf_set_index': '09EE6479EE97461DBC4E44D95D77235B',\n",
       " 'rdf_reset_index': 'F408E02C932D47C49BC5DC640C108AEB',\n",
       " 'rdf_label_encode': '56D864CD0B81459CB0540E364BB49D6F',\n",
       " 'groupby_agg': 'CEFAABE1879741269037050B25A5CCFD',\n",
       " 'groupby_diff': '9604982079924320B6C7B6DCA27CFC6C',\n",
       " 'groupby_cumsum': 'AB04C77FA5DD4B1B8AAD2867F44BC886',\n",
       " 'groupby_first': 'FF2156013B9A483F9FC8F0DB27E3B74D',\n",
       " 'series_add': 'B13E83BD3F5743BCABE36FDB418F100C',\n",
       " 'series_and': '3E58E89566AA423093D7184988A60854',\n",
       " 'series_astype': 'F1B6F4B3359D4371A653C395418BF12A',\n",
       " 'series_eq': '8972411C102743EF9F262DBAEA9E8693',\n",
       " 'series_fillna': '5C0BC5A7F9714DA79017E3FCF16C26D6',\n",
       " 'series_ge': 'DE9C9AB3D1CB410291ABD038A5A1AF92',\n",
       " 'series_gt': '34A48D79AC9843F9ACF2B2E3A7C8F4A0',\n",
       " 'series_invert': '8DE96396431C4DCD897225B94971515B',\n",
       " 'series_isin': '1463121DB74B467F82B212B4190FAF5C',\n",
       " 'series_isna': 'EAA299EEF38149B58830A8267D1DE5F4',\n",
       " 'series_le': 'BEE2F244260445AC9A634B00CC753630',\n",
       " 'series_lt': '556B3C62AA88461F977CB55220B79C73',\n",
       " 'series_map': '757A54DFA63346D28CC39571A63BE6B4',\n",
       " 'series_max': '76ABB96DA9EB4FAA8E3073EBED270EDC',\n",
       " 'series_mean': '0650C80D11A04720BFA8F1693AC292D0',\n",
       " 'series_min': 'EE498A68C65347D68ACD6661207EC705',\n",
       " 'series_or': '8BBCF91120A749AE9CE22E0855B89B60',\n",
       " 'series_ravel': '2ADA37AD4D9A49689183845183CA3096',\n",
       " 'series_sub': '0899F5B598904B279AA98ADFD923888F',\n",
       " 'series_unique': 'B6FD9631354A4985A3E674DF28457A5D',\n",
       " 'series_value_counts': '2275B04657D94BFD8787C519C2C3B8EA',\n",
       " 'util_get_dummies': '6FB479BE72A04B158C15FD5EBDF875FC',\n",
       " 'util_to_datetime': 'D35FC476B97F42AB9CE45D8E7604DD3C',\n",
       " 'util_to_numeric': '6299E37D96884EAFB9E21692FB24014B',\n",
       " 'util_ravel': '43B37087962644229B53B0D7C3A1E386',\n",
       " 'util_where': '98F83AA9DC3249B983A4262BE0BCEB55',\n",
       " 'util_train_test_split': 'AF83E839A5514B178951B205F5CCB6E5',\n",
       " 'util_read_csv': 'E764BBFDB1C44271837A1384CD40AD94'}"
      ]
     },
     "execution_count": 8,
     "metadata": {},
     "output_type": "execute_result"
    }
   ],
   "source": [
    "from sail.core import get_fns, pushsafeobj\n",
    "\n",
    "fns = get_fns()\n",
    "for vm in vmids:\n",
    "    for key in fns:\n",
    "        pushsafeobj(vm, fns[key])\n",
    "print(\"[P]safe object pushed to virtual machines\")\n",
    "fns"
   ]
  },
  {
   "cell_type": "code",
   "execution_count": 9,
   "metadata": {},
   "outputs": [
    {
     "name": "stdout",
     "output_type": "stream",
     "text": [
      "[P]obtain table ids\n"
     ]
    },
    {
     "data": {
      "text/plain": [
       "[{'agreement09nov': '804DD44A900818499D3FA68CDDF1C844',\n",
       "  'agreementMapping': '68DA5CD6CE4D3D4F9E5A33E587B80958',\n",
       "  'contact09nov': '613438CFD17362418C67F98AD9B015B2',\n",
       "  'createReasonMapping': '431F1BD48F684140ADE8FB1BB5A80568',\n",
       "  'payment09nov': '9C47F4F3BBE07B4F89256B1EED3C960D'},\n",
       " {'agreement09nov': 'F6C97A39723D4F478CC06371EB98103B',\n",
       "  'agreementMapping': '1EE7D5340BEFBB40BB21D92CF002A7C6',\n",
       "  'contact09nov': '99FC69A3BEABFB4C865F6B0D594A6173',\n",
       "  'createReasonMapping': '068E2C8F14EC0241968305B80D12F65F',\n",
       "  'payment09nov': '5CDB0CBA5D6D3D4E81A00524D8602448'}]"
      ]
     },
     "execution_count": 9,
     "metadata": {},
     "output_type": "execute_result"
    }
   ],
   "source": [
    "from sail.core import querydata\n",
    "\n",
    "table = []\n",
    "for vm in vmids:\n",
    "    tableid = querydata(vm)\n",
    "    table.append(tableid)\n",
    "print(\"[P]obtain table ids\")\n",
    "\n",
    "datasets = table\n",
    "table"
   ]
  },
  {
   "cell_type": "code",
   "execution_count": 10,
   "metadata": {},
   "outputs": [
    {
     "data": {
      "text/plain": [
       "'804DD44A900818499D3FA68CDDF1C844'"
      ]
     },
     "execution_count": 10,
     "metadata": {},
     "output_type": "execute_result"
    }
   ],
   "source": [
    "string = table[0]['agreement09nov']\n",
    "string"
   ]
  },
  {
   "cell_type": "code",
   "execution_count": 11,
   "metadata": {},
   "outputs": [
    {
     "name": "stdout",
     "output_type": "stream",
     "text": [
      "{146AD4CE-7AF4-4972-A835-58E2E5BB0470}.5C37473C6D3443F49C03CAF0D746B997\n",
      "10.011142015457153\n"
     ]
    }
   ],
   "source": [
    "start_time = time.time()\n",
    "\n",
    "util = Utils(vmids[0], fns)\n",
    "print(util.read_csv(table[0]['agreement09nov']))\n",
    "\n",
    "print(time.time() - start_time)"
   ]
  },
  {
   "cell_type": "code",
   "execution_count": 12,
   "metadata": {},
   "outputs": [
    {
     "data": {
      "text/plain": [
       "['{1A438A42-A5DF-4DE0-906D-65DD3211DFEF}',\n",
       " '{EE770F36-3491-4503-A734-B05A6CA42461}']"
      ]
     },
     "execution_count": 12,
     "metadata": {},
     "output_type": "execute_result"
    }
   ],
   "source": [
    "vmids"
   ]
  },
  {
   "cell_type": "code",
   "execution_count": 13,
   "metadata": {},
   "outputs": [
    {
     "name": "stdout",
     "output_type": "stream",
     "text": [
      "1\n",
      "20.023794174194336\n",
      "2\n",
      "44.051596879959106\n",
      "44.051801919937134\n"
     ]
    }
   ],
   "source": [
    "start_time = time.time()\n",
    "\n",
    "\n",
    "data = []\n",
    "i = 0\n",
    "for vm in vmids:\n",
    "    util = Utils(vm, fns)\n",
    "    data.append([util.read_csv(table[i]['agreement09nov']), util.read_csv(table[i]['contact09nov']), util.read_csv(table[i]['payment09nov']), util.read_csv(table[i]['agreementMapping']), util.read_csv(table[i]['createReasonMapping'])])\n",
    "    i+=1\n",
    "    print(i)\n",
    "    print(time.time() - start_time)\n",
    "\n",
    "print(time.time() - start_time)"
   ]
  },
  {
   "cell_type": "code",
   "execution_count": 14,
   "metadata": {},
   "outputs": [
    {
     "data": {
      "text/plain": [
       "[['{174AAB47-8719-4057-A032-A0E70300BFFA}.5C37473C6D3443F49C03CAF0D746B997',\n",
       "  '{1C6417A4-2315-4A77-B3B7-BBD6D1E95B4D}.5C37473C6D3443F49C03CAF0D746B997',\n",
       "  '{F6E35C20-183D-49CA-8772-279972DEE8E6}.5C37473C6D3443F49C03CAF0D746B997',\n",
       "  '{B7122E1D-97A2-40EE-B760-F75F5EBBDD01}.5C37473C6D3443F49C03CAF0D746B997',\n",
       "  '{22AD0F73-C050-4905-AB91-DAD28CD1E47C}.5C37473C6D3443F49C03CAF0D746B997'],\n",
       " ['{514744CF-6905-4F8D-9448-8BE05C8B749C}.5C37473C6D3443F49C03CAF0D746B997',\n",
       "  '{3E725C13-B229-4CC3-843D-DDC9FB8BC3B7}.5C37473C6D3443F49C03CAF0D746B997',\n",
       "  '{389F9D6C-BD2E-4030-BB42-E4CA64D005EA}.5C37473C6D3443F49C03CAF0D746B997',\n",
       "  '{688A69A8-8A91-4493-9F8F-9A67E5BFC21C}.5C37473C6D3443F49C03CAF0D746B997',\n",
       "  '{E5D3568F-B6FF-48FC-8B3C-C6D7522375B9}.5C37473C6D3443F49C03CAF0D746B997']]"
      ]
     },
     "execution_count": 14,
     "metadata": {},
     "output_type": "execute_result"
    }
   ],
   "source": [
    "data"
   ]
  },
  {
   "cell_type": "code",
   "execution_count": 15,
   "metadata": {},
   "outputs": [
    {
     "data": {
      "text/plain": [
       "'{174AAB47-8719-4057-A032-A0E70300BFFA}.5C37473C6D3443F49C03CAF0D746B997'"
      ]
     },
     "execution_count": 15,
     "metadata": {},
     "output_type": "execute_result"
    }
   ],
   "source": [
    "data[0][0]"
   ]
  },
  {
   "cell_type": "code",
   "execution_count": 16,
   "metadata": {},
   "outputs": [
    {
     "data": {
      "text/plain": [
       "Index(['AgreementGUID', 'AgreementID', 'Startdate', 'CreateReason',\n",
       "       'Cancelreason', 'CancelDate', 'ChannelName', 'ChannelD',\n",
       "       'AgreementType', 'FutureCancelDate', 'FutureCancel', 'ContactGUID',\n",
       "       'ContactID'],\n",
       "      dtype='object')"
      ]
     },
     "execution_count": 16,
     "metadata": {},
     "output_type": "execute_result"
    }
   ],
   "source": [
    "df = RemoteDataFrame(vmids[0], data[0][0], fns)\n",
    "df.columns"
   ]
  },
  {
   "cell_type": "code",
   "execution_count": 17,
   "metadata": {},
   "outputs": [],
   "source": [
    "# #Prepare for data to be preprocessed\n",
    "# data1 = [datasets[0]['agreement09nov'], datasets[0]['contact09nov'], datasets[0]['payment09nov'], datasets[0]['agreementMapping'], datasets[0]['createReasonMapping']]\n",
    "# # data2 = [datasets[1]['agreement09nov'], datasets[1]['contact09nov'], datasets[1]['payment09nov'], datasets[1]['agreementMapping'], datasets[1]['createReasonMapping']]\n",
    "# data = [data1]\n",
    "# #data = [data1]\n",
    "# data"
   ]
  },
  {
   "cell_type": "code",
   "execution_count": 18,
   "metadata": {
    "scrolled": true
   },
   "outputs": [],
   "source": [
    "# !pip3 install xgboost"
   ]
  },
  {
   "cell_type": "code",
   "execution_count": 19,
   "metadata": {},
   "outputs": [],
   "source": [
    "# !pip3 install sklearn"
   ]
  },
  {
   "cell_type": "code",
   "execution_count": 20,
   "metadata": {},
   "outputs": [],
   "source": [
    "#Setup parameters for federated xgboost model\n",
    "from sail.algo import fdxgb\n",
    "model_params = {\n",
    "\"colsample_bylevel\": 0.8523804169779899,\n",
    "\"colsample_bytree\": 0.4004491523598215,\n",
    "\"gamma\": 1e-09,\n",
    "\"learning_rate\": 0.07585296847082715,\n",
    "\"max_delta_step\": 20,\n",
    "\"max_depth\": 9,\n",
    "\"n_estimators\": 150,\n",
    "\"reg_alpha\": 6.8398027190415516e-06,\n",
    "\"reg_lambda\": 100.0,\n",
    "\"subsample\": 1.0,\n",
    "\"scale_pos_weight\": 1.0\n",
    "}"
   ]
  },
  {
   "cell_type": "code",
   "execution_count": 21,
   "metadata": {},
   "outputs": [],
   "source": [
    "\n",
    "model = fdxgb(vmids,params = model_params)"
   ]
  },
  {
   "cell_type": "code",
   "execution_count": 22,
   "metadata": {},
   "outputs": [
    {
     "name": "stdout",
     "output_type": "stream",
     "text": [
      "h\n"
     ]
    }
   ],
   "source": [
    "print(\"h\")"
   ]
  },
  {
   "cell_type": "code",
   "execution_count": 23,
   "metadata": {},
   "outputs": [
    {
     "name": "stdout",
     "output_type": "stream",
     "text": [
      "436.455424785614\n"
     ]
    }
   ],
   "source": [
    "start_time = time.time()\n",
    "\n",
    "#Preprocess to raw data and obtain the final dataframe \n",
    "processed_data = model.data_preprocessv6(data)\n",
    "\n",
    "print(time.time() - start_time)"
   ]
  },
  {
   "cell_type": "code",
   "execution_count": 24,
   "metadata": {},
   "outputs": [
    {
     "data": {
      "text/plain": [
       "[['{4F990D0B-2E2B-4791-8DEF-07622D999821}.DEB465C727AF46C9A0594D3B9992918B',\n",
       "  '{4F990D0B-2E2B-4791-8DEF-07622D999821}.605E10D6B26149C691DD03CB531DCDF0',\n",
       "  '{4F990D0B-2E2B-4791-8DEF-07622D999821}.58FC7BDD85E94B91A2ABF239FC55A96B',\n",
       "  '{4F990D0B-2E2B-4791-8DEF-07622D999821}.F6844F2FB1D74439A16B5E522C2A4FE0',\n",
       "  '{4F990D0B-2E2B-4791-8DEF-07622D999821}.2DDE825D789A4FF0B41CF10E1818E324',\n",
       "  '{4F990D0B-2E2B-4791-8DEF-07622D999821}.81A6F69B8C194C98B4ADEB6AE078F740',\n",
       "  '{4F990D0B-2E2B-4791-8DEF-07622D999821}.87B6166A1BD740E38FABA0765E3BD0B0',\n",
       "  '{4F990D0B-2E2B-4791-8DEF-07622D999821}.7549A0E1EEF94481BE0416612CAFEFEC',\n",
       "  '{4F990D0B-2E2B-4791-8DEF-07622D999821}.FF132A7755464CD29C6BC188D91B0412',\n",
       "  '{4F990D0B-2E2B-4791-8DEF-07622D999821}.60AA5701C285498B9C8EF5EE48C81285'],\n",
       " ['{6FDEA719-2189-4E7D-BD1C-2645656708AE}.DEB465C727AF46C9A0594D3B9992918B',\n",
       "  '{6FDEA719-2189-4E7D-BD1C-2645656708AE}.605E10D6B26149C691DD03CB531DCDF0',\n",
       "  '{6FDEA719-2189-4E7D-BD1C-2645656708AE}.58FC7BDD85E94B91A2ABF239FC55A96B',\n",
       "  '{6FDEA719-2189-4E7D-BD1C-2645656708AE}.F6844F2FB1D74439A16B5E522C2A4FE0',\n",
       "  '{6FDEA719-2189-4E7D-BD1C-2645656708AE}.2DDE825D789A4FF0B41CF10E1818E324',\n",
       "  '{6FDEA719-2189-4E7D-BD1C-2645656708AE}.81A6F69B8C194C98B4ADEB6AE078F740',\n",
       "  '{6FDEA719-2189-4E7D-BD1C-2645656708AE}.87B6166A1BD740E38FABA0765E3BD0B0',\n",
       "  '{6FDEA719-2189-4E7D-BD1C-2645656708AE}.7549A0E1EEF94481BE0416612CAFEFEC',\n",
       "  '{6FDEA719-2189-4E7D-BD1C-2645656708AE}.FF132A7755464CD29C6BC188D91B0412',\n",
       "  '{6FDEA719-2189-4E7D-BD1C-2645656708AE}.60AA5701C285498B9C8EF5EE48C81285']]"
      ]
     },
     "execution_count": 24,
     "metadata": {},
     "output_type": "execute_result"
    }
   ],
   "source": [
    "processed_data"
   ]
  },
  {
   "cell_type": "code",
   "execution_count": 25,
   "metadata": {},
   "outputs": [],
   "source": [
    "#[y_val, y_test, X_val, X_test, X_train, y_train, X_train_val, y_train_val]\n",
    "X_train = [processed_data[0][0],processed_data[1][0]]\n",
    "y_train = [processed_data[0][1],processed_data[1][1]]\n",
    "X_val = [processed_data[0][2],processed_data[1][2]]\n",
    "y_val = [processed_data[0][3],processed_data[1][3]]\n",
    "X_train_val = [processed_data[0][4],processed_data[1][4]]\n",
    "y_train_val = [processed_data[0][5],processed_data[1][5]]\n",
    "X_test = [processed_data[0][6],processed_data[1][6]]\n",
    "y_test = [processed_data[0][7],processed_data[1][7]]"
   ]
  },
  {
   "cell_type": "code",
   "execution_count": 26,
   "metadata": {},
   "outputs": [
    {
     "data": {
      "text/plain": [
       "'{6FDEA719-2189-4E7D-BD1C-2645656708AE}.DEB465C727AF46C9A0594D3B9992918B'"
      ]
     },
     "execution_count": 26,
     "metadata": {},
     "output_type": "execute_result"
    }
   ],
   "source": [
    "X_train[1]"
   ]
  },
  {
   "cell_type": "code",
   "execution_count": 27,
   "metadata": {},
   "outputs": [
    {
     "data": {
      "text/plain": [
       "Index(['Age_max', 'ChargedAmount_sum', 'PostalCode_max', 'PaidAmount_sum',\n",
       "       'AgreementGUID_count', 'PaymentGUID_count', 'Donation_sum',\n",
       "       'Medlemskab_sum', 'Product_sum', 'Lottery_sum',\n",
       "       'payment_on_agreement_sum', 'months_since_start_min',\n",
       "       'months_since_start_max', 'months_since_last_payment_min',\n",
       "       'months_since_last_payment_max', 'months_since_missing_payment_min',\n",
       "       'months_since_missing_payment_max', 'missing_payment_sum',\n",
       "       'AgreementType_donation_sum', 'AgreementType_householdMembership_sum',\n",
       "       'AgreementType_householdMembershipWithDonation_sum',\n",
       "       'AgreementType_lottery_sum', 'AgreementType_membershipWithDonation_sum',\n",
       "       'AgreementType_personalMembership_sum',\n",
       "       'AgreementType_researchRelated_sum', 'AgreementType_event_sum',\n",
       "       'ChannelD_Bank_sum', 'ChannelD_Betalingsservice_sum',\n",
       "       'ChannelD_Card_sum', 'ChannelD_Giro_sum',\n",
       "       'ChannelD_MobilepaySubscription_sum', 'ChannelD_Mobilepay_sum',\n",
       "       'ChannelD_Invoice_sum', 'CreateReason_administrative_sum',\n",
       "       'CreateReason_digital_sum', 'CreateReason_externalTM_sum',\n",
       "       'CreateReason_internalTM_sum', 'CreateReason_noReason_sum',\n",
       "       'CreateReason_selfInterest_sum', 'CreateReason_upgrading_sum',\n",
       "       'CreateReason_event_sum', 'CreateReason_retention_sum',\n",
       "       'CreateReason_f2f_sum', 'PaymentMethod_Bank_sum',\n",
       "       'PaymentMethod_Betalingsservice_sum', 'PaymentMethod_Card_sum',\n",
       "       'PaymentMethod_Cash_sum', 'PaymentMethod_Giro_sum',\n",
       "       'PaymentMethod_Mobilepay_sum',\n",
       "       'PaymentMethod_MobilepaySubscription_sum', 'PaymentMethod_NoMethod_sum',\n",
       "       'PaymentMethod_Sms_sum', 'PaymentMethod_Webshop_sum',\n",
       "       'PaymentMethod_SCLspecial_sum', 'PaymentMethod_Invoice_sum',\n",
       "       'PaymentStatus_Canceled_sum', 'PaymentStatus_PaymentRegistered_sum',\n",
       "       'PaymentStatus_PaymentRejected_sum', 'PaymentStatus_Refunded_sum',\n",
       "       'PaymentStatus_SendForCollection_sum', 'PaymentStatus_Created_sum',\n",
       "       'PaymentStatus_Error_sum', 'PaymentMonth_1_sum', 'PaymentMonth_2_sum',\n",
       "       'PaymentMonth_3_sum', 'PaymentMonth_4_sum', 'PaymentMonth_5_sum',\n",
       "       'PaymentMonth_6_sum', 'PaymentMonth_7_sum', 'PaymentMonth_8_sum',\n",
       "       'PaymentMonth_9_sum', 'PaymentMonth_10_sum', 'PaymentMonth_11_sum',\n",
       "       'PaymentMonth_12_sum', 'cumulated_paid_amount',\n",
       "       'cumulated_amount_3months', 'cumulated_amount_6months',\n",
       "       'payment_count_last3m', 'payment_count_last6m', 'payment_count_total'],\n",
       "      dtype='object')"
      ]
     },
     "execution_count": 27,
     "metadata": {},
     "output_type": "execute_result"
    }
   ],
   "source": [
    "X_train_df = RemoteDataFrame(vmids[0], X_train[0], fns)\n",
    "cols = X_train_df.columns\n",
    "cols"
   ]
  },
  {
   "cell_type": "code",
   "execution_count": 28,
   "metadata": {},
   "outputs": [],
   "source": [
    "model.feature_num = len(cols)"
   ]
  },
  {
   "cell_type": "code",
   "execution_count": null,
   "metadata": {},
   "outputs": [
    {
     "name": "stdout",
     "output_type": "stream",
     "text": [
      "all_hashes has len 62128\n",
      "all_counters has len 62128\n",
      "40\n"
     ]
    }
   ],
   "source": [
    "start_time = time.time()\n",
    "\n",
    "xgbmodel = model.fit(X_val,y_val)\n",
    "\n",
    "print(time.time() - start_time)"
   ]
  },
  {
   "cell_type": "code",
   "execution_count": null,
   "metadata": {},
   "outputs": [],
   "source": [
    "start_time = time.time()\n",
    "\n",
    "results =  model.aucpr_score(xgbmodel, X_val, y_val)\n",
    "\n",
    "print(time.time() - start_time)"
   ]
  },
  {
   "cell_type": "code",
   "execution_count": null,
   "metadata": {},
   "outputs": [],
   "source": [
    "precision = results[0][0]\n",
    "recall = results[0][2]\n",
    "import numpy as np\n",
    "precision = np.append(precision, [1])\n",
    "print(precision)\n",
    "print(recall)\n",
    "from sklearn.metrics import PrecisionRecallDisplay\n",
    "import matplotlib.pyplot as plt\n",
    "disp = PrecisionRecallDisplay(precision=precision, recall=recall)\n",
    "disp.plot()"
   ]
  },
  {
   "cell_type": "code",
   "execution_count": null,
   "metadata": {},
   "outputs": [],
   "source": [
    "start_time = time.time()\n",
    "\n",
    "model.model = xgbmodel\n",
    "model.shap(X)\n",
    "\n",
    "print(time.time() - start_time)"
   ]
  }
 ],
 "metadata": {
  "kernelspec": {
   "display_name": "Python 3",
   "language": "python",
   "name": "python3"
  },
  "language_info": {
   "codemirror_mode": {
    "name": "ipython",
    "version": 3
   },
   "file_extension": ".py",
   "mimetype": "text/x-python",
   "name": "python",
   "nbconvert_exporter": "python",
   "pygments_lexer": "ipython3",
   "version": "3.8.10"
  }
 },
 "nbformat": 4,
 "nbformat_minor": 5
}
